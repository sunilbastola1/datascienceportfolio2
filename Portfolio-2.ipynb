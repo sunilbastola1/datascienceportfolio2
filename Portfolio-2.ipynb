





<!DOCTYPE html>
<html
  lang="en"
  
  data-color-mode="auto" data-light-theme="light" data-dark-theme="dark"
  data-a11y-animated-images="system" data-a11y-link-underlines="true"
  >



  <head>
    <meta charset="utf-8">
  <link rel="dns-prefetch" href="https://github.githubassets.com">
  <link rel="dns-prefetch" href="https://avatars.githubusercontent.com">
  <link rel="dns-prefetch" href="https://github-cloud.s3.amazonaws.com">
  <link rel="dns-prefetch" href="https://user-images.githubusercontent.com/">
  <link rel="preconnect" href="https://github.githubassets.com" crossorigin>
  <link rel="preconnect" href="https://avatars.githubusercontent.com">

  


  <link crossorigin="anonymous" media="all" rel="stylesheet" href="https://github.githubassets.com/assets/light-3e154969b9f9.css" /><link crossorigin="anonymous" media="all" rel="stylesheet" href="https://github.githubassets.com/assets/dark-9c5b7a476542.css" /><link data-color-theme="dark_dimmed" crossorigin="anonymous" media="all" rel="stylesheet" data-href="https://github.githubassets.com/assets/dark_dimmed-afda8eb0fb33.css" /><link data-color-theme="dark_high_contrast" crossorigin="anonymous" media="all" rel="stylesheet" data-href="https://github.githubassets.com/assets/dark_high_contrast-2494e44ccdc5.css" /><link data-color-theme="dark_colorblind" crossorigin="anonymous" media="all" rel="stylesheet" data-href="https://github.githubassets.com/assets/dark_colorblind-56fff47acadc.css" /><link data-color-theme="light_colorblind" crossorigin="anonymous" media="all" rel="stylesheet" data-href="https://github.githubassets.com/assets/light_colorblind-71cd4cc132ec.css" /><link data-color-theme="light_high_contrast" crossorigin="anonymous" media="all" rel="stylesheet" data-href="https://github.githubassets.com/assets/light_high_contrast-fd5499848985.css" /><link data-color-theme="light_tritanopia" crossorigin="anonymous" media="all" rel="stylesheet" data-href="https://github.githubassets.com/assets/light_tritanopia-31d17ba3e139.css" /><link data-color-theme="dark_tritanopia" crossorigin="anonymous" media="all" rel="stylesheet" data-href="https://github.githubassets.com/assets/dark_tritanopia-68d6b2c79663.css" />
    <link crossorigin="anonymous" media="all" rel="stylesheet" href="https://github.githubassets.com/assets/primer-primitives-4cf0d59ab51a.css" />
    <link crossorigin="anonymous" media="all" rel="stylesheet" href="https://github.githubassets.com/assets/primer-ff8ec1db4f06.css" />
    <link crossorigin="anonymous" media="all" rel="stylesheet" href="https://github.githubassets.com/assets/global-dcca24a0602a.css" />
    <link crossorigin="anonymous" media="all" rel="stylesheet" href="https://github.githubassets.com/assets/github-e4eed26e112b.css" />
  <link crossorigin="anonymous" media="all" rel="stylesheet" href="https://github.githubassets.com/assets/repository-0f7cf89e325a.css" />
<link crossorigin="anonymous" media="all" rel="stylesheet" href="https://github.githubassets.com/assets/code-14def43eef8d.css" />

  


  <script type="application/json" id="client-env">{"locale":"en","featureFlags":["code_vulnerability_scanning","copilot_beta_features_opt_in","copilot_chat_conversation_intent_knowledge_search_skill","copilot_chat_static_thread_suggestions","copilot_completion_new_domain","copilot_conversational_ux_history_refs","copilot_copy_message","copilot_followup_to_agent","copilot_implicit_context","copilot_smell_icebreaker_ux","experimentation_azure_variant_endpoint","failbot_handle_non_errors","filter_prefetch_suggestions","geojson_azure_maps","ghost_pilot_confidence_truncation_25","ghost_pilot_stream_handling","hovercard_accessibility","hovercard_longer_activate_timeout","marketing_pages_search_explore_provider","primer_react_css_modules_ga","remove_child_patch","repository_suggester_elastic_search","sample_network_conn_type","site_metered_billing_update"]}</script>
<script crossorigin="anonymous" defer="defer" type="application/javascript" src="https://github.githubassets.com/assets/wp-runtime-69cfbabb05c3.js"></script>
<script crossorigin="anonymous" defer="defer" type="application/javascript" src="https://github.githubassets.com/assets/vendors-node_modules_dompurify_dist_purify_js-89a69c248502.js"></script>
<script crossorigin="anonymous" defer="defer" type="application/javascript" src="https://github.githubassets.com/assets/vendors-node_modules_oddbird_popover-polyfill_dist_popover_js-56729c905fe2.js"></script>
<script crossorigin="anonymous" defer="defer" type="application/javascript" src="https://github.githubassets.com/assets/vendors-node_modules_github_arianotify-polyfill_ariaNotify-polyfill_js-node_modules_github_mi-247092-627b030d3acc.js"></script>
<script crossorigin="anonymous" defer="defer" type="application/javascript" src="https://github.githubassets.com/assets/environment-924e60bca7d2.js"></script>
<script crossorigin="anonymous" defer="defer" type="application/javascript" src="https://github.githubassets.com/assets/vendors-node_modules_github_selector-observer_dist_index_esm_js-f690fd9ae3d5.js"></script>
<script crossorigin="anonymous" defer="defer" type="application/javascript" src="https://github.githubassets.com/assets/vendors-node_modules_primer_behaviors_dist_esm_focus-zone_js-c9086a4fb62b.js"></script>
<script crossorigin="anonymous" defer="defer" type="application/javascript" src="https://github.githubassets.com/assets/vendors-node_modules_github_relative-time-element_dist_index_js-7b95699705bc.js"></script>
<script crossorigin="anonymous" defer="defer" type="application/javascript" src="https://github.githubassets.com/assets/vendors-node_modules_primer_behaviors_dist_esm_anchored-position_js-node_modules_fzy_js_index-192fd2-a07608c791cf.js"></script>
<script crossorigin="anonymous" defer="defer" type="application/javascript" src="https://github.githubassets.com/assets/vendors-node_modules_github_auto-complete-element_dist_index_js-node_modules_github_details-d-ed9a97-841122a1e9d4.js"></script>
<script crossorigin="anonymous" defer="defer" type="application/javascript" src="https://github.githubassets.com/assets/vendors-node_modules_github_text-expander-element_dist_index_js-cd48220d74d5.js"></script>
<script crossorigin="anonymous" defer="defer" type="application/javascript" src="https://github.githubassets.com/assets/vendors-node_modules_github_mini-throttle_dist_index_js-node_modules_delegated-events_dist_in-3efda3-701acb69193f.js"></script>
<script crossorigin="anonymous" defer="defer" type="application/javascript" src="https://github.githubassets.com/assets/vendors-node_modules_github_filter-input-element_dist_index_js-node_modules_github_remote-inp-2e8678-34feeec9c894.js"></script>
<script crossorigin="anonymous" defer="defer" type="application/javascript" src="https://github.githubassets.com/assets/vendors-node_modules_github_catalyst_lib_index_js-node_modules_github_clipboard-copy-element_-782ca5-54763cd55b96.js"></script>
<script crossorigin="anonymous" defer="defer" type="application/javascript" src="https://github.githubassets.com/assets/vendors-node_modules_github_file-attachment-element_dist_index_js-node_modules_primer_view-co-10eecb-16f8d12ecd9c.js"></script>
<script crossorigin="anonymous" defer="defer" type="application/javascript" src="https://github.githubassets.com/assets/ui_packages_onfocus_onfocus_ts-ui_packages_trusted-types-policies_policy_ts-ui_packages_trust-0eb5c4-372296785620.js"></script>
<script crossorigin="anonymous" defer="defer" type="application/javascript" src="https://github.githubassets.com/assets/github-elements-508a45ca23c6.js"></script>
<script crossorigin="anonymous" defer="defer" type="application/javascript" src="https://github.githubassets.com/assets/element-registry-9f227dd13b7b.js"></script>
<script crossorigin="anonymous" defer="defer" type="application/javascript" src="https://github.githubassets.com/assets/vendors-node_modules_github_catalyst_lib_index_js-node_modules_github_hydro-analytics-client_-7901e7-dc88587c14ed.js"></script>
<script crossorigin="anonymous" defer="defer" type="application/javascript" src="https://github.githubassets.com/assets/vendors-node_modules_braintree_browser-detection_dist_browser-detection_js-node_modules_stack-68835d-a18220f1db8d.js"></script>
<script crossorigin="anonymous" defer="defer" type="application/javascript" src="https://github.githubassets.com/assets/vendors-node_modules_lit-html_lit-html_js-ce7225a304c5.js"></script>
<script crossorigin="anonymous" defer="defer" type="application/javascript" src="https://github.githubassets.com/assets/vendors-node_modules_github_mini-throttle_dist_index_js-node_modules_morphdom_dist_morphdom-e-7c534c-f8a5485c982a.js"></script>
<script crossorigin="anonymous" defer="defer" type="application/javascript" src="https://github.githubassets.com/assets/vendors-node_modules_github_turbo_dist_turbo_es2017-esm_js-858e043fcf76.js"></script>
<script crossorigin="anonymous" defer="defer" type="application/javascript" src="https://github.githubassets.com/assets/vendors-node_modules_github_remote-form_dist_index_js-node_modules_delegated-events_dist_inde-893f9f-6cf3320416b8.js"></script>
<script crossorigin="anonymous" defer="defer" type="application/javascript" src="https://github.githubassets.com/assets/vendors-node_modules_scroll-anchoring_dist_scroll-anchoring_esm_js-node_modules_github_hotkey-1a1d91-fa9f29a8514b.js"></script>
<script crossorigin="anonymous" defer="defer" type="application/javascript" src="https://github.githubassets.com/assets/vendors-node_modules_color-convert_index_js-0e07cc183eed.js"></script>
<script crossorigin="anonymous" defer="defer" type="application/javascript" src="https://github.githubassets.com/assets/vendors-node_modules_github_session-resume_dist_index_js-node_modules_primer_behaviors_dist_e-ba698a-df35a0bdc37f.js"></script>
<script crossorigin="anonymous" defer="defer" type="application/javascript" src="https://github.githubassets.com/assets/vendors-node_modules_github_quote-selection_dist_index_js-node_modules_github_textarea-autosi-d20204-7a21f3a00e9d.js"></script>
<script crossorigin="anonymous" defer="defer" type="application/javascript" src="https://github.githubassets.com/assets/ui_packages_updatable-content_updatable-content_ts-a2009221d154.js"></script>
<script crossorigin="anonymous" defer="defer" type="application/javascript" src="https://github.githubassets.com/assets/app_assets_modules_github_behaviors_task-list_ts-app_assets_modules_github_sso_ts-ui_packages-e1ce06-edefc63ea355.js"></script>
<script crossorigin="anonymous" defer="defer" type="application/javascript" src="https://github.githubassets.com/assets/app_assets_modules_github_sticky-scroll-into-view_ts-112600808cf9.js"></script>
<script crossorigin="anonymous" defer="defer" type="application/javascript" src="https://github.githubassets.com/assets/app_assets_modules_github_behaviors_ajax-error_ts-app_assets_modules_github_behaviors_include-467754-8979fbf79bf6.js"></script>
<script crossorigin="anonymous" defer="defer" type="application/javascript" src="https://github.githubassets.com/assets/app_assets_modules_github_behaviors_commenting_edit_ts-app_assets_modules_github_behaviors_ht-83c235-aeae6fcdf371.js"></script>
<script crossorigin="anonymous" defer="defer" type="application/javascript" src="https://github.githubassets.com/assets/app_assets_modules_github_blob-anchor_ts-app_assets_modules_github_jump-to_page-views_ts-ui_p-38f236-6918e89ea155.js"></script>
<script crossorigin="anonymous" defer="defer" type="application/javascript" src="https://github.githubassets.com/assets/behaviors-06f1962d3672.js"></script>
<script crossorigin="anonymous" defer="defer" type="application/javascript" src="https://github.githubassets.com/assets/vendors-node_modules_delegated-events_dist_index_js-node_modules_github_catalyst_lib_index_js-06ff531-bf7e5a3732fd.js"></script>
<script crossorigin="anonymous" defer="defer" type="application/javascript" src="https://github.githubassets.com/assets/notifications-global-54f34167118d.js"></script>
<script crossorigin="anonymous" defer="defer" type="application/javascript" src="https://github.githubassets.com/assets/vendors-node_modules_github_mini-throttle_dist_index_js-node_modules_github_catalyst_lib_inde-dbbea9-e73b311a14f1.js"></script>
<script crossorigin="anonymous" defer="defer" type="application/javascript" src="https://github.githubassets.com/assets/app_assets_modules_github_repositories_get-repo-element_ts-78999cbaea69.js"></script>
<script crossorigin="anonymous" defer="defer" type="application/javascript" src="https://github.githubassets.com/assets/code-menu-a8d08997ac4f.js"></script>
  
  <script crossorigin="anonymous" defer="defer" type="application/javascript" src="https://github.githubassets.com/assets/react-lib-7b7b5264f6c1.js"></script>
<script crossorigin="anonymous" defer="defer" type="application/javascript" src="https://github.githubassets.com/assets/vendors-node_modules_github_mini-throttle_dist_index_js-node_modules_primer_octicons-react_di-b40d97-2d816f3aa913.js"></script>
<script crossorigin="anonymous" defer="defer" type="application/javascript" src="https://github.githubassets.com/assets/vendors-node_modules_primer_react_lib-esm_Box_Box_js-55a9038b54f0.js"></script>
<script crossorigin="anonymous" defer="defer" type="application/javascript" src="https://github.githubassets.com/assets/vendors-node_modules_primer_react_lib-esm_Button_Button_js-b0edbfb6a9e5.js"></script>
<script crossorigin="anonymous" defer="defer" type="application/javascript" src="https://github.githubassets.com/assets/vendors-node_modules_primer_react_lib-esm_TooltipV2_Tooltip_js-4d5019830e3c.js"></script>
<script crossorigin="anonymous" defer="defer" type="application/javascript" src="https://github.githubassets.com/assets/vendors-node_modules_primer_react_node_modules_primer_octicons-react_dist_index_esm_mjs-a5155473fc69.js"></script>
<script crossorigin="anonymous" defer="defer" type="application/javascript" src="https://github.githubassets.com/assets/vendors-node_modules_primer_react_lib-esm_ActionList_index_js-fd5a7039f225.js"></script>
<script crossorigin="anonymous" defer="defer" type="application/javascript" src="https://github.githubassets.com/assets/vendors-node_modules_primer_react_lib-esm_Text_Text_js-node_modules_primer_react_lib-esm_Text-7845da-9371f5bac483.js"></script>
<script crossorigin="anonymous" defer="defer" type="application/javascript" src="https://github.githubassets.com/assets/vendors-node_modules_primer_react_lib-esm_ActionMenu_ActionMenu_js-node_modules_primer_react_-5b2420-50d72766db7f.js"></script>
<script crossorigin="anonymous" defer="defer" type="application/javascript" src="https://github.githubassets.com/assets/vendors-node_modules_primer_react_lib-esm_FormControl_FormControl_js-1f51ab2bdcca.js"></script>
<script crossorigin="anonymous" defer="defer" type="application/javascript" src="https://github.githubassets.com/assets/vendors-node_modules_react-router-dom_dist_index_js-c5568c29d405.js"></script>
<script crossorigin="anonymous" defer="defer" type="application/javascript" src="https://github.githubassets.com/assets/vendors-node_modules_primer_react_lib-esm_ConfirmationDialog_ConfirmationDialog_js-099e8bfead83.js"></script>
<script crossorigin="anonymous" defer="defer" type="application/javascript" src="https://github.githubassets.com/assets/vendors-node_modules_primer_react_lib-esm_Heading_Heading_js-node_modules_primer_react_lib-es-cdb604-830a604eb974.js"></script>
<script crossorigin="anonymous" defer="defer" type="application/javascript" src="https://github.githubassets.com/assets/vendors-node_modules_primer_react_lib-esm_PageLayout_PageLayout_js-9928dec2ff12.js"></script>
<script crossorigin="anonymous" defer="defer" type="application/javascript" src="https://github.githubassets.com/assets/vendors-node_modules_primer_behaviors_dist_esm_anchored-position_js-node_modules_primer_react-4d507b-85f1dac4ce7d.js"></script>
<script crossorigin="anonymous" defer="defer" type="application/javascript" src="https://github.githubassets.com/assets/vendors-node_modules_primer_react_lib-esm_TreeView_TreeView_js-163f241772cf.js"></script>
<script crossorigin="anonymous" defer="defer" type="application/javascript" src="https://github.githubassets.com/assets/vendors-node_modules_primer_react_lib-esm_AvatarStack_AvatarStack_js-node_modules_primer_reac-cd52f5-74c7988b9eb4.js"></script>
<script crossorigin="anonymous" defer="defer" type="application/javascript" src="https://github.githubassets.com/assets/vendors-node_modules_primer_behaviors_dist_esm_scroll-into-view_js-node_modules_primer_react_-3602e6-08dffc43caa6.js"></script>
<script crossorigin="anonymous" defer="defer" type="application/javascript" src="https://github.githubassets.com/assets/ui_packages_react-core_create-browser-history_ts-ui_packages_safe-storage_safe-storage_ts-ui_-682c2c-40bb20608465.js"></script>
<script crossorigin="anonymous" defer="defer" type="application/javascript" src="https://github.githubassets.com/assets/ui_packages_react-core_register-app_ts-6857ea187add.js"></script>
<script crossorigin="anonymous" defer="defer" type="application/javascript" src="https://github.githubassets.com/assets/ui_packages_paths_index_ts-d1e89600e343.js"></script>
<script crossorigin="anonymous" defer="defer" type="application/javascript" src="https://github.githubassets.com/assets/ui_packages_ref-selector_RefSelector_tsx-7b0796d1324c.js"></script>
<script crossorigin="anonymous" defer="defer" type="application/javascript" src="https://github.githubassets.com/assets/ui_packages_code-view-shared_hooks_shortcuts_ts-ui_packages_code-view-shared_utilities_web-wo-960c7e-db31cb65d85d.js"></script>
<script crossorigin="anonymous" defer="defer" type="application/javascript" src="https://github.githubassets.com/assets/ui_packages_code-view-shared_hooks_use-canonical-object_ts-ui_packages_code-view-shared_hooks-45d162-5f2d500b14f0.js"></script>
<script crossorigin="anonymous" defer="defer" type="application/javascript" src="https://github.githubassets.com/assets/ui_packages_repos-file-tree-view_repos-file-tree-view_ts-ui_packages_feature-request_FeatureR-ec5225-81288de2a37f.js"></script>
<script crossorigin="anonymous" defer="defer" type="application/javascript" src="https://github.githubassets.com/assets/react-code-view-5e79aa3ea2ea.js"></script>
<link crossorigin="anonymous" media="all" rel="stylesheet" href="https://github.githubassets.com/assets/primer-react-css.8570b2718b0a9c0c8387.module.css" />
<link crossorigin="anonymous" media="all" rel="stylesheet" href="https://github.githubassets.com/assets/react-code-view.0c44c510c8fe603a5ebe.module.css" />


  <title>portfolio-part-2-sunilbastola/Portfolio-2-questions.ipynb at main · MQ-COMP2200-COMP6200/portfolio-part-2-sunilbastola</title>



  <meta name="route-pattern" content="/:user_id/:repository/blob/*name(/*path)" data-turbo-transient>
  <meta name="route-controller" content="blob" data-turbo-transient>
  <meta name="route-action" content="show" data-turbo-transient>

    
  <meta name="current-catalog-service-hash" content="f3abb0cc802f3d7b95fc8762b94bdcb13bf39634c40c357301c4aa1d67a256fb">


  <meta name="request-id" content="6108:24F7E4:3EFD274:4659A41:66DCF3EE" data-turbo-transient="true" /><meta name="html-safe-nonce" content="c61b55b6cf063f6f9e935859bd68ff0ed66d98b5ebb3e287c95b3db0a64030cb" data-turbo-transient="true" /><meta name="visitor-payload" content="eyJyZWZlcnJlciI6Imh0dHBzOi8vZ2l0aHViLmNvbS9NUS1DT01QMjIwMC1DT01QNjIwMC9wb3J0Zm9saW8tcGFydC0yLXN1bmlsYmFzdG9sYSIsInJlcXVlc3RfaWQiOiI2MTA4OjI0RjdFNDozRUZEMjc0OjQ2NTlBNDE6NjZEQ0YzRUUiLCJ2aXNpdG9yX2lkIjoiNTg1Mjc5NzU3MDAxMTYxOTc3NSIsInJlZ2lvbl9lZGdlIjoiYWUtMDEiLCJyZWdpb25fcmVuZGVyIjoiaWFkIn0=" data-turbo-transient="true" /><meta name="visitor-hmac" content="f6fba006ab19a4735417237f3413d046488024fffaa25dca3fa44d9d93dd8dde" data-turbo-transient="true" />


    <meta name="hovercard-subject-tag" content="repository:847957091" data-turbo-transient>


  <meta name="github-keyboard-shortcuts" content="repository,source-code,file-tree,copilot" data-turbo-transient="true" />
  

  <meta name="selected-link" value="repo_source" data-turbo-transient>
  <link rel="assets" href="https://github.githubassets.com/">

    <meta name="google-site-verification" content="Apib7-x98H0j5cPqHWwSMm6dNU4GmODRoqxLiDzdx9I">

<meta name="octolytics-url" content="https://collector.github.com/github/collect" /><meta name="octolytics-actor-id" content="176372376" /><meta name="octolytics-actor-login" content="sunilbastola" /><meta name="octolytics-actor-hash" content="dd41a7f3d3fa5acf48eb51da4d2f426f9904073c31327bdf1c4ab98aad55072d" />

  <meta name="analytics-location" content="/&lt;user-name&gt;/&lt;repo-name&gt;/blob/show" data-turbo-transient="true" />

  




    <meta name="user-login" content="sunilbastola">

  <link rel="sudo-modal" href="/sessions/sudo_modal">

    <meta name="viewport" content="width=device-width">

    

      <meta name="description" content="portfolio-part-2-sunilbastola created by GitHub Classroom - portfolio-part-2-sunilbastola/Portfolio-2-questions.ipynb at main · MQ-COMP2200-COMP6200/portfolio-part-2-sunilbastola">

      <link rel="search" type="application/opensearchdescription+xml" href="/opensearch.xml" title="GitHub">

    <link rel="fluid-icon" href="https://github.com/fluidicon.png" title="GitHub">
    <meta property="fb:app_id" content="1401488693436528">
    <meta name="apple-itunes-app" content="app-id=1477376905, app-argument=https://github.com/MQ-COMP2200-COMP6200/portfolio-part-2-sunilbastola/blob/main/Portfolio-2-questions.ipynb" />

      <meta name="twitter:image:src" content="https://avatars.githubusercontent.com/u/140231410?s=400&amp;v=4" /><meta name="twitter:site" content="@github" /><meta name="twitter:card" content="summary" /><meta name="twitter:title" content="portfolio-part-2-sunilbastola/Portfolio-2-questions.ipynb at main · MQ-COMP2200-COMP6200/portfolio-part-2-sunilbastola" /><meta name="twitter:description" content="portfolio-part-2-sunilbastola created by GitHub Classroom - MQ-COMP2200-COMP6200/portfolio-part-2-sunilbastola" />
  <meta property="og:image" content="https://avatars.githubusercontent.com/u/140231410?s=400&amp;v=4" /><meta property="og:image:alt" content="portfolio-part-2-sunilbastola created by GitHub Classroom - MQ-COMP2200-COMP6200/portfolio-part-2-sunilbastola" /><meta property="og:site_name" content="GitHub" /><meta property="og:type" content="object" /><meta property="og:title" content="portfolio-part-2-sunilbastola/Portfolio-2-questions.ipynb at main · MQ-COMP2200-COMP6200/portfolio-part-2-sunilbastola" /><meta property="og:url" content="https://github.com/MQ-COMP2200-COMP6200/portfolio-part-2-sunilbastola/blob/main/Portfolio-2-questions.ipynb" /><meta property="og:description" content="portfolio-part-2-sunilbastola created by GitHub Classroom - MQ-COMP2200-COMP6200/portfolio-part-2-sunilbastola" />
  


      <link rel="shared-web-socket" href="wss://alive.github.com/_sockets/u/176372376/ws?session=eyJ2IjoiVjMiLCJ1IjoxNzYzNzIzNzYsInMiOjE0MjkyMTM1NTcsImMiOjEwNjA4ODYyODksInQiOjE3MjU3NTYzOTl9--77d814388b94e6f89578b6b5ce2932a012e6939924008d809b2122a5ed49b36c" data-refresh-url="/_alive" data-session-id="f1aa1e9682e97919c7d75d54db5ba7e6b9a0f0462e6841152d11899ea4334e7d">
      <link rel="shared-web-socket-src" href="/assets-cdn/worker/socket-worker-1a9b1a7a6108.js">


      <meta name="hostname" content="github.com">


      <meta name="keyboard-shortcuts-preference" content="all">
      <meta name="hovercards-preference" content="true">

        <meta name="expected-hostname" content="github.com">


  <meta http-equiv="x-pjax-version" content="371ad235c9d6e71e04ba80ed73ad8a4c39190e7f18a25004f86e96faf4dc055e" data-turbo-track="reload">
  <meta http-equiv="x-pjax-csp-version" content="43bc2a0e2750a1219c17b5bf1ec22aae37041bbc018bc5e27bb7708f80e7ab88" data-turbo-track="reload">
  <meta http-equiv="x-pjax-css-version" content="961166ccc4127a6adbd081f69c493995473e8519e7a1ed9cee679bc85a1f44f5" data-turbo-track="reload">
  <meta http-equiv="x-pjax-js-version" content="c799a69ba292498737482a6ae673ec234aa417bd6471c6ef390d32f389b85a2a" data-turbo-track="reload">

  <meta name="turbo-cache-control" content="no-preview" data-turbo-transient="">

      <meta name="turbo-cache-control" content="no-cache" data-turbo-transient>
    <meta data-hydrostats="publish">
  <meta name="go-import" content="github.com/MQ-COMP2200-COMP6200/portfolio-part-2-sunilbastola git https://github.com/MQ-COMP2200-COMP6200/portfolio-part-2-sunilbastola.git">

  <meta name="octolytics-dimension-user_id" content="140231410" /><meta name="octolytics-dimension-user_login" content="MQ-COMP2200-COMP6200" /><meta name="octolytics-dimension-repository_id" content="847957091" /><meta name="octolytics-dimension-repository_nwo" content="MQ-COMP2200-COMP6200/portfolio-part-2-sunilbastola" /><meta name="octolytics-dimension-repository_public" content="false" /><meta name="octolytics-dimension-repository_is_fork" content="false" /><meta name="octolytics-dimension-repository_network_root_id" content="847957091" /><meta name="octolytics-dimension-repository_network_root_nwo" content="MQ-COMP2200-COMP6200/portfolio-part-2-sunilbastola" />



    

    <meta name="turbo-body-classes" content="logged-in env-production page-responsive">


  <meta name="browser-stats-url" content="https://api.github.com/_private/browser/stats">

  <meta name="browser-errors-url" content="https://api.github.com/_private/browser/errors">

  <link rel="mask-icon" href="https://github.githubassets.com/assets/pinned-octocat-093da3e6fa40.svg" color="#000000">
  <link rel="alternate icon" class="js-site-favicon" type="image/png" href="https://github.githubassets.com/favicons/favicon.png">
  <link rel="icon" class="js-site-favicon" type="image/svg+xml" href="https://github.githubassets.com/favicons/favicon.svg">

<meta name="theme-color" content="#1e2327">
<meta name="color-scheme" content="light dark" />


  <link rel="manifest" href="/manifest.json" crossOrigin="use-credentials">

  </head>

  <body class="logged-in env-production page-responsive" style="word-wrap: break-word;">
    <div data-turbo-body class="logged-in env-production page-responsive" style="word-wrap: break-word;">
      


    <div class="position-relative js-header-wrapper ">
      <a href="#start-of-content" data-skip-target-assigned="false" class="p-3 color-bg-accent-emphasis color-fg-on-emphasis show-on-focus js-skip-to-content">Skip to content</a>

      <span data-view-component="true" class="progress-pjax-loader Progress position-fixed width-full">
    <span style="width: 0%;" data-view-component="true" class="Progress-item progress-pjax-loader-bar left-0 top-0 color-bg-accent-emphasis"></span>
</span>      
      
      <script crossorigin="anonymous" defer="defer" type="application/javascript" src="https://github.githubassets.com/assets/vendors-node_modules_primer_react_lib-esm_Dialog_Dialog_js-node_modules_primer_react_lib-esm_-bd7638-42ec9a5bc7b9.js"></script>
<script crossorigin="anonymous" defer="defer" type="application/javascript" src="https://github.githubassets.com/assets/ui_packages_ui-commands_ui-commands_ts-aecf14d2ad86.js"></script>
<script crossorigin="anonymous" defer="defer" type="application/javascript" src="https://github.githubassets.com/assets/keyboard-shortcuts-dialog-34a95176837f.js"></script>

<react-partial
  partial-name="keyboard-shortcuts-dialog"
  data-ssr="false"
>
  
  <script type="application/json" data-target="react-partial.embeddedData">{"props":{"docsUrl":"https://docs.github.com/get-started/accessibility/keyboard-shortcuts"}}</script>
  <div data-target="react-partial.reactRoot"></div>
</react-partial>




      

          

                <header class="AppHeader" role="banner">
  <h2 class="sr-only">Navigation Menu</h2>

    

    <div class="AppHeader-globalBar pb-2 js-global-bar">
      <div class="AppHeader-globalBar-start">
          <deferred-side-panel data-url="/_side-panels/global">
  <include-fragment data-target="deferred-side-panel.fragment">
      <button aria-label="Open global navigation menu" data-action="click:deferred-side-panel#loadPanel click:deferred-side-panel#panelOpened" data-show-dialog-id="dialog-15d8e4f6-595e-4784-aa71-c4867d8e62ec" id="dialog-show-dialog-15d8e4f6-595e-4784-aa71-c4867d8e62ec" type="button" data-view-component="true" class="Button Button--iconOnly Button--secondary Button--medium AppHeader-button color-bg-transparent p-0 color-fg-muted">  <svg aria-hidden="true" height="16" viewBox="0 0 16 16" version="1.1" width="16" data-view-component="true" class="octicon octicon-three-bars Button-visual">
    <path d="M1 2.75A.75.75 0 0 1 1.75 2h12.5a.75.75 0 0 1 0 1.5H1.75A.75.75 0 0 1 1 2.75Zm0 5A.75.75 0 0 1 1.75 7h12.5a.75.75 0 0 1 0 1.5H1.75A.75.75 0 0 1 1 7.75ZM1.75 12h12.5a.75.75 0 0 1 0 1.5H1.75a.75.75 0 0 1 0-1.5Z"></path>
</svg>
</button>

<dialog-helper>
  <dialog data-target="deferred-side-panel.panel" id="dialog-15d8e4f6-595e-4784-aa71-c4867d8e62ec" aria-modal="true" aria-labelledby="dialog-15d8e4f6-595e-4784-aa71-c4867d8e62ec-title" aria-describedby="dialog-15d8e4f6-595e-4784-aa71-c4867d8e62ec-description" data-view-component="true" class="Overlay Overlay-whenNarrow Overlay--size-small-portrait Overlay--motion-scaleFade Overlay--placement-left SidePanel">
    <div styles="flex-direction: row;" data-view-component="true" class="Overlay-header">
  <div class="Overlay-headerContentWrap">
    <div class="Overlay-titleWrap">
      <h1 class="Overlay-title sr-only" id="dialog-15d8e4f6-595e-4784-aa71-c4867d8e62ec-title">
        Global navigation
      </h1>
            <div data-view-component="true" class="d-flex">
      <div data-view-component="true" class="AppHeader-logo position-relative">
        <svg aria-hidden="true" height="24" viewBox="0 0 24 24" version="1.1" width="24" data-view-component="true" class="octicon octicon-mark-github">
    <path d="M12.5.75C6.146.75 1 5.896 1 12.25c0 5.089 3.292 9.387 7.863 10.91.575.101.79-.244.79-.546 0-.273-.014-1.178-.014-2.142-2.889.532-3.636-.704-3.866-1.35-.13-.331-.69-1.352-1.18-1.625-.402-.216-.977-.748-.014-.762.906-.014 1.553.834 1.769 1.179 1.035 1.74 2.688 1.25 3.349.948.1-.747.402-1.25.733-1.538-2.559-.287-5.232-1.279-5.232-5.678 0-1.25.445-2.285 1.178-3.09-.115-.288-.517-1.467.115-3.048 0 0 .963-.302 3.163 1.179.92-.259 1.897-.388 2.875-.388.977 0 1.955.13 2.875.388 2.2-1.495 3.162-1.179 3.162-1.179.633 1.581.23 2.76.115 3.048.733.805 1.179 1.825 1.179 3.09 0 4.413-2.688 5.39-5.247 5.678.417.36.776 1.05.776 2.128 0 1.538-.014 2.774-.014 3.162 0 .302.216.662.79.547C20.709 21.637 24 17.324 24 12.25 24 5.896 18.854.75 12.5.75Z"></path>
</svg>
</div></div>
    </div>
    <div class="Overlay-actionWrap">
      <button data-close-dialog-id="dialog-15d8e4f6-595e-4784-aa71-c4867d8e62ec" aria-label="Close" type="button" data-view-component="true" class="close-button Overlay-closeButton"><svg aria-hidden="true" height="16" viewBox="0 0 16 16" version="1.1" width="16" data-view-component="true" class="octicon octicon-x">
    <path d="M3.72 3.72a.75.75 0 0 1 1.06 0L8 6.94l3.22-3.22a.749.749 0 0 1 1.275.326.749.749 0 0 1-.215.734L9.06 8l3.22 3.22a.749.749 0 0 1-.326 1.275.749.749 0 0 1-.734-.215L8 9.06l-3.22 3.22a.751.751 0 0 1-1.042-.018.751.751 0 0 1-.018-1.042L6.94 8 3.72 4.78a.75.75 0 0 1 0-1.06Z"></path>
</svg></button>
    </div>
  </div>
  
</div>
      <scrollable-region data-labelled-by="dialog-15d8e4f6-595e-4784-aa71-c4867d8e62ec-title">
        <div data-view-component="true" class="Overlay-body d-flex flex-column px-2">    <div data-view-component="true" class="d-flex flex-column mb-3">
        <nav aria-label="Site navigation" data-view-component="true" class="ActionList">
  
  <nav-list>
    <ul data-target="nav-list.topLevelList" data-view-component="true" class="ActionListWrap">
        
          
<li data-item-id="" data-targets="nav-list.items" data-view-component="true" class="ActionListItem">
    
    
    <a data-hotkey="g d" data-analytics-event="{&quot;category&quot;:&quot;Global navigation&quot;,&quot;action&quot;:&quot;HOME&quot;,&quot;label&quot;:null}" id="item-eacbda75-3238-49e4-b1bc-05b3cdffa2e9" href="/dashboard" data-view-component="true" class="ActionListContent ActionListContent--visual16">
        <span class="ActionListItem-visual ActionListItem-visual--leading">
          <svg aria-hidden="true" height="16" viewBox="0 0 16 16" version="1.1" width="16" data-view-component="true" class="octicon octicon-home">
    <path d="M6.906.664a1.749 1.749 0 0 1 2.187 0l5.25 4.2c.415.332.657.835.657 1.367v7.019A1.75 1.75 0 0 1 13.25 15h-3.5a.75.75 0 0 1-.75-.75V9H7v5.25a.75.75 0 0 1-.75.75h-3.5A1.75 1.75 0 0 1 1 13.25V6.23c0-.531.242-1.034.657-1.366l5.25-4.2Zm1.25 1.171a.25.25 0 0 0-.312 0l-5.25 4.2a.25.25 0 0 0-.094.196v7.019c0 .138.112.25.25.25H5.5V8.25a.75.75 0 0 1 .75-.75h3.5a.75.75 0 0 1 .75.75v5.25h2.75a.25.25 0 0 0 .25-.25V6.23a.25.25 0 0 0-.094-.195Z"></path>
</svg>
        </span>
      
        <span data-view-component="true" class="ActionListItem-label">
          Home
</span>      
</a>
  
</li>

        
          
<li data-item-id="" data-targets="nav-list.items" data-view-component="true" class="ActionListItem">
    
    
    <a data-hotkey="g i" data-analytics-event="{&quot;category&quot;:&quot;Global navigation&quot;,&quot;action&quot;:&quot;ISSUES&quot;,&quot;label&quot;:null}" id="item-9c81eb3d-1b99-46b1-a922-8cf661a6a787" href="/issues" data-view-component="true" class="ActionListContent ActionListContent--visual16">
        <span class="ActionListItem-visual ActionListItem-visual--leading">
          <svg aria-hidden="true" height="16" viewBox="0 0 16 16" version="1.1" width="16" data-view-component="true" class="octicon octicon-issue-opened">
    <path d="M8 9.5a1.5 1.5 0 1 0 0-3 1.5 1.5 0 0 0 0 3Z"></path><path d="M8 0a8 8 0 1 1 0 16A8 8 0 0 1 8 0ZM1.5 8a6.5 6.5 0 1 0 13 0 6.5 6.5 0 0 0-13 0Z"></path>
</svg>
        </span>
      
        <span data-view-component="true" class="ActionListItem-label">
          Issues
</span>      
</a>
  
</li>

        
          
<li data-item-id="" data-targets="nav-list.items" data-view-component="true" class="ActionListItem">
    
    
    <a data-hotkey="g p" data-analytics-event="{&quot;category&quot;:&quot;Global navigation&quot;,&quot;action&quot;:&quot;PULL_REQUESTS&quot;,&quot;label&quot;:null}" id="item-2e2ee540-9b7d-4f78-b7be-9d60e64dcf40" href="/pulls" data-view-component="true" class="ActionListContent ActionListContent--visual16">
        <span class="ActionListItem-visual ActionListItem-visual--leading">
          <svg aria-hidden="true" height="16" viewBox="0 0 16 16" version="1.1" width="16" data-view-component="true" class="octicon octicon-git-pull-request">
    <path d="M1.5 3.25a2.25 2.25 0 1 1 3 2.122v5.256a2.251 2.251 0 1 1-1.5 0V5.372A2.25 2.25 0 0 1 1.5 3.25Zm5.677-.177L9.573.677A.25.25 0 0 1 10 .854V2.5h1A2.5 2.5 0 0 1 13.5 5v5.628a2.251 2.251 0 1 1-1.5 0V5a1 1 0 0 0-1-1h-1v1.646a.25.25 0 0 1-.427.177L7.177 3.427a.25.25 0 0 1 0-.354ZM3.75 2.5a.75.75 0 1 0 0 1.5.75.75 0 0 0 0-1.5Zm0 9.5a.75.75 0 1 0 0 1.5.75.75 0 0 0 0-1.5Zm8.25.75a.75.75 0 1 0 1.5 0 .75.75 0 0 0-1.5 0Z"></path>
</svg>
        </span>
      
        <span data-view-component="true" class="ActionListItem-label">
          Pull requests
</span>      
</a>
  
</li>

        
          
<li data-item-id="" data-targets="nav-list.items" data-item-id="projects" data-view-component="true" class="ActionListItem">
    
    
    <a data-analytics-event="{&quot;category&quot;:&quot;Global navigation&quot;,&quot;action&quot;:&quot;PROJECTS&quot;,&quot;label&quot;:null}" id="item-aa48fc59-51af-4c5f-920c-8cb052096777" href="/projects" data-view-component="true" class="ActionListContent ActionListContent--visual16">
        <span class="ActionListItem-visual ActionListItem-visual--leading">
          <svg aria-hidden="true" height="16" viewBox="0 0 16 16" version="1.1" width="16" data-view-component="true" class="octicon octicon-table">
    <path d="M0 1.75C0 .784.784 0 1.75 0h12.5C15.216 0 16 .784 16 1.75v12.5A1.75 1.75 0 0 1 14.25 16H1.75A1.75 1.75 0 0 1 0 14.25ZM6.5 6.5v8h7.75a.25.25 0 0 0 .25-.25V6.5Zm8-1.5V1.75a.25.25 0 0 0-.25-.25H6.5V5Zm-13 1.5v7.75c0 .138.112.25.25.25H5v-8ZM5 5V1.5H1.75a.25.25 0 0 0-.25.25V5Z"></path>
</svg>
        </span>
      
        <span data-view-component="true" class="ActionListItem-label">
          Projects
</span>      
</a>
  
</li>

        
          
<li data-item-id="" data-targets="nav-list.items" data-view-component="true" class="ActionListItem">
    
    
    <a data-analytics-event="{&quot;category&quot;:&quot;Global navigation&quot;,&quot;action&quot;:&quot;DISCUSSIONS&quot;,&quot;label&quot;:null}" id="item-fb2d1a3d-6500-43f3-919a-9df5bf8c78f2" href="/discussions" data-view-component="true" class="ActionListContent ActionListContent--visual16">
        <span class="ActionListItem-visual ActionListItem-visual--leading">
          <svg aria-hidden="true" height="16" viewBox="0 0 16 16" version="1.1" width="16" data-view-component="true" class="octicon octicon-comment-discussion">
    <path d="M1.75 1h8.5c.966 0 1.75.784 1.75 1.75v5.5A1.75 1.75 0 0 1 10.25 10H7.061l-2.574 2.573A1.458 1.458 0 0 1 2 11.543V10h-.25A1.75 1.75 0 0 1 0 8.25v-5.5C0 1.784.784 1 1.75 1ZM1.5 2.75v5.5c0 .138.112.25.25.25h1a.75.75 0 0 1 .75.75v2.19l2.72-2.72a.749.749 0 0 1 .53-.22h3.5a.25.25 0 0 0 .25-.25v-5.5a.25.25 0 0 0-.25-.25h-8.5a.25.25 0 0 0-.25.25Zm13 2a.25.25 0 0 0-.25-.25h-.5a.75.75 0 0 1 0-1.5h.5c.966 0 1.75.784 1.75 1.75v5.5A1.75 1.75 0 0 1 14.25 12H14v1.543a1.458 1.458 0 0 1-2.487 1.03L9.22 12.28a.749.749 0 0 1 .326-1.275.749.749 0 0 1 .734.215l2.22 2.22v-2.19a.75.75 0 0 1 .75-.75h1a.25.25 0 0 0 .25-.25Z"></path>
</svg>
        </span>
      
        <span data-view-component="true" class="ActionListItem-label">
          Discussions
</span>      
</a>
  
</li>

        
          
<li data-item-id="" data-targets="nav-list.items" data-view-component="true" class="ActionListItem">
    
    
    <a data-analytics-event="{&quot;category&quot;:&quot;Global navigation&quot;,&quot;action&quot;:&quot;CODESPACES&quot;,&quot;label&quot;:null}" id="item-5ab5b7b9-ae16-48be-a4e7-cb52936f15d1" href="https://github.com/codespaces" data-view-component="true" class="ActionListContent ActionListContent--visual16">
        <span class="ActionListItem-visual ActionListItem-visual--leading">
          <svg aria-hidden="true" height="16" viewBox="0 0 16 16" version="1.1" width="16" data-view-component="true" class="octicon octicon-codespaces">
    <path d="M0 11.25c0-.966.784-1.75 1.75-1.75h12.5c.966 0 1.75.784 1.75 1.75v3A1.75 1.75 0 0 1 14.25 16H1.75A1.75 1.75 0 0 1 0 14.25Zm2-9.5C2 .784 2.784 0 3.75 0h8.5C13.216 0 14 .784 14 1.75v5a1.75 1.75 0 0 1-1.75 1.75h-8.5A1.75 1.75 0 0 1 2 6.75Zm1.75-.25a.25.25 0 0 0-.25.25v5c0 .138.112.25.25.25h8.5a.25.25 0 0 0 .25-.25v-5a.25.25 0 0 0-.25-.25Zm-2 9.5a.25.25 0 0 0-.25.25v3c0 .138.112.25.25.25h12.5a.25.25 0 0 0 .25-.25v-3a.25.25 0 0 0-.25-.25Z"></path><path d="M7 12.75a.75.75 0 0 1 .75-.75h4.5a.75.75 0 0 1 0 1.5h-4.5a.75.75 0 0 1-.75-.75Zm-4 0a.75.75 0 0 1 .75-.75h.5a.75.75 0 0 1 0 1.5h-.5a.75.75 0 0 1-.75-.75Z"></path>
</svg>
        </span>
      
        <span data-view-component="true" class="ActionListItem-label">
          Codespaces
</span>      
</a>
  
</li>

        
          <li role="presentation" aria-hidden="true" data-view-component="true" class="ActionList-sectionDivider"></li>
        
          
<li data-item-id="" data-targets="nav-list.items" data-view-component="true" class="ActionListItem">
    
    
    <a data-analytics-event="{&quot;category&quot;:&quot;Global navigation&quot;,&quot;action&quot;:&quot;EXPLORE&quot;,&quot;label&quot;:null}" id="item-9900a0d0-07ea-4261-a359-6342e4bdb332" href="/explore" data-view-component="true" class="ActionListContent ActionListContent--visual16">
        <span class="ActionListItem-visual ActionListItem-visual--leading">
          <svg aria-hidden="true" height="16" viewBox="0 0 16 16" version="1.1" width="16" data-view-component="true" class="octicon octicon-telescope">
    <path d="M14.184 1.143v-.001l1.422 2.464a1.75 1.75 0 0 1-.757 2.451L3.104 11.713a1.75 1.75 0 0 1-2.275-.702l-.447-.775a1.75 1.75 0 0 1 .53-2.32L11.682.573a1.748 1.748 0 0 1 2.502.57Zm-4.709 9.32h-.001l2.644 3.863a.75.75 0 1 1-1.238.848l-1.881-2.75v2.826a.75.75 0 0 1-1.5 0v-2.826l-1.881 2.75a.75.75 0 1 1-1.238-.848l2.049-2.992a.746.746 0 0 1 .293-.253l1.809-.87a.749.749 0 0 1 .944.252ZM9.436 3.92h-.001l-4.97 3.39.942 1.63 5.42-2.61Zm3.091-2.108h.001l-1.85 1.26 1.505 2.605 2.016-.97a.247.247 0 0 0 .13-.151.247.247 0 0 0-.022-.199l-1.422-2.464a.253.253 0 0 0-.161-.119.254.254 0 0 0-.197.038ZM1.756 9.157a.25.25 0 0 0-.075.33l.447.775a.25.25 0 0 0 .325.1l1.598-.769-.83-1.436-1.465 1Z"></path>
</svg>
        </span>
      
        <span data-view-component="true" class="ActionListItem-label">
          Explore
</span>      
</a>
  
</li>

        
          
<li data-item-id="" data-targets="nav-list.items" data-view-component="true" class="ActionListItem">
    
    
    <a data-analytics-event="{&quot;category&quot;:&quot;Global navigation&quot;,&quot;action&quot;:&quot;MARKETPLACE&quot;,&quot;label&quot;:null}" id="item-76c4d878-f61f-4534-b4a5-6949ab5a388e" href="/marketplace" data-view-component="true" class="ActionListContent ActionListContent--visual16">
        <span class="ActionListItem-visual ActionListItem-visual--leading">
          <svg aria-hidden="true" height="16" viewBox="0 0 16 16" version="1.1" width="16" data-view-component="true" class="octicon octicon-gift">
    <path d="M2 2.75A2.75 2.75 0 0 1 4.75 0c.983 0 1.873.42 2.57 1.232.268.318.497.668.68 1.042.183-.375.411-.725.68-1.044C9.376.42 10.266 0 11.25 0a2.75 2.75 0 0 1 2.45 4h.55c.966 0 1.75.784 1.75 1.75v2c0 .698-.409 1.301-1 1.582v4.918A1.75 1.75 0 0 1 13.25 16H2.75A1.75 1.75 0 0 1 1 14.25V9.332C.409 9.05 0 8.448 0 7.75v-2C0 4.784.784 4 1.75 4h.55c-.192-.375-.3-.8-.3-1.25ZM7.25 9.5H2.5v4.75c0 .138.112.25.25.25h4.5Zm1.5 0v5h4.5a.25.25 0 0 0 .25-.25V9.5Zm0-4V8h5.5a.25.25 0 0 0 .25-.25v-2a.25.25 0 0 0-.25-.25Zm-7 0a.25.25 0 0 0-.25.25v2c0 .138.112.25.25.25h5.5V5.5h-5.5Zm3-4a1.25 1.25 0 0 0 0 2.5h2.309c-.233-.818-.542-1.401-.878-1.793-.43-.502-.915-.707-1.431-.707ZM8.941 4h2.309a1.25 1.25 0 0 0 0-2.5c-.516 0-1 .205-1.43.707-.337.392-.646.975-.879 1.793Z"></path>
</svg>
        </span>
      
        <span data-view-component="true" class="ActionListItem-label">
          Marketplace
</span>      
</a>
  
</li>

</ul>  </nav-list>
</nav>

        <div data-view-component="true" class="my-3 d-flex flex-justify-center height-full">
          <span data-view-component="true">
  <svg style="box-sizing: content-box; color: var(--color-icon-primary);" width="16" height="16" viewBox="0 0 16 16" fill="none" aria-hidden="true" data-view-component="true" class="anim-rotate">
    <circle cx="8" cy="8" r="7" stroke="currentColor" stroke-opacity="0.25" stroke-width="2" vector-effect="non-scaling-stroke" fill="none" />
    <path d="M15 8a7.002 7.002 0 00-7-7" stroke="currentColor" stroke-width="2" stroke-linecap="round" vector-effect="non-scaling-stroke" />
</svg>    <span class="sr-only">Loading</span>
</span>
</div>
</div>
      <div data-view-component="true" class="flex-1"></div>


      <div data-view-component="true" class="px-2">      <p class="color-fg-subtle text-small text-light">&copy; 2024 GitHub, Inc.</p>

      <div data-view-component="true" class="d-flex flex-wrap text-small text-light">
          <a target="_blank" href="https://github.com/about" data-view-component="true" class="Link mr-2">About</a>
          <a target="_blank" href="https://github.blog" data-view-component="true" class="Link mr-2">Blog</a>
          <a target="_blank" href="https://docs.github.com/site-policy/github-terms/github-terms-of-service" data-view-component="true" class="Link mr-2">Terms</a>
          <a target="_blank" href="https://docs.github.com/site-policy/privacy-policies/github-privacy-statement" data-view-component="true" class="Link mr-2">Privacy</a>
          <a target="_blank" href="https://github.com/security" data-view-component="true" class="Link mr-2">Security</a>
          <a target="_blank" href="https://www.githubstatus.com/" data-view-component="true" class="Link mr-3">Status</a>

</div></div>
</div>
      </scrollable-region>
      
</dialog></dialog-helper>

  </include-fragment>
</deferred-side-panel>

        <a
          class="AppHeader-logo ml-2"
          href="https://github.com/"
          data-hotkey="g d"
          aria-label="Homepage "
          data-turbo="false"
          data-analytics-event="{&quot;category&quot;:&quot;Header&quot;,&quot;action&quot;:&quot;go to dashboard&quot;,&quot;label&quot;:&quot;icon:logo&quot;}"
        >
          <svg height="32" aria-hidden="true" viewBox="0 0 24 24" version="1.1" width="32" data-view-component="true" class="octicon octicon-mark-github v-align-middle color-fg-default">
    <path d="M12.5.75C6.146.75 1 5.896 1 12.25c0 5.089 3.292 9.387 7.863 10.91.575.101.79-.244.79-.546 0-.273-.014-1.178-.014-2.142-2.889.532-3.636-.704-3.866-1.35-.13-.331-.69-1.352-1.18-1.625-.402-.216-.977-.748-.014-.762.906-.014 1.553.834 1.769 1.179 1.035 1.74 2.688 1.25 3.349.948.1-.747.402-1.25.733-1.538-2.559-.287-5.232-1.279-5.232-5.678 0-1.25.445-2.285 1.178-3.09-.115-.288-.517-1.467.115-3.048 0 0 .963-.302 3.163 1.179.92-.259 1.897-.388 2.875-.388.977 0 1.955.13 2.875.388 2.2-1.495 3.162-1.179 3.162-1.179.633 1.581.23 2.76.115 3.048.733.805 1.179 1.825 1.179 3.09 0 4.413-2.688 5.39-5.247 5.678.417.36.776 1.05.776 2.128 0 1.538-.014 2.774-.014 3.162 0 .302.216.662.79.547C20.709 21.637 24 17.324 24 12.25 24 5.896 18.854.75 12.5.75Z"></path>
</svg>
        </a>

          <div class="AppHeader-context" >
  <div class="AppHeader-context-compact">
      <button aria-expanded="false" aria-haspopup="dialog" aria-label="Page context: MQ-COMP2200-COMP6200 / portfolio-part-2-sunilbastola" id="dialog-show-context-region-dialog" data-show-dialog-id="context-region-dialog" type="button" data-view-component="true" class="AppHeader-context-compact-trigger Truncate Button--secondary Button--medium Button box-shadow-none">  <span class="Button-content">
    <span class="Button-label"><span class="AppHeader-context-compact-lead">
                <span class="AppHeader-context-compact-parentItem">MQ-COMP2200-COMP6200</span>
                <span class="no-wrap">&nbsp;/</span>

            </span>

            <strong class="AppHeader-context-compact-mainItem d-flex flex-items-center Truncate" >
  <span class="Truncate-text ">portfolio-part-2-sunilbastola</span>

    <svg aria-hidden="true" height="12" viewBox="0 0 16 16" version="1.1" width="12" data-view-component="true" class="octicon octicon-lock ml-1">
    <path d="M4 4a4 4 0 0 1 8 0v2h.25c.966 0 1.75.784 1.75 1.75v5.5A1.75 1.75 0 0 1 12.25 15h-8.5A1.75 1.75 0 0 1 2 13.25v-5.5C2 6.784 2.784 6 3.75 6H4Zm8.25 3.5h-8.5a.25.25 0 0 0-.25.25v5.5c0 .138.112.25.25.25h8.5a.25.25 0 0 0 .25-.25v-5.5a.25.25 0 0 0-.25-.25ZM10.5 6V4a2.5 2.5 0 1 0-5 0v2Z"></path>
</svg>
</strong></span>
  </span>
</button>

<dialog-helper>
  <dialog id="context-region-dialog" aria-modal="true" aria-labelledby="context-region-dialog-title" aria-describedby="context-region-dialog-description" data-view-component="true" class="Overlay Overlay-whenNarrow Overlay--size-medium Overlay--motion-scaleFade">
    <div data-view-component="true" class="Overlay-header">
  <div class="Overlay-headerContentWrap">
    <div class="Overlay-titleWrap">
      <h1 class="Overlay-title " id="context-region-dialog-title">
        Navigate back to
      </h1>
        
    </div>
    <div class="Overlay-actionWrap">
      <button data-close-dialog-id="context-region-dialog" aria-label="Close" type="button" data-view-component="true" class="close-button Overlay-closeButton"><svg aria-hidden="true" height="16" viewBox="0 0 16 16" version="1.1" width="16" data-view-component="true" class="octicon octicon-x">
    <path d="M3.72 3.72a.75.75 0 0 1 1.06 0L8 6.94l3.22-3.22a.749.749 0 0 1 1.275.326.749.749 0 0 1-.215.734L9.06 8l3.22 3.22a.749.749 0 0 1-.326 1.275.749.749 0 0 1-.734-.215L8 9.06l-3.22 3.22a.751.751 0 0 1-1.042-.018.751.751 0 0 1-.018-1.042L6.94 8 3.72 4.78a.75.75 0 0 1 0-1.06Z"></path>
</svg></button>
    </div>
  </div>
  
</div>
      <scrollable-region data-labelled-by="context-region-dialog-title">
        <div data-view-component="true" class="Overlay-body">          <ul role="list" class="list-style-none" >
    <li>
      <a data-analytics-event="{&quot;category&quot;:&quot;SiteHeaderComponent&quot;,&quot;action&quot;:&quot;context_region_crumb&quot;,&quot;label&quot;:&quot;MQ-COMP2200-COMP6200&quot;,&quot;screen_size&quot;:&quot;compact&quot;}" href="/MQ-COMP2200-COMP6200" data-view-component="true" class="Link--primary Truncate d-flex flex-items-center py-1">
        <span class="AppHeader-context-item-label Truncate-text ">
            <svg aria-hidden="true" height="12" viewBox="0 0 16 16" version="1.1" width="12" data-view-component="true" class="octicon octicon-organization mr-1">
    <path d="M1.75 16A1.75 1.75 0 0 1 0 14.25V1.75C0 .784.784 0 1.75 0h8.5C11.216 0 12 .784 12 1.75v12.5c0 .085-.006.168-.018.25h2.268a.25.25 0 0 0 .25-.25V8.285a.25.25 0 0 0-.111-.208l-1.055-.703a.749.749 0 1 1 .832-1.248l1.055.703c.487.325.779.871.779 1.456v5.965A1.75 1.75 0 0 1 14.25 16h-3.5a.766.766 0 0 1-.197-.026c-.099.017-.2.026-.303.026h-3a.75.75 0 0 1-.75-.75V14h-1v1.25a.75.75 0 0 1-.75.75Zm-.25-1.75c0 .138.112.25.25.25H4v-1.25a.75.75 0 0 1 .75-.75h2.5a.75.75 0 0 1 .75.75v1.25h2.25a.25.25 0 0 0 .25-.25V1.75a.25.25 0 0 0-.25-.25h-8.5a.25.25 0 0 0-.25.25ZM3.75 6h.5a.75.75 0 0 1 0 1.5h-.5a.75.75 0 0 1 0-1.5ZM3 3.75A.75.75 0 0 1 3.75 3h.5a.75.75 0 0 1 0 1.5h-.5A.75.75 0 0 1 3 3.75Zm4 3A.75.75 0 0 1 7.75 6h.5a.75.75 0 0 1 0 1.5h-.5A.75.75 0 0 1 7 6.75ZM7.75 3h.5a.75.75 0 0 1 0 1.5h-.5a.75.75 0 0 1 0-1.5ZM3 9.75A.75.75 0 0 1 3.75 9h.5a.75.75 0 0 1 0 1.5h-.5A.75.75 0 0 1 3 9.75ZM7.75 9h.5a.75.75 0 0 1 0 1.5h-.5a.75.75 0 0 1 0-1.5Z"></path>
</svg>

          MQ-COMP2200-COMP6200
        </span>

</a>
    </li>
    <li>
      <a data-analytics-event="{&quot;category&quot;:&quot;SiteHeaderComponent&quot;,&quot;action&quot;:&quot;context_region_crumb&quot;,&quot;label&quot;:&quot;portfolio-part-2-sunilbastola&quot;,&quot;screen_size&quot;:&quot;compact&quot;}" href="/MQ-COMP2200-COMP6200/portfolio-part-2-sunilbastola" data-view-component="true" class="Link--primary Truncate d-flex flex-items-center py-1">
        <span class="AppHeader-context-item-label Truncate-text ">
            <svg aria-hidden="true" height="12" viewBox="0 0 16 16" version="1.1" width="12" data-view-component="true" class="octicon octicon-repo mr-1">
    <path d="M2 2.5A2.5 2.5 0 0 1 4.5 0h8.75a.75.75 0 0 1 .75.75v12.5a.75.75 0 0 1-.75.75h-2.5a.75.75 0 0 1 0-1.5h1.75v-2h-8a1 1 0 0 0-.714 1.7.75.75 0 1 1-1.072 1.05A2.495 2.495 0 0 1 2 11.5Zm10.5-1h-8a1 1 0 0 0-1 1v6.708A2.486 2.486 0 0 1 4.5 9h8ZM5 12.25a.25.25 0 0 1 .25-.25h3.5a.25.25 0 0 1 .25.25v3.25a.25.25 0 0 1-.4.2l-1.45-1.087a.249.249 0 0 0-.3 0L5.4 15.7a.25.25 0 0 1-.4-.2Z"></path>
</svg>

          portfolio-part-2-sunilbastola
        </span>

          <svg aria-hidden="true" height="12" viewBox="0 0 16 16" version="1.1" width="12" data-view-component="true" class="octicon octicon-lock ml-1">
    <path d="M4 4a4 4 0 0 1 8 0v2h.25c.966 0 1.75.784 1.75 1.75v5.5A1.75 1.75 0 0 1 12.25 15h-8.5A1.75 1.75 0 0 1 2 13.25v-5.5C2 6.784 2.784 6 3.75 6H4Zm8.25 3.5h-8.5a.25.25 0 0 0-.25.25v5.5c0 .138.112.25.25.25h8.5a.25.25 0 0 0 .25-.25v-5.5a.25.25 0 0 0-.25-.25ZM10.5 6V4a2.5 2.5 0 1 0-5 0v2Z"></path>
</svg>
</a>
    </li>
</ul>

</div>
      </scrollable-region>
      
</dialog></dialog-helper>
  </div>

  <div class="AppHeader-context-full">
    <nav role="navigation" aria-label="Page context">
      <ul role="list" class="list-style-none" >
    <li>
      <a data-analytics-event="{&quot;category&quot;:&quot;SiteHeaderComponent&quot;,&quot;action&quot;:&quot;context_region_crumb&quot;,&quot;label&quot;:&quot;MQ-COMP2200-COMP6200&quot;,&quot;screen_size&quot;:&quot;full&quot;}" data-hovercard-type="organization" data-hovercard-url="/orgs/MQ-COMP2200-COMP6200/hovercard" data-octo-click="hovercard-link-click" data-octo-dimensions="link_type:self" href="/MQ-COMP2200-COMP6200" data-view-component="true" class="AppHeader-context-item">
        <span class="AppHeader-context-item-label  ">

          MQ-COMP2200-COMP6200
        </span>

</a>
        <span class="AppHeader-context-item-separator">/</span>
    </li>
    <li>
      <a data-analytics-event="{&quot;category&quot;:&quot;SiteHeaderComponent&quot;,&quot;action&quot;:&quot;context_region_crumb&quot;,&quot;label&quot;:&quot;portfolio-part-2-sunilbastola&quot;,&quot;screen_size&quot;:&quot;full&quot;}" href="/MQ-COMP2200-COMP6200/portfolio-part-2-sunilbastola" data-view-component="true" class="AppHeader-context-item">
        <span class="AppHeader-context-item-label  ">

          portfolio-part-2-sunilbastola
        </span>

          <svg aria-hidden="true" height="12" viewBox="0 0 16 16" version="1.1" width="12" data-view-component="true" class="octicon octicon-lock ml-1">
    <path d="M4 4a4 4 0 0 1 8 0v2h.25c.966 0 1.75.784 1.75 1.75v5.5A1.75 1.75 0 0 1 12.25 15h-8.5A1.75 1.75 0 0 1 2 13.25v-5.5C2 6.784 2.784 6 3.75 6H4Zm8.25 3.5h-8.5a.25.25 0 0 0-.25.25v5.5c0 .138.112.25.25.25h8.5a.25.25 0 0 0 .25-.25v-5.5a.25.25 0 0 0-.25-.25ZM10.5 6V4a2.5 2.5 0 1 0-5 0v2Z"></path>
</svg>
</a>
    </li>
</ul>

    </nav>
  </div>
</div>

      </div>
      <div class="AppHeader-globalBar-end">
          <div class="AppHeader-search" >
              


<qbsearch-input class="search-input" data-scope="repo:MQ-COMP2200-COMP6200/portfolio-part-2-sunilbastola" data-custom-scopes-path="/search/custom_scopes" data-delete-custom-scopes-csrf="mpzXOizTXy9y-tzqQT4ugXsOkeJyItRaBRgg26excxqhsZnxxAnjzLlnA3c9O2mgtQiIW7Btrt84jcRPjAXA4w" data-max-custom-scopes="10" data-header-redesign-enabled="true" data-initial-value="" data-blackbird-suggestions-path="/search/suggestions" data-jump-to-suggestions-path="/_graphql/GetSuggestedNavigationDestinations" data-current-repository="MQ-COMP2200-COMP6200/portfolio-part-2-sunilbastola" data-current-org="MQ-COMP2200-COMP6200" data-current-owner="" data-logged-in="true" data-copilot-chat-enabled="false" data-nl-search-enabled="false">
  <div
    class="search-input-container search-with-dialog position-relative d-flex flex-row flex-items-center height-auto color-bg-transparent border-0 color-fg-subtle mx-0"
    data-action="click:qbsearch-input#searchInputContainerClicked"
  >
      
            <button type="button" data-action="click:qbsearch-input#handleExpand" class="AppHeader-button AppHeader-search-whenNarrow" aria-label="Search or jump to…" aria-expanded="false" aria-haspopup="dialog">
            <svg aria-hidden="true" height="16" viewBox="0 0 16 16" version="1.1" width="16" data-view-component="true" class="octicon octicon-search">
    <path d="M10.68 11.74a6 6 0 0 1-7.922-8.982 6 6 0 0 1 8.982 7.922l3.04 3.04a.749.749 0 0 1-.326 1.275.749.749 0 0 1-.734-.215ZM11.5 7a4.499 4.499 0 1 0-8.997 0A4.499 4.499 0 0 0 11.5 7Z"></path>
</svg>
          </button>


<div class="AppHeader-search-whenRegular">
  <div class="AppHeader-search-wrap AppHeader-search-wrap--hasTrailing">
    <div class="AppHeader-search-control">
      <label
        for="AppHeader-searchInput"
        aria-label="Search or jump to…"
        class="AppHeader-search-visual--leading"
      >
        <svg aria-hidden="true" height="16" viewBox="0 0 16 16" version="1.1" width="16" data-view-component="true" class="octicon octicon-search">
    <path d="M10.68 11.74a6 6 0 0 1-7.922-8.982 6 6 0 0 1 8.982 7.922l3.04 3.04a.749.749 0 0 1-.326 1.275.749.749 0 0 1-.734-.215ZM11.5 7a4.499 4.499 0 1 0-8.997 0A4.499 4.499 0 0 0 11.5 7Z"></path>
</svg>
      </label>

                <button
            type="button"
            data-target="qbsearch-input.inputButton"
            data-action="click:qbsearch-input#handleExpand"
            class="AppHeader-searchButton form-control input-contrast text-left color-fg-subtle no-wrap"
            data-hotkey="s,/"
            data-analytics-event="{&quot;location&quot;:&quot;navbar&quot;,&quot;action&quot;:&quot;searchbar&quot;,&quot;context&quot;:&quot;global&quot;,&quot;tag&quot;:&quot;input&quot;,&quot;label&quot;:&quot;searchbar_input_global_navbar&quot;}"
            aria-describedby="search-error-message-flash"
          >
            <div class="overflow-hidden">
              <span id="qb-input-query" data-target="qbsearch-input.inputButtonText">
                  Type <kbd class="AppHeader-search-kbd">/</kbd> to search
              </span>
            </div>
          </button>

    </div>


  </div>
</div>

    <input type="hidden" name="type" class="js-site-search-type-field">

    
<div class="Overlay--hidden " data-modal-dialog-overlay>
  <modal-dialog data-action="close:qbsearch-input#handleClose cancel:qbsearch-input#handleClose" data-target="qbsearch-input.searchSuggestionsDialog" role="dialog" id="search-suggestions-dialog" aria-modal="true" aria-labelledby="search-suggestions-dialog-header" data-view-component="true" class="Overlay Overlay--width-medium Overlay--height-auto">
      <h1 id="search-suggestions-dialog-header" class="sr-only">Search code, repositories, users, issues, pull requests...</h1>
    <div class="Overlay-body Overlay-body--paddingNone">
      
          <div data-view-component="true">        <div class="search-suggestions position-absolute width-full color-shadow-large border color-fg-default color-bg-default overflow-hidden d-flex flex-column query-builder-container"
          style="border-radius: 12px;"
          data-target="qbsearch-input.queryBuilderContainer"
          hidden
        >
          <!-- '"` --><!-- </textarea></xmp> --></option></form><form id="query-builder-test-form" action="" accept-charset="UTF-8" method="get">
  <query-builder data-target="qbsearch-input.queryBuilder" id="query-builder-query-builder-test" data-filter-key=":" data-view-component="true" class="QueryBuilder search-query-builder">
    <div class="FormControl FormControl--fullWidth">
      <label id="query-builder-test-label" for="query-builder-test" class="FormControl-label sr-only">
        Search
      </label>
      <div
        class="QueryBuilder-StyledInput width-fit "
        data-target="query-builder.styledInput"
      >
          <span id="query-builder-test-leadingvisual-wrap" class="FormControl-input-leadingVisualWrap QueryBuilder-leadingVisualWrap">
            <svg aria-hidden="true" height="16" viewBox="0 0 16 16" version="1.1" width="16" data-view-component="true" class="octicon octicon-search FormControl-input-leadingVisual">
    <path d="M10.68 11.74a6 6 0 0 1-7.922-8.982 6 6 0 0 1 8.982 7.922l3.04 3.04a.749.749 0 0 1-.326 1.275.749.749 0 0 1-.734-.215ZM11.5 7a4.499 4.499 0 1 0-8.997 0A4.499 4.499 0 0 0 11.5 7Z"></path>
</svg>
          </span>
        <div data-target="query-builder.styledInputContainer" class="QueryBuilder-StyledInputContainer">
          <div
            aria-hidden="true"
            class="QueryBuilder-StyledInputContent"
            data-target="query-builder.styledInputContent"
          ></div>
          <div class="QueryBuilder-InputWrapper">
            <div aria-hidden="true" class="QueryBuilder-Sizer" data-target="query-builder.sizer"></div>
            <input id="query-builder-test" name="query-builder-test" value="" autocomplete="off" type="text" role="combobox" spellcheck="false" aria-expanded="false" aria-describedby="validation-af2b8cac-09e5-4137-8574-0c43e6971878" data-target="query-builder.input" data-action="
          input:query-builder#inputChange
          blur:query-builder#inputBlur
          keydown:query-builder#inputKeydown
          focus:query-builder#inputFocus
        " data-view-component="true" class="FormControl-input QueryBuilder-Input FormControl-medium" />
          </div>
        </div>
          <span class="sr-only" id="query-builder-test-clear">Clear</span>
          <button role="button" id="query-builder-test-clear-button" aria-labelledby="query-builder-test-clear query-builder-test-label" data-target="query-builder.clearButton" data-action="
                click:query-builder#clear
                focus:query-builder#clearButtonFocus
                blur:query-builder#clearButtonBlur
              " variant="small" hidden="hidden" type="button" data-view-component="true" class="Button Button--iconOnly Button--invisible Button--medium mr-1 px-2 py-0 d-flex flex-items-center rounded-1 color-fg-muted">  <svg aria-hidden="true" height="16" viewBox="0 0 16 16" version="1.1" width="16" data-view-component="true" class="octicon octicon-x-circle-fill Button-visual">
    <path d="M2.343 13.657A8 8 0 1 1 13.658 2.343 8 8 0 0 1 2.343 13.657ZM6.03 4.97a.751.751 0 0 0-1.042.018.751.751 0 0 0-.018 1.042L6.94 8 4.97 9.97a.749.749 0 0 0 .326 1.275.749.749 0 0 0 .734-.215L8 9.06l1.97 1.97a.749.749 0 0 0 1.275-.326.749.749 0 0 0-.215-.734L9.06 8l1.97-1.97a.749.749 0 0 0-.326-1.275.749.749 0 0 0-.734.215L8 6.94Z"></path>
</svg>
</button>

      </div>
      <template id="search-icon">
  <svg aria-hidden="true" height="16" viewBox="0 0 16 16" version="1.1" width="16" data-view-component="true" class="octicon octicon-search">
    <path d="M10.68 11.74a6 6 0 0 1-7.922-8.982 6 6 0 0 1 8.982 7.922l3.04 3.04a.749.749 0 0 1-.326 1.275.749.749 0 0 1-.734-.215ZM11.5 7a4.499 4.499 0 1 0-8.997 0A4.499 4.499 0 0 0 11.5 7Z"></path>
</svg>
</template>

<template id="code-icon">
  <svg aria-hidden="true" height="16" viewBox="0 0 16 16" version="1.1" width="16" data-view-component="true" class="octicon octicon-code">
    <path d="m11.28 3.22 4.25 4.25a.75.75 0 0 1 0 1.06l-4.25 4.25a.749.749 0 0 1-1.275-.326.749.749 0 0 1 .215-.734L13.94 8l-3.72-3.72a.749.749 0 0 1 .326-1.275.749.749 0 0 1 .734.215Zm-6.56 0a.751.751 0 0 1 1.042.018.751.751 0 0 1 .018 1.042L2.06 8l3.72 3.72a.749.749 0 0 1-.326 1.275.749.749 0 0 1-.734-.215L.47 8.53a.75.75 0 0 1 0-1.06Z"></path>
</svg>
</template>

<template id="file-code-icon">
  <svg aria-hidden="true" height="16" viewBox="0 0 16 16" version="1.1" width="16" data-view-component="true" class="octicon octicon-file-code">
    <path d="M4 1.75C4 .784 4.784 0 5.75 0h5.586c.464 0 .909.184 1.237.513l2.914 2.914c.329.328.513.773.513 1.237v8.586A1.75 1.75 0 0 1 14.25 15h-9a.75.75 0 0 1 0-1.5h9a.25.25 0 0 0 .25-.25V6h-2.75A1.75 1.75 0 0 1 10 4.25V1.5H5.75a.25.25 0 0 0-.25.25v2.5a.75.75 0 0 1-1.5 0Zm1.72 4.97a.75.75 0 0 1 1.06 0l2 2a.75.75 0 0 1 0 1.06l-2 2a.749.749 0 0 1-1.275-.326.749.749 0 0 1 .215-.734l1.47-1.47-1.47-1.47a.75.75 0 0 1 0-1.06ZM3.28 7.78 1.81 9.25l1.47 1.47a.751.751 0 0 1-.018 1.042.751.751 0 0 1-1.042.018l-2-2a.75.75 0 0 1 0-1.06l2-2a.751.751 0 0 1 1.042.018.751.751 0 0 1 .018 1.042Zm8.22-6.218V4.25c0 .138.112.25.25.25h2.688l-.011-.013-2.914-2.914-.013-.011Z"></path>
</svg>
</template>

<template id="history-icon">
  <svg aria-hidden="true" height="16" viewBox="0 0 16 16" version="1.1" width="16" data-view-component="true" class="octicon octicon-history">
    <path d="m.427 1.927 1.215 1.215a8.002 8.002 0 1 1-1.6 5.685.75.75 0 1 1 1.493-.154 6.5 6.5 0 1 0 1.18-4.458l1.358 1.358A.25.25 0 0 1 3.896 6H.25A.25.25 0 0 1 0 5.75V2.104a.25.25 0 0 1 .427-.177ZM7.75 4a.75.75 0 0 1 .75.75v2.992l2.028.812a.75.75 0 0 1-.557 1.392l-2.5-1A.751.751 0 0 1 7 8.25v-3.5A.75.75 0 0 1 7.75 4Z"></path>
</svg>
</template>

<template id="repo-icon">
  <svg aria-hidden="true" height="16" viewBox="0 0 16 16" version="1.1" width="16" data-view-component="true" class="octicon octicon-repo">
    <path d="M2 2.5A2.5 2.5 0 0 1 4.5 0h8.75a.75.75 0 0 1 .75.75v12.5a.75.75 0 0 1-.75.75h-2.5a.75.75 0 0 1 0-1.5h1.75v-2h-8a1 1 0 0 0-.714 1.7.75.75 0 1 1-1.072 1.05A2.495 2.495 0 0 1 2 11.5Zm10.5-1h-8a1 1 0 0 0-1 1v6.708A2.486 2.486 0 0 1 4.5 9h8ZM5 12.25a.25.25 0 0 1 .25-.25h3.5a.25.25 0 0 1 .25.25v3.25a.25.25 0 0 1-.4.2l-1.45-1.087a.249.249 0 0 0-.3 0L5.4 15.7a.25.25 0 0 1-.4-.2Z"></path>
</svg>
</template>

<template id="bookmark-icon">
  <svg aria-hidden="true" height="16" viewBox="0 0 16 16" version="1.1" width="16" data-view-component="true" class="octicon octicon-bookmark">
    <path d="M3 2.75C3 1.784 3.784 1 4.75 1h6.5c.966 0 1.75.784 1.75 1.75v11.5a.75.75 0 0 1-1.227.579L8 11.722l-3.773 3.107A.751.751 0 0 1 3 14.25Zm1.75-.25a.25.25 0 0 0-.25.25v9.91l3.023-2.489a.75.75 0 0 1 .954 0l3.023 2.49V2.75a.25.25 0 0 0-.25-.25Z"></path>
</svg>
</template>

<template id="plus-circle-icon">
  <svg aria-hidden="true" height="16" viewBox="0 0 16 16" version="1.1" width="16" data-view-component="true" class="octicon octicon-plus-circle">
    <path d="M8 0a8 8 0 1 1 0 16A8 8 0 0 1 8 0ZM1.5 8a6.5 6.5 0 1 0 13 0 6.5 6.5 0 0 0-13 0Zm7.25-3.25v2.5h2.5a.75.75 0 0 1 0 1.5h-2.5v2.5a.75.75 0 0 1-1.5 0v-2.5h-2.5a.75.75 0 0 1 0-1.5h2.5v-2.5a.75.75 0 0 1 1.5 0Z"></path>
</svg>
</template>

<template id="circle-icon">
  <svg aria-hidden="true" height="16" viewBox="0 0 16 16" version="1.1" width="16" data-view-component="true" class="octicon octicon-dot-fill">
    <path d="M8 4a4 4 0 1 1 0 8 4 4 0 0 1 0-8Z"></path>
</svg>
</template>

<template id="trash-icon">
  <svg aria-hidden="true" height="16" viewBox="0 0 16 16" version="1.1" width="16" data-view-component="true" class="octicon octicon-trash">
    <path d="M11 1.75V3h2.25a.75.75 0 0 1 0 1.5H2.75a.75.75 0 0 1 0-1.5H5V1.75C5 .784 5.784 0 6.75 0h2.5C10.216 0 11 .784 11 1.75ZM4.496 6.675l.66 6.6a.25.25 0 0 0 .249.225h5.19a.25.25 0 0 0 .249-.225l.66-6.6a.75.75 0 0 1 1.492.149l-.66 6.6A1.748 1.748 0 0 1 10.595 15h-5.19a1.75 1.75 0 0 1-1.741-1.575l-.66-6.6a.75.75 0 1 1 1.492-.15ZM6.5 1.75V3h3V1.75a.25.25 0 0 0-.25-.25h-2.5a.25.25 0 0 0-.25.25Z"></path>
</svg>
</template>

<template id="team-icon">
  <svg aria-hidden="true" height="16" viewBox="0 0 16 16" version="1.1" width="16" data-view-component="true" class="octicon octicon-people">
    <path d="M2 5.5a3.5 3.5 0 1 1 5.898 2.549 5.508 5.508 0 0 1 3.034 4.084.75.75 0 1 1-1.482.235 4 4 0 0 0-7.9 0 .75.75 0 0 1-1.482-.236A5.507 5.507 0 0 1 3.102 8.05 3.493 3.493 0 0 1 2 5.5ZM11 4a3.001 3.001 0 0 1 2.22 5.018 5.01 5.01 0 0 1 2.56 3.012.749.749 0 0 1-.885.954.752.752 0 0 1-.549-.514 3.507 3.507 0 0 0-2.522-2.372.75.75 0 0 1-.574-.73v-.352a.75.75 0 0 1 .416-.672A1.5 1.5 0 0 0 11 5.5.75.75 0 0 1 11 4Zm-5.5-.5a2 2 0 1 0-.001 3.999A2 2 0 0 0 5.5 3.5Z"></path>
</svg>
</template>

<template id="project-icon">
  <svg aria-hidden="true" height="16" viewBox="0 0 16 16" version="1.1" width="16" data-view-component="true" class="octicon octicon-project">
    <path d="M1.75 0h12.5C15.216 0 16 .784 16 1.75v12.5A1.75 1.75 0 0 1 14.25 16H1.75A1.75 1.75 0 0 1 0 14.25V1.75C0 .784.784 0 1.75 0ZM1.5 1.75v12.5c0 .138.112.25.25.25h12.5a.25.25 0 0 0 .25-.25V1.75a.25.25 0 0 0-.25-.25H1.75a.25.25 0 0 0-.25.25ZM11.75 3a.75.75 0 0 1 .75.75v7.5a.75.75 0 0 1-1.5 0v-7.5a.75.75 0 0 1 .75-.75Zm-8.25.75a.75.75 0 0 1 1.5 0v5.5a.75.75 0 0 1-1.5 0ZM8 3a.75.75 0 0 1 .75.75v3.5a.75.75 0 0 1-1.5 0v-3.5A.75.75 0 0 1 8 3Z"></path>
</svg>
</template>

<template id="pencil-icon">
  <svg aria-hidden="true" height="16" viewBox="0 0 16 16" version="1.1" width="16" data-view-component="true" class="octicon octicon-pencil">
    <path d="M11.013 1.427a1.75 1.75 0 0 1 2.474 0l1.086 1.086a1.75 1.75 0 0 1 0 2.474l-8.61 8.61c-.21.21-.47.364-.756.445l-3.251.93a.75.75 0 0 1-.927-.928l.929-3.25c.081-.286.235-.547.445-.758l8.61-8.61Zm.176 4.823L9.75 4.81l-6.286 6.287a.253.253 0 0 0-.064.108l-.558 1.953 1.953-.558a.253.253 0 0 0 .108-.064Zm1.238-3.763a.25.25 0 0 0-.354 0L10.811 3.75l1.439 1.44 1.263-1.263a.25.25 0 0 0 0-.354Z"></path>
</svg>
</template>

<template id="copilot-icon">
  <svg aria-hidden="true" height="16" viewBox="0 0 16 16" version="1.1" width="16" data-view-component="true" class="octicon octicon-copilot">
    <path d="M7.998 15.035c-4.562 0-7.873-2.914-7.998-3.749V9.338c.085-.628.677-1.686 1.588-2.065.013-.07.024-.143.036-.218.029-.183.06-.384.126-.612-.201-.508-.254-1.084-.254-1.656 0-.87.128-1.769.693-2.484.579-.733 1.494-1.124 2.724-1.261 1.206-.134 2.262.034 2.944.765.05.053.096.108.139.165.044-.057.094-.112.143-.165.682-.731 1.738-.899 2.944-.765 1.23.137 2.145.528 2.724 1.261.566.715.693 1.614.693 2.484 0 .572-.053 1.148-.254 1.656.066.228.098.429.126.612.012.076.024.148.037.218.924.385 1.522 1.471 1.591 2.095v1.872c0 .766-3.351 3.795-8.002 3.795Zm0-1.485c2.28 0 4.584-1.11 5.002-1.433V7.862l-.023-.116c-.49.21-1.075.291-1.727.291-1.146 0-2.059-.327-2.71-.991A3.222 3.222 0 0 1 8 6.303a3.24 3.24 0 0 1-.544.743c-.65.664-1.563.991-2.71.991-.652 0-1.236-.081-1.727-.291l-.023.116v4.255c.419.323 2.722 1.433 5.002 1.433ZM6.762 2.83c-.193-.206-.637-.413-1.682-.297-1.019.113-1.479.404-1.713.7-.247.312-.369.789-.369 1.554 0 .793.129 1.171.308 1.371.162.181.519.379 1.442.379.853 0 1.339-.235 1.638-.54.315-.322.527-.827.617-1.553.117-.935-.037-1.395-.241-1.614Zm4.155-.297c-1.044-.116-1.488.091-1.681.297-.204.219-.359.679-.242 1.614.091.726.303 1.231.618 1.553.299.305.784.54 1.638.54.922 0 1.28-.198 1.442-.379.179-.2.308-.578.308-1.371 0-.765-.123-1.242-.37-1.554-.233-.296-.693-.587-1.713-.7Z"></path><path d="M6.25 9.037a.75.75 0 0 1 .75.75v1.501a.75.75 0 0 1-1.5 0V9.787a.75.75 0 0 1 .75-.75Zm4.25.75v1.501a.75.75 0 0 1-1.5 0V9.787a.75.75 0 0 1 1.5 0Z"></path>
</svg>
</template>

<template id="copilot-error-icon">
  <svg aria-hidden="true" height="16" viewBox="0 0 16 16" version="1.1" width="16" data-view-component="true" class="octicon octicon-copilot-error">
    <path d="M16 11.24c0 .112-.072.274-.21.467L13 9.688V7.862l-.023-.116c-.49.21-1.075.291-1.727.291-.198 0-.388-.009-.571-.029L6.833 5.226a4.01 4.01 0 0 0 .17-.782c.117-.935-.037-1.395-.241-1.614-.193-.206-.637-.413-1.682-.297-.683.076-1.115.231-1.395.415l-1.257-.91c.579-.564 1.413-.877 2.485-.996 1.206-.134 2.262.034 2.944.765.05.053.096.108.139.165.044-.057.094-.112.143-.165.682-.731 1.738-.899 2.944-.765 1.23.137 2.145.528 2.724 1.261.566.715.693 1.614.693 2.484 0 .572-.053 1.148-.254 1.656.066.228.098.429.126.612.012.076.024.148.037.218.924.385 1.522 1.471 1.591 2.095Zm-5.083-8.707c-1.044-.116-1.488.091-1.681.297-.204.219-.359.679-.242 1.614.091.726.303 1.231.618 1.553.299.305.784.54 1.638.54.922 0 1.28-.198 1.442-.379.179-.2.308-.578.308-1.371 0-.765-.123-1.242-.37-1.554-.233-.296-.693-.587-1.713-.7Zm2.511 11.074c-1.393.776-3.272 1.428-5.43 1.428-4.562 0-7.873-2.914-7.998-3.749V9.338c.085-.628.677-1.686 1.588-2.065.013-.07.024-.143.036-.218.029-.183.06-.384.126-.612-.18-.455-.241-.963-.252-1.475L.31 4.107A.747.747 0 0 1 0 3.509V3.49a.748.748 0 0 1 .625-.73c.156-.026.306.047.435.139l14.667 10.578a.592.592 0 0 1 .227.264.752.752 0 0 1 .046.249v.022a.75.75 0 0 1-1.19.596Zm-1.367-.991L5.635 7.964a5.128 5.128 0 0 1-.889.073c-.652 0-1.236-.081-1.727-.291l-.023.116v4.255c.419.323 2.722 1.433 5.002 1.433 1.539 0 3.089-.505 4.063-.934Z"></path>
</svg>
</template>

<template id="workflow-icon">
  <svg aria-hidden="true" height="16" viewBox="0 0 16 16" version="1.1" width="16" data-view-component="true" class="octicon octicon-workflow">
    <path d="M0 1.75C0 .784.784 0 1.75 0h3.5C6.216 0 7 .784 7 1.75v3.5A1.75 1.75 0 0 1 5.25 7H4v4a1 1 0 0 0 1 1h4v-1.25C9 9.784 9.784 9 10.75 9h3.5c.966 0 1.75.784 1.75 1.75v3.5A1.75 1.75 0 0 1 14.25 16h-3.5A1.75 1.75 0 0 1 9 14.25v-.75H5A2.5 2.5 0 0 1 2.5 11V7h-.75A1.75 1.75 0 0 1 0 5.25Zm1.75-.25a.25.25 0 0 0-.25.25v3.5c0 .138.112.25.25.25h3.5a.25.25 0 0 0 .25-.25v-3.5a.25.25 0 0 0-.25-.25Zm9 9a.25.25 0 0 0-.25.25v3.5c0 .138.112.25.25.25h3.5a.25.25 0 0 0 .25-.25v-3.5a.25.25 0 0 0-.25-.25Z"></path>
</svg>
</template>

<template id="book-icon">
  <svg aria-hidden="true" height="16" viewBox="0 0 16 16" version="1.1" width="16" data-view-component="true" class="octicon octicon-book">
    <path d="M0 1.75A.75.75 0 0 1 .75 1h4.253c1.227 0 2.317.59 3 1.501A3.743 3.743 0 0 1 11.006 1h4.245a.75.75 0 0 1 .75.75v10.5a.75.75 0 0 1-.75.75h-4.507a2.25 2.25 0 0 0-1.591.659l-.622.621a.75.75 0 0 1-1.06 0l-.622-.621A2.25 2.25 0 0 0 5.258 13H.75a.75.75 0 0 1-.75-.75Zm7.251 10.324.004-5.073-.002-2.253A2.25 2.25 0 0 0 5.003 2.5H1.5v9h3.757a3.75 3.75 0 0 1 1.994.574ZM8.755 4.75l-.004 7.322a3.752 3.752 0 0 1 1.992-.572H14.5v-9h-3.495a2.25 2.25 0 0 0-2.25 2.25Z"></path>
</svg>
</template>

<template id="code-review-icon">
  <svg aria-hidden="true" height="16" viewBox="0 0 16 16" version="1.1" width="16" data-view-component="true" class="octicon octicon-code-review">
    <path d="M1.75 1h12.5c.966 0 1.75.784 1.75 1.75v8.5A1.75 1.75 0 0 1 14.25 13H8.061l-2.574 2.573A1.458 1.458 0 0 1 3 14.543V13H1.75A1.75 1.75 0 0 1 0 11.25v-8.5C0 1.784.784 1 1.75 1ZM1.5 2.75v8.5c0 .138.112.25.25.25h2a.75.75 0 0 1 .75.75v2.19l2.72-2.72a.749.749 0 0 1 .53-.22h6.5a.25.25 0 0 0 .25-.25v-8.5a.25.25 0 0 0-.25-.25H1.75a.25.25 0 0 0-.25.25Zm5.28 1.72a.75.75 0 0 1 0 1.06L5.31 7l1.47 1.47a.751.751 0 0 1-.018 1.042.751.751 0 0 1-1.042.018l-2-2a.75.75 0 0 1 0-1.06l2-2a.75.75 0 0 1 1.06 0Zm2.44 0a.75.75 0 0 1 1.06 0l2 2a.75.75 0 0 1 0 1.06l-2 2a.751.751 0 0 1-1.042-.018.751.751 0 0 1-.018-1.042L10.69 7 9.22 5.53a.75.75 0 0 1 0-1.06Z"></path>
</svg>
</template>

<template id="codespaces-icon">
  <svg aria-hidden="true" height="16" viewBox="0 0 16 16" version="1.1" width="16" data-view-component="true" class="octicon octicon-codespaces">
    <path d="M0 11.25c0-.966.784-1.75 1.75-1.75h12.5c.966 0 1.75.784 1.75 1.75v3A1.75 1.75 0 0 1 14.25 16H1.75A1.75 1.75 0 0 1 0 14.25Zm2-9.5C2 .784 2.784 0 3.75 0h8.5C13.216 0 14 .784 14 1.75v5a1.75 1.75 0 0 1-1.75 1.75h-8.5A1.75 1.75 0 0 1 2 6.75Zm1.75-.25a.25.25 0 0 0-.25.25v5c0 .138.112.25.25.25h8.5a.25.25 0 0 0 .25-.25v-5a.25.25 0 0 0-.25-.25Zm-2 9.5a.25.25 0 0 0-.25.25v3c0 .138.112.25.25.25h12.5a.25.25 0 0 0 .25-.25v-3a.25.25 0 0 0-.25-.25Z"></path><path d="M7 12.75a.75.75 0 0 1 .75-.75h4.5a.75.75 0 0 1 0 1.5h-4.5a.75.75 0 0 1-.75-.75Zm-4 0a.75.75 0 0 1 .75-.75h.5a.75.75 0 0 1 0 1.5h-.5a.75.75 0 0 1-.75-.75Z"></path>
</svg>
</template>

<template id="comment-icon">
  <svg aria-hidden="true" height="16" viewBox="0 0 16 16" version="1.1" width="16" data-view-component="true" class="octicon octicon-comment">
    <path d="M1 2.75C1 1.784 1.784 1 2.75 1h10.5c.966 0 1.75.784 1.75 1.75v7.5A1.75 1.75 0 0 1 13.25 12H9.06l-2.573 2.573A1.458 1.458 0 0 1 4 13.543V12H2.75A1.75 1.75 0 0 1 1 10.25Zm1.75-.25a.25.25 0 0 0-.25.25v7.5c0 .138.112.25.25.25h2a.75.75 0 0 1 .75.75v2.19l2.72-2.72a.749.749 0 0 1 .53-.22h4.5a.25.25 0 0 0 .25-.25v-7.5a.25.25 0 0 0-.25-.25Z"></path>
</svg>
</template>

<template id="comment-discussion-icon">
  <svg aria-hidden="true" height="16" viewBox="0 0 16 16" version="1.1" width="16" data-view-component="true" class="octicon octicon-comment-discussion">
    <path d="M1.75 1h8.5c.966 0 1.75.784 1.75 1.75v5.5A1.75 1.75 0 0 1 10.25 10H7.061l-2.574 2.573A1.458 1.458 0 0 1 2 11.543V10h-.25A1.75 1.75 0 0 1 0 8.25v-5.5C0 1.784.784 1 1.75 1ZM1.5 2.75v5.5c0 .138.112.25.25.25h1a.75.75 0 0 1 .75.75v2.19l2.72-2.72a.749.749 0 0 1 .53-.22h3.5a.25.25 0 0 0 .25-.25v-5.5a.25.25 0 0 0-.25-.25h-8.5a.25.25 0 0 0-.25.25Zm13 2a.25.25 0 0 0-.25-.25h-.5a.75.75 0 0 1 0-1.5h.5c.966 0 1.75.784 1.75 1.75v5.5A1.75 1.75 0 0 1 14.25 12H14v1.543a1.458 1.458 0 0 1-2.487 1.03L9.22 12.28a.749.749 0 0 1 .326-1.275.749.749 0 0 1 .734.215l2.22 2.22v-2.19a.75.75 0 0 1 .75-.75h1a.25.25 0 0 0 .25-.25Z"></path>
</svg>
</template>

<template id="organization-icon">
  <svg aria-hidden="true" height="16" viewBox="0 0 16 16" version="1.1" width="16" data-view-component="true" class="octicon octicon-organization">
    <path d="M1.75 16A1.75 1.75 0 0 1 0 14.25V1.75C0 .784.784 0 1.75 0h8.5C11.216 0 12 .784 12 1.75v12.5c0 .085-.006.168-.018.25h2.268a.25.25 0 0 0 .25-.25V8.285a.25.25 0 0 0-.111-.208l-1.055-.703a.749.749 0 1 1 .832-1.248l1.055.703c.487.325.779.871.779 1.456v5.965A1.75 1.75 0 0 1 14.25 16h-3.5a.766.766 0 0 1-.197-.026c-.099.017-.2.026-.303.026h-3a.75.75 0 0 1-.75-.75V14h-1v1.25a.75.75 0 0 1-.75.75Zm-.25-1.75c0 .138.112.25.25.25H4v-1.25a.75.75 0 0 1 .75-.75h2.5a.75.75 0 0 1 .75.75v1.25h2.25a.25.25 0 0 0 .25-.25V1.75a.25.25 0 0 0-.25-.25h-8.5a.25.25 0 0 0-.25.25ZM3.75 6h.5a.75.75 0 0 1 0 1.5h-.5a.75.75 0 0 1 0-1.5ZM3 3.75A.75.75 0 0 1 3.75 3h.5a.75.75 0 0 1 0 1.5h-.5A.75.75 0 0 1 3 3.75Zm4 3A.75.75 0 0 1 7.75 6h.5a.75.75 0 0 1 0 1.5h-.5A.75.75 0 0 1 7 6.75ZM7.75 3h.5a.75.75 0 0 1 0 1.5h-.5a.75.75 0 0 1 0-1.5ZM3 9.75A.75.75 0 0 1 3.75 9h.5a.75.75 0 0 1 0 1.5h-.5A.75.75 0 0 1 3 9.75ZM7.75 9h.5a.75.75 0 0 1 0 1.5h-.5a.75.75 0 0 1 0-1.5Z"></path>
</svg>
</template>

<template id="rocket-icon">
  <svg aria-hidden="true" height="16" viewBox="0 0 16 16" version="1.1" width="16" data-view-component="true" class="octicon octicon-rocket">
    <path d="M14.064 0h.186C15.216 0 16 .784 16 1.75v.186a8.752 8.752 0 0 1-2.564 6.186l-.458.459c-.314.314-.641.616-.979.904v3.207c0 .608-.315 1.172-.833 1.49l-2.774 1.707a.749.749 0 0 1-1.11-.418l-.954-3.102a1.214 1.214 0 0 1-.145-.125L3.754 9.816a1.218 1.218 0 0 1-.124-.145L.528 8.717a.749.749 0 0 1-.418-1.11l1.71-2.774A1.748 1.748 0 0 1 3.31 4h3.204c.288-.338.59-.665.904-.979l.459-.458A8.749 8.749 0 0 1 14.064 0ZM8.938 3.623h-.002l-.458.458c-.76.76-1.437 1.598-2.02 2.5l-1.5 2.317 2.143 2.143 2.317-1.5c.902-.583 1.74-1.26 2.499-2.02l.459-.458a7.25 7.25 0 0 0 2.123-5.127V1.75a.25.25 0 0 0-.25-.25h-.186a7.249 7.249 0 0 0-5.125 2.123ZM3.56 14.56c-.732.732-2.334 1.045-3.005 1.148a.234.234 0 0 1-.201-.064.234.234 0 0 1-.064-.201c.103-.671.416-2.273 1.15-3.003a1.502 1.502 0 1 1 2.12 2.12Zm6.94-3.935c-.088.06-.177.118-.266.175l-2.35 1.521.548 1.783 1.949-1.2a.25.25 0 0 0 .119-.213ZM3.678 8.116 5.2 5.766c.058-.09.117-.178.176-.266H3.309a.25.25 0 0 0-.213.119l-1.2 1.95ZM12 5a1 1 0 1 1-2 0 1 1 0 0 1 2 0Z"></path>
</svg>
</template>

<template id="shield-check-icon">
  <svg aria-hidden="true" height="16" viewBox="0 0 16 16" version="1.1" width="16" data-view-component="true" class="octicon octicon-shield-check">
    <path d="m8.533.133 5.25 1.68A1.75 1.75 0 0 1 15 3.48V7c0 1.566-.32 3.182-1.303 4.682-.983 1.498-2.585 2.813-5.032 3.855a1.697 1.697 0 0 1-1.33 0c-2.447-1.042-4.049-2.357-5.032-3.855C1.32 10.182 1 8.566 1 7V3.48a1.75 1.75 0 0 1 1.217-1.667l5.25-1.68a1.748 1.748 0 0 1 1.066 0Zm-.61 1.429.001.001-5.25 1.68a.251.251 0 0 0-.174.237V7c0 1.36.275 2.666 1.057 3.859.784 1.194 2.121 2.342 4.366 3.298a.196.196 0 0 0 .154 0c2.245-.957 3.582-2.103 4.366-3.297C13.225 9.666 13.5 8.358 13.5 7V3.48a.25.25 0 0 0-.174-.238l-5.25-1.68a.25.25 0 0 0-.153 0ZM11.28 6.28l-3.5 3.5a.75.75 0 0 1-1.06 0l-1.5-1.5a.749.749 0 0 1 .326-1.275.749.749 0 0 1 .734.215l.97.97 2.97-2.97a.751.751 0 0 1 1.042.018.751.751 0 0 1 .018 1.042Z"></path>
</svg>
</template>

<template id="heart-icon">
  <svg aria-hidden="true" height="16" viewBox="0 0 16 16" version="1.1" width="16" data-view-component="true" class="octicon octicon-heart">
    <path d="m8 14.25.345.666a.75.75 0 0 1-.69 0l-.008-.004-.018-.01a7.152 7.152 0 0 1-.31-.17 22.055 22.055 0 0 1-3.434-2.414C2.045 10.731 0 8.35 0 5.5 0 2.836 2.086 1 4.25 1 5.797 1 7.153 1.802 8 3.02 8.847 1.802 10.203 1 11.75 1 13.914 1 16 2.836 16 5.5c0 2.85-2.045 5.231-3.885 6.818a22.066 22.066 0 0 1-3.744 2.584l-.018.01-.006.003h-.002ZM4.25 2.5c-1.336 0-2.75 1.164-2.75 3 0 2.15 1.58 4.144 3.365 5.682A20.58 20.58 0 0 0 8 13.393a20.58 20.58 0 0 0 3.135-2.211C12.92 9.644 14.5 7.65 14.5 5.5c0-1.836-1.414-3-2.75-3-1.373 0-2.609.986-3.029 2.456a.749.749 0 0 1-1.442 0C6.859 3.486 5.623 2.5 4.25 2.5Z"></path>
</svg>
</template>

<template id="server-icon">
  <svg aria-hidden="true" height="16" viewBox="0 0 16 16" version="1.1" width="16" data-view-component="true" class="octicon octicon-server">
    <path d="M1.75 1h12.5c.966 0 1.75.784 1.75 1.75v4c0 .372-.116.717-.314 1 .198.283.314.628.314 1v4a1.75 1.75 0 0 1-1.75 1.75H1.75A1.75 1.75 0 0 1 0 12.75v-4c0-.358.109-.707.314-1a1.739 1.739 0 0 1-.314-1v-4C0 1.784.784 1 1.75 1ZM1.5 2.75v4c0 .138.112.25.25.25h12.5a.25.25 0 0 0 .25-.25v-4a.25.25 0 0 0-.25-.25H1.75a.25.25 0 0 0-.25.25Zm.25 5.75a.25.25 0 0 0-.25.25v4c0 .138.112.25.25.25h12.5a.25.25 0 0 0 .25-.25v-4a.25.25 0 0 0-.25-.25ZM7 4.75A.75.75 0 0 1 7.75 4h4.5a.75.75 0 0 1 0 1.5h-4.5A.75.75 0 0 1 7 4.75ZM7.75 10h4.5a.75.75 0 0 1 0 1.5h-4.5a.75.75 0 0 1 0-1.5ZM3 4.75A.75.75 0 0 1 3.75 4h.5a.75.75 0 0 1 0 1.5h-.5A.75.75 0 0 1 3 4.75ZM3.75 10h.5a.75.75 0 0 1 0 1.5h-.5a.75.75 0 0 1 0-1.5Z"></path>
</svg>
</template>

<template id="globe-icon">
  <svg aria-hidden="true" height="16" viewBox="0 0 16 16" version="1.1" width="16" data-view-component="true" class="octicon octicon-globe">
    <path d="M8 0a8 8 0 1 1 0 16A8 8 0 0 1 8 0ZM5.78 8.75a9.64 9.64 0 0 0 1.363 4.177c.255.426.542.832.857 1.215.245-.296.551-.705.857-1.215A9.64 9.64 0 0 0 10.22 8.75Zm4.44-1.5a9.64 9.64 0 0 0-1.363-4.177c-.307-.51-.612-.919-.857-1.215a9.927 9.927 0 0 0-.857 1.215A9.64 9.64 0 0 0 5.78 7.25Zm-5.944 1.5H1.543a6.507 6.507 0 0 0 4.666 5.5c-.123-.181-.24-.365-.352-.552-.715-1.192-1.437-2.874-1.581-4.948Zm-2.733-1.5h2.733c.144-2.074.866-3.756 1.58-4.948.12-.197.237-.381.353-.552a6.507 6.507 0 0 0-4.666 5.5Zm10.181 1.5c-.144 2.074-.866 3.756-1.58 4.948-.12.197-.237.381-.353.552a6.507 6.507 0 0 0 4.666-5.5Zm2.733-1.5a6.507 6.507 0 0 0-4.666-5.5c.123.181.24.365.353.552.714 1.192 1.436 2.874 1.58 4.948Z"></path>
</svg>
</template>

<template id="issue-opened-icon">
  <svg aria-hidden="true" height="16" viewBox="0 0 16 16" version="1.1" width="16" data-view-component="true" class="octicon octicon-issue-opened">
    <path d="M8 9.5a1.5 1.5 0 1 0 0-3 1.5 1.5 0 0 0 0 3Z"></path><path d="M8 0a8 8 0 1 1 0 16A8 8 0 0 1 8 0ZM1.5 8a6.5 6.5 0 1 0 13 0 6.5 6.5 0 0 0-13 0Z"></path>
</svg>
</template>

<template id="device-mobile-icon">
  <svg aria-hidden="true" height="16" viewBox="0 0 16 16" version="1.1" width="16" data-view-component="true" class="octicon octicon-device-mobile">
    <path d="M3.75 0h8.5C13.216 0 14 .784 14 1.75v12.5A1.75 1.75 0 0 1 12.25 16h-8.5A1.75 1.75 0 0 1 2 14.25V1.75C2 .784 2.784 0 3.75 0ZM3.5 1.75v12.5c0 .138.112.25.25.25h8.5a.25.25 0 0 0 .25-.25V1.75a.25.25 0 0 0-.25-.25h-8.5a.25.25 0 0 0-.25.25ZM8 13a1 1 0 1 1 0-2 1 1 0 0 1 0 2Z"></path>
</svg>
</template>

<template id="package-icon">
  <svg aria-hidden="true" height="16" viewBox="0 0 16 16" version="1.1" width="16" data-view-component="true" class="octicon octicon-package">
    <path d="m8.878.392 5.25 3.045c.54.314.872.89.872 1.514v6.098a1.75 1.75 0 0 1-.872 1.514l-5.25 3.045a1.75 1.75 0 0 1-1.756 0l-5.25-3.045A1.75 1.75 0 0 1 1 11.049V4.951c0-.624.332-1.201.872-1.514L7.122.392a1.75 1.75 0 0 1 1.756 0ZM7.875 1.69l-4.63 2.685L8 7.133l4.755-2.758-4.63-2.685a.248.248 0 0 0-.25 0ZM2.5 5.677v5.372c0 .09.047.171.125.216l4.625 2.683V8.432Zm6.25 8.271 4.625-2.683a.25.25 0 0 0 .125-.216V5.677L8.75 8.432Z"></path>
</svg>
</template>

<template id="credit-card-icon">
  <svg aria-hidden="true" height="16" viewBox="0 0 16 16" version="1.1" width="16" data-view-component="true" class="octicon octicon-credit-card">
    <path d="M10.75 9a.75.75 0 0 0 0 1.5h1.5a.75.75 0 0 0 0-1.5h-1.5Z"></path><path d="M0 3.75C0 2.784.784 2 1.75 2h12.5c.966 0 1.75.784 1.75 1.75v8.5A1.75 1.75 0 0 1 14.25 14H1.75A1.75 1.75 0 0 1 0 12.25ZM14.5 6.5h-13v5.75c0 .138.112.25.25.25h12.5a.25.25 0 0 0 .25-.25Zm0-2.75a.25.25 0 0 0-.25-.25H1.75a.25.25 0 0 0-.25.25V5h13Z"></path>
</svg>
</template>

<template id="play-icon">
  <svg aria-hidden="true" height="16" viewBox="0 0 16 16" version="1.1" width="16" data-view-component="true" class="octicon octicon-play">
    <path d="M8 0a8 8 0 1 1 0 16A8 8 0 0 1 8 0ZM1.5 8a6.5 6.5 0 1 0 13 0 6.5 6.5 0 0 0-13 0Zm4.879-2.773 4.264 2.559a.25.25 0 0 1 0 .428l-4.264 2.559A.25.25 0 0 1 6 10.559V5.442a.25.25 0 0 1 .379-.215Z"></path>
</svg>
</template>

<template id="gift-icon">
  <svg aria-hidden="true" height="16" viewBox="0 0 16 16" version="1.1" width="16" data-view-component="true" class="octicon octicon-gift">
    <path d="M2 2.75A2.75 2.75 0 0 1 4.75 0c.983 0 1.873.42 2.57 1.232.268.318.497.668.68 1.042.183-.375.411-.725.68-1.044C9.376.42 10.266 0 11.25 0a2.75 2.75 0 0 1 2.45 4h.55c.966 0 1.75.784 1.75 1.75v2c0 .698-.409 1.301-1 1.582v4.918A1.75 1.75 0 0 1 13.25 16H2.75A1.75 1.75 0 0 1 1 14.25V9.332C.409 9.05 0 8.448 0 7.75v-2C0 4.784.784 4 1.75 4h.55c-.192-.375-.3-.8-.3-1.25ZM7.25 9.5H2.5v4.75c0 .138.112.25.25.25h4.5Zm1.5 0v5h4.5a.25.25 0 0 0 .25-.25V9.5Zm0-4V8h5.5a.25.25 0 0 0 .25-.25v-2a.25.25 0 0 0-.25-.25Zm-7 0a.25.25 0 0 0-.25.25v2c0 .138.112.25.25.25h5.5V5.5h-5.5Zm3-4a1.25 1.25 0 0 0 0 2.5h2.309c-.233-.818-.542-1.401-.878-1.793-.43-.502-.915-.707-1.431-.707ZM8.941 4h2.309a1.25 1.25 0 0 0 0-2.5c-.516 0-1 .205-1.43.707-.337.392-.646.975-.879 1.793Z"></path>
</svg>
</template>

<template id="code-square-icon">
  <svg aria-hidden="true" height="16" viewBox="0 0 16 16" version="1.1" width="16" data-view-component="true" class="octicon octicon-code-square">
    <path d="M0 1.75C0 .784.784 0 1.75 0h12.5C15.216 0 16 .784 16 1.75v12.5A1.75 1.75 0 0 1 14.25 16H1.75A1.75 1.75 0 0 1 0 14.25Zm1.75-.25a.25.25 0 0 0-.25.25v12.5c0 .138.112.25.25.25h12.5a.25.25 0 0 0 .25-.25V1.75a.25.25 0 0 0-.25-.25Zm7.47 3.97a.75.75 0 0 1 1.06 0l2 2a.75.75 0 0 1 0 1.06l-2 2a.749.749 0 0 1-1.275-.326.749.749 0 0 1 .215-.734L10.69 8 9.22 6.53a.75.75 0 0 1 0-1.06ZM6.78 6.53 5.31 8l1.47 1.47a.749.749 0 0 1-.326 1.275.749.749 0 0 1-.734-.215l-2-2a.75.75 0 0 1 0-1.06l2-2a.751.751 0 0 1 1.042.018.751.751 0 0 1 .018 1.042Z"></path>
</svg>
</template>

<template id="device-desktop-icon">
  <svg aria-hidden="true" height="16" viewBox="0 0 16 16" version="1.1" width="16" data-view-component="true" class="octicon octicon-device-desktop">
    <path d="M14.25 1c.966 0 1.75.784 1.75 1.75v7.5A1.75 1.75 0 0 1 14.25 12h-3.727c.099 1.041.52 1.872 1.292 2.757A.752.752 0 0 1 11.25 16h-6.5a.75.75 0 0 1-.565-1.243c.772-.885 1.192-1.716 1.292-2.757H1.75A1.75 1.75 0 0 1 0 10.25v-7.5C0 1.784.784 1 1.75 1ZM1.75 2.5a.25.25 0 0 0-.25.25v7.5c0 .138.112.25.25.25h12.5a.25.25 0 0 0 .25-.25v-7.5a.25.25 0 0 0-.25-.25ZM9.018 12H6.982a5.72 5.72 0 0 1-.765 2.5h3.566a5.72 5.72 0 0 1-.765-2.5Z"></path>
</svg>
</template>

        <div class="position-relative">
                <ul
                  role="listbox"
                  class="ActionListWrap QueryBuilder-ListWrap"
                  aria-label="Suggestions"
                  data-action="
                    combobox-commit:query-builder#comboboxCommit
                    mousedown:query-builder#resultsMousedown
                  "
                  data-target="query-builder.resultsList"
                  data-persist-list=false
                  id="query-builder-test-results"
                ></ul>
        </div>
      <div class="FormControl-inlineValidation" id="validation-af2b8cac-09e5-4137-8574-0c43e6971878" hidden="hidden">
        <span class="FormControl-inlineValidation--visual">
          <svg aria-hidden="true" height="12" viewBox="0 0 12 12" version="1.1" width="12" data-view-component="true" class="octicon octicon-alert-fill">
    <path d="M4.855.708c.5-.896 1.79-.896 2.29 0l4.675 8.351a1.312 1.312 0 0 1-1.146 1.954H1.33A1.313 1.313 0 0 1 .183 9.058ZM7 7V3H5v4Zm-1 3a1 1 0 1 0 0-2 1 1 0 0 0 0 2Z"></path>
</svg>
        </span>
        <span></span>
</div>    </div>
    <div data-target="query-builder.screenReaderFeedback" aria-live="polite" aria-atomic="true" class="sr-only"></div>
</query-builder></form>
          <div class="d-flex flex-row color-fg-muted px-3 text-small color-bg-default search-feedback-prompt">
            <a target="_blank" href="https://docs.github.com/search-github/github-code-search/understanding-github-code-search-syntax" data-view-component="true" class="Link color-fg-accent text-normal ml-2">
              Search syntax tips
</a>            <div class="d-flex flex-1"></div>
              <button data-action="click:qbsearch-input#showFeedbackDialog" type="button" data-view-component="true" class="Button--link Button--medium Button color-fg-accent text-normal ml-2">  <span class="Button-content">
    <span class="Button-label">Give feedback</span>
  </span>
</button>
          </div>
        </div>
</div>

    </div>
</modal-dialog></div>
  </div>
  <div data-action="click:qbsearch-input#retract" class="dark-backdrop position-fixed" hidden data-target="qbsearch-input.darkBackdrop"></div>
  <div class="color-fg-default">
    
<dialog-helper>
  <dialog data-target="qbsearch-input.feedbackDialog" data-action="close:qbsearch-input#handleDialogClose cancel:qbsearch-input#handleDialogClose" id="feedback-dialog" aria-modal="true" aria-labelledby="feedback-dialog-title" aria-describedby="feedback-dialog-description" data-view-component="true" class="Overlay Overlay-whenNarrow Overlay--size-medium Overlay--motion-scaleFade">
    <div data-view-component="true" class="Overlay-header">
  <div class="Overlay-headerContentWrap">
    <div class="Overlay-titleWrap">
      <h1 class="Overlay-title " id="feedback-dialog-title">
        Provide feedback
      </h1>
        
    </div>
    <div class="Overlay-actionWrap">
      <button data-close-dialog-id="feedback-dialog" aria-label="Close" type="button" data-view-component="true" class="close-button Overlay-closeButton"><svg aria-hidden="true" height="16" viewBox="0 0 16 16" version="1.1" width="16" data-view-component="true" class="octicon octicon-x">
    <path d="M3.72 3.72a.75.75 0 0 1 1.06 0L8 6.94l3.22-3.22a.749.749 0 0 1 1.275.326.749.749 0 0 1-.215.734L9.06 8l3.22 3.22a.749.749 0 0 1-.326 1.275.749.749 0 0 1-.734-.215L8 9.06l-3.22 3.22a.751.751 0 0 1-1.042-.018.751.751 0 0 1-.018-1.042L6.94 8 3.72 4.78a.75.75 0 0 1 0-1.06Z"></path>
</svg></button>
    </div>
  </div>
  
</div>
      <scrollable-region data-labelled-by="feedback-dialog-title">
        <div data-view-component="true" class="Overlay-body">        <!-- '"` --><!-- </textarea></xmp> --></option></form><form id="code-search-feedback-form" data-turbo="false" action="/search/feedback" accept-charset="UTF-8" method="post"><input type="hidden" name="authenticity_token" value="s0LEt1BWBfKspU8QvT8X4wIgMXsIYbvJBW6V120ZueytmPkgGqQihqJR3GxqEAyY_q_g6ZXTXhFH3EKYkd4QUA" />
          <p>We read every piece of feedback, and take your input very seriously.</p>
          <textarea name="feedback" class="form-control width-full mb-2" style="height: 120px" id="feedback"></textarea>
          <input name="include_email" id="include_email" aria-label="Include my email address so I can be contacted" class="form-control mr-2" type="checkbox">
          <label for="include_email" style="font-weight: normal">Include my email address so I can be contacted</label>
</form></div>
      </scrollable-region>
      <div data-view-component="true" class="Overlay-footer Overlay-footer--alignEnd">          <button data-close-dialog-id="feedback-dialog" type="button" data-view-component="true" class="btn">    Cancel
</button>
          <button form="code-search-feedback-form" data-action="click:qbsearch-input#submitFeedback" type="submit" data-view-component="true" class="btn-primary btn">    Submit feedback
</button>
</div>
</dialog></dialog-helper>

    <custom-scopes data-target="qbsearch-input.customScopesManager">
    
<dialog-helper>
  <dialog data-target="custom-scopes.customScopesModalDialog" data-action="close:qbsearch-input#handleDialogClose cancel:qbsearch-input#handleDialogClose" id="custom-scopes-dialog" aria-modal="true" aria-labelledby="custom-scopes-dialog-title" aria-describedby="custom-scopes-dialog-description" data-view-component="true" class="Overlay Overlay-whenNarrow Overlay--size-medium Overlay--motion-scaleFade">
    <div data-view-component="true" class="Overlay-header Overlay-header--divided">
  <div class="Overlay-headerContentWrap">
    <div class="Overlay-titleWrap">
      <h1 class="Overlay-title " id="custom-scopes-dialog-title">
        Saved searches
      </h1>
        <h2 id="custom-scopes-dialog-description" class="Overlay-description">Use saved searches to filter your results more quickly</h2>
    </div>
    <div class="Overlay-actionWrap">
      <button data-close-dialog-id="custom-scopes-dialog" aria-label="Close" type="button" data-view-component="true" class="close-button Overlay-closeButton"><svg aria-hidden="true" height="16" viewBox="0 0 16 16" version="1.1" width="16" data-view-component="true" class="octicon octicon-x">
    <path d="M3.72 3.72a.75.75 0 0 1 1.06 0L8 6.94l3.22-3.22a.749.749 0 0 1 1.275.326.749.749 0 0 1-.215.734L9.06 8l3.22 3.22a.749.749 0 0 1-.326 1.275.749.749 0 0 1-.734-.215L8 9.06l-3.22 3.22a.751.751 0 0 1-1.042-.018.751.751 0 0 1-.018-1.042L6.94 8 3.72 4.78a.75.75 0 0 1 0-1.06Z"></path>
</svg></button>
    </div>
  </div>
  
</div>
      <scrollable-region data-labelled-by="custom-scopes-dialog-title">
        <div data-view-component="true" class="Overlay-body">        <div data-target="custom-scopes.customScopesModalDialogFlash"></div>

        <div hidden class="create-custom-scope-form" data-target="custom-scopes.createCustomScopeForm">
        <!-- '"` --><!-- </textarea></xmp> --></option></form><form id="custom-scopes-dialog-form" data-turbo="false" action="/search/custom_scopes" accept-charset="UTF-8" method="post"><input type="hidden" name="authenticity_token" value="6QGQ8zLsOBj0B_QZIYeItX1Unc4ELKxsEp6RkyeDuiYneflVbrgMPfYRq7MYRqXfPePu0b6qURly0itIAeYwXA" />
          <div data-target="custom-scopes.customScopesModalDialogFlash"></div>

          <input type="hidden" id="custom_scope_id" name="custom_scope_id" data-target="custom-scopes.customScopesIdField">

          <div class="form-group">
            <label for="custom_scope_name">Name</label>
            <auto-check src="/search/custom_scopes/check_name" required>
              <input
                type="text"
                name="custom_scope_name"
                id="custom_scope_name"
                data-target="custom-scopes.customScopesNameField"
                class="form-control"
                autocomplete="off"
                placeholder="github-ruby"
                required
                maxlength="50">
              <input type="hidden" value="TN8vlf9wtN16kkLOvlwbN2l7Tve7Xj6Y8a1EwyAY6xAib9KFeePfFVdlqKJTD0engujr2hNtXR1-gvIdUCRPsw" data-csrf="true" />
            </auto-check>
          </div>

          <div class="form-group">
            <label for="custom_scope_query">Query</label>
            <input
              type="text"
              name="custom_scope_query"
              id="custom_scope_query"
              data-target="custom-scopes.customScopesQueryField"
              class="form-control"
              autocomplete="off"
              placeholder="(repo:mona/a OR repo:mona/b) AND lang:python"
              required
              maxlength="500">
          </div>

          <p class="text-small color-fg-muted">
            To see all available qualifiers, see our <a class="Link--inTextBlock" href="https://docs.github.com/search-github/github-code-search/understanding-github-code-search-syntax">documentation</a>.
          </p>
</form>        </div>

        <div data-target="custom-scopes.manageCustomScopesForm">
          <div data-target="custom-scopes.list"></div>
        </div>

</div>
      </scrollable-region>
      <div data-view-component="true" class="Overlay-footer Overlay-footer--alignEnd Overlay-footer--divided">          <button data-action="click:custom-scopes#customScopesCancel" type="button" data-view-component="true" class="btn">    Cancel
</button>
          <button form="custom-scopes-dialog-form" data-action="click:custom-scopes#customScopesSubmit" data-target="custom-scopes.customScopesSubmitButton" type="submit" data-view-component="true" class="btn-primary btn">    Create saved search
</button>
</div>
</dialog></dialog-helper>
    </custom-scopes>
  </div>
</qbsearch-input>    <input type="hidden" value="jS8YCWlhKkW4Rg2YsD6ouzhMlZYK-p4mjFteQC9nZ2adQIlli5qlNsf0EB6C991CLfksfP4mMlXMs0b_vJGvcQ" data-csrf="true" class="js-data-jump-to-suggestions-path-csrf" />

          </div>

        <div class="AppHeader-actions position-relative">
             <react-partial-anchor>
      <button id="global-create-menu-anchor" aria-label="Create something new" data-target="react-partial-anchor.anchor" type="button" disabled="disabled" data-view-component="true" class="AppHeader-button global-create-button cursor-wait Button--secondary Button--medium Button width-auto color-fg-muted">  <span class="Button-content">
      <span class="Button-visual Button-leadingVisual">
        <svg aria-hidden="true" height="16" viewBox="0 0 16 16" version="1.1" width="16" data-view-component="true" class="octicon octicon-plus">
    <path d="M7.75 2a.75.75 0 0 1 .75.75V7h4.25a.75.75 0 0 1 0 1.5H8.5v4.25a.75.75 0 0 1-1.5 0V8.5H2.75a.75.75 0 0 1 0-1.5H7V2.75A.75.75 0 0 1 7.75 2Z"></path>
</svg>
      </span>
    <span class="Button-label"><svg aria-hidden="true" height="16" viewBox="0 0 16 16" version="1.1" width="16" data-view-component="true" class="octicon octicon-triangle-down">
    <path d="m4.427 7.427 3.396 3.396a.25.25 0 0 0 .354 0l3.396-3.396A.25.25 0 0 0 11.396 7H4.604a.25.25 0 0 0-.177.427Z"></path>
</svg></span>
  </span>
</button><tool-tip id="tooltip-0d0272be-0f67-4a05-b655-d2fe90d7e045" for="global-create-menu-anchor" popover="manual" data-direction="s" data-type="description" data-view-component="true" class="sr-only position-absolute">Create new...</tool-tip>

      <template data-target="react-partial-anchor.template">
        <script crossorigin="anonymous" defer="defer" type="application/javascript" src="https://github.githubassets.com/assets/vendors-node_modules_primer_react_lib-esm_FeatureFlags_FeatureFlags_js-node_modules_primer_re-7faff4-1dd74dc0d752.js"></script>
<script crossorigin="anonymous" defer="defer" type="application/javascript" src="https://github.githubassets.com/assets/ui_packages_react-core_register-partial_ts-ui_packages_global-create-menu_GlobalCreateMenu_tsx-332b43e84897.js"></script>
<script crossorigin="anonymous" defer="defer" type="application/javascript" src="https://github.githubassets.com/assets/global-create-menu-f5f67baa8031.js"></script>

<react-partial
  partial-name="global-create-menu"
  data-ssr="false"
>
  
  <script type="application/json" data-target="react-partial.embeddedData">{"props":{"createRepo":true,"importRepo":true,"codespaces":true,"gist":true,"createOrg":true,"createProject":false,"createProjectUrl":"/sunilbastola?tab=projects","createLegacyProject":false,"createIssue":false,"org":null,"owner":"MQ-COMP2200-COMP6200","repo":"portfolio-part-2-sunilbastola"}}</script>
  <div data-target="react-partial.reactRoot"></div>
</react-partial>

      </template>
    </react-partial-anchor>


          <a href="/issues" data-analytics-event="{&quot;category&quot;:&quot;Global navigation&quot;,&quot;action&quot;:&quot;ISSUES_HEADER&quot;,&quot;label&quot;:null}" id="icon-button-71f2d5c6-204d-483a-a051-3fff09037b9c" aria-labelledby="tooltip-bd59d37d-1f78-4dbd-b022-a6a9ae2dba75" data-view-component="true" class="Button Button--iconOnly Button--secondary Button--medium AppHeader-button color-fg-muted">  <svg aria-hidden="true" height="16" viewBox="0 0 16 16" version="1.1" width="16" data-view-component="true" class="octicon octicon-issue-opened Button-visual">
    <path d="M8 9.5a1.5 1.5 0 1 0 0-3 1.5 1.5 0 0 0 0 3Z"></path><path d="M8 0a8 8 0 1 1 0 16A8 8 0 0 1 8 0ZM1.5 8a6.5 6.5 0 1 0 13 0 6.5 6.5 0 0 0-13 0Z"></path>
</svg>
</a><tool-tip id="tooltip-bd59d37d-1f78-4dbd-b022-a6a9ae2dba75" for="icon-button-71f2d5c6-204d-483a-a051-3fff09037b9c" popover="manual" data-direction="s" data-type="label" data-view-component="true" class="sr-only position-absolute">Issues</tool-tip>

          <a href="/pulls" data-analytics-event="{&quot;category&quot;:&quot;Global navigation&quot;,&quot;action&quot;:&quot;PULL_REQUESTS_HEADER&quot;,&quot;label&quot;:null}" id="icon-button-ad9c872d-399d-4109-b83c-8d887dee5101" aria-labelledby="tooltip-60ba3ba7-b362-41ad-9ae4-3ea6b1768469" data-view-component="true" class="Button Button--iconOnly Button--secondary Button--medium AppHeader-button color-fg-muted">  <svg aria-hidden="true" height="16" viewBox="0 0 16 16" version="1.1" width="16" data-view-component="true" class="octicon octicon-git-pull-request Button-visual">
    <path d="M1.5 3.25a2.25 2.25 0 1 1 3 2.122v5.256a2.251 2.251 0 1 1-1.5 0V5.372A2.25 2.25 0 0 1 1.5 3.25Zm5.677-.177L9.573.677A.25.25 0 0 1 10 .854V2.5h1A2.5 2.5 0 0 1 13.5 5v5.628a2.251 2.251 0 1 1-1.5 0V5a1 1 0 0 0-1-1h-1v1.646a.25.25 0 0 1-.427.177L7.177 3.427a.25.25 0 0 1 0-.354ZM3.75 2.5a.75.75 0 1 0 0 1.5.75.75 0 0 0 0-1.5Zm0 9.5a.75.75 0 1 0 0 1.5.75.75 0 0 0 0-1.5Zm8.25.75a.75.75 0 1 0 1.5 0 .75.75 0 0 0-1.5 0Z"></path>
</svg>
</a><tool-tip id="tooltip-60ba3ba7-b362-41ad-9ae4-3ea6b1768469" for="icon-button-ad9c872d-399d-4109-b83c-8d887dee5101" popover="manual" data-direction="s" data-type="label" data-view-component="true" class="sr-only position-absolute">Pull requests</tool-tip>

        </div>

        <notification-indicator data-channel="eyJjIjoibm90aWZpY2F0aW9uLWNoYW5nZWQ6MTc2MzcyMzc2IiwidCI6MTcyNTc1NjM5OX0=--7d3005ff0a2fca96a39d9d1408dd4006c232d67aa06445d2b9841eeffd069ec6" data-indicator-mode="none" data-tooltip-global="You have unread notifications" data-tooltip-unavailable="Notifications are unavailable at the moment." data-tooltip-none="You have no unread notifications" data-header-redesign-enabled="true" data-fetch-indicator-src="/notifications/indicator" data-fetch-indicator-enabled="true" data-view-component="true" class="js-socket-channel">
    <a id="AppHeader-notifications-button" href="/notifications" aria-labelledby="notification-indicator-tooltip" data-hotkey="g n" data-target="notification-indicator.link" data-analytics-event="{&quot;category&quot;:&quot;Global navigation&quot;,&quot;action&quot;:&quot;NOTIFICATIONS_HEADER&quot;,&quot;label&quot;:null}" data-view-component="true" class="Button Button--iconOnly Button--secondary Button--medium AppHeader-button  color-fg-muted">  <svg aria-hidden="true" height="16" viewBox="0 0 16 16" version="1.1" width="16" data-view-component="true" class="octicon octicon-inbox Button-visual">
    <path d="M2.8 2.06A1.75 1.75 0 0 1 4.41 1h7.18c.7 0 1.333.417 1.61 1.06l2.74 6.395c.04.093.06.194.06.295v4.5A1.75 1.75 0 0 1 14.25 15H1.75A1.75 1.75 0 0 1 0 13.25v-4.5c0-.101.02-.202.06-.295Zm1.61.44a.25.25 0 0 0-.23.152L1.887 8H4.75a.75.75 0 0 1 .6.3L6.625 10h2.75l1.275-1.7a.75.75 0 0 1 .6-.3h2.863L11.82 2.652a.25.25 0 0 0-.23-.152Zm10.09 7h-2.875l-1.275 1.7a.75.75 0 0 1-.6.3h-3.5a.75.75 0 0 1-.6-.3L4.375 9.5H1.5v3.75c0 .138.112.25.25.25h12.5a.25.25 0 0 0 .25-.25Z"></path>
</svg>
</a>

    <tool-tip id="notification-indicator-tooltip" data-target="notification-indicator.tooltip" for="AppHeader-notifications-button" popover="manual" data-direction="s" data-type="label" data-view-component="true" class="sr-only position-absolute">Notifications</tool-tip>
</notification-indicator>

        

        <div class="AppHeader-user">
          <deferred-side-panel data-url="/_side-panels/user?repository_id=847957091">
  <include-fragment data-target="deferred-side-panel.fragment">
    <react-partial-anchor
  
>
  <button data-target="react-partial-anchor.anchor" data-login="sunilbastola" aria-label="Open user navigation menu" type="button" data-view-component="true" class="cursor-wait Button--invisible Button--medium Button Button--invisible-noVisuals color-bg-transparent p-0">  <span class="Button-content">
    <span class="Button-label"><img src="https://avatars.githubusercontent.com/u/176372376?v=4" alt="" size="32" height="32" width="32" data-view-component="true" class="avatar circle" /></span>
  </span>
</button>
  <template data-target="react-partial-anchor.template">
    <script crossorigin="anonymous" defer="defer" type="application/javascript" src="https://github.githubassets.com/assets/global-user-nav-drawer-a262b436b18b.js"></script>
<link crossorigin="anonymous" media="all" rel="stylesheet" href="https://github.githubassets.com/assets/global-user-nav-drawer.830d6c10c9fea7fc134e.module.css" />

<react-partial
  partial-name="global-user-nav-drawer"
  data-ssr="false"
>
  
  <script type="application/json" data-target="react-partial.embeddedData">{"props":{"owner":{"login":"sunilbastola","name":null,"avatarUrl":"https://avatars.githubusercontent.com/u/176372376?v=4"},"drawerId":"global-user-nav-drawer","lazyLoadItemDataFetchUrl":"/_side-panels/user.json","canAddAccount":true,"addAccountPath":"/login?add_account=1\u0026return_to=https%3A%2F%2Fgithub.com%2FMQ-COMP2200-COMP6200%2Fportfolio-part-2-sunilbastola%2Fblob%2Fmain%2FPortfolio-2-questions.ipynb","switchAccountPath":"/switch_account","loginAccountPath":"/login?add_account=1","projectsPath":"/sunilbastola?tab=projects","gistsUrl":"https://gist.github.com/mine","docsUrl":"https://docs.github.com","yourEnterpriseUrl":null,"enterpriseSettingsUrl":null,"supportUrl":"https://support.github.com","showAccountSwitcher":true,"showEnterprises":true,"showEnterprise":false,"showGists":true,"showSponsors":true,"showFeaturesPreviews":true,"showEnterpriseSettings":false,"createMenuProps":{"createRepo":true,"importRepo":true,"codespaces":true,"gist":true,"createOrg":true,"createProject":false,"createProjectUrl":"/sunilbastola?tab=projects","createLegacyProject":false,"createIssue":false,"org":null,"owner":"MQ-COMP2200-COMP6200","repo":"portfolio-part-2-sunilbastola"}}}</script>
  <div data-target="react-partial.reactRoot"></div>
</react-partial>

  </template>
</react-partial-anchor>

  </include-fragment>
</deferred-side-panel>
        </div>

        <div class="position-absolute mt-2">
            
<site-header-logged-in-user-menu>

</site-header-logged-in-user-menu>

        </div>
      </div>
    </div>


      <div class="AppHeader-localBar" >
        <nav data-pjax="#js-repo-pjax-container" aria-label="Repository" data-view-component="true" class="js-repo-nav js-sidenav-container-pjax js-responsive-underlinenav overflow-hidden UnderlineNav">

  <ul data-view-component="true" class="UnderlineNav-body list-style-none">
      <li data-view-component="true" class="d-inline-flex">
  <a id="code-tab" href="/MQ-COMP2200-COMP6200/portfolio-part-2-sunilbastola" data-tab-item="i0code-tab" data-selected-links="repo_source repo_downloads repo_commits repo_releases repo_tags repo_branches repo_packages repo_deployments repo_attestations /MQ-COMP2200-COMP6200/portfolio-part-2-sunilbastola" data-pjax="#repo-content-pjax-container" data-turbo-frame="repo-content-turbo-frame" data-hotkey="g c" data-analytics-event="{&quot;category&quot;:&quot;Underline navbar&quot;,&quot;action&quot;:&quot;Click tab&quot;,&quot;label&quot;:&quot;Code&quot;,&quot;target&quot;:&quot;UNDERLINE_NAV.TAB&quot;}" data-view-component="true" class="UnderlineNav-item no-wrap js-responsive-underlinenav-item js-selected-navigation-item">
    
              <svg aria-hidden="true" height="16" viewBox="0 0 16 16" version="1.1" width="16" data-view-component="true" class="octicon octicon-code UnderlineNav-octicon d-none d-sm-inline">
    <path d="m11.28 3.22 4.25 4.25a.75.75 0 0 1 0 1.06l-4.25 4.25a.749.749 0 0 1-1.275-.326.749.749 0 0 1 .215-.734L13.94 8l-3.72-3.72a.749.749 0 0 1 .326-1.275.749.749 0 0 1 .734.215Zm-6.56 0a.751.751 0 0 1 1.042.018.751.751 0 0 1 .018 1.042L2.06 8l3.72 3.72a.749.749 0 0 1-.326 1.275.749.749 0 0 1-.734-.215L.47 8.53a.75.75 0 0 1 0-1.06Z"></path>
</svg>
        <span data-content="Code">Code</span>
          <span id="code-repo-tab-count" data-pjax-replace="" data-turbo-replace="" title="Not available" data-view-component="true" class="Counter"></span>


    
</a></li>
      <li data-view-component="true" class="d-inline-flex">
  <a id="issues-tab" href="/MQ-COMP2200-COMP6200/portfolio-part-2-sunilbastola/issues" data-tab-item="i1issues-tab" data-selected-links="repo_issues repo_labels repo_milestones /MQ-COMP2200-COMP6200/portfolio-part-2-sunilbastola/issues /_view_fragments/issues/index/MQ-COMP2200-COMP6200/portfolio-part-2-sunilbastola/layout" data-pjax="#repo-content-pjax-container" data-turbo-frame="repo-content-turbo-frame" data-hotkey="g i" data-analytics-event="{&quot;category&quot;:&quot;Underline navbar&quot;,&quot;action&quot;:&quot;Click tab&quot;,&quot;label&quot;:&quot;Issues&quot;,&quot;target&quot;:&quot;UNDERLINE_NAV.TAB&quot;}" data-view-component="true" class="UnderlineNav-item no-wrap js-responsive-underlinenav-item js-selected-navigation-item">
    
              <svg aria-hidden="true" height="16" viewBox="0 0 16 16" version="1.1" width="16" data-view-component="true" class="octicon octicon-issue-opened UnderlineNav-octicon d-none d-sm-inline">
    <path d="M8 9.5a1.5 1.5 0 1 0 0-3 1.5 1.5 0 0 0 0 3Z"></path><path d="M8 0a8 8 0 1 1 0 16A8 8 0 0 1 8 0ZM1.5 8a6.5 6.5 0 1 0 13 0 6.5 6.5 0 0 0-13 0Z"></path>
</svg>
        <span data-content="Issues">Issues</span>
          <span id="issues-repo-tab-count" data-pjax-replace="" data-turbo-replace="" title="0" hidden="hidden" data-view-component="true" class="Counter">0</span>


    
</a></li>
      <li data-view-component="true" class="d-inline-flex">
  <a id="pull-requests-tab" href="/MQ-COMP2200-COMP6200/portfolio-part-2-sunilbastola/pulls" data-tab-item="i2pull-requests-tab" data-selected-links="repo_pulls checks /MQ-COMP2200-COMP6200/portfolio-part-2-sunilbastola/pulls" data-pjax="#repo-content-pjax-container" data-turbo-frame="repo-content-turbo-frame" data-hotkey="g p" data-analytics-event="{&quot;category&quot;:&quot;Underline navbar&quot;,&quot;action&quot;:&quot;Click tab&quot;,&quot;label&quot;:&quot;Pull requests&quot;,&quot;target&quot;:&quot;UNDERLINE_NAV.TAB&quot;}" data-view-component="true" class="UnderlineNav-item no-wrap js-responsive-underlinenav-item js-selected-navigation-item">
    
              <svg aria-hidden="true" height="16" viewBox="0 0 16 16" version="1.1" width="16" data-view-component="true" class="octicon octicon-git-pull-request UnderlineNav-octicon d-none d-sm-inline">
    <path d="M1.5 3.25a2.25 2.25 0 1 1 3 2.122v5.256a2.251 2.251 0 1 1-1.5 0V5.372A2.25 2.25 0 0 1 1.5 3.25Zm5.677-.177L9.573.677A.25.25 0 0 1 10 .854V2.5h1A2.5 2.5 0 0 1 13.5 5v5.628a2.251 2.251 0 1 1-1.5 0V5a1 1 0 0 0-1-1h-1v1.646a.25.25 0 0 1-.427.177L7.177 3.427a.25.25 0 0 1 0-.354ZM3.75 2.5a.75.75 0 1 0 0 1.5.75.75 0 0 0 0-1.5Zm0 9.5a.75.75 0 1 0 0 1.5.75.75 0 0 0 0-1.5Zm8.25.75a.75.75 0 1 0 1.5 0 .75.75 0 0 0-1.5 0Z"></path>
</svg>
        <span data-content="Pull requests">Pull requests</span>
          <span id="pull-requests-repo-tab-count" data-pjax-replace="" data-turbo-replace="" title="0" hidden="hidden" data-view-component="true" class="Counter">0</span>


    
</a></li>
      <li data-view-component="true" class="d-inline-flex">
  <a id="actions-tab" href="/MQ-COMP2200-COMP6200/portfolio-part-2-sunilbastola/actions" data-tab-item="i3actions-tab" data-selected-links="repo_actions /MQ-COMP2200-COMP6200/portfolio-part-2-sunilbastola/actions" data-pjax="#repo-content-pjax-container" data-turbo-frame="repo-content-turbo-frame" data-hotkey="g a" data-analytics-event="{&quot;category&quot;:&quot;Underline navbar&quot;,&quot;action&quot;:&quot;Click tab&quot;,&quot;label&quot;:&quot;Actions&quot;,&quot;target&quot;:&quot;UNDERLINE_NAV.TAB&quot;}" data-view-component="true" class="UnderlineNav-item no-wrap js-responsive-underlinenav-item js-selected-navigation-item">
    
              <svg aria-hidden="true" height="16" viewBox="0 0 16 16" version="1.1" width="16" data-view-component="true" class="octicon octicon-play UnderlineNav-octicon d-none d-sm-inline">
    <path d="M8 0a8 8 0 1 1 0 16A8 8 0 0 1 8 0ZM1.5 8a6.5 6.5 0 1 0 13 0 6.5 6.5 0 0 0-13 0Zm4.879-2.773 4.264 2.559a.25.25 0 0 1 0 .428l-4.264 2.559A.25.25 0 0 1 6 10.559V5.442a.25.25 0 0 1 .379-.215Z"></path>
</svg>
        <span data-content="Actions">Actions</span>
          <span id="actions-repo-tab-count" data-pjax-replace="" data-turbo-replace="" title="Not available" data-view-component="true" class="Counter"></span>


    
</a></li>
      <li data-view-component="true" class="d-inline-flex">
  <a id="projects-tab" href="/MQ-COMP2200-COMP6200/portfolio-part-2-sunilbastola/projects" data-tab-item="i4projects-tab" data-selected-links="repo_projects new_repo_project repo_project /MQ-COMP2200-COMP6200/portfolio-part-2-sunilbastola/projects" data-pjax="#repo-content-pjax-container" data-turbo-frame="repo-content-turbo-frame" data-hotkey="g b" data-analytics-event="{&quot;category&quot;:&quot;Underline navbar&quot;,&quot;action&quot;:&quot;Click tab&quot;,&quot;label&quot;:&quot;Projects&quot;,&quot;target&quot;:&quot;UNDERLINE_NAV.TAB&quot;}" data-view-component="true" class="UnderlineNav-item no-wrap js-responsive-underlinenav-item js-selected-navigation-item">
    
              <svg aria-hidden="true" height="16" viewBox="0 0 16 16" version="1.1" width="16" data-view-component="true" class="octicon octicon-table UnderlineNav-octicon d-none d-sm-inline">
    <path d="M0 1.75C0 .784.784 0 1.75 0h12.5C15.216 0 16 .784 16 1.75v12.5A1.75 1.75 0 0 1 14.25 16H1.75A1.75 1.75 0 0 1 0 14.25ZM6.5 6.5v8h7.75a.25.25 0 0 0 .25-.25V6.5Zm8-1.5V1.75a.25.25 0 0 0-.25-.25H6.5V5Zm-13 1.5v7.75c0 .138.112.25.25.25H5v-8ZM5 5V1.5H1.75a.25.25 0 0 0-.25.25V5Z"></path>
</svg>
        <span data-content="Projects">Projects</span>
          <span id="projects-repo-tab-count" data-pjax-replace="" data-turbo-replace="" title="0" hidden="hidden" data-view-component="true" class="Counter">0</span>


    
</a></li>
      <li data-view-component="true" class="d-inline-flex">
  <a id="security-tab" href="/MQ-COMP2200-COMP6200/portfolio-part-2-sunilbastola/security" data-tab-item="i5security-tab" data-selected-links="security overview alerts policy token_scanning code_scanning /MQ-COMP2200-COMP6200/portfolio-part-2-sunilbastola/security" data-pjax="#repo-content-pjax-container" data-turbo-frame="repo-content-turbo-frame" data-hotkey="g s" data-analytics-event="{&quot;category&quot;:&quot;Underline navbar&quot;,&quot;action&quot;:&quot;Click tab&quot;,&quot;label&quot;:&quot;Security&quot;,&quot;target&quot;:&quot;UNDERLINE_NAV.TAB&quot;}" data-view-component="true" class="UnderlineNav-item no-wrap js-responsive-underlinenav-item js-selected-navigation-item">
    
              <svg aria-hidden="true" height="16" viewBox="0 0 16 16" version="1.1" width="16" data-view-component="true" class="octicon octicon-shield UnderlineNav-octicon d-none d-sm-inline">
    <path d="M7.467.133a1.748 1.748 0 0 1 1.066 0l5.25 1.68A1.75 1.75 0 0 1 15 3.48V7c0 1.566-.32 3.182-1.303 4.682-.983 1.498-2.585 2.813-5.032 3.855a1.697 1.697 0 0 1-1.33 0c-2.447-1.042-4.049-2.357-5.032-3.855C1.32 10.182 1 8.566 1 7V3.48a1.75 1.75 0 0 1 1.217-1.667Zm.61 1.429a.25.25 0 0 0-.153 0l-5.25 1.68a.25.25 0 0 0-.174.238V7c0 1.358.275 2.666 1.057 3.86.784 1.194 2.121 2.34 4.366 3.297a.196.196 0 0 0 .154 0c2.245-.956 3.582-2.104 4.366-3.298C13.225 9.666 13.5 8.36 13.5 7V3.48a.251.251 0 0 0-.174-.237l-5.25-1.68ZM8.75 4.75v3a.75.75 0 0 1-1.5 0v-3a.75.75 0 0 1 1.5 0ZM9 10.5a1 1 0 1 1-2 0 1 1 0 0 1 2 0Z"></path>
</svg>
        <span data-content="Security">Security</span>
          <include-fragment src="/MQ-COMP2200-COMP6200/portfolio-part-2-sunilbastola/security/overall-count" accept="text/fragment+html"></include-fragment>

    
</a></li>
      <li data-view-component="true" class="d-inline-flex">
  <a id="insights-tab" href="/MQ-COMP2200-COMP6200/portfolio-part-2-sunilbastola/network/dependencies" data-tab-item="i6insights-tab" data-selected-links="repo_graphs repo_contributors dependency_graph dependabot_updates pulse people community /MQ-COMP2200-COMP6200/portfolio-part-2-sunilbastola/network/dependencies" data-pjax="#repo-content-pjax-container" data-turbo-frame="repo-content-turbo-frame" data-analytics-event="{&quot;category&quot;:&quot;Underline navbar&quot;,&quot;action&quot;:&quot;Click tab&quot;,&quot;label&quot;:&quot;Insights&quot;,&quot;target&quot;:&quot;UNDERLINE_NAV.TAB&quot;}" data-view-component="true" class="UnderlineNav-item no-wrap js-responsive-underlinenav-item js-selected-navigation-item">
    
              <svg aria-hidden="true" height="16" viewBox="0 0 16 16" version="1.1" width="16" data-view-component="true" class="octicon octicon-graph UnderlineNav-octicon d-none d-sm-inline">
    <path d="M1.5 1.75V13.5h13.75a.75.75 0 0 1 0 1.5H.75a.75.75 0 0 1-.75-.75V1.75a.75.75 0 0 1 1.5 0Zm14.28 2.53-5.25 5.25a.75.75 0 0 1-1.06 0L7 7.06 4.28 9.78a.751.751 0 0 1-1.042-.018.751.751 0 0 1-.018-1.042l3.25-3.25a.75.75 0 0 1 1.06 0L10 7.94l4.72-4.72a.751.751 0 0 1 1.042.018.751.751 0 0 1 .018 1.042Z"></path>
</svg>
        <span data-content="Insights">Insights</span>
          <span id="insights-repo-tab-count" data-pjax-replace="" data-turbo-replace="" title="Not available" data-view-component="true" class="Counter"></span>


    
</a></li>
</ul>
    <div style="visibility:hidden;" data-view-component="true" class="UnderlineNav-actions js-responsive-underlinenav-overflow position-absolute pr-3 pr-md-4 pr-lg-5 right-0">      <action-menu data-select-variant="none" data-view-component="true">
  <focus-group direction="vertical" mnemonics retain>
    <button id="action-menu-9a7fc0a7-7499-498a-af91-e6ab31608cc1-button" popovertarget="action-menu-9a7fc0a7-7499-498a-af91-e6ab31608cc1-overlay" aria-controls="action-menu-9a7fc0a7-7499-498a-af91-e6ab31608cc1-list" aria-haspopup="true" aria-labelledby="tooltip-f6a17d70-545b-4ea5-8c13-3b8d1749b7bb" type="button" data-view-component="true" class="Button Button--iconOnly Button--secondary Button--medium UnderlineNav-item">  <svg aria-hidden="true" height="16" viewBox="0 0 16 16" version="1.1" width="16" data-view-component="true" class="octicon octicon-kebab-horizontal Button-visual">
    <path d="M8 9a1.5 1.5 0 1 0 0-3 1.5 1.5 0 0 0 0 3ZM1.5 9a1.5 1.5 0 1 0 0-3 1.5 1.5 0 0 0 0 3Zm13 0a1.5 1.5 0 1 0 0-3 1.5 1.5 0 0 0 0 3Z"></path>
</svg>
</button><tool-tip id="tooltip-f6a17d70-545b-4ea5-8c13-3b8d1749b7bb" for="action-menu-9a7fc0a7-7499-498a-af91-e6ab31608cc1-button" popover="manual" data-direction="s" data-type="label" data-view-component="true" class="sr-only position-absolute">Additional navigation options</tool-tip>


<anchored-position id="action-menu-9a7fc0a7-7499-498a-af91-e6ab31608cc1-overlay" anchor="action-menu-9a7fc0a7-7499-498a-af91-e6ab31608cc1-button" align="start" side="outside-bottom" anchor-offset="normal" popover="auto" data-view-component="true">
  <div data-view-component="true" class="Overlay Overlay--size-auto">
    
      <div data-view-component="true" class="Overlay-body Overlay-body--paddingNone">          <action-list>
  <div data-view-component="true">
    <ul aria-labelledby="action-menu-9a7fc0a7-7499-498a-af91-e6ab31608cc1-button" id="action-menu-9a7fc0a7-7499-498a-af91-e6ab31608cc1-list" role="menu" data-view-component="true" class="ActionListWrap--inset ActionListWrap">
        <li hidden="hidden" data-menu-item="i0code-tab" data-targets="action-list.items" role="none" data-view-component="true" class="ActionListItem">
    
    
    <a tabindex="-1" id="item-6cb04381-c97f-4a62-b6b4-296d80e88896" href="/MQ-COMP2200-COMP6200/portfolio-part-2-sunilbastola" role="menuitem" data-view-component="true" class="ActionListContent ActionListContent--visual16">
        <span class="ActionListItem-visual ActionListItem-visual--leading">
          <svg aria-hidden="true" height="16" viewBox="0 0 16 16" version="1.1" width="16" data-view-component="true" class="octicon octicon-code">
    <path d="m11.28 3.22 4.25 4.25a.75.75 0 0 1 0 1.06l-4.25 4.25a.749.749 0 0 1-1.275-.326.749.749 0 0 1 .215-.734L13.94 8l-3.72-3.72a.749.749 0 0 1 .326-1.275.749.749 0 0 1 .734.215Zm-6.56 0a.751.751 0 0 1 1.042.018.751.751 0 0 1 .018 1.042L2.06 8l3.72 3.72a.749.749 0 0 1-.326 1.275.749.749 0 0 1-.734-.215L.47 8.53a.75.75 0 0 1 0-1.06Z"></path>
</svg>
        </span>
      
        <span data-view-component="true" class="ActionListItem-label">
          Code
</span>      
</a>
  
</li>
        <li hidden="hidden" data-menu-item="i1issues-tab" data-targets="action-list.items" role="none" data-view-component="true" class="ActionListItem">
    
    
    <a tabindex="-1" id="item-16f5549b-8bd9-4798-984d-c54364e997c4" href="/MQ-COMP2200-COMP6200/portfolio-part-2-sunilbastola/issues" role="menuitem" data-view-component="true" class="ActionListContent ActionListContent--visual16">
        <span class="ActionListItem-visual ActionListItem-visual--leading">
          <svg aria-hidden="true" height="16" viewBox="0 0 16 16" version="1.1" width="16" data-view-component="true" class="octicon octicon-issue-opened">
    <path d="M8 9.5a1.5 1.5 0 1 0 0-3 1.5 1.5 0 0 0 0 3Z"></path><path d="M8 0a8 8 0 1 1 0 16A8 8 0 0 1 8 0ZM1.5 8a6.5 6.5 0 1 0 13 0 6.5 6.5 0 0 0-13 0Z"></path>
</svg>
        </span>
      
        <span data-view-component="true" class="ActionListItem-label">
          Issues
</span>      
</a>
  
</li>
        <li hidden="hidden" data-menu-item="i2pull-requests-tab" data-targets="action-list.items" role="none" data-view-component="true" class="ActionListItem">
    
    
    <a tabindex="-1" id="item-dea3a6ee-a4aa-4e80-8e8d-508bfde48ef5" href="/MQ-COMP2200-COMP6200/portfolio-part-2-sunilbastola/pulls" role="menuitem" data-view-component="true" class="ActionListContent ActionListContent--visual16">
        <span class="ActionListItem-visual ActionListItem-visual--leading">
          <svg aria-hidden="true" height="16" viewBox="0 0 16 16" version="1.1" width="16" data-view-component="true" class="octicon octicon-git-pull-request">
    <path d="M1.5 3.25a2.25 2.25 0 1 1 3 2.122v5.256a2.251 2.251 0 1 1-1.5 0V5.372A2.25 2.25 0 0 1 1.5 3.25Zm5.677-.177L9.573.677A.25.25 0 0 1 10 .854V2.5h1A2.5 2.5 0 0 1 13.5 5v5.628a2.251 2.251 0 1 1-1.5 0V5a1 1 0 0 0-1-1h-1v1.646a.25.25 0 0 1-.427.177L7.177 3.427a.25.25 0 0 1 0-.354ZM3.75 2.5a.75.75 0 1 0 0 1.5.75.75 0 0 0 0-1.5Zm0 9.5a.75.75 0 1 0 0 1.5.75.75 0 0 0 0-1.5Zm8.25.75a.75.75 0 1 0 1.5 0 .75.75 0 0 0-1.5 0Z"></path>
</svg>
        </span>
      
        <span data-view-component="true" class="ActionListItem-label">
          Pull requests
</span>      
</a>
  
</li>
        <li hidden="hidden" data-menu-item="i3actions-tab" data-targets="action-list.items" role="none" data-view-component="true" class="ActionListItem">
    
    
    <a tabindex="-1" id="item-5459a949-8fde-46eb-b212-9fd06064cb40" href="/MQ-COMP2200-COMP6200/portfolio-part-2-sunilbastola/actions" role="menuitem" data-view-component="true" class="ActionListContent ActionListContent--visual16">
        <span class="ActionListItem-visual ActionListItem-visual--leading">
          <svg aria-hidden="true" height="16" viewBox="0 0 16 16" version="1.1" width="16" data-view-component="true" class="octicon octicon-play">
    <path d="M8 0a8 8 0 1 1 0 16A8 8 0 0 1 8 0ZM1.5 8a6.5 6.5 0 1 0 13 0 6.5 6.5 0 0 0-13 0Zm4.879-2.773 4.264 2.559a.25.25 0 0 1 0 .428l-4.264 2.559A.25.25 0 0 1 6 10.559V5.442a.25.25 0 0 1 .379-.215Z"></path>
</svg>
        </span>
      
        <span data-view-component="true" class="ActionListItem-label">
          Actions
</span>      
</a>
  
</li>
        <li hidden="hidden" data-menu-item="i4projects-tab" data-targets="action-list.items" role="none" data-view-component="true" class="ActionListItem">
    
    
    <a tabindex="-1" id="item-248a1841-038e-420e-8dfd-c5913bcdbc76" href="/MQ-COMP2200-COMP6200/portfolio-part-2-sunilbastola/projects" role="menuitem" data-view-component="true" class="ActionListContent ActionListContent--visual16">
        <span class="ActionListItem-visual ActionListItem-visual--leading">
          <svg aria-hidden="true" height="16" viewBox="0 0 16 16" version="1.1" width="16" data-view-component="true" class="octicon octicon-table">
    <path d="M0 1.75C0 .784.784 0 1.75 0h12.5C15.216 0 16 .784 16 1.75v12.5A1.75 1.75 0 0 1 14.25 16H1.75A1.75 1.75 0 0 1 0 14.25ZM6.5 6.5v8h7.75a.25.25 0 0 0 .25-.25V6.5Zm8-1.5V1.75a.25.25 0 0 0-.25-.25H6.5V5Zm-13 1.5v7.75c0 .138.112.25.25.25H5v-8ZM5 5V1.5H1.75a.25.25 0 0 0-.25.25V5Z"></path>
</svg>
        </span>
      
        <span data-view-component="true" class="ActionListItem-label">
          Projects
</span>      
</a>
  
</li>
        <li hidden="hidden" data-menu-item="i5security-tab" data-targets="action-list.items" role="none" data-view-component="true" class="ActionListItem">
    
    
    <a tabindex="-1" id="item-94d261a2-9780-4a8b-918d-fab6dc99702b" href="/MQ-COMP2200-COMP6200/portfolio-part-2-sunilbastola/security" role="menuitem" data-view-component="true" class="ActionListContent ActionListContent--visual16">
        <span class="ActionListItem-visual ActionListItem-visual--leading">
          <svg aria-hidden="true" height="16" viewBox="0 0 16 16" version="1.1" width="16" data-view-component="true" class="octicon octicon-shield">
    <path d="M7.467.133a1.748 1.748 0 0 1 1.066 0l5.25 1.68A1.75 1.75 0 0 1 15 3.48V7c0 1.566-.32 3.182-1.303 4.682-.983 1.498-2.585 2.813-5.032 3.855a1.697 1.697 0 0 1-1.33 0c-2.447-1.042-4.049-2.357-5.032-3.855C1.32 10.182 1 8.566 1 7V3.48a1.75 1.75 0 0 1 1.217-1.667Zm.61 1.429a.25.25 0 0 0-.153 0l-5.25 1.68a.25.25 0 0 0-.174.238V7c0 1.358.275 2.666 1.057 3.86.784 1.194 2.121 2.34 4.366 3.297a.196.196 0 0 0 .154 0c2.245-.956 3.582-2.104 4.366-3.298C13.225 9.666 13.5 8.36 13.5 7V3.48a.251.251 0 0 0-.174-.237l-5.25-1.68ZM8.75 4.75v3a.75.75 0 0 1-1.5 0v-3a.75.75 0 0 1 1.5 0ZM9 10.5a1 1 0 1 1-2 0 1 1 0 0 1 2 0Z"></path>
</svg>
        </span>
      
        <span data-view-component="true" class="ActionListItem-label">
          Security
</span>      
</a>
  
</li>
        <li hidden="hidden" data-menu-item="i6insights-tab" data-targets="action-list.items" role="none" data-view-component="true" class="ActionListItem">
    
    
    <a tabindex="-1" id="item-62ef0c2c-1f99-407d-ae2e-a8f48bb57640" href="/MQ-COMP2200-COMP6200/portfolio-part-2-sunilbastola/network/dependencies" role="menuitem" data-view-component="true" class="ActionListContent ActionListContent--visual16">
        <span class="ActionListItem-visual ActionListItem-visual--leading">
          <svg aria-hidden="true" height="16" viewBox="0 0 16 16" version="1.1" width="16" data-view-component="true" class="octicon octicon-graph">
    <path d="M1.5 1.75V13.5h13.75a.75.75 0 0 1 0 1.5H.75a.75.75 0 0 1-.75-.75V1.75a.75.75 0 0 1 1.5 0Zm14.28 2.53-5.25 5.25a.75.75 0 0 1-1.06 0L7 7.06 4.28 9.78a.751.751 0 0 1-1.042-.018.751.751 0 0 1-.018-1.042l3.25-3.25a.75.75 0 0 1 1.06 0L10 7.94l4.72-4.72a.751.751 0 0 1 1.042.018.751.751 0 0 1 .018 1.042Z"></path>
</svg>
        </span>
      
        <span data-view-component="true" class="ActionListItem-label">
          Insights
</span>      
</a>
  
</li>
</ul>    
</div></action-list>


</div>
      
</div></anchored-position>  </focus-group>
</action-menu></div>
</nav>
      </div>
</header>


      <div hidden="hidden" data-view-component="true" class="js-stale-session-flash stale-session-flash flash flash-warn flash-full">
  
        <svg aria-hidden="true" height="16" viewBox="0 0 16 16" version="1.1" width="16" data-view-component="true" class="octicon octicon-alert">
    <path d="M6.457 1.047c.659-1.234 2.427-1.234 3.086 0l6.082 11.378A1.75 1.75 0 0 1 14.082 15H1.918a1.75 1.75 0 0 1-1.543-2.575Zm1.763.707a.25.25 0 0 0-.44 0L1.698 13.132a.25.25 0 0 0 .22.368h12.164a.25.25 0 0 0 .22-.368Zm.53 3.996v2.5a.75.75 0 0 1-1.5 0v-2.5a.75.75 0 0 1 1.5 0ZM9 11a1 1 0 1 1-2 0 1 1 0 0 1 2 0Z"></path>
</svg>
        <span class="js-stale-session-flash-signed-in" hidden>You signed in with another tab or window. <a class="Link--inTextBlock" href="">Reload</a> to refresh your session.</span>
        <span class="js-stale-session-flash-signed-out" hidden>You signed out in another tab or window. <a class="Link--inTextBlock" href="">Reload</a> to refresh your session.</span>
        <span class="js-stale-session-flash-switched" hidden>You switched accounts on another tab or window. <a class="Link--inTextBlock" href="">Reload</a> to refresh your session.</span>

    <button id="icon-button-4cdc1473-9432-4b73-8804-e5b7e4f928f5" aria-labelledby="tooltip-751abd10-daa5-42a0-8124-75afbfaa5d57" type="button" data-view-component="true" class="Button Button--iconOnly Button--invisible Button--medium flash-close js-flash-close">  <svg aria-hidden="true" height="16" viewBox="0 0 16 16" version="1.1" width="16" data-view-component="true" class="octicon octicon-x Button-visual">
    <path d="M3.72 3.72a.75.75 0 0 1 1.06 0L8 6.94l3.22-3.22a.749.749 0 0 1 1.275.326.749.749 0 0 1-.215.734L9.06 8l3.22 3.22a.749.749 0 0 1-.326 1.275.749.749 0 0 1-.734-.215L8 9.06l-3.22 3.22a.751.751 0 0 1-1.042-.018.751.751 0 0 1-.018-1.042L6.94 8 3.72 4.78a.75.75 0 0 1 0-1.06Z"></path>
</svg>
</button><tool-tip id="tooltip-751abd10-daa5-42a0-8124-75afbfaa5d57" for="icon-button-4cdc1473-9432-4b73-8804-e5b7e4f928f5" popover="manual" data-direction="s" data-type="label" data-view-component="true" class="sr-only position-absolute">Dismiss alert</tool-tip>


  
</div>
          
    </div>

  <div id="start-of-content" class="show-on-focus"></div>








    <div id="js-flash-container" class="flash-container" data-turbo-replace>




  <template class="js-flash-template">
    
<div class="flash flash-full   {{ className }}">
  <div >
    <button autofocus class="flash-close js-flash-close" type="button" aria-label="Dismiss this message">
      <svg aria-hidden="true" height="16" viewBox="0 0 16 16" version="1.1" width="16" data-view-component="true" class="octicon octicon-x">
    <path d="M3.72 3.72a.75.75 0 0 1 1.06 0L8 6.94l3.22-3.22a.749.749 0 0 1 1.275.326.749.749 0 0 1-.215.734L9.06 8l3.22 3.22a.749.749 0 0 1-.326 1.275.749.749 0 0 1-.734-.215L8 9.06l-3.22 3.22a.751.751 0 0 1-1.042-.018.751.751 0 0 1-.018-1.042L6.94 8 3.72 4.78a.75.75 0 0 1 0-1.06Z"></path>
</svg>
    </button>
    <div aria-atomic="true" role="alert" class="js-flash-alert">
      
      <div>{{ message }}</div>

    </div>
  </div>
</div>
  </template>
</div>


    
    <notification-shelf-watcher data-base-url="https://github.com/notifications/beta/shelf" data-channel="eyJjIjoibm90aWZpY2F0aW9uLWNoYW5nZWQ6MTc2MzcyMzc2IiwidCI6MTcyNTc1NjM5OX0=--7d3005ff0a2fca96a39d9d1408dd4006c232d67aa06445d2b9841eeffd069ec6" data-view-component="true" class="js-socket-channel"></notification-shelf-watcher>
  <div hidden data-initial data-target="notification-shelf-watcher.placeholder"></div>






  <div
    class="application-main "
    data-commit-hovercards-enabled
    data-discussion-hovercards-enabled
    data-issue-and-pr-hovercards-enabled
  >
        <div itemscope itemtype="http://schema.org/SoftwareSourceCode" class="">
    <main id="js-repo-pjax-container" >
      
      
    

    






    
  <div id="repository-container-header" data-turbo-replace hidden></div>




<turbo-frame id="repo-content-turbo-frame" target="_top" data-turbo-action="advance" class="">
    <div id="repo-content-pjax-container" class="repository-content " >
      <a href="https://github.dev/" class="d-none js-github-dev-shortcut" data-hotkey=".,Mod+Alt+.">Open in github.dev</a>
  <a href="https://github.dev/" class="d-none js-github-dev-new-tab-shortcut" data-hotkey="Shift+.,Shift+&gt;,&gt;" target="_blank" rel="noopener noreferrer">Open in a new github.dev tab</a>
    <a class="d-none" data-hotkey=",,Mod+Alt+," target="_blank" href="/codespaces/new/MQ-COMP2200-COMP6200/portfolio-part-2-sunilbastola/tree/main?resume=1">Open in codespace</a>




    
      
    








<react-app
  app-name="react-code-view"
  initial-path="/MQ-COMP2200-COMP6200/portfolio-part-2-sunilbastola/blob/main/Portfolio-2-questions.ipynb"
  style="display: block; min-height: calc(100vh - 64px)" 
  data-ssr="true"
  data-lazy="false"
  data-alternate="false"
>
  
  <script type="application/json" data-target="react-app.embeddedData">{"payload":{"allShortcutsEnabled":true,"fileTree":{"":{"items":[{"name":"Portfolio-2-questions.ipynb","path":"Portfolio-2-questions.ipynb","contentType":"file"}],"totalCount":1}},"fileTreeProcessingTime":1.590879,"foldersToFetch":[],"repo":{"id":847957091,"defaultBranch":"main","name":"portfolio-part-2-sunilbastola","ownerLogin":"MQ-COMP2200-COMP6200","currentUserCanPush":true,"isFork":false,"isEmpty":false,"createdAt":"2024-08-27T07:43:08.000+10:00","ownerAvatar":"https://avatars.githubusercontent.com/u/140231410?v=4","public":false,"private":true,"isOrgOwned":true},"codeLineWrapEnabled":false,"symbolsExpanded":true,"treeExpanded":true,"refInfo":{"name":"main","listCacheKey":"v0:1724709960.0","canEdit":true,"refType":"branch","currentOid":"4133fa1e2aed537ed20b3fe2867d1834ac6d9d34"},"path":"Portfolio-2-questions.ipynb","currentUser":{"id":176372376,"login":"sunilbastola","userEmail":"sunilbytes56@gmail.com"},"blob":{"rawLines":["{"," \"cells\": [","  {","   \"cell_type\": \"markdown\",","   \"id\": \"rSF_UH-XklO4\",","   \"metadata\": {","    \"id\": \"rSF_UH-XklO4\"","   },","   \"source\": [","    \"## Analysis of a Car Sell Dataset Part 2\"","   ]","  },","  {","   \"cell_type\": \"markdown\",","   \"id\": \"aWJHrXuwklO5\",","   \"metadata\": {","    \"id\": \"aWJHrXuwklO5\"","   },","   \"source\": [","    \"There are two goals in the second analysis task: (1), train linear regression models to predict the selling prices of cars; (2) assess the data ethics issues. There are *7* questions in this portfolio. \\n\",","    \"\\n\",","    \"The first goal involves a standard Data Science workflow: exploring data, building models, making predictions, and evaluating results. In this task, we will explore the impacts of feature selections and different sizes of training/testing data on the model performance. We will use another cleaned car_sells sub-dataset that **is different from** the one in “Analysis of a Car Sell Dataset” task 1. This goal covers Questions *1-6*. \\n\",","    \"\\n\",","    \"Question *7* is about data ethics issue.\"","   ]","  },","  {","   \"cell_type\": \"code\",","   \"execution_count\": 147,","   \"id\": \"f2b11c57\",","   \"metadata\": {},","   \"outputs\": [],","   \"source\": [","    \"your_name = \\\"Sunil Bastola\\\"\\n\",","    \"your_student_id = \\\"48659851\\\"\"","   ]","  },","  {","   \"cell_type\": \"code\",","   \"execution_count\": 148,","   \"id\": \"0e327626\",","   \"metadata\": {},","   \"outputs\": [],","   \"source\": [","    \"import pandas as pd\\n\",","    \"import numpy as np\\n\",","    \"from sklearn.model_selection import train_test_split\\n\",","    \"from sklearn import linear_model\\n\",","    \"from sklearn.metrics import r2_score\\n\",","    \"from sklearn.preprocessing import OrdinalEncoder\\n\",","    \"\\n\",","    \"import seaborn as sns\\n\",","    \"import matplotlib.pylab as plt\\n\",","    \"%matplotlib inline\"","   ]","  },","  {","   \"cell_type\": \"markdown\",","   \"id\": \"0g4OhHHzklO6\",","   \"metadata\": {","    \"id\": \"0g4OhHHzklO6\"","   },","   \"source\": [","    \"### Q1: Import Cleaned Car Sell Dataset\\n\",","    \"The csv file named 'car_sells_clean_data.csv' is provided. You may need to use the Pandas method, i.e., `read_csv`, for reading it. After that, please print out its total length.\"","   ]","  },","  {","   \"cell_type\": \"code\",","   \"execution_count\": 150,","   \"id\": \"9ki1LBees70W\",","   \"metadata\": {","    \"colab\": {","     \"base_uri\": \"https://localhost:8080/\"","    },","    \"id\": \"9ki1LBees70W\",","    \"outputId\": \"d3ff4349-47d0-423b-ef22-caf78c9883f5\"","   },","   \"outputs\": [","    {","     \"name\": \"stdout\",","     \"output_type\": \"stream\",","     \"text\": [","      \"The length of the dataset is :  3657\\n\"","     ]","    },","    {","     \"data\": {","      \"text/html\": [","       \"\u003cdiv\u003e\\n\",","       \"\u003cstyle scoped\u003e\\n\",","       \"    .dataframe tbody tr th:only-of-type {\\n\",","       \"        vertical-align: middle;\\n\",","       \"    }\\n\",","       \"\\n\",","       \"    .dataframe tbody tr th {\\n\",","       \"        vertical-align: top;\\n\",","       \"    }\\n\",","       \"\\n\",","       \"    .dataframe thead th {\\n\",","       \"        text-align: right;\\n\",","       \"    }\\n\",","       \"\u003c/style\u003e\\n\",","       \"\u003ctable border=\\\"1\\\" class=\\\"dataframe\\\"\u003e\\n\",","       \"  \u003cthead\u003e\\n\",","       \"    \u003ctr style=\\\"text-align: right;\\\"\u003e\\n\",","       \"      \u003cth\u003e\u003c/th\u003e\\n\",","       \"      \u003cth\u003ename\u003c/th\u003e\\n\",","       \"      \u003cth\u003eyear\u003c/th\u003e\\n\",","       \"      \u003cth\u003eselling_price\u003c/th\u003e\\n\",","       \"      \u003cth\u003ekm_driven\u003c/th\u003e\\n\",","       \"      \u003cth\u003efuel\u003c/th\u003e\\n\",","       \"      \u003cth\u003eseller_type\u003c/th\u003e\\n\",","       \"      \u003cth\u003etransmission\u003c/th\u003e\\n\",","       \"      \u003cth\u003eowner\u003c/th\u003e\\n\",","       \"    \u003c/tr\u003e\\n\",","       \"  \u003c/thead\u003e\\n\",","       \"  \u003ctbody\u003e\\n\",","       \"    \u003ctr\u003e\\n\",","       \"      \u003cth\u003e0\u003c/th\u003e\\n\",","       \"      \u003ctd\u003eMaruti 800 AC\u003c/td\u003e\\n\",","       \"      \u003ctd\u003e2007.0\u003c/td\u003e\\n\",","       \"      \u003ctd\u003e60000\u003c/td\u003e\\n\",","       \"      \u003ctd\u003e70000\u003c/td\u003e\\n\",","       \"      \u003ctd\u003ePetrol\u003c/td\u003e\\n\",","       \"      \u003ctd\u003eIndividual\u003c/td\u003e\\n\",","       \"      \u003ctd\u003eManual\u003c/td\u003e\\n\",","       \"      \u003ctd\u003eFirst Owner\u003c/td\u003e\\n\",","       \"    \u003c/tr\u003e\\n\",","       \"    \u003ctr\u003e\\n\",","       \"      \u003cth\u003e1\u003c/th\u003e\\n\",","       \"      \u003ctd\u003eMaruti Wagon R LXI Minor\u003c/td\u003e\\n\",","       \"      \u003ctd\u003e2007.0\u003c/td\u003e\\n\",","       \"      \u003ctd\u003e135000\u003c/td\u003e\\n\",","       \"      \u003ctd\u003e50000\u003c/td\u003e\\n\",","       \"      \u003ctd\u003ePetrol\u003c/td\u003e\\n\",","       \"      \u003ctd\u003eIndividual\u003c/td\u003e\\n\",","       \"      \u003ctd\u003eManual\u003c/td\u003e\\n\",","       \"      \u003ctd\u003eFirst Owner\u003c/td\u003e\\n\",","       \"    \u003c/tr\u003e\\n\",","       \"    \u003ctr\u003e\\n\",","       \"      \u003cth\u003e2\u003c/th\u003e\\n\",","       \"      \u003ctd\u003eHyundai Verna 1.6 SX\u003c/td\u003e\\n\",","       \"      \u003ctd\u003e2012.0\u003c/td\u003e\\n\",","       \"      \u003ctd\u003e600000\u003c/td\u003e\\n\",","       \"      \u003ctd\u003e100000\u003c/td\u003e\\n\",","       \"      \u003ctd\u003eDiesel\u003c/td\u003e\\n\",","       \"      \u003ctd\u003eIndividual\u003c/td\u003e\\n\",","       \"      \u003ctd\u003eManual\u003c/td\u003e\\n\",","       \"      \u003ctd\u003eFirst Owner\u003c/td\u003e\\n\",","       \"    \u003c/tr\u003e\\n\",","       \"    \u003ctr\u003e\\n\",","       \"      \u003cth\u003e3\u003c/th\u003e\\n\",","       \"      \u003ctd\u003eDatsun RediGO T Option\u003c/td\u003e\\n\",","       \"      \u003ctd\u003e2017.0\u003c/td\u003e\\n\",","       \"      \u003ctd\u003e250000\u003c/td\u003e\\n\",","       \"      \u003ctd\u003e46000\u003c/td\u003e\\n\",","       \"      \u003ctd\u003ePetrol\u003c/td\u003e\\n\",","       \"      \u003ctd\u003eIndividual\u003c/td\u003e\\n\",","       \"      \u003ctd\u003eManual\u003c/td\u003e\\n\",","       \"      \u003ctd\u003eFirst Owner\u003c/td\u003e\\n\",","       \"    \u003c/tr\u003e\\n\",","       \"    \u003ctr\u003e\\n\",","       \"      \u003cth\u003e4\u003c/th\u003e\\n\",","       \"      \u003ctd\u003eHonda Amaze VX i-DTEC\u003c/td\u003e\\n\",","       \"      \u003ctd\u003e2014.0\u003c/td\u003e\\n\",","       \"      \u003ctd\u003e450000\u003c/td\u003e\\n\",","       \"      \u003ctd\u003e141000\u003c/td\u003e\\n\",","       \"      \u003ctd\u003eDiesel\u003c/td\u003e\\n\",","       \"      \u003ctd\u003eIndividual\u003c/td\u003e\\n\",","       \"      \u003ctd\u003eManual\u003c/td\u003e\\n\",","       \"      \u003ctd\u003eSecond Owner\u003c/td\u003e\\n\",","       \"    \u003c/tr\u003e\\n\",","       \"    \u003ctr\u003e\\n\",","       \"      \u003cth\u003e...\u003c/th\u003e\\n\",","       \"      \u003ctd\u003e...\u003c/td\u003e\\n\",","       \"      \u003ctd\u003e...\u003c/td\u003e\\n\",","       \"      \u003ctd\u003e...\u003c/td\u003e\\n\",","       \"      \u003ctd\u003e...\u003c/td\u003e\\n\",","       \"      \u003ctd\u003e...\u003c/td\u003e\\n\",","       \"      \u003ctd\u003e...\u003c/td\u003e\\n\",","       \"      \u003ctd\u003e...\u003c/td\u003e\\n\",","       \"      \u003ctd\u003e...\u003c/td\u003e\\n\",","       \"    \u003c/tr\u003e\\n\",","       \"    \u003ctr\u003e\\n\",","       \"      \u003cth\u003e3652\u003c/th\u003e\\n\",","       \"      \u003ctd\u003eHyundai i20 Magna 1.4 CRDi (Diesel)\u003c/td\u003e\\n\",","       \"      \u003ctd\u003e2014.0\u003c/td\u003e\\n\",","       \"      \u003ctd\u003e409999\u003c/td\u003e\\n\",","       \"      \u003ctd\u003e80000\u003c/td\u003e\\n\",","       \"      \u003ctd\u003eDiesel\u003c/td\u003e\\n\",","       \"      \u003ctd\u003eIndividual\u003c/td\u003e\\n\",","       \"      \u003ctd\u003eManual\u003c/td\u003e\\n\",","       \"      \u003ctd\u003eSecond Owner\u003c/td\u003e\\n\",","       \"    \u003c/tr\u003e\\n\",","       \"    \u003ctr\u003e\\n\",","       \"      \u003cth\u003e3653\u003c/th\u003e\\n\",","       \"      \u003ctd\u003eHyundai i20 Magna 1.4 CRDi\u003c/td\u003e\\n\",","       \"      \u003ctd\u003e2014.0\u003c/td\u003e\\n\",","       \"      \u003ctd\u003e409999\u003c/td\u003e\\n\",","       \"      \u003ctd\u003e80000\u003c/td\u003e\\n\",","       \"      \u003ctd\u003eDiesel\u003c/td\u003e\\n\",","       \"      \u003ctd\u003eIndividual\u003c/td\u003e\\n\",","       \"      \u003ctd\u003eManual\u003c/td\u003e\\n\",","       \"      \u003ctd\u003eSecond Owner\u003c/td\u003e\\n\",","       \"    \u003c/tr\u003e\\n\",","       \"    \u003ctr\u003e\\n\",","       \"      \u003cth\u003e3654\u003c/th\u003e\\n\",","       \"      \u003ctd\u003eMaruti 800 AC BSIII\u003c/td\u003e\\n\",","       \"      \u003ctd\u003e2009.0\u003c/td\u003e\\n\",","       \"      \u003ctd\u003e110000\u003c/td\u003e\\n\",","       \"      \u003ctd\u003e83000\u003c/td\u003e\\n\",","       \"      \u003ctd\u003ePetrol\u003c/td\u003e\\n\",","       \"      \u003ctd\u003eIndividual\u003c/td\u003e\\n\",","       \"      \u003ctd\u003eManual\u003c/td\u003e\\n\",","       \"      \u003ctd\u003eSecond Owner\u003c/td\u003e\\n\",","       \"    \u003c/tr\u003e\\n\",","       \"    \u003ctr\u003e\\n\",","       \"      \u003cth\u003e3655\u003c/th\u003e\\n\",","       \"      \u003ctd\u003eHyundai Creta 1.6 CRDi SX Option\u003c/td\u003e\\n\",","       \"      \u003ctd\u003e2016.0\u003c/td\u003e\\n\",","       \"      \u003ctd\u003e865000\u003c/td\u003e\\n\",","       \"      \u003ctd\u003e90000\u003c/td\u003e\\n\",","       \"      \u003ctd\u003eDiesel\u003c/td\u003e\\n\",","       \"      \u003ctd\u003eIndividual\u003c/td\u003e\\n\",","       \"      \u003ctd\u003eManual\u003c/td\u003e\\n\",","       \"      \u003ctd\u003eFirst Owner\u003c/td\u003e\\n\",","       \"    \u003c/tr\u003e\\n\",","       \"    \u003ctr\u003e\\n\",","       \"      \u003cth\u003e3656\u003c/th\u003e\\n\",","       \"      \u003ctd\u003eRenault KWID RXT\u003c/td\u003e\\n\",","       \"      \u003ctd\u003e2016.0\u003c/td\u003e\\n\",","       \"      \u003ctd\u003e225000\u003c/td\u003e\\n\",","       \"      \u003ctd\u003e40000\u003c/td\u003e\\n\",","       \"      \u003ctd\u003ePetrol\u003c/td\u003e\\n\",","       \"      \u003ctd\u003eIndividual\u003c/td\u003e\\n\",","       \"      \u003ctd\u003eManual\u003c/td\u003e\\n\",","       \"      \u003ctd\u003eFirst Owner\u003c/td\u003e\\n\",","       \"    \u003c/tr\u003e\\n\",","       \"  \u003c/tbody\u003e\\n\",","       \"\u003c/table\u003e\\n\",","       \"\u003cp\u003e3657 rows × 8 columns\u003c/p\u003e\\n\",","       \"\u003c/div\u003e\"","      ],","      \"text/plain\": [","       \"                                     name    year  selling_price  km_driven  \\\\\\n\",","       \"0                           Maruti 800 AC  2007.0          60000      70000   \\n\",","       \"1                Maruti Wagon R LXI Minor  2007.0         135000      50000   \\n\",","       \"2                    Hyundai Verna 1.6 SX  2012.0         600000     100000   \\n\",","       \"3                  Datsun RediGO T Option  2017.0         250000      46000   \\n\",","       \"4                   Honda Amaze VX i-DTEC  2014.0         450000     141000   \\n\",","       \"...                                   ...     ...            ...        ...   \\n\",","       \"3652  Hyundai i20 Magna 1.4 CRDi (Diesel)  2014.0         409999      80000   \\n\",","       \"3653           Hyundai i20 Magna 1.4 CRDi  2014.0         409999      80000   \\n\",","       \"3654                  Maruti 800 AC BSIII  2009.0         110000      83000   \\n\",","       \"3655     Hyundai Creta 1.6 CRDi SX Option  2016.0         865000      90000   \\n\",","       \"3656                     Renault KWID RXT  2016.0         225000      40000   \\n\",","       \"\\n\",","       \"        fuel seller_type transmission         owner  \\n\",","       \"0     Petrol  Individual       Manual   First Owner  \\n\",","       \"1     Petrol  Individual       Manual   First Owner  \\n\",","       \"2     Diesel  Individual       Manual   First Owner  \\n\",","       \"3     Petrol  Individual       Manual   First Owner  \\n\",","       \"4     Diesel  Individual       Manual  Second Owner  \\n\",","       \"...      ...         ...          ...           ...  \\n\",","       \"3652  Diesel  Individual       Manual  Second Owner  \\n\",","       \"3653  Diesel  Individual       Manual  Second Owner  \\n\",","       \"3654  Petrol  Individual       Manual  Second Owner  \\n\",","       \"3655  Diesel  Individual       Manual   First Owner  \\n\",","       \"3656  Petrol  Individual       Manual   First Owner  \\n\",","       \"\\n\",","       \"[3657 rows x 8 columns]\"","      ]","     },","     \"execution_count\": 150,","     \"metadata\": {},","     \"output_type\": \"execute_result\"","    }","   ],","   \"source\": [","    \"# Reading the data by pandas and printing the len of the columns that are present....\\n\",","    \"car_data = pd.read_csv(\\\"car_sells_clean_data.csv\\\")\\n\",","    \"print(\\\"The length of the dataset is : \\\", len(car_data))\\n\",","    \"car_data\"","   ]","  },","  {","   \"cell_type\": \"markdown\",","   \"id\": \"RpXf1q3UklO7\",","   \"metadata\": {","    \"id\": \"RpXf1q3UklO7\"","   },","   \"source\": [","    \"### Q2: Explore the Dataset\\n\",","    \"\\n\",","    \"* Use the methods, i.e., `head()` and `info()`, to have a rough picture about the data, e.g., how many columns, and the data types of each column.\\n\",","    \"* As our goal is to predict cars' selling prices given other columns, please get the correlations between year/km_driven/seller_type/fuel/owner and selling_price by using the `corr()` method.\\n\",","    \"* To get the correlations between different features, you may need to first convert the categorical features (i.e., seller_type and owner) into numerial values. For doing this, you may need to import `OrdinalEncoder` from `sklearn.preprocessing` (refer to the useful exmaples [here](https://pbpython.com/categorical-encoding.html))\\n\",","    \"* Please provide ___necessary explanations/analysis___ on the correlations, and figure out which are the ___most___ and ___least___ corrleated features regarding selling_price. Try to ___discuss___ how the correlation will affect the final prediction results, if we use these features to train a regression model for selling_price prediction. In what follows, we will conduct experiments to verify your hypothesis.\"","   ]","  },","  {","   \"cell_type\": \"code\",","   \"execution_count\": 152,","   \"id\": \"7551c655\",","   \"metadata\": {},","   \"outputs\": [","    {","     \"data\": {","      \"text/html\": [","       \"\u003cdiv\u003e\\n\",","       \"\u003cstyle scoped\u003e\\n\",","       \"    .dataframe tbody tr th:only-of-type {\\n\",","       \"        vertical-align: middle;\\n\",","       \"    }\\n\",","       \"\\n\",","       \"    .dataframe tbody tr th {\\n\",","       \"        vertical-align: top;\\n\",","       \"    }\\n\",","       \"\\n\",","       \"    .dataframe thead th {\\n\",","       \"        text-align: right;\\n\",","       \"    }\\n\",","       \"\u003c/style\u003e\\n\",","       \"\u003ctable border=\\\"1\\\" class=\\\"dataframe\\\"\u003e\\n\",","       \"  \u003cthead\u003e\\n\",","       \"    \u003ctr style=\\\"text-align: right;\\\"\u003e\\n\",","       \"      \u003cth\u003e\u003c/th\u003e\\n\",","       \"      \u003cth\u003ename\u003c/th\u003e\\n\",","       \"      \u003cth\u003eyear\u003c/th\u003e\\n\",","       \"      \u003cth\u003eselling_price\u003c/th\u003e\\n\",","       \"      \u003cth\u003ekm_driven\u003c/th\u003e\\n\",","       \"      \u003cth\u003efuel\u003c/th\u003e\\n\",","       \"      \u003cth\u003eseller_type\u003c/th\u003e\\n\",","       \"      \u003cth\u003etransmission\u003c/th\u003e\\n\",","       \"      \u003cth\u003eowner\u003c/th\u003e\\n\",","       \"    \u003c/tr\u003e\\n\",","       \"  \u003c/thead\u003e\\n\",","       \"  \u003ctbody\u003e\\n\",","       \"    \u003ctr\u003e\\n\",","       \"      \u003cth\u003e0\u003c/th\u003e\\n\",","       \"      \u003ctd\u003eMaruti 800 AC\u003c/td\u003e\\n\",","       \"      \u003ctd\u003e2007.0\u003c/td\u003e\\n\",","       \"      \u003ctd\u003e60000\u003c/td\u003e\\n\",","       \"      \u003ctd\u003e70000\u003c/td\u003e\\n\",","       \"      \u003ctd\u003ePetrol\u003c/td\u003e\\n\",","       \"      \u003ctd\u003eIndividual\u003c/td\u003e\\n\",","       \"      \u003ctd\u003eManual\u003c/td\u003e\\n\",","       \"      \u003ctd\u003eFirst Owner\u003c/td\u003e\\n\",","       \"    \u003c/tr\u003e\\n\",","       \"    \u003ctr\u003e\\n\",","       \"      \u003cth\u003e1\u003c/th\u003e\\n\",","       \"      \u003ctd\u003eMaruti Wagon R LXI Minor\u003c/td\u003e\\n\",","       \"      \u003ctd\u003e2007.0\u003c/td\u003e\\n\",","       \"      \u003ctd\u003e135000\u003c/td\u003e\\n\",","       \"      \u003ctd\u003e50000\u003c/td\u003e\\n\",","       \"      \u003ctd\u003ePetrol\u003c/td\u003e\\n\",","       \"      \u003ctd\u003eIndividual\u003c/td\u003e\\n\",","       \"      \u003ctd\u003eManual\u003c/td\u003e\\n\",","       \"      \u003ctd\u003eFirst Owner\u003c/td\u003e\\n\",","       \"    \u003c/tr\u003e\\n\",","       \"    \u003ctr\u003e\\n\",","       \"      \u003cth\u003e2\u003c/th\u003e\\n\",","       \"      \u003ctd\u003eHyundai Verna 1.6 SX\u003c/td\u003e\\n\",","       \"      \u003ctd\u003e2012.0\u003c/td\u003e\\n\",","       \"      \u003ctd\u003e600000\u003c/td\u003e\\n\",","       \"      \u003ctd\u003e100000\u003c/td\u003e\\n\",","       \"      \u003ctd\u003eDiesel\u003c/td\u003e\\n\",","       \"      \u003ctd\u003eIndividual\u003c/td\u003e\\n\",","       \"      \u003ctd\u003eManual\u003c/td\u003e\\n\",","       \"      \u003ctd\u003eFirst Owner\u003c/td\u003e\\n\",","       \"    \u003c/tr\u003e\\n\",","       \"    \u003ctr\u003e\\n\",","       \"      \u003cth\u003e3\u003c/th\u003e\\n\",","       \"      \u003ctd\u003eDatsun RediGO T Option\u003c/td\u003e\\n\",","       \"      \u003ctd\u003e2017.0\u003c/td\u003e\\n\",","       \"      \u003ctd\u003e250000\u003c/td\u003e\\n\",","       \"      \u003ctd\u003e46000\u003c/td\u003e\\n\",","       \"      \u003ctd\u003ePetrol\u003c/td\u003e\\n\",","       \"      \u003ctd\u003eIndividual\u003c/td\u003e\\n\",","       \"      \u003ctd\u003eManual\u003c/td\u003e\\n\",","       \"      \u003ctd\u003eFirst Owner\u003c/td\u003e\\n\",","       \"    \u003c/tr\u003e\\n\",","       \"    \u003ctr\u003e\\n\",","       \"      \u003cth\u003e4\u003c/th\u003e\\n\",","       \"      \u003ctd\u003eHonda Amaze VX i-DTEC\u003c/td\u003e\\n\",","       \"      \u003ctd\u003e2014.0\u003c/td\u003e\\n\",","       \"      \u003ctd\u003e450000\u003c/td\u003e\\n\",","       \"      \u003ctd\u003e141000\u003c/td\u003e\\n\",","       \"      \u003ctd\u003eDiesel\u003c/td\u003e\\n\",","       \"      \u003ctd\u003eIndividual\u003c/td\u003e\\n\",","       \"      \u003ctd\u003eManual\u003c/td\u003e\\n\",","       \"      \u003ctd\u003eSecond Owner\u003c/td\u003e\\n\",","       \"    \u003c/tr\u003e\\n\",","       \"  \u003c/tbody\u003e\\n\",","       \"\u003c/table\u003e\\n\",","       \"\u003c/div\u003e\"","      ],","      \"text/plain\": [","       \"                       name    year  selling_price  km_driven    fuel  \\\\\\n\",","       \"0             Maruti 800 AC  2007.0          60000      70000  Petrol   \\n\",","       \"1  Maruti Wagon R LXI Minor  2007.0         135000      50000  Petrol   \\n\",","       \"2      Hyundai Verna 1.6 SX  2012.0         600000     100000  Diesel   \\n\",","       \"3    Datsun RediGO T Option  2017.0         250000      46000  Petrol   \\n\",","       \"4     Honda Amaze VX i-DTEC  2014.0         450000     141000  Diesel   \\n\",","       \"\\n\",","       \"  seller_type transmission         owner  \\n\",","       \"0  Individual       Manual   First Owner  \\n\",","       \"1  Individual       Manual   First Owner  \\n\",","       \"2  Individual       Manual   First Owner  \\n\",","       \"3  Individual       Manual   First Owner  \\n\",","       \"4  Individual       Manual  Second Owner  \"","      ]","     },","     \"execution_count\": 152,","     \"metadata\": {},","     \"output_type\": \"execute_result\"","    }","   ],","   \"source\": [","    \"#Using head method to print the first five rows\\n\",","    \"car_data.head()\"","   ]","  },","  {","   \"cell_type\": \"code\",","   \"execution_count\": 153,","   \"id\": \"a3b1010f-ed25-4f4b-80ed-c3d39be6e994\",","   \"metadata\": {},","   \"outputs\": [","    {","     \"name\": \"stdout\",","     \"output_type\": \"stream\",","     \"text\": [","      \"\u003cclass 'pandas.core.frame.DataFrame'\u003e\\n\",","      \"RangeIndex: 3657 entries, 0 to 3656\\n\",","      \"Data columns (total 8 columns):\\n\",","      \" #   Column         Non-Null Count  Dtype  \\n\",","      \"---  ------         --------------  -----  \\n\",","      \" 0   name           3657 non-null   object \\n\",","      \" 1   year           3657 non-null   float64\\n\",","      \" 2   selling_price  3657 non-null   int64  \\n\",","      \" 3   km_driven      3657 non-null   int64  \\n\",","      \" 4   fuel           3657 non-null   object \\n\",","      \" 5   seller_type    3657 non-null   object \\n\",","      \" 6   transmission   3657 non-null   object \\n\",","      \" 7   owner          3657 non-null   object \\n\",","      \"dtypes: float64(1), int64(2), object(5)\\n\",","      \"memory usage: 228.7+ KB\\n\"","     ]","    }","   ],","   \"source\": [","    \"#Info method to get more information about the data, such as data types and non-null data count..\\n\",","    \"car_data.info()\"","   ]","  },","  {","   \"cell_type\": \"code\",","   \"execution_count\": 154,","   \"id\": \"3e69b006-cbc5-4d19-9074-0285fed9a5c9\",","   \"metadata\": {},","   \"outputs\": [","    {","     \"data\": {","      \"text/html\": [","       \"\u003cdiv\u003e\\n\",","       \"\u003cstyle scoped\u003e\\n\",","       \"    .dataframe tbody tr th:only-of-type {\\n\",","       \"        vertical-align: middle;\\n\",","       \"    }\\n\",","       \"\\n\",","       \"    .dataframe tbody tr th {\\n\",","       \"        vertical-align: top;\\n\",","       \"    }\\n\",","       \"\\n\",","       \"    .dataframe thead th {\\n\",","       \"        text-align: right;\\n\",","       \"    }\\n\",","       \"\u003c/style\u003e\\n\",","       \"\u003ctable border=\\\"1\\\" class=\\\"dataframe\\\"\u003e\\n\",","       \"  \u003cthead\u003e\\n\",","       \"    \u003ctr style=\\\"text-align: right;\\\"\u003e\\n\",","       \"      \u003cth\u003e\u003c/th\u003e\\n\",","       \"      \u003cth\u003eyear\u003c/th\u003e\\n\",","       \"      \u003cth\u003eselling_price\u003c/th\u003e\\n\",","       \"      \u003cth\u003ekm_driven\u003c/th\u003e\\n\",","       \"    \u003c/tr\u003e\\n\",","       \"  \u003c/thead\u003e\\n\",","       \"  \u003ctbody\u003e\\n\",","       \"    \u003ctr\u003e\\n\",","       \"      \u003cth\u003ecount\u003c/th\u003e\\n\",","       \"      \u003ctd\u003e3657.000000\u003c/td\u003e\\n\",","       \"      \u003ctd\u003e3.657000e+03\u003c/td\u003e\\n\",","       \"      \u003ctd\u003e3657.000000\u003c/td\u003e\\n\",","       \"    \u003c/tr\u003e\\n\",","       \"    \u003ctr\u003e\\n\",","       \"      \u003cth\u003emean\u003c/th\u003e\\n\",","       \"      \u003ctd\u003e2013.123599\u003c/td\u003e\\n\",","       \"      \u003ctd\u003e4.945088e+05\u003c/td\u003e\\n\",","       \"      \u003ctd\u003e66560.660924\u003c/td\u003e\\n\",","       \"    \u003c/tr\u003e\\n\",","       \"    \u003ctr\u003e\\n\",","       \"      \u003cth\u003estd\u003c/th\u003e\\n\",","       \"      \u003ctd\u003e4.119128\u003c/td\u003e\\n\",","       \"      \u003ctd\u003e5.579230e+05\u003c/td\u003e\\n\",","       \"      \u003ctd\u003e47007.819292\u003c/td\u003e\\n\",","       \"    \u003c/tr\u003e\\n\",","       \"    \u003ctr\u003e\\n\",","       \"      \u003cth\u003emin\u003c/th\u003e\\n\",","       \"      \u003ctd\u003e1995.000000\u003c/td\u003e\\n\",","       \"      \u003ctd\u003e2.000000e+04\u003c/td\u003e\\n\",","       \"      \u003ctd\u003e1.000000\u003c/td\u003e\\n\",","       \"    \u003c/tr\u003e\\n\",","       \"    \u003ctr\u003e\\n\",","       \"      \u003cth\u003e25%\u003c/th\u003e\\n\",","       \"      \u003ctd\u003e2011.000000\u003c/td\u003e\\n\",","       \"      \u003ctd\u003e2.100000e+05\u003c/td\u003e\\n\",","       \"      \u003ctd\u003e35000.000000\u003c/td\u003e\\n\",","       \"    \u003c/tr\u003e\\n\",","       \"    \u003ctr\u003e\\n\",","       \"      \u003cth\u003e50%\u003c/th\u003e\\n\",","       \"      \u003ctd\u003e2014.000000\u003c/td\u003e\\n\",","       \"      \u003ctd\u003e3.500000e+05\u003c/td\u003e\\n\",","       \"      \u003ctd\u003e60000.000000\u003c/td\u003e\\n\",","       \"    \u003c/tr\u003e\\n\",","       \"    \u003ctr\u003e\\n\",","       \"      \u003cth\u003e75%\u003c/th\u003e\\n\",","       \"      \u003ctd\u003e2016.000000\u003c/td\u003e\\n\",","       \"      \u003ctd\u003e6.000000e+05\u003c/td\u003e\\n\",","       \"      \u003ctd\u003e90000.000000\u003c/td\u003e\\n\",","       \"    \u003c/tr\u003e\\n\",","       \"    \u003ctr\u003e\\n\",","       \"      \u003cth\u003emax\u003c/th\u003e\\n\",","       \"      \u003ctd\u003e2020.000000\u003c/td\u003e\\n\",","       \"      \u003ctd\u003e8.900000e+06\u003c/td\u003e\\n\",","       \"      \u003ctd\u003e806599.000000\u003c/td\u003e\\n\",","       \"    \u003c/tr\u003e\\n\",","       \"  \u003c/tbody\u003e\\n\",","       \"\u003c/table\u003e\\n\",","       \"\u003c/div\u003e\"","      ],","      \"text/plain\": [","       \"              year  selling_price      km_driven\\n\",","       \"count  3657.000000   3.657000e+03    3657.000000\\n\",","       \"mean   2013.123599   4.945088e+05   66560.660924\\n\",","       \"std       4.119128   5.579230e+05   47007.819292\\n\",","       \"min    1995.000000   2.000000e+04       1.000000\\n\",","       \"25%    2011.000000   2.100000e+05   35000.000000\\n\",","       \"50%    2014.000000   3.500000e+05   60000.000000\\n\",","       \"75%    2016.000000   6.000000e+05   90000.000000\\n\",","       \"max    2020.000000   8.900000e+06  806599.000000\"","      ]","     },","     \"execution_count\": 154,","     \"metadata\": {},","     \"output_type\": \"execute_result\"","    }","   ],","   \"source\": [","    \"#Statistical description of the data..\\n\",","    \"car_data.describe()\"","   ]","  },","  {","   \"cell_type\": \"code\",","   \"execution_count\": 155,","   \"id\": \"1b3e8cd0-f99a-47af-8603-90a65189120b\",","   \"metadata\": {},","   \"outputs\": [","    {","     \"data\": {","      \"text/html\": [","       \"\u003cdiv\u003e\\n\",","       \"\u003cstyle scoped\u003e\\n\",","       \"    .dataframe tbody tr th:only-of-type {\\n\",","       \"        vertical-align: middle;\\n\",","       \"    }\\n\",","       \"\\n\",","       \"    .dataframe tbody tr th {\\n\",","       \"        vertical-align: top;\\n\",","       \"    }\\n\",","       \"\\n\",","       \"    .dataframe thead th {\\n\",","       \"        text-align: right;\\n\",","       \"    }\\n\",","       \"\u003c/style\u003e\\n\",","       \"\u003ctable border=\\\"1\\\" class=\\\"dataframe\\\"\u003e\\n\",","       \"  \u003cthead\u003e\\n\",","       \"    \u003ctr style=\\\"text-align: right;\\\"\u003e\\n\",","       \"      \u003cth\u003e\u003c/th\u003e\\n\",","       \"      \u003cth\u003eyear\u003c/th\u003e\\n\",","       \"      \u003cth\u003ekm_driven\u003c/th\u003e\\n\",","       \"      \u003cth\u003efuel\u003c/th\u003e\\n\",","       \"      \u003cth\u003eowner\u003c/th\u003e\\n\",","       \"      \u003cth\u003eseller_type\u003c/th\u003e\\n\",","       \"      \u003cth\u003eselling_price\u003c/th\u003e\\n\",","       \"    \u003c/tr\u003e\\n\",","       \"  \u003c/thead\u003e\\n\",","       \"  \u003ctbody\u003e\\n\",","       \"    \u003ctr\u003e\\n\",","       \"      \u003cth\u003e0\u003c/th\u003e\\n\",","       \"      \u003ctd\u003e2007.0\u003c/td\u003e\\n\",","       \"      \u003ctd\u003e70000\u003c/td\u003e\\n\",","       \"      \u003ctd\u003ePetrol\u003c/td\u003e\\n\",","       \"      \u003ctd\u003eFirst Owner\u003c/td\u003e\\n\",","       \"      \u003ctd\u003eIndividual\u003c/td\u003e\\n\",","       \"      \u003ctd\u003e60000\u003c/td\u003e\\n\",","       \"    \u003c/tr\u003e\\n\",","       \"    \u003ctr\u003e\\n\",","       \"      \u003cth\u003e1\u003c/th\u003e\\n\",","       \"      \u003ctd\u003e2007.0\u003c/td\u003e\\n\",","       \"      \u003ctd\u003e50000\u003c/td\u003e\\n\",","       \"      \u003ctd\u003ePetrol\u003c/td\u003e\\n\",","       \"      \u003ctd\u003eFirst Owner\u003c/td\u003e\\n\",","       \"      \u003ctd\u003eIndividual\u003c/td\u003e\\n\",","       \"      \u003ctd\u003e135000\u003c/td\u003e\\n\",","       \"    \u003c/tr\u003e\\n\",","       \"    \u003ctr\u003e\\n\",","       \"      \u003cth\u003e2\u003c/th\u003e\\n\",","       \"      \u003ctd\u003e2012.0\u003c/td\u003e\\n\",","       \"      \u003ctd\u003e100000\u003c/td\u003e\\n\",","       \"      \u003ctd\u003eDiesel\u003c/td\u003e\\n\",","       \"      \u003ctd\u003eFirst Owner\u003c/td\u003e\\n\",","       \"      \u003ctd\u003eIndividual\u003c/td\u003e\\n\",","       \"      \u003ctd\u003e600000\u003c/td\u003e\\n\",","       \"    \u003c/tr\u003e\\n\",","       \"    \u003ctr\u003e\\n\",","       \"      \u003cth\u003e3\u003c/th\u003e\\n\",","       \"      \u003ctd\u003e2017.0\u003c/td\u003e\\n\",","       \"      \u003ctd\u003e46000\u003c/td\u003e\\n\",","       \"      \u003ctd\u003ePetrol\u003c/td\u003e\\n\",","       \"      \u003ctd\u003eFirst Owner\u003c/td\u003e\\n\",","       \"      \u003ctd\u003eIndividual\u003c/td\u003e\\n\",","       \"      \u003ctd\u003e250000\u003c/td\u003e\\n\",","       \"    \u003c/tr\u003e\\n\",","       \"    \u003ctr\u003e\\n\",","       \"      \u003cth\u003e4\u003c/th\u003e\\n\",","       \"      \u003ctd\u003e2014.0\u003c/td\u003e\\n\",","       \"      \u003ctd\u003e141000\u003c/td\u003e\\n\",","       \"      \u003ctd\u003eDiesel\u003c/td\u003e\\n\",","       \"      \u003ctd\u003eSecond Owner\u003c/td\u003e\\n\",","       \"      \u003ctd\u003eIndividual\u003c/td\u003e\\n\",","       \"      \u003ctd\u003e450000\u003c/td\u003e\\n\",","       \"    \u003c/tr\u003e\\n\",","       \"    \u003ctr\u003e\\n\",","       \"      \u003cth\u003e...\u003c/th\u003e\\n\",","       \"      \u003ctd\u003e...\u003c/td\u003e\\n\",","       \"      \u003ctd\u003e...\u003c/td\u003e\\n\",","       \"      \u003ctd\u003e...\u003c/td\u003e\\n\",","       \"      \u003ctd\u003e...\u003c/td\u003e\\n\",","       \"      \u003ctd\u003e...\u003c/td\u003e\\n\",","       \"      \u003ctd\u003e...\u003c/td\u003e\\n\",","       \"    \u003c/tr\u003e\\n\",","       \"    \u003ctr\u003e\\n\",","       \"      \u003cth\u003e3652\u003c/th\u003e\\n\",","       \"      \u003ctd\u003e2014.0\u003c/td\u003e\\n\",","       \"      \u003ctd\u003e80000\u003c/td\u003e\\n\",","       \"      \u003ctd\u003eDiesel\u003c/td\u003e\\n\",","       \"      \u003ctd\u003eSecond Owner\u003c/td\u003e\\n\",","       \"      \u003ctd\u003eIndividual\u003c/td\u003e\\n\",","       \"      \u003ctd\u003e409999\u003c/td\u003e\\n\",","       \"    \u003c/tr\u003e\\n\",","       \"    \u003ctr\u003e\\n\",","       \"      \u003cth\u003e3653\u003c/th\u003e\\n\",","       \"      \u003ctd\u003e2014.0\u003c/td\u003e\\n\",","       \"      \u003ctd\u003e80000\u003c/td\u003e\\n\",","       \"      \u003ctd\u003eDiesel\u003c/td\u003e\\n\",","       \"      \u003ctd\u003eSecond Owner\u003c/td\u003e\\n\",","       \"      \u003ctd\u003eIndividual\u003c/td\u003e\\n\",","       \"      \u003ctd\u003e409999\u003c/td\u003e\\n\",","       \"    \u003c/tr\u003e\\n\",","       \"    \u003ctr\u003e\\n\",","       \"      \u003cth\u003e3654\u003c/th\u003e\\n\",","       \"      \u003ctd\u003e2009.0\u003c/td\u003e\\n\",","       \"      \u003ctd\u003e83000\u003c/td\u003e\\n\",","       \"      \u003ctd\u003ePetrol\u003c/td\u003e\\n\",","       \"      \u003ctd\u003eSecond Owner\u003c/td\u003e\\n\",","       \"      \u003ctd\u003eIndividual\u003c/td\u003e\\n\",","       \"      \u003ctd\u003e110000\u003c/td\u003e\\n\",","       \"    \u003c/tr\u003e\\n\",","       \"    \u003ctr\u003e\\n\",","       \"      \u003cth\u003e3655\u003c/th\u003e\\n\",","       \"      \u003ctd\u003e2016.0\u003c/td\u003e\\n\",","       \"      \u003ctd\u003e90000\u003c/td\u003e\\n\",","       \"      \u003ctd\u003eDiesel\u003c/td\u003e\\n\",","       \"      \u003ctd\u003eFirst Owner\u003c/td\u003e\\n\",","       \"      \u003ctd\u003eIndividual\u003c/td\u003e\\n\",","       \"      \u003ctd\u003e865000\u003c/td\u003e\\n\",","       \"    \u003c/tr\u003e\\n\",","       \"    \u003ctr\u003e\\n\",","       \"      \u003cth\u003e3656\u003c/th\u003e\\n\",","       \"      \u003ctd\u003e2016.0\u003c/td\u003e\\n\",","       \"      \u003ctd\u003e40000\u003c/td\u003e\\n\",","       \"      \u003ctd\u003ePetrol\u003c/td\u003e\\n\",","       \"      \u003ctd\u003eFirst Owner\u003c/td\u003e\\n\",","       \"      \u003ctd\u003eIndividual\u003c/td\u003e\\n\",","       \"      \u003ctd\u003e225000\u003c/td\u003e\\n\",","       \"    \u003c/tr\u003e\\n\",","       \"  \u003c/tbody\u003e\\n\",","       \"\u003c/table\u003e\\n\",","       \"\u003cp\u003e3657 rows × 6 columns\u003c/p\u003e\\n\",","       \"\u003c/div\u003e\"","      ],","      \"text/plain\": [","       \"        year  km_driven    fuel         owner seller_type  selling_price\\n\",","       \"0     2007.0      70000  Petrol   First Owner  Individual          60000\\n\",","       \"1     2007.0      50000  Petrol   First Owner  Individual         135000\\n\",","       \"2     2012.0     100000  Diesel   First Owner  Individual         600000\\n\",","       \"3     2017.0      46000  Petrol   First Owner  Individual         250000\\n\",","       \"4     2014.0     141000  Diesel  Second Owner  Individual         450000\\n\",","       \"...      ...        ...     ...           ...         ...            ...\\n\",","       \"3652  2014.0      80000  Diesel  Second Owner  Individual         409999\\n\",","       \"3653  2014.0      80000  Diesel  Second Owner  Individual         409999\\n\",","       \"3654  2009.0      83000  Petrol  Second Owner  Individual         110000\\n\",","       \"3655  2016.0      90000  Diesel   First Owner  Individual         865000\\n\",","       \"3656  2016.0      40000  Petrol   First Owner  Individual         225000\\n\",","       \"\\n\",","       \"[3657 rows x 6 columns]\"","      ]","     },","     \"execution_count\": 155,","     \"metadata\": {},","     \"output_type\": \"execute_result\"","    }","   ],","   \"source\": [","    \"# Creating a new dataframe with selecting the features that are asked by the question to create a correlation\\n\",","    \"new_car_data = car_data[['year', 'km_driven', 'fuel', 'owner','seller_type', 'selling_price']]\\n\",","    \"new_car_data\"","   ]","  },","  {","   \"cell_type\": \"code\",","   \"execution_count\": 156,","   \"id\": \"b84bea7c-cfdb-4e44-9f43-5298b61accd5\",","   \"metadata\": {},","   \"outputs\": [","    {","     \"data\": {","      \"text/plain\": [","       \"owner\\n\",","       \"First Owner     2412\\n\",","       \"Second Owner     976\\n\",","       \"Third Owner      269\\n\",","       \"Name: count, dtype: int64\"","      ]","     },","     \"execution_count\": 156,","     \"metadata\": {},","     \"output_type\": \"execute_result\"","    }","   ],","   \"source\": [","    \"# This step counts the number of each uniques values inside a row.\\n\",","    \"new_car_data[\\\"fuel\\\"].value_counts()\\n\",","    \"new_car_data[\\\"seller_type\\\"].value_counts()\\n\",","    \"new_car_data[\\\"owner\\\"].value_counts()\"","   ]","  },","  {","   \"cell_type\": \"code\",","   \"execution_count\": 157,","   \"id\": \"784b28bd-4713-42e1-b908-c597c63cb6a5\",","   \"metadata\": {},","   \"outputs\": [","    {","     \"data\": {","      \"text/html\": [","       \"\u003cdiv\u003e\\n\",","       \"\u003cstyle scoped\u003e\\n\",","       \"    .dataframe tbody tr th:only-of-type {\\n\",","       \"        vertical-align: middle;\\n\",","       \"    }\\n\",","       \"\\n\",","       \"    .dataframe tbody tr th {\\n\",","       \"        vertical-align: top;\\n\",","       \"    }\\n\",","       \"\\n\",","       \"    .dataframe thead th {\\n\",","       \"        text-align: right;\\n\",","       \"    }\\n\",","       \"\u003c/style\u003e\\n\",","       \"\u003ctable border=\\\"1\\\" class=\\\"dataframe\\\"\u003e\\n\",","       \"  \u003cthead\u003e\\n\",","       \"    \u003ctr style=\\\"text-align: right;\\\"\u003e\\n\",","       \"      \u003cth\u003e\u003c/th\u003e\\n\",","       \"      \u003cth\u003eyear\u003c/th\u003e\\n\",","       \"      \u003cth\u003ekm_driven\u003c/th\u003e\\n\",","       \"      \u003cth\u003efuel\u003c/th\u003e\\n\",","       \"      \u003cth\u003eowner\u003c/th\u003e\\n\",","       \"      \u003cth\u003eseller_type\u003c/th\u003e\\n\",","       \"      \u003cth\u003eselling_price\u003c/th\u003e\\n\",","       \"      \u003cth\u003efuel_type\u003c/th\u003e\\n\",","       \"      \u003cth\u003etype_of_seller\u003c/th\u003e\\n\",","       \"      \u003cth\u003eowner_type\u003c/th\u003e\\n\",","       \"    \u003c/tr\u003e\\n\",","       \"  \u003c/thead\u003e\\n\",","       \"  \u003ctbody\u003e\\n\",","       \"    \u003ctr\u003e\\n\",","       \"      \u003cth\u003e0\u003c/th\u003e\\n\",","       \"      \u003ctd\u003e2007.0\u003c/td\u003e\\n\",","       \"      \u003ctd\u003e70000\u003c/td\u003e\\n\",","       \"      \u003ctd\u003ePetrol\u003c/td\u003e\\n\",","       \"      \u003ctd\u003eFirst Owner\u003c/td\u003e\\n\",","       \"      \u003ctd\u003eIndividual\u003c/td\u003e\\n\",","       \"      \u003ctd\u003e60000\u003c/td\u003e\\n\",","       \"      \u003ctd\u003e1.0\u003c/td\u003e\\n\",","       \"      \u003ctd\u003e1.0\u003c/td\u003e\\n\",","       \"      \u003ctd\u003e0.0\u003c/td\u003e\\n\",","       \"    \u003c/tr\u003e\\n\",","       \"    \u003ctr\u003e\\n\",","       \"      \u003cth\u003e1\u003c/th\u003e\\n\",","       \"      \u003ctd\u003e2007.0\u003c/td\u003e\\n\",","       \"      \u003ctd\u003e50000\u003c/td\u003e\\n\",","       \"      \u003ctd\u003ePetrol\u003c/td\u003e\\n\",","       \"      \u003ctd\u003eFirst Owner\u003c/td\u003e\\n\",","       \"      \u003ctd\u003eIndividual\u003c/td\u003e\\n\",","       \"      \u003ctd\u003e135000\u003c/td\u003e\\n\",","       \"      \u003ctd\u003e1.0\u003c/td\u003e\\n\",","       \"      \u003ctd\u003e1.0\u003c/td\u003e\\n\",","       \"      \u003ctd\u003e0.0\u003c/td\u003e\\n\",","       \"    \u003c/tr\u003e\\n\",","       \"    \u003ctr\u003e\\n\",","       \"      \u003cth\u003e2\u003c/th\u003e\\n\",","       \"      \u003ctd\u003e2012.0\u003c/td\u003e\\n\",","       \"      \u003ctd\u003e100000\u003c/td\u003e\\n\",","       \"      \u003ctd\u003eDiesel\u003c/td\u003e\\n\",","       \"      \u003ctd\u003eFirst Owner\u003c/td\u003e\\n\",","       \"      \u003ctd\u003eIndividual\u003c/td\u003e\\n\",","       \"      \u003ctd\u003e600000\u003c/td\u003e\\n\",","       \"      \u003ctd\u003e0.0\u003c/td\u003e\\n\",","       \"      \u003ctd\u003e1.0\u003c/td\u003e\\n\",","       \"      \u003ctd\u003e0.0\u003c/td\u003e\\n\",","       \"    \u003c/tr\u003e\\n\",","       \"    \u003ctr\u003e\\n\",","       \"      \u003cth\u003e3\u003c/th\u003e\\n\",","       \"      \u003ctd\u003e2017.0\u003c/td\u003e\\n\",","       \"      \u003ctd\u003e46000\u003c/td\u003e\\n\",","       \"      \u003ctd\u003ePetrol\u003c/td\u003e\\n\",","       \"      \u003ctd\u003eFirst Owner\u003c/td\u003e\\n\",","       \"      \u003ctd\u003eIndividual\u003c/td\u003e\\n\",","       \"      \u003ctd\u003e250000\u003c/td\u003e\\n\",","       \"      \u003ctd\u003e1.0\u003c/td\u003e\\n\",","       \"      \u003ctd\u003e1.0\u003c/td\u003e\\n\",","       \"      \u003ctd\u003e0.0\u003c/td\u003e\\n\",","       \"    \u003c/tr\u003e\\n\",","       \"    \u003ctr\u003e\\n\",","       \"      \u003cth\u003e4\u003c/th\u003e\\n\",","       \"      \u003ctd\u003e2014.0\u003c/td\u003e\\n\",","       \"      \u003ctd\u003e141000\u003c/td\u003e\\n\",","       \"      \u003ctd\u003eDiesel\u003c/td\u003e\\n\",","       \"      \u003ctd\u003eSecond Owner\u003c/td\u003e\\n\",","       \"      \u003ctd\u003eIndividual\u003c/td\u003e\\n\",","       \"      \u003ctd\u003e450000\u003c/td\u003e\\n\",","       \"      \u003ctd\u003e0.0\u003c/td\u003e\\n\",","       \"      \u003ctd\u003e1.0\u003c/td\u003e\\n\",","       \"      \u003ctd\u003e1.0\u003c/td\u003e\\n\",","       \"    \u003c/tr\u003e\\n\",","       \"    \u003ctr\u003e\\n\",","       \"      \u003cth\u003e...\u003c/th\u003e\\n\",","       \"      \u003ctd\u003e...\u003c/td\u003e\\n\",","       \"      \u003ctd\u003e...\u003c/td\u003e\\n\",","       \"      \u003ctd\u003e...\u003c/td\u003e\\n\",","       \"      \u003ctd\u003e...\u003c/td\u003e\\n\",","       \"      \u003ctd\u003e...\u003c/td\u003e\\n\",","       \"      \u003ctd\u003e...\u003c/td\u003e\\n\",","       \"      \u003ctd\u003e...\u003c/td\u003e\\n\",","       \"      \u003ctd\u003e...\u003c/td\u003e\\n\",","       \"      \u003ctd\u003e...\u003c/td\u003e\\n\",","       \"    \u003c/tr\u003e\\n\",","       \"    \u003ctr\u003e\\n\",","       \"      \u003cth\u003e3652\u003c/th\u003e\\n\",","       \"      \u003ctd\u003e2014.0\u003c/td\u003e\\n\",","       \"      \u003ctd\u003e80000\u003c/td\u003e\\n\",","       \"      \u003ctd\u003eDiesel\u003c/td\u003e\\n\",","       \"      \u003ctd\u003eSecond Owner\u003c/td\u003e\\n\",","       \"      \u003ctd\u003eIndividual\u003c/td\u003e\\n\",","       \"      \u003ctd\u003e409999\u003c/td\u003e\\n\",","       \"      \u003ctd\u003e0.0\u003c/td\u003e\\n\",","       \"      \u003ctd\u003e1.0\u003c/td\u003e\\n\",","       \"      \u003ctd\u003e1.0\u003c/td\u003e\\n\",","       \"    \u003c/tr\u003e\\n\",","       \"    \u003ctr\u003e\\n\",","       \"      \u003cth\u003e3653\u003c/th\u003e\\n\",","       \"      \u003ctd\u003e2014.0\u003c/td\u003e\\n\",","       \"      \u003ctd\u003e80000\u003c/td\u003e\\n\",","       \"      \u003ctd\u003eDiesel\u003c/td\u003e\\n\",","       \"      \u003ctd\u003eSecond Owner\u003c/td\u003e\\n\",","       \"      \u003ctd\u003eIndividual\u003c/td\u003e\\n\",","       \"      \u003ctd\u003e409999\u003c/td\u003e\\n\",","       \"      \u003ctd\u003e0.0\u003c/td\u003e\\n\",","       \"      \u003ctd\u003e1.0\u003c/td\u003e\\n\",","       \"      \u003ctd\u003e1.0\u003c/td\u003e\\n\",","       \"    \u003c/tr\u003e\\n\",","       \"    \u003ctr\u003e\\n\",","       \"      \u003cth\u003e3654\u003c/th\u003e\\n\",","       \"      \u003ctd\u003e2009.0\u003c/td\u003e\\n\",","       \"      \u003ctd\u003e83000\u003c/td\u003e\\n\",","       \"      \u003ctd\u003ePetrol\u003c/td\u003e\\n\",","       \"      \u003ctd\u003eSecond Owner\u003c/td\u003e\\n\",","       \"      \u003ctd\u003eIndividual\u003c/td\u003e\\n\",","       \"      \u003ctd\u003e110000\u003c/td\u003e\\n\",","       \"      \u003ctd\u003e1.0\u003c/td\u003e\\n\",","       \"      \u003ctd\u003e1.0\u003c/td\u003e\\n\",","       \"      \u003ctd\u003e1.0\u003c/td\u003e\\n\",","       \"    \u003c/tr\u003e\\n\",","       \"    \u003ctr\u003e\\n\",","       \"      \u003cth\u003e3655\u003c/th\u003e\\n\",","       \"      \u003ctd\u003e2016.0\u003c/td\u003e\\n\",","       \"      \u003ctd\u003e90000\u003c/td\u003e\\n\",","       \"      \u003ctd\u003eDiesel\u003c/td\u003e\\n\",","       \"      \u003ctd\u003eFirst Owner\u003c/td\u003e\\n\",","       \"      \u003ctd\u003eIndividual\u003c/td\u003e\\n\",","       \"      \u003ctd\u003e865000\u003c/td\u003e\\n\",","       \"      \u003ctd\u003e0.0\u003c/td\u003e\\n\",","       \"      \u003ctd\u003e1.0\u003c/td\u003e\\n\",","       \"      \u003ctd\u003e0.0\u003c/td\u003e\\n\",","       \"    \u003c/tr\u003e\\n\",","       \"    \u003ctr\u003e\\n\",","       \"      \u003cth\u003e3656\u003c/th\u003e\\n\",","       \"      \u003ctd\u003e2016.0\u003c/td\u003e\\n\",","       \"      \u003ctd\u003e40000\u003c/td\u003e\\n\",","       \"      \u003ctd\u003ePetrol\u003c/td\u003e\\n\",","       \"      \u003ctd\u003eFirst Owner\u003c/td\u003e\\n\",","       \"      \u003ctd\u003eIndividual\u003c/td\u003e\\n\",","       \"      \u003ctd\u003e225000\u003c/td\u003e\\n\",","       \"      \u003ctd\u003e1.0\u003c/td\u003e\\n\",","       \"      \u003ctd\u003e1.0\u003c/td\u003e\\n\",","       \"      \u003ctd\u003e0.0\u003c/td\u003e\\n\",","       \"    \u003c/tr\u003e\\n\",","       \"  \u003c/tbody\u003e\\n\",","       \"\u003c/table\u003e\\n\",","       \"\u003cp\u003e3657 rows × 9 columns\u003c/p\u003e\\n\",","       \"\u003c/div\u003e\"","      ],","      \"text/plain\": [","       \"        year  km_driven    fuel         owner seller_type  selling_price  \\\\\\n\",","       \"0     2007.0      70000  Petrol   First Owner  Individual          60000   \\n\",","       \"1     2007.0      50000  Petrol   First Owner  Individual         135000   \\n\",","       \"2     2012.0     100000  Diesel   First Owner  Individual         600000   \\n\",","       \"3     2017.0      46000  Petrol   First Owner  Individual         250000   \\n\",","       \"4     2014.0     141000  Diesel  Second Owner  Individual         450000   \\n\",","       \"...      ...        ...     ...           ...         ...            ...   \\n\",","       \"3652  2014.0      80000  Diesel  Second Owner  Individual         409999   \\n\",","       \"3653  2014.0      80000  Diesel  Second Owner  Individual         409999   \\n\",","       \"3654  2009.0      83000  Petrol  Second Owner  Individual         110000   \\n\",","       \"3655  2016.0      90000  Diesel   First Owner  Individual         865000   \\n\",","       \"3656  2016.0      40000  Petrol   First Owner  Individual         225000   \\n\",","       \"\\n\",","       \"      fuel_type  type_of_seller  owner_type  \\n\",","       \"0           1.0             1.0         0.0  \\n\",","       \"1           1.0             1.0         0.0  \\n\",","       \"2           0.0             1.0         0.0  \\n\",","       \"3           1.0             1.0         0.0  \\n\",","       \"4           0.0             1.0         1.0  \\n\",","       \"...         ...             ...         ...  \\n\",","       \"3652        0.0             1.0         1.0  \\n\",","       \"3653        0.0             1.0         1.0  \\n\",","       \"3654        1.0             1.0         1.0  \\n\",","       \"3655        0.0             1.0         0.0  \\n\",","       \"3656        1.0             1.0         0.0  \\n\",","       \"\\n\",","       \"[3657 rows x 9 columns]\"","      ]","     },","     \"execution_count\": 157,","     \"metadata\": {},","     \"output_type\": \"execute_result\"","    }","   ],","   \"source\": [","    \"\\n\",","    \"# Encode each categorical column separately\\n\",","    \"new_car_data = new_car_data.copy()\\n\",","    \"ord_enc = OrdinalEncoder()\\n\",","    \"new_car_data[\\\"fuel_type\\\"] = ord_enc.fit_transform(new_car_data[[\\\"fuel\\\"]])\\n\",","    \"new_car_data[\\\"type_of_seller\\\"] = ord_enc.fit_transform(new_car_data[[\\\"seller_type\\\"]])\\n\",","    \"new_car_data[\\\"owner_type\\\"] = ord_enc.fit_transform(new_car_data[[\\\"owner\\\"]])\\n\",","    \"\\n\",","    \"new_car_data\"","   ]","  },","  {","   \"cell_type\": \"code\",","   \"execution_count\": 158,","   \"id\": \"496b4903-a0f5-4898-bd71-1de73b3e4ddd\",","   \"metadata\": {},","   \"outputs\": [","    {","     \"data\": {","      \"text/html\": [","       \"\u003cdiv\u003e\\n\",","       \"\u003cstyle scoped\u003e\\n\",","       \"    .dataframe tbody tr th:only-of-type {\\n\",","       \"        vertical-align: middle;\\n\",","       \"    }\\n\",","       \"\\n\",","       \"    .dataframe tbody tr th {\\n\",","       \"        vertical-align: top;\\n\",","       \"    }\\n\",","       \"\\n\",","       \"    .dataframe thead th {\\n\",","       \"        text-align: right;\\n\",","       \"    }\\n\",","       \"\u003c/style\u003e\\n\",","       \"\u003ctable border=\\\"1\\\" class=\\\"dataframe\\\"\u003e\\n\",","       \"  \u003cthead\u003e\\n\",","       \"    \u003ctr style=\\\"text-align: right;\\\"\u003e\\n\",","       \"      \u003cth\u003e\u003c/th\u003e\\n\",","       \"      \u003cth\u003eyear\u003c/th\u003e\\n\",","       \"      \u003cth\u003ekm_driven\u003c/th\u003e\\n\",","       \"      \u003cth\u003eselling_price\u003c/th\u003e\\n\",","       \"      \u003cth\u003efuel_type\u003c/th\u003e\\n\",","       \"      \u003cth\u003etype_of_seller\u003c/th\u003e\\n\",","       \"      \u003cth\u003eowner_type\u003c/th\u003e\\n\",","       \"    \u003c/tr\u003e\\n\",","       \"  \u003c/thead\u003e\\n\",","       \"  \u003ctbody\u003e\\n\",","       \"    \u003ctr\u003e\\n\",","       \"      \u003cth\u003e0\u003c/th\u003e\\n\",","       \"      \u003ctd\u003e2007.0\u003c/td\u003e\\n\",","       \"      \u003ctd\u003e70000\u003c/td\u003e\\n\",","       \"      \u003ctd\u003e60000\u003c/td\u003e\\n\",","       \"      \u003ctd\u003e1.0\u003c/td\u003e\\n\",","       \"      \u003ctd\u003e1.0\u003c/td\u003e\\n\",","       \"      \u003ctd\u003e0.0\u003c/td\u003e\\n\",","       \"    \u003c/tr\u003e\\n\",","       \"    \u003ctr\u003e\\n\",","       \"      \u003cth\u003e1\u003c/th\u003e\\n\",","       \"      \u003ctd\u003e2007.0\u003c/td\u003e\\n\",","       \"      \u003ctd\u003e50000\u003c/td\u003e\\n\",","       \"      \u003ctd\u003e135000\u003c/td\u003e\\n\",","       \"      \u003ctd\u003e1.0\u003c/td\u003e\\n\",","       \"      \u003ctd\u003e1.0\u003c/td\u003e\\n\",","       \"      \u003ctd\u003e0.0\u003c/td\u003e\\n\",","       \"    \u003c/tr\u003e\\n\",","       \"    \u003ctr\u003e\\n\",","       \"      \u003cth\u003e2\u003c/th\u003e\\n\",","       \"      \u003ctd\u003e2012.0\u003c/td\u003e\\n\",","       \"      \u003ctd\u003e100000\u003c/td\u003e\\n\",","       \"      \u003ctd\u003e600000\u003c/td\u003e\\n\",","       \"      \u003ctd\u003e0.0\u003c/td\u003e\\n\",","       \"      \u003ctd\u003e1.0\u003c/td\u003e\\n\",","       \"      \u003ctd\u003e0.0\u003c/td\u003e\\n\",","       \"    \u003c/tr\u003e\\n\",","       \"    \u003ctr\u003e\\n\",","       \"      \u003cth\u003e3\u003c/th\u003e\\n\",","       \"      \u003ctd\u003e2017.0\u003c/td\u003e\\n\",","       \"      \u003ctd\u003e46000\u003c/td\u003e\\n\",","       \"      \u003ctd\u003e250000\u003c/td\u003e\\n\",","       \"      \u003ctd\u003e1.0\u003c/td\u003e\\n\",","       \"      \u003ctd\u003e1.0\u003c/td\u003e\\n\",","       \"      \u003ctd\u003e0.0\u003c/td\u003e\\n\",","       \"    \u003c/tr\u003e\\n\",","       \"    \u003ctr\u003e\\n\",","       \"      \u003cth\u003e4\u003c/th\u003e\\n\",","       \"      \u003ctd\u003e2014.0\u003c/td\u003e\\n\",","       \"      \u003ctd\u003e141000\u003c/td\u003e\\n\",","       \"      \u003ctd\u003e450000\u003c/td\u003e\\n\",","       \"      \u003ctd\u003e0.0\u003c/td\u003e\\n\",","       \"      \u003ctd\u003e1.0\u003c/td\u003e\\n\",","       \"      \u003ctd\u003e1.0\u003c/td\u003e\\n\",","       \"    \u003c/tr\u003e\\n\",","       \"  \u003c/tbody\u003e\\n\",","       \"\u003c/table\u003e\\n\",","       \"\u003c/div\u003e\"","      ],","      \"text/plain\": [","       \"     year  km_driven  selling_price  fuel_type  type_of_seller  owner_type\\n\",","       \"0  2007.0      70000          60000        1.0             1.0         0.0\\n\",","       \"1  2007.0      50000         135000        1.0             1.0         0.0\\n\",","       \"2  2012.0     100000         600000        0.0             1.0         0.0\\n\",","       \"3  2017.0      46000         250000        1.0             1.0         0.0\\n\",","       \"4  2014.0     141000         450000        0.0             1.0         1.0\"","      ]","     },","     \"execution_count\": 158,","     \"metadata\": {},","     \"output_type\": \"execute_result\"","    }","   ],","   \"source\": [","    \"# Drop the new columns so that they don't get repeated...\\n\",","    \"new_car_data = new_car_data.drop(columns= ['fuel', 'owner', 'seller_type'])\\n\",","    \"\\n\",","    \"# print the first 12 values to check if the ordinal encoder actually worked ..\\n\",","    \"new_car_data.head()\"","   ]","  },","  {","   \"cell_type\": \"code\",","   \"execution_count\": 159,","   \"id\": \"ed60bc57-4d46-436d-87ac-0d37cc752f55\",","   \"metadata\": {},","   \"outputs\": [","    {","     \"data\": {","      \"text/html\": [","       \"\u003cdiv\u003e\\n\",","       \"\u003cstyle scoped\u003e\\n\",","       \"    .dataframe tbody tr th:only-of-type {\\n\",","       \"        vertical-align: middle;\\n\",","       \"    }\\n\",","       \"\\n\",","       \"    .dataframe tbody tr th {\\n\",","       \"        vertical-align: top;\\n\",","       \"    }\\n\",","       \"\\n\",","       \"    .dataframe thead th {\\n\",","       \"        text-align: right;\\n\",","       \"    }\\n\",","       \"\u003c/style\u003e\\n\",","       \"\u003ctable border=\\\"1\\\" class=\\\"dataframe\\\"\u003e\\n\",","       \"  \u003cthead\u003e\\n\",","       \"    \u003ctr style=\\\"text-align: right;\\\"\u003e\\n\",","       \"      \u003cth\u003e\u003c/th\u003e\\n\",","       \"      \u003cth\u003eyear\u003c/th\u003e\\n\",","       \"      \u003cth\u003ekm_driven\u003c/th\u003e\\n\",","       \"      \u003cth\u003eselling_price\u003c/th\u003e\\n\",","       \"      \u003cth\u003efuel_type\u003c/th\u003e\\n\",","       \"      \u003cth\u003etype_of_seller\u003c/th\u003e\\n\",","       \"      \u003cth\u003eowner_type\u003c/th\u003e\\n\",","       \"    \u003c/tr\u003e\\n\",","       \"  \u003c/thead\u003e\\n\",","       \"  \u003ctbody\u003e\\n\",","       \"    \u003ctr\u003e\\n\",","       \"      \u003cth\u003eyear\u003c/th\u003e\\n\",","       \"      \u003ctd\u003e1.000000\u003c/td\u003e\\n\",","       \"      \u003ctd\u003e-0.404058\u003c/td\u003e\\n\",","       \"      \u003ctd\u003e0.411103\u003c/td\u003e\\n\",","       \"      \u003ctd\u003e-0.118542\u003c/td\u003e\\n\",","       \"      \u003ctd\u003e-0.139135\u003c/td\u003e\\n\",","       \"      \u003ctd\u003e-0.433406\u003c/td\u003e\\n\",","       \"    \u003c/tr\u003e\\n\",","       \"    \u003ctr\u003e\\n\",","       \"      \u003cth\u003ekm_driven\u003c/th\u003e\\n\",","       \"      \u003ctd\u003e-0.404058\u003c/td\u003e\\n\",","       \"      \u003ctd\u003e1.000000\u003c/td\u003e\\n\",","       \"      \u003ctd\u003e-0.177203\u003c/td\u003e\\n\",","       \"      \u003ctd\u003e-0.297764\u003c/td\u003e\\n\",","       \"      \u003ctd\u003e0.147376\u003c/td\u003e\\n\",","       \"      \u003ctd\u003e0.306730\u003c/td\u003e\\n\",","       \"    \u003c/tr\u003e\\n\",","       \"    \u003ctr\u003e\\n\",","       \"      \u003cth\u003eselling_price\u003c/th\u003e\\n\",","       \"      \u003ctd\u003e0.411103\u003c/td\u003e\\n\",","       \"      \u003ctd\u003e-0.177203\u003c/td\u003e\\n\",","       \"      \u003ctd\u003e1.000000\u003c/td\u003e\\n\",","       \"      \u003ctd\u003e-0.277627\u003c/td\u003e\\n\",","       \"      \u003ctd\u003e-0.208637\u003c/td\u003e\\n\",","       \"      \u003ctd\u003e-0.205524\u003c/td\u003e\\n\",","       \"    \u003c/tr\u003e\\n\",","       \"    \u003ctr\u003e\\n\",","       \"      \u003cth\u003efuel_type\u003c/th\u003e\\n\",","       \"      \u003ctd\u003e-0.118542\u003c/td\u003e\\n\",","       \"      \u003ctd\u003e-0.297764\u003c/td\u003e\\n\",","       \"      \u003ctd\u003e-0.277627\u003c/td\u003e\\n\",","       \"      \u003ctd\u003e1.000000\u003c/td\u003e\\n\",","       \"      \u003ctd\u003e0.036755\u003c/td\u003e\\n\",","       \"      \u003ctd\u003e-0.017217\u003c/td\u003e\\n\",","       \"    \u003c/tr\u003e\\n\",","       \"    \u003ctr\u003e\\n\",","       \"      \u003cth\u003etype_of_seller\u003c/th\u003e\\n\",","       \"      \u003ctd\u003e-0.139135\u003c/td\u003e\\n\",","       \"      \u003ctd\u003e0.147376\u003c/td\u003e\\n\",","       \"      \u003ctd\u003e-0.208637\u003c/td\u003e\\n\",","       \"      \u003ctd\u003e0.036755\u003c/td\u003e\\n\",","       \"      \u003ctd\u003e1.000000\u003c/td\u003e\\n\",","       \"      \u003ctd\u003e0.239288\u003c/td\u003e\\n\",","       \"    \u003c/tr\u003e\\n\",","       \"    \u003ctr\u003e\\n\",","       \"      \u003cth\u003eowner_type\u003c/th\u003e\\n\",","       \"      \u003ctd\u003e-0.433406\u003c/td\u003e\\n\",","       \"      \u003ctd\u003e0.306730\u003c/td\u003e\\n\",","       \"      \u003ctd\u003e-0.205524\u003c/td\u003e\\n\",","       \"      \u003ctd\u003e-0.017217\u003c/td\u003e\\n\",","       \"      \u003ctd\u003e0.239288\u003c/td\u003e\\n\",","       \"      \u003ctd\u003e1.000000\u003c/td\u003e\\n\",","       \"    \u003c/tr\u003e\\n\",","       \"  \u003c/tbody\u003e\\n\",","       \"\u003c/table\u003e\\n\",","       \"\u003c/div\u003e\"","      ],","      \"text/plain\": [","       \"                    year  km_driven  selling_price  fuel_type  type_of_seller  \\\\\\n\",","       \"year            1.000000  -0.404058       0.411103  -0.118542       -0.139135   \\n\",","       \"km_driven      -0.404058   1.000000      -0.177203  -0.297764        0.147376   \\n\",","       \"selling_price   0.411103  -0.177203       1.000000  -0.277627       -0.208637   \\n\",","       \"fuel_type      -0.118542  -0.297764      -0.277627   1.000000        0.036755   \\n\",","       \"type_of_seller -0.139135   0.147376      -0.208637   0.036755        1.000000   \\n\",","       \"owner_type     -0.433406   0.306730      -0.205524  -0.017217        0.239288   \\n\",","       \"\\n\",","       \"                owner_type  \\n\",","       \"year             -0.433406  \\n\",","       \"km_driven         0.306730  \\n\",","       \"selling_price    -0.205524  \\n\",","       \"fuel_type        -0.017217  \\n\",","       \"type_of_seller    0.239288  \\n\",","       \"owner_type        1.000000  \"","      ]","     },","     \"execution_count\": 159,","     \"metadata\": {},","     \"output_type\": \"execute_result\"","    }","   ],","   \"source\": [","    \"#Finding the correlation between the various features...\\n\",","    \"# year/km_driven/seller_type/fuel/owner and selling_price\\n\",","    \"new_car_data.corr()\\n\"","   ]","  },","  {","   \"cell_type\": \"markdown\",","   \"id\": \"18d05784-8903-4c6d-a902-f1f9058174bb\",","   \"metadata\": {},","   \"source\": [","    \"### Analysis from the Correlation\\n\",","    \"\\n\",","    \"* From the above correlation table, we can see that the selling price does not have good correlation with most features except 'year' . However, we will also take other features for the calculation for this specific question...\"","   ]","  },","  {","   \"cell_type\": \"markdown\",","   \"id\": \"C3DFUuGXklO_\",","   \"metadata\": {","    \"id\": \"C3DFUuGXklO_\"","   },","   \"source\": [","    \"### Q3: Split Training and Testing Data\\n\",","    \"* Machine learning models are trained to help make predictions for the future. Normally, we need to randomly split the dataset into training and testing sets, where we use the training set to train the model, and then leverage the well-trained model to make predictions on the testing set.\\n\",","    \"* To further investigate whether the size of the training/testing data affects the model performance, please randomly split the data into training and testing sets with different sizes:\\n\",","    \"    * Case 1: training data containing 10% of the entire data;\\n\",","    \"    * Case 2: training data containing 90% of the entire data.\\n\",","    \"* Print the shape of training and testing sets in the two cases.\"","   ]","  },","  {","   \"cell_type\": \"code\",","   \"execution_count\": 162,","   \"id\": \"47f6b5cd\",","   \"metadata\": {},","   \"outputs\": [","    {","     \"name\": \"stdout\",","     \"output_type\": \"stream\",","     \"text\": [","      \"The size of training data is : (3291, 6)\\n\",","      \"The size of testing data is :  (366, 6)\\n\"","     ]","    }","   ],","   \"source\": [","    \"#CASE 1 :- Splitting training and testing data as 10 % and 90 % ratio.\\n\",","    \"train1, test1 = train_test_split(new_car_data, test_size = 0.1, random_state = 142)\\n\",","    \"\\n\",","    \"print(\\\"The size of training data is :\\\",train1.shape)\\n\",","    \"print(\\\"The size of testing data is : \\\",test1.shape)\"","   ]","  },","  {","   \"cell_type\": \"code\",","   \"execution_count\": 163,","   \"id\": \"49f0f1bb-5150-470b-b724-642b0a4066cc\",","   \"metadata\": {},","   \"outputs\": [","    {","     \"name\": \"stdout\",","     \"output_type\": \"stream\",","     \"text\": [","      \"The size of training data is : (2925, 6)\\n\",","      \"The size of testing data is :  (732, 6)\\n\"","     ]","    }","   ],","   \"source\": [","    \"#CASE 2 :- Splitting 20 % of data as training data...\\n\",","    \"train2, test2 = train_test_split(new_car_data, test_size = 0.2, random_state = 142)\\n\",","    \"\\n\",","    \"print(\\\"The size of training data is :\\\",train2.shape)\\n\",","    \"print(\\\"The size of testing data is : \\\",test2.shape)\"","   ]","  },","  {","   \"cell_type\": \"markdown\",","   \"id\": \"WiNRCPFoklO_\",","   \"metadata\": {","    \"id\": \"WiNRCPFoklO_\"","   },","   \"source\": [","    \"### Q4: Train Linear Regression Models with Feature Selection under Cases 1 \u0026 2\\n\",","    \"* When training a machine learning model for prediction, we may need to select the most important/correlated input features for more accurate results.\\n\",","    \"* To investigate whether feature selection affects the model performance, please select two most correlated features and two least correlated features regarding selling_price, respectively.\\n\",","    \"* Train four linear regression models by following the conditions:\\n\",","    \"    - (model-a) using the training/testing data in case 1 with two most correlated input features\\n\",","    \"    - (model-b) using the training/testing data in case 1 with two least correlated input features\\n\",","    \"    - (model-c) using the training/testing data in case 2 with two most correlated input features\\n\",","    \"    - (model-d) using the training/testing data in case 2 with two least correlated input features\\n\",","    \"* By doing this, we can verify the impacts of the size of traing/testing data on the model performance via comparing model-a and model-c (or model-b and model-d); meanwhile the impacts of feature selection can be validated via comparing model-a and model-b (or model-c and model-d).    \"","   ]","  },","  {","   \"cell_type\": \"code\",","   \"execution_count\": 165,","   \"id\": \"7bcd6158\",","   \"metadata\": {},","   \"outputs\": [","    {","     \"data\": {","      \"text/html\": [","       \"\u003cdiv\u003e\\n\",","       \"\u003cstyle scoped\u003e\\n\",","       \"    .dataframe tbody tr th:only-of-type {\\n\",","       \"        vertical-align: middle;\\n\",","       \"    }\\n\",","       \"\\n\",","       \"    .dataframe tbody tr th {\\n\",","       \"        vertical-align: top;\\n\",","       \"    }\\n\",","       \"\\n\",","       \"    .dataframe thead th {\\n\",","       \"        text-align: right;\\n\",","       \"    }\\n\",","       \"\u003c/style\u003e\\n\",","       \"\u003ctable border=\\\"1\\\" class=\\\"dataframe\\\"\u003e\\n\",","       \"  \u003cthead\u003e\\n\",","       \"    \u003ctr style=\\\"text-align: right;\\\"\u003e\\n\",","       \"      \u003cth\u003e\u003c/th\u003e\\n\",","       \"      \u003cth\u003efuel_type\u003c/th\u003e\\n\",","       \"      \u003cth\u003eyear\u003c/th\u003e\\n\",","       \"    \u003c/tr\u003e\\n\",","       \"  \u003c/thead\u003e\\n\",","       \"  \u003ctbody\u003e\\n\",","       \"    \u003ctr\u003e\\n\",","       \"      \u003cth\u003e2927\u003c/th\u003e\\n\",","       \"      \u003ctd\u003e1.0\u003c/td\u003e\\n\",","       \"      \u003ctd\u003e2012.0\u003c/td\u003e\\n\",","       \"    \u003c/tr\u003e\\n\",","       \"    \u003ctr\u003e\\n\",","       \"      \u003cth\u003e1037\u003c/th\u003e\\n\",","       \"      \u003ctd\u003e0.0\u003c/td\u003e\\n\",","       \"      \u003ctd\u003e2016.0\u003c/td\u003e\\n\",","       \"    \u003c/tr\u003e\\n\",","       \"    \u003ctr\u003e\\n\",","       \"      \u003cth\u003e2630\u003c/th\u003e\\n\",","       \"      \u003ctd\u003e0.0\u003c/td\u003e\\n\",","       \"      \u003ctd\u003e2013.0\u003c/td\u003e\\n\",","       \"    \u003c/tr\u003e\\n\",","       \"    \u003ctr\u003e\\n\",","       \"      \u003cth\u003e1077\u003c/th\u003e\\n\",","       \"      \u003ctd\u003e1.0\u003c/td\u003e\\n\",","       \"      \u003ctd\u003e2013.0\u003c/td\u003e\\n\",","       \"    \u003c/tr\u003e\\n\",","       \"    \u003ctr\u003e\\n\",","       \"      \u003cth\u003e2085\u003c/th\u003e\\n\",","       \"      \u003ctd\u003e0.0\u003c/td\u003e\\n\",","       \"      \u003ctd\u003e2013.0\u003c/td\u003e\\n\",","       \"    \u003c/tr\u003e\\n\",","       \"    \u003ctr\u003e\\n\",","       \"      \u003cth\u003e...\u003c/th\u003e\\n\",","       \"      \u003ctd\u003e...\u003c/td\u003e\\n\",","       \"      \u003ctd\u003e...\u003c/td\u003e\\n\",","       \"    \u003c/tr\u003e\\n\",","       \"    \u003ctr\u003e\\n\",","       \"      \u003cth\u003e3340\u003c/th\u003e\\n\",","       \"      \u003ctd\u003e1.0\u003c/td\u003e\\n\",","       \"      \u003ctd\u003e2015.0\u003c/td\u003e\\n\",","       \"    \u003c/tr\u003e\\n\",","       \"    \u003ctr\u003e\\n\",","       \"      \u003cth\u003e511\u003c/th\u003e\\n\",","       \"      \u003ctd\u003e0.0\u003c/td\u003e\\n\",","       \"      \u003ctd\u003e2012.0\u003c/td\u003e\\n\",","       \"    \u003c/tr\u003e\\n\",","       \"    \u003ctr\u003e\\n\",","       \"      \u003cth\u003e2459\u003c/th\u003e\\n\",","       \"      \u003ctd\u003e1.0\u003c/td\u003e\\n\",","       \"      \u003ctd\u003e2010.0\u003c/td\u003e\\n\",","       \"    \u003c/tr\u003e\\n\",","       \"    \u003ctr\u003e\\n\",","       \"      \u003cth\u003e3269\u003c/th\u003e\\n\",","       \"      \u003ctd\u003e1.0\u003c/td\u003e\\n\",","       \"      \u003ctd\u003e2007.0\u003c/td\u003e\\n\",","       \"    \u003c/tr\u003e\\n\",","       \"    \u003ctr\u003e\\n\",","       \"      \u003cth\u003e277\u003c/th\u003e\\n\",","       \"      \u003ctd\u003e0.0\u003c/td\u003e\\n\",","       \"      \u003ctd\u003e2012.0\u003c/td\u003e\\n\",","       \"    \u003c/tr\u003e\\n\",","       \"  \u003c/tbody\u003e\\n\",","       \"\u003c/table\u003e\\n\",","       \"\u003cp\u003e3291 rows × 2 columns\u003c/p\u003e\\n\",","       \"\u003c/div\u003e\"","      ],","      \"text/plain\": [","       \"      fuel_type    year\\n\",","       \"2927        1.0  2012.0\\n\",","       \"1037        0.0  2016.0\\n\",","       \"2630        0.0  2013.0\\n\",","       \"1077        1.0  2013.0\\n\",","       \"2085        0.0  2013.0\\n\",","       \"...         ...     ...\\n\",","       \"3340        1.0  2015.0\\n\",","       \"511         0.0  2012.0\\n\",","       \"2459        1.0  2010.0\\n\",","       \"3269        1.0  2007.0\\n\",","       \"277         0.0  2012.0\\n\",","       \"\\n\",","       \"[3291 rows x 2 columns]\"","      ]","     },","     \"execution_count\": 165,","     \"metadata\": {},","     \"output_type\": \"execute_result\"","    }","   ],","   \"source\": [","    \"# Training the linear regression model with various conditions:\\n\",","    \"# Here we take the most correlated features from the above data, which are, \\\"year\\\" and \\\"fuel_type\\\"\\n\",","    \"\\n\",","    \"# Model - A ( Most correlated features and Train/Test Ratio as 10/90)\\n\",","    \"X_train_A = train1[['fuel_type', 'year']]\\n\",","    \"y_train_A = train1['selling_price']\\n\",","    \"X_test_A = test1[['fuel_type', 'year']]\\n\",","    \"y_test_A = test1['selling_price']\\n\",","    \"\\n\",","    \"#Check if the training data was successful\\n\",","    \"X_train_A\"","   ]","  },","  {","   \"cell_type\": \"code\",","   \"execution_count\": 166,","   \"id\": \"4e2cd0e9-84c5-4f5d-a624-ade745bc2deb\",","   \"metadata\": {},","   \"outputs\": [","    {","     \"data\": {","      \"text/html\": [","       \"\u003cstyle\u003e#sk-container-id-11 {color: black;background-color: white;}#sk-container-id-11 pre{padding: 0;}#sk-container-id-11 div.sk-toggleable {background-color: white;}#sk-container-id-11 label.sk-toggleable__label {cursor: pointer;display: block;width: 100%;margin-bottom: 0;padding: 0.3em;box-sizing: border-box;text-align: center;}#sk-container-id-11 label.sk-toggleable__label-arrow:before {content: \\\"▸\\\";float: left;margin-right: 0.25em;color: #696969;}#sk-container-id-11 label.sk-toggleable__label-arrow:hover:before {color: black;}#sk-container-id-11 div.sk-estimator:hover label.sk-toggleable__label-arrow:before {color: black;}#sk-container-id-11 div.sk-toggleable__content {max-height: 0;max-width: 0;overflow: hidden;text-align: left;background-color: #f0f8ff;}#sk-container-id-11 div.sk-toggleable__content pre {margin: 0.2em;color: black;border-radius: 0.25em;background-color: #f0f8ff;}#sk-container-id-11 input.sk-toggleable__control:checked~div.sk-toggleable__content {max-height: 200px;max-width: 100%;overflow: auto;}#sk-container-id-11 input.sk-toggleable__control:checked~label.sk-toggleable__label-arrow:before {content: \\\"▾\\\";}#sk-container-id-11 div.sk-estimator input.sk-toggleable__control:checked~label.sk-toggleable__label {background-color: #d4ebff;}#sk-container-id-11 div.sk-label input.sk-toggleable__control:checked~label.sk-toggleable__label {background-color: #d4ebff;}#sk-container-id-11 input.sk-hidden--visually {border: 0;clip: rect(1px 1px 1px 1px);clip: rect(1px, 1px, 1px, 1px);height: 1px;margin: -1px;overflow: hidden;padding: 0;position: absolute;width: 1px;}#sk-container-id-11 div.sk-estimator {font-family: monospace;background-color: #f0f8ff;border: 1px dotted black;border-radius: 0.25em;box-sizing: border-box;margin-bottom: 0.5em;}#sk-container-id-11 div.sk-estimator:hover {background-color: #d4ebff;}#sk-container-id-11 div.sk-parallel-item::after {content: \\\"\\\";width: 100%;border-bottom: 1px solid gray;flex-grow: 1;}#sk-container-id-11 div.sk-label:hover label.sk-toggleable__label {background-color: #d4ebff;}#sk-container-id-11 div.sk-serial::before {content: \\\"\\\";position: absolute;border-left: 1px solid gray;box-sizing: border-box;top: 0;bottom: 0;left: 50%;z-index: 0;}#sk-container-id-11 div.sk-serial {display: flex;flex-direction: column;align-items: center;background-color: white;padding-right: 0.2em;padding-left: 0.2em;position: relative;}#sk-container-id-11 div.sk-item {position: relative;z-index: 1;}#sk-container-id-11 div.sk-parallel {display: flex;align-items: stretch;justify-content: center;background-color: white;position: relative;}#sk-container-id-11 div.sk-item::before, #sk-container-id-11 div.sk-parallel-item::before {content: \\\"\\\";position: absolute;border-left: 1px solid gray;box-sizing: border-box;top: 0;bottom: 0;left: 50%;z-index: -1;}#sk-container-id-11 div.sk-parallel-item {display: flex;flex-direction: column;z-index: 1;position: relative;background-color: white;}#sk-container-id-11 div.sk-parallel-item:first-child::after {align-self: flex-end;width: 50%;}#sk-container-id-11 div.sk-parallel-item:last-child::after {align-self: flex-start;width: 50%;}#sk-container-id-11 div.sk-parallel-item:only-child::after {width: 0;}#sk-container-id-11 div.sk-dashed-wrapped {border: 1px dashed gray;margin: 0 0.4em 0.5em 0.4em;box-sizing: border-box;padding-bottom: 0.4em;background-color: white;}#sk-container-id-11 div.sk-label label {font-family: monospace;font-weight: bold;display: inline-block;line-height: 1.2em;}#sk-container-id-11 div.sk-label-container {text-align: center;}#sk-container-id-11 div.sk-container {/* jupyter's `normalize.less` sets `[hidden] { display: none; }` but bootstrap.min.css set `[hidden] { display: none !important; }` so we also need the `!important` here to be able to override the default hidden behavior on the sphinx rendered scikit-learn.org. See: https://github.com/scikit-learn/scikit-learn/issues/21755 */display: inline-block !important;position: relative;}#sk-container-id-11 div.sk-text-repr-fallback {display: none;}\u003c/style\u003e\u003cdiv id=\\\"sk-container-id-11\\\" class=\\\"sk-top-container\\\"\u003e\u003cdiv class=\\\"sk-text-repr-fallback\\\"\u003e\u003cpre\u003eLinearRegression()\u003c/pre\u003e\u003cb\u003eIn a Jupyter environment, please rerun this cell to show the HTML representation or trust the notebook. \u003cbr /\u003eOn GitHub, the HTML representation is unable to render, please try loading this page with nbviewer.org.\u003c/b\u003e\u003c/div\u003e\u003cdiv class=\\\"sk-container\\\" hidden\u003e\u003cdiv class=\\\"sk-item\\\"\u003e\u003cdiv class=\\\"sk-estimator sk-toggleable\\\"\u003e\u003cinput class=\\\"sk-toggleable__control sk-hidden--visually\\\" id=\\\"sk-estimator-id-11\\\" type=\\\"checkbox\\\" checked\u003e\u003clabel for=\\\"sk-estimator-id-11\\\" class=\\\"sk-toggleable__label sk-toggleable__label-arrow\\\"\u003eLinearRegression\u003c/label\u003e\u003cdiv class=\\\"sk-toggleable__content\\\"\u003e\u003cpre\u003eLinearRegression()\u003c/pre\u003e\u003c/div\u003e\u003c/div\u003e\u003c/div\u003e\u003c/div\u003e\u003c/div\u003e\"","      ],","      \"text/plain\": [","       \"LinearRegression()\"","      ]","     },","     \"execution_count\": 166,","     \"metadata\": {},","     \"output_type\": \"execute_result\"","    }","   ],","   \"source\": [","    \"# Building the Linear Regression Model for training data\\n\",","    \"reg_A = linear_model.LinearRegression()\\n\",","    \"#Fitting the model\\n\",","    \"reg_A.fit(X_train_A,y_train_A)\"","   ]","  },","  {","   \"cell_type\": \"code\",","   \"execution_count\": 203,","   \"id\": \"1a810f9b-7456-4f69-bedd-e4f31c865530\",","   \"metadata\": {},","   \"outputs\": [","    {","     \"data\": {","      \"text/html\": [","       \"\u003cstyle\u003e#sk-container-id-15 {color: black;background-color: white;}#sk-container-id-15 pre{padding: 0;}#sk-container-id-15 div.sk-toggleable {background-color: white;}#sk-container-id-15 label.sk-toggleable__label {cursor: pointer;display: block;width: 100%;margin-bottom: 0;padding: 0.3em;box-sizing: border-box;text-align: center;}#sk-container-id-15 label.sk-toggleable__label-arrow:before {content: \\\"▸\\\";float: left;margin-right: 0.25em;color: #696969;}#sk-container-id-15 label.sk-toggleable__label-arrow:hover:before {color: black;}#sk-container-id-15 div.sk-estimator:hover label.sk-toggleable__label-arrow:before {color: black;}#sk-container-id-15 div.sk-toggleable__content {max-height: 0;max-width: 0;overflow: hidden;text-align: left;background-color: #f0f8ff;}#sk-container-id-15 div.sk-toggleable__content pre {margin: 0.2em;color: black;border-radius: 0.25em;background-color: #f0f8ff;}#sk-container-id-15 input.sk-toggleable__control:checked~div.sk-toggleable__content {max-height: 200px;max-width: 100%;overflow: auto;}#sk-container-id-15 input.sk-toggleable__control:checked~label.sk-toggleable__label-arrow:before {content: \\\"▾\\\";}#sk-container-id-15 div.sk-estimator input.sk-toggleable__control:checked~label.sk-toggleable__label {background-color: #d4ebff;}#sk-container-id-15 div.sk-label input.sk-toggleable__control:checked~label.sk-toggleable__label {background-color: #d4ebff;}#sk-container-id-15 input.sk-hidden--visually {border: 0;clip: rect(1px 1px 1px 1px);clip: rect(1px, 1px, 1px, 1px);height: 1px;margin: -1px;overflow: hidden;padding: 0;position: absolute;width: 1px;}#sk-container-id-15 div.sk-estimator {font-family: monospace;background-color: #f0f8ff;border: 1px dotted black;border-radius: 0.25em;box-sizing: border-box;margin-bottom: 0.5em;}#sk-container-id-15 div.sk-estimator:hover {background-color: #d4ebff;}#sk-container-id-15 div.sk-parallel-item::after {content: \\\"\\\";width: 100%;border-bottom: 1px solid gray;flex-grow: 1;}#sk-container-id-15 div.sk-label:hover label.sk-toggleable__label {background-color: #d4ebff;}#sk-container-id-15 div.sk-serial::before {content: \\\"\\\";position: absolute;border-left: 1px solid gray;box-sizing: border-box;top: 0;bottom: 0;left: 50%;z-index: 0;}#sk-container-id-15 div.sk-serial {display: flex;flex-direction: column;align-items: center;background-color: white;padding-right: 0.2em;padding-left: 0.2em;position: relative;}#sk-container-id-15 div.sk-item {position: relative;z-index: 1;}#sk-container-id-15 div.sk-parallel {display: flex;align-items: stretch;justify-content: center;background-color: white;position: relative;}#sk-container-id-15 div.sk-item::before, #sk-container-id-15 div.sk-parallel-item::before {content: \\\"\\\";position: absolute;border-left: 1px solid gray;box-sizing: border-box;top: 0;bottom: 0;left: 50%;z-index: -1;}#sk-container-id-15 div.sk-parallel-item {display: flex;flex-direction: column;z-index: 1;position: relative;background-color: white;}#sk-container-id-15 div.sk-parallel-item:first-child::after {align-self: flex-end;width: 50%;}#sk-container-id-15 div.sk-parallel-item:last-child::after {align-self: flex-start;width: 50%;}#sk-container-id-15 div.sk-parallel-item:only-child::after {width: 0;}#sk-container-id-15 div.sk-dashed-wrapped {border: 1px dashed gray;margin: 0 0.4em 0.5em 0.4em;box-sizing: border-box;padding-bottom: 0.4em;background-color: white;}#sk-container-id-15 div.sk-label label {font-family: monospace;font-weight: bold;display: inline-block;line-height: 1.2em;}#sk-container-id-15 div.sk-label-container {text-align: center;}#sk-container-id-15 div.sk-container {/* jupyter's `normalize.less` sets `[hidden] { display: none; }` but bootstrap.min.css set `[hidden] { display: none !important; }` so we also need the `!important` here to be able to override the default hidden behavior on the sphinx rendered scikit-learn.org. See: https://github.com/scikit-learn/scikit-learn/issues/21755 */display: inline-block !important;position: relative;}#sk-container-id-15 div.sk-text-repr-fallback {display: none;}\u003c/style\u003e\u003cdiv id=\\\"sk-container-id-15\\\" class=\\\"sk-top-container\\\"\u003e\u003cdiv class=\\\"sk-text-repr-fallback\\\"\u003e\u003cpre\u003eLinearRegression()\u003c/pre\u003e\u003cb\u003eIn a Jupyter environment, please rerun this cell to show the HTML representation or trust the notebook. \u003cbr /\u003eOn GitHub, the HTML representation is unable to render, please try loading this page with nbviewer.org.\u003c/b\u003e\u003c/div\u003e\u003cdiv class=\\\"sk-container\\\" hidden\u003e\u003cdiv class=\\\"sk-item\\\"\u003e\u003cdiv class=\\\"sk-estimator sk-toggleable\\\"\u003e\u003cinput class=\\\"sk-toggleable__control sk-hidden--visually\\\" id=\\\"sk-estimator-id-15\\\" type=\\\"checkbox\\\" checked\u003e\u003clabel for=\\\"sk-estimator-id-15\\\" class=\\\"sk-toggleable__label sk-toggleable__label-arrow\\\"\u003eLinearRegression\u003c/label\u003e\u003cdiv class=\\\"sk-toggleable__content\\\"\u003e\u003cpre\u003eLinearRegression()\u003c/pre\u003e\u003c/div\u003e\u003c/div\u003e\u003c/div\u003e\u003c/div\u003e\u003c/div\u003e\"","      ],","      \"text/plain\": [","       \"LinearRegression()\"","      ]","     },","     \"execution_count\": 203,","     \"metadata\": {},","     \"output_type\": \"execute_result\"","    }","   ],","   \"source\": [","    \"# Building the Linear Regression Model for testing data and fitting the model..\\n\",","    \"reg_A_test = linear_model.LinearRegression()\\n\",","    \"\\n\",","    \"reg_A_test.fit(X_test_A,y_test_A)\"","   ]","  },","  {","   \"cell_type\": \"code\",","   \"execution_count\": 167,","   \"id\": \"46073995-71d2-4e2b-9e18-9c6f49658892\",","   \"metadata\": {},","   \"outputs\": [],","   \"source\": [","    \"# Model - B ( Least correlated features ['km_driven' \u0026 'owner_type'] and Train/Test Ratio as 10/90)\\n\",","    \"X_train_B = train1[['km_driven', 'owner_type']]\\n\",","    \"y_train_B = train1['selling_price']\\n\",","    \"X_test_B = test1[['km_driven', 'owner_type']]\\n\",","    \"y_test_B = test1['selling_price']\"","   ]","  },","  {","   \"cell_type\": \"code\",","   \"execution_count\": 168,","   \"id\": \"c680946f-a8b3-4477-82bf-66660725cab5\",","   \"metadata\": {},","   \"outputs\": [","    {","     \"data\": {","      \"text/html\": [","       \"\u003cstyle\u003e#sk-container-id-12 {color: black;background-color: white;}#sk-container-id-12 pre{padding: 0;}#sk-container-id-12 div.sk-toggleable {background-color: white;}#sk-container-id-12 label.sk-toggleable__label {cursor: pointer;display: block;width: 100%;margin-bottom: 0;padding: 0.3em;box-sizing: border-box;text-align: center;}#sk-container-id-12 label.sk-toggleable__label-arrow:before {content: \\\"▸\\\";float: left;margin-right: 0.25em;color: #696969;}#sk-container-id-12 label.sk-toggleable__label-arrow:hover:before {color: black;}#sk-container-id-12 div.sk-estimator:hover label.sk-toggleable__label-arrow:before {color: black;}#sk-container-id-12 div.sk-toggleable__content {max-height: 0;max-width: 0;overflow: hidden;text-align: left;background-color: #f0f8ff;}#sk-container-id-12 div.sk-toggleable__content pre {margin: 0.2em;color: black;border-radius: 0.25em;background-color: #f0f8ff;}#sk-container-id-12 input.sk-toggleable__control:checked~div.sk-toggleable__content {max-height: 200px;max-width: 100%;overflow: auto;}#sk-container-id-12 input.sk-toggleable__control:checked~label.sk-toggleable__label-arrow:before {content: \\\"▾\\\";}#sk-container-id-12 div.sk-estimator input.sk-toggleable__control:checked~label.sk-toggleable__label {background-color: #d4ebff;}#sk-container-id-12 div.sk-label input.sk-toggleable__control:checked~label.sk-toggleable__label {background-color: #d4ebff;}#sk-container-id-12 input.sk-hidden--visually {border: 0;clip: rect(1px 1px 1px 1px);clip: rect(1px, 1px, 1px, 1px);height: 1px;margin: -1px;overflow: hidden;padding: 0;position: absolute;width: 1px;}#sk-container-id-12 div.sk-estimator {font-family: monospace;background-color: #f0f8ff;border: 1px dotted black;border-radius: 0.25em;box-sizing: border-box;margin-bottom: 0.5em;}#sk-container-id-12 div.sk-estimator:hover {background-color: #d4ebff;}#sk-container-id-12 div.sk-parallel-item::after {content: \\\"\\\";width: 100%;border-bottom: 1px solid gray;flex-grow: 1;}#sk-container-id-12 div.sk-label:hover label.sk-toggleable__label {background-color: #d4ebff;}#sk-container-id-12 div.sk-serial::before {content: \\\"\\\";position: absolute;border-left: 1px solid gray;box-sizing: border-box;top: 0;bottom: 0;left: 50%;z-index: 0;}#sk-container-id-12 div.sk-serial {display: flex;flex-direction: column;align-items: center;background-color: white;padding-right: 0.2em;padding-left: 0.2em;position: relative;}#sk-container-id-12 div.sk-item {position: relative;z-index: 1;}#sk-container-id-12 div.sk-parallel {display: flex;align-items: stretch;justify-content: center;background-color: white;position: relative;}#sk-container-id-12 div.sk-item::before, #sk-container-id-12 div.sk-parallel-item::before {content: \\\"\\\";position: absolute;border-left: 1px solid gray;box-sizing: border-box;top: 0;bottom: 0;left: 50%;z-index: -1;}#sk-container-id-12 div.sk-parallel-item {display: flex;flex-direction: column;z-index: 1;position: relative;background-color: white;}#sk-container-id-12 div.sk-parallel-item:first-child::after {align-self: flex-end;width: 50%;}#sk-container-id-12 div.sk-parallel-item:last-child::after {align-self: flex-start;width: 50%;}#sk-container-id-12 div.sk-parallel-item:only-child::after {width: 0;}#sk-container-id-12 div.sk-dashed-wrapped {border: 1px dashed gray;margin: 0 0.4em 0.5em 0.4em;box-sizing: border-box;padding-bottom: 0.4em;background-color: white;}#sk-container-id-12 div.sk-label label {font-family: monospace;font-weight: bold;display: inline-block;line-height: 1.2em;}#sk-container-id-12 div.sk-label-container {text-align: center;}#sk-container-id-12 div.sk-container {/* jupyter's `normalize.less` sets `[hidden] { display: none; }` but bootstrap.min.css set `[hidden] { display: none !important; }` so we also need the `!important` here to be able to override the default hidden behavior on the sphinx rendered scikit-learn.org. See: https://github.com/scikit-learn/scikit-learn/issues/21755 */display: inline-block !important;position: relative;}#sk-container-id-12 div.sk-text-repr-fallback {display: none;}\u003c/style\u003e\u003cdiv id=\\\"sk-container-id-12\\\" class=\\\"sk-top-container\\\"\u003e\u003cdiv class=\\\"sk-text-repr-fallback\\\"\u003e\u003cpre\u003eLinearRegression()\u003c/pre\u003e\u003cb\u003eIn a Jupyter environment, please rerun this cell to show the HTML representation or trust the notebook. \u003cbr /\u003eOn GitHub, the HTML representation is unable to render, please try loading this page with nbviewer.org.\u003c/b\u003e\u003c/div\u003e\u003cdiv class=\\\"sk-container\\\" hidden\u003e\u003cdiv class=\\\"sk-item\\\"\u003e\u003cdiv class=\\\"sk-estimator sk-toggleable\\\"\u003e\u003cinput class=\\\"sk-toggleable__control sk-hidden--visually\\\" id=\\\"sk-estimator-id-12\\\" type=\\\"checkbox\\\" checked\u003e\u003clabel for=\\\"sk-estimator-id-12\\\" class=\\\"sk-toggleable__label sk-toggleable__label-arrow\\\"\u003eLinearRegression\u003c/label\u003e\u003cdiv class=\\\"sk-toggleable__content\\\"\u003e\u003cpre\u003eLinearRegression()\u003c/pre\u003e\u003c/div\u003e\u003c/div\u003e\u003c/div\u003e\u003c/div\u003e\u003c/div\u003e\"","      ],","      \"text/plain\": [","       \"LinearRegression()\"","      ]","     },","     \"execution_count\": 168,","     \"metadata\": {},","     \"output_type\": \"execute_result\"","    }","   ],","   \"source\": [","    \"#Building the model and Fitting the model\\n\",","    \"reg_B = linear_model.LinearRegression()\\n\",","    \"reg_B.fit(X_train_B, y_train_B)\"","   ]","  },","  {","   \"cell_type\": \"code\",","   \"execution_count\": 205,","   \"id\": \"0de7eab4-9140-47b7-9bb8-c7c14b056b2b\",","   \"metadata\": {},","   \"outputs\": [","    {","     \"data\": {","      \"text/html\": [","       \"\u003cstyle\u003e#sk-container-id-16 {color: black;background-color: white;}#sk-container-id-16 pre{padding: 0;}#sk-container-id-16 div.sk-toggleable {background-color: white;}#sk-container-id-16 label.sk-toggleable__label {cursor: pointer;display: block;width: 100%;margin-bottom: 0;padding: 0.3em;box-sizing: border-box;text-align: center;}#sk-container-id-16 label.sk-toggleable__label-arrow:before {content: \\\"▸\\\";float: left;margin-right: 0.25em;color: #696969;}#sk-container-id-16 label.sk-toggleable__label-arrow:hover:before {color: black;}#sk-container-id-16 div.sk-estimator:hover label.sk-toggleable__label-arrow:before {color: black;}#sk-container-id-16 div.sk-toggleable__content {max-height: 0;max-width: 0;overflow: hidden;text-align: left;background-color: #f0f8ff;}#sk-container-id-16 div.sk-toggleable__content pre {margin: 0.2em;color: black;border-radius: 0.25em;background-color: #f0f8ff;}#sk-container-id-16 input.sk-toggleable__control:checked~div.sk-toggleable__content {max-height: 200px;max-width: 100%;overflow: auto;}#sk-container-id-16 input.sk-toggleable__control:checked~label.sk-toggleable__label-arrow:before {content: \\\"▾\\\";}#sk-container-id-16 div.sk-estimator input.sk-toggleable__control:checked~label.sk-toggleable__label {background-color: #d4ebff;}#sk-container-id-16 div.sk-label input.sk-toggleable__control:checked~label.sk-toggleable__label {background-color: #d4ebff;}#sk-container-id-16 input.sk-hidden--visually {border: 0;clip: rect(1px 1px 1px 1px);clip: rect(1px, 1px, 1px, 1px);height: 1px;margin: -1px;overflow: hidden;padding: 0;position: absolute;width: 1px;}#sk-container-id-16 div.sk-estimator {font-family: monospace;background-color: #f0f8ff;border: 1px dotted black;border-radius: 0.25em;box-sizing: border-box;margin-bottom: 0.5em;}#sk-container-id-16 div.sk-estimator:hover {background-color: #d4ebff;}#sk-container-id-16 div.sk-parallel-item::after {content: \\\"\\\";width: 100%;border-bottom: 1px solid gray;flex-grow: 1;}#sk-container-id-16 div.sk-label:hover label.sk-toggleable__label {background-color: #d4ebff;}#sk-container-id-16 div.sk-serial::before {content: \\\"\\\";position: absolute;border-left: 1px solid gray;box-sizing: border-box;top: 0;bottom: 0;left: 50%;z-index: 0;}#sk-container-id-16 div.sk-serial {display: flex;flex-direction: column;align-items: center;background-color: white;padding-right: 0.2em;padding-left: 0.2em;position: relative;}#sk-container-id-16 div.sk-item {position: relative;z-index: 1;}#sk-container-id-16 div.sk-parallel {display: flex;align-items: stretch;justify-content: center;background-color: white;position: relative;}#sk-container-id-16 div.sk-item::before, #sk-container-id-16 div.sk-parallel-item::before {content: \\\"\\\";position: absolute;border-left: 1px solid gray;box-sizing: border-box;top: 0;bottom: 0;left: 50%;z-index: -1;}#sk-container-id-16 div.sk-parallel-item {display: flex;flex-direction: column;z-index: 1;position: relative;background-color: white;}#sk-container-id-16 div.sk-parallel-item:first-child::after {align-self: flex-end;width: 50%;}#sk-container-id-16 div.sk-parallel-item:last-child::after {align-self: flex-start;width: 50%;}#sk-container-id-16 div.sk-parallel-item:only-child::after {width: 0;}#sk-container-id-16 div.sk-dashed-wrapped {border: 1px dashed gray;margin: 0 0.4em 0.5em 0.4em;box-sizing: border-box;padding-bottom: 0.4em;background-color: white;}#sk-container-id-16 div.sk-label label {font-family: monospace;font-weight: bold;display: inline-block;line-height: 1.2em;}#sk-container-id-16 div.sk-label-container {text-align: center;}#sk-container-id-16 div.sk-container {/* jupyter's `normalize.less` sets `[hidden] { display: none; }` but bootstrap.min.css set `[hidden] { display: none !important; }` so we also need the `!important` here to be able to override the default hidden behavior on the sphinx rendered scikit-learn.org. See: https://github.com/scikit-learn/scikit-learn/issues/21755 */display: inline-block !important;position: relative;}#sk-container-id-16 div.sk-text-repr-fallback {display: none;}\u003c/style\u003e\u003cdiv id=\\\"sk-container-id-16\\\" class=\\\"sk-top-container\\\"\u003e\u003cdiv class=\\\"sk-text-repr-fallback\\\"\u003e\u003cpre\u003eLinearRegression()\u003c/pre\u003e\u003cb\u003eIn a Jupyter environment, please rerun this cell to show the HTML representation or trust the notebook. \u003cbr /\u003eOn GitHub, the HTML representation is unable to render, please try loading this page with nbviewer.org.\u003c/b\u003e\u003c/div\u003e\u003cdiv class=\\\"sk-container\\\" hidden\u003e\u003cdiv class=\\\"sk-item\\\"\u003e\u003cdiv class=\\\"sk-estimator sk-toggleable\\\"\u003e\u003cinput class=\\\"sk-toggleable__control sk-hidden--visually\\\" id=\\\"sk-estimator-id-16\\\" type=\\\"checkbox\\\" checked\u003e\u003clabel for=\\\"sk-estimator-id-16\\\" class=\\\"sk-toggleable__label sk-toggleable__label-arrow\\\"\u003eLinearRegression\u003c/label\u003e\u003cdiv class=\\\"sk-toggleable__content\\\"\u003e\u003cpre\u003eLinearRegression()\u003c/pre\u003e\u003c/div\u003e\u003c/div\u003e\u003c/div\u003e\u003c/div\u003e\u003c/div\u003e\"","      ],","      \"text/plain\": [","       \"LinearRegression()\"","      ]","     },","     \"execution_count\": 205,","     \"metadata\": {},","     \"output_type\": \"execute_result\"","    }","   ],","   \"source\": [","    \"# Building the Linear Regression Model for testing data and fitting the model..\\n\",","    \"reg_B_test = linear_model.LinearRegression()\\n\",","    \"\\n\",","    \"reg_B_test.fit(X_test_B,y_test_B)\"","   ]","  },","  {","   \"cell_type\": \"code\",","   \"execution_count\": 169,","   \"id\": \"34aaed22-7d95-4238-b6e9-39d923d6d071\",","   \"metadata\": {},","   \"outputs\": [","    {","     \"data\": {","      \"text/html\": [","       \"\u003cstyle\u003e#sk-container-id-13 {color: black;background-color: white;}#sk-container-id-13 pre{padding: 0;}#sk-container-id-13 div.sk-toggleable {background-color: white;}#sk-container-id-13 label.sk-toggleable__label {cursor: pointer;display: block;width: 100%;margin-bottom: 0;padding: 0.3em;box-sizing: border-box;text-align: center;}#sk-container-id-13 label.sk-toggleable__label-arrow:before {content: \\\"▸\\\";float: left;margin-right: 0.25em;color: #696969;}#sk-container-id-13 label.sk-toggleable__label-arrow:hover:before {color: black;}#sk-container-id-13 div.sk-estimator:hover label.sk-toggleable__label-arrow:before {color: black;}#sk-container-id-13 div.sk-toggleable__content {max-height: 0;max-width: 0;overflow: hidden;text-align: left;background-color: #f0f8ff;}#sk-container-id-13 div.sk-toggleable__content pre {margin: 0.2em;color: black;border-radius: 0.25em;background-color: #f0f8ff;}#sk-container-id-13 input.sk-toggleable__control:checked~div.sk-toggleable__content {max-height: 200px;max-width: 100%;overflow: auto;}#sk-container-id-13 input.sk-toggleable__control:checked~label.sk-toggleable__label-arrow:before {content: \\\"▾\\\";}#sk-container-id-13 div.sk-estimator input.sk-toggleable__control:checked~label.sk-toggleable__label {background-color: #d4ebff;}#sk-container-id-13 div.sk-label input.sk-toggleable__control:checked~label.sk-toggleable__label {background-color: #d4ebff;}#sk-container-id-13 input.sk-hidden--visually {border: 0;clip: rect(1px 1px 1px 1px);clip: rect(1px, 1px, 1px, 1px);height: 1px;margin: -1px;overflow: hidden;padding: 0;position: absolute;width: 1px;}#sk-container-id-13 div.sk-estimator {font-family: monospace;background-color: #f0f8ff;border: 1px dotted black;border-radius: 0.25em;box-sizing: border-box;margin-bottom: 0.5em;}#sk-container-id-13 div.sk-estimator:hover {background-color: #d4ebff;}#sk-container-id-13 div.sk-parallel-item::after {content: \\\"\\\";width: 100%;border-bottom: 1px solid gray;flex-grow: 1;}#sk-container-id-13 div.sk-label:hover label.sk-toggleable__label {background-color: #d4ebff;}#sk-container-id-13 div.sk-serial::before {content: \\\"\\\";position: absolute;border-left: 1px solid gray;box-sizing: border-box;top: 0;bottom: 0;left: 50%;z-index: 0;}#sk-container-id-13 div.sk-serial {display: flex;flex-direction: column;align-items: center;background-color: white;padding-right: 0.2em;padding-left: 0.2em;position: relative;}#sk-container-id-13 div.sk-item {position: relative;z-index: 1;}#sk-container-id-13 div.sk-parallel {display: flex;align-items: stretch;justify-content: center;background-color: white;position: relative;}#sk-container-id-13 div.sk-item::before, #sk-container-id-13 div.sk-parallel-item::before {content: \\\"\\\";position: absolute;border-left: 1px solid gray;box-sizing: border-box;top: 0;bottom: 0;left: 50%;z-index: -1;}#sk-container-id-13 div.sk-parallel-item {display: flex;flex-direction: column;z-index: 1;position: relative;background-color: white;}#sk-container-id-13 div.sk-parallel-item:first-child::after {align-self: flex-end;width: 50%;}#sk-container-id-13 div.sk-parallel-item:last-child::after {align-self: flex-start;width: 50%;}#sk-container-id-13 div.sk-parallel-item:only-child::after {width: 0;}#sk-container-id-13 div.sk-dashed-wrapped {border: 1px dashed gray;margin: 0 0.4em 0.5em 0.4em;box-sizing: border-box;padding-bottom: 0.4em;background-color: white;}#sk-container-id-13 div.sk-label label {font-family: monospace;font-weight: bold;display: inline-block;line-height: 1.2em;}#sk-container-id-13 div.sk-label-container {text-align: center;}#sk-container-id-13 div.sk-container {/* jupyter's `normalize.less` sets `[hidden] { display: none; }` but bootstrap.min.css set `[hidden] { display: none !important; }` so we also need the `!important` here to be able to override the default hidden behavior on the sphinx rendered scikit-learn.org. See: https://github.com/scikit-learn/scikit-learn/issues/21755 */display: inline-block !important;position: relative;}#sk-container-id-13 div.sk-text-repr-fallback {display: none;}\u003c/style\u003e\u003cdiv id=\\\"sk-container-id-13\\\" class=\\\"sk-top-container\\\"\u003e\u003cdiv class=\\\"sk-text-repr-fallback\\\"\u003e\u003cpre\u003eLinearRegression()\u003c/pre\u003e\u003cb\u003eIn a Jupyter environment, please rerun this cell to show the HTML representation or trust the notebook. \u003cbr /\u003eOn GitHub, the HTML representation is unable to render, please try loading this page with nbviewer.org.\u003c/b\u003e\u003c/div\u003e\u003cdiv class=\\\"sk-container\\\" hidden\u003e\u003cdiv class=\\\"sk-item\\\"\u003e\u003cdiv class=\\\"sk-estimator sk-toggleable\\\"\u003e\u003cinput class=\\\"sk-toggleable__control sk-hidden--visually\\\" id=\\\"sk-estimator-id-13\\\" type=\\\"checkbox\\\" checked\u003e\u003clabel for=\\\"sk-estimator-id-13\\\" class=\\\"sk-toggleable__label sk-toggleable__label-arrow\\\"\u003eLinearRegression\u003c/label\u003e\u003cdiv class=\\\"sk-toggleable__content\\\"\u003e\u003cpre\u003eLinearRegression()\u003c/pre\u003e\u003c/div\u003e\u003c/div\u003e\u003c/div\u003e\u003c/div\u003e\u003c/div\u003e\"","      ],","      \"text/plain\": [","       \"LinearRegression()\"","      ]","     },","     \"execution_count\": 169,","     \"metadata\": {},","     \"output_type\": \"execute_result\"","    }","   ],","   \"source\": [","    \"# Model C ( Most correlated features ['year' and 'fuel_type'] and train_test_split as 80/20]\\n\",","    \"\\n\",","    \"X_train_C = train2[['fuel_type', 'year']]\\n\",","    \"y_train_C = train2['selling_price']\\n\",","    \"X_test_C = test2[['fuel_type', 'year']]\\n\",","    \"y_test_C = test2['selling_price']\\n\",","    \"\\n\",","    \"# Building and fitting the linear regression model\\n\",","    \"\\n\",","    \"reg_C = linear_model.LinearRegression()\\n\",","    \"reg_C.fit(X_train_C, y_train_C)\"","   ]","  },","  {","   \"cell_type\": \"code\",","   \"execution_count\": 207,","   \"id\": \"6ce113ab-96ff-4598-bdb1-5bb0b7802eea\",","   \"metadata\": {},","   \"outputs\": [","    {","     \"data\": {","      \"text/html\": [","       \"\u003cstyle\u003e#sk-container-id-17 {color: black;background-color: white;}#sk-container-id-17 pre{padding: 0;}#sk-container-id-17 div.sk-toggleable {background-color: white;}#sk-container-id-17 label.sk-toggleable__label {cursor: pointer;display: block;width: 100%;margin-bottom: 0;padding: 0.3em;box-sizing: border-box;text-align: center;}#sk-container-id-17 label.sk-toggleable__label-arrow:before {content: \\\"▸\\\";float: left;margin-right: 0.25em;color: #696969;}#sk-container-id-17 label.sk-toggleable__label-arrow:hover:before {color: black;}#sk-container-id-17 div.sk-estimator:hover label.sk-toggleable__label-arrow:before {color: black;}#sk-container-id-17 div.sk-toggleable__content {max-height: 0;max-width: 0;overflow: hidden;text-align: left;background-color: #f0f8ff;}#sk-container-id-17 div.sk-toggleable__content pre {margin: 0.2em;color: black;border-radius: 0.25em;background-color: #f0f8ff;}#sk-container-id-17 input.sk-toggleable__control:checked~div.sk-toggleable__content {max-height: 200px;max-width: 100%;overflow: auto;}#sk-container-id-17 input.sk-toggleable__control:checked~label.sk-toggleable__label-arrow:before {content: \\\"▾\\\";}#sk-container-id-17 div.sk-estimator input.sk-toggleable__control:checked~label.sk-toggleable__label {background-color: #d4ebff;}#sk-container-id-17 div.sk-label input.sk-toggleable__control:checked~label.sk-toggleable__label {background-color: #d4ebff;}#sk-container-id-17 input.sk-hidden--visually {border: 0;clip: rect(1px 1px 1px 1px);clip: rect(1px, 1px, 1px, 1px);height: 1px;margin: -1px;overflow: hidden;padding: 0;position: absolute;width: 1px;}#sk-container-id-17 div.sk-estimator {font-family: monospace;background-color: #f0f8ff;border: 1px dotted black;border-radius: 0.25em;box-sizing: border-box;margin-bottom: 0.5em;}#sk-container-id-17 div.sk-estimator:hover {background-color: #d4ebff;}#sk-container-id-17 div.sk-parallel-item::after {content: \\\"\\\";width: 100%;border-bottom: 1px solid gray;flex-grow: 1;}#sk-container-id-17 div.sk-label:hover label.sk-toggleable__label {background-color: #d4ebff;}#sk-container-id-17 div.sk-serial::before {content: \\\"\\\";position: absolute;border-left: 1px solid gray;box-sizing: border-box;top: 0;bottom: 0;left: 50%;z-index: 0;}#sk-container-id-17 div.sk-serial {display: flex;flex-direction: column;align-items: center;background-color: white;padding-right: 0.2em;padding-left: 0.2em;position: relative;}#sk-container-id-17 div.sk-item {position: relative;z-index: 1;}#sk-container-id-17 div.sk-parallel {display: flex;align-items: stretch;justify-content: center;background-color: white;position: relative;}#sk-container-id-17 div.sk-item::before, #sk-container-id-17 div.sk-parallel-item::before {content: \\\"\\\";position: absolute;border-left: 1px solid gray;box-sizing: border-box;top: 0;bottom: 0;left: 50%;z-index: -1;}#sk-container-id-17 div.sk-parallel-item {display: flex;flex-direction: column;z-index: 1;position: relative;background-color: white;}#sk-container-id-17 div.sk-parallel-item:first-child::after {align-self: flex-end;width: 50%;}#sk-container-id-17 div.sk-parallel-item:last-child::after {align-self: flex-start;width: 50%;}#sk-container-id-17 div.sk-parallel-item:only-child::after {width: 0;}#sk-container-id-17 div.sk-dashed-wrapped {border: 1px dashed gray;margin: 0 0.4em 0.5em 0.4em;box-sizing: border-box;padding-bottom: 0.4em;background-color: white;}#sk-container-id-17 div.sk-label label {font-family: monospace;font-weight: bold;display: inline-block;line-height: 1.2em;}#sk-container-id-17 div.sk-label-container {text-align: center;}#sk-container-id-17 div.sk-container {/* jupyter's `normalize.less` sets `[hidden] { display: none; }` but bootstrap.min.css set `[hidden] { display: none !important; }` so we also need the `!important` here to be able to override the default hidden behavior on the sphinx rendered scikit-learn.org. See: https://github.com/scikit-learn/scikit-learn/issues/21755 */display: inline-block !important;position: relative;}#sk-container-id-17 div.sk-text-repr-fallback {display: none;}\u003c/style\u003e\u003cdiv id=\\\"sk-container-id-17\\\" class=\\\"sk-top-container\\\"\u003e\u003cdiv class=\\\"sk-text-repr-fallback\\\"\u003e\u003cpre\u003eLinearRegression()\u003c/pre\u003e\u003cb\u003eIn a Jupyter environment, please rerun this cell to show the HTML representation or trust the notebook. \u003cbr /\u003eOn GitHub, the HTML representation is unable to render, please try loading this page with nbviewer.org.\u003c/b\u003e\u003c/div\u003e\u003cdiv class=\\\"sk-container\\\" hidden\u003e\u003cdiv class=\\\"sk-item\\\"\u003e\u003cdiv class=\\\"sk-estimator sk-toggleable\\\"\u003e\u003cinput class=\\\"sk-toggleable__control sk-hidden--visually\\\" id=\\\"sk-estimator-id-17\\\" type=\\\"checkbox\\\" checked\u003e\u003clabel for=\\\"sk-estimator-id-17\\\" class=\\\"sk-toggleable__label sk-toggleable__label-arrow\\\"\u003eLinearRegression\u003c/label\u003e\u003cdiv class=\\\"sk-toggleable__content\\\"\u003e\u003cpre\u003eLinearRegression()\u003c/pre\u003e\u003c/div\u003e\u003c/div\u003e\u003c/div\u003e\u003c/div\u003e\u003c/div\u003e\"","      ],","      \"text/plain\": [","       \"LinearRegression()\"","      ]","     },","     \"execution_count\": 207,","     \"metadata\": {},","     \"output_type\": \"execute_result\"","    }","   ],","   \"source\": [","    \"# Building the Linear Regression Model for testing data and fitting the model..\\n\",","    \"reg_C_test = linear_model.LinearRegression()\\n\",","    \"\\n\",","    \"reg_C_test.fit(X_test_C,y_test_C)\"","   ]","  },","  {","   \"cell_type\": \"code\",","   \"execution_count\": 170,","   \"id\": \"a43b93ea-cfa3-4ca9-9328-bd436de95c6d\",","   \"metadata\": {},","   \"outputs\": [","    {","     \"data\": {","      \"text/html\": [","       \"\u003cstyle\u003e#sk-container-id-14 {color: black;background-color: white;}#sk-container-id-14 pre{padding: 0;}#sk-container-id-14 div.sk-toggleable {background-color: white;}#sk-container-id-14 label.sk-toggleable__label {cursor: pointer;display: block;width: 100%;margin-bottom: 0;padding: 0.3em;box-sizing: border-box;text-align: center;}#sk-container-id-14 label.sk-toggleable__label-arrow:before {content: \\\"▸\\\";float: left;margin-right: 0.25em;color: #696969;}#sk-container-id-14 label.sk-toggleable__label-arrow:hover:before {color: black;}#sk-container-id-14 div.sk-estimator:hover label.sk-toggleable__label-arrow:before {color: black;}#sk-container-id-14 div.sk-toggleable__content {max-height: 0;max-width: 0;overflow: hidden;text-align: left;background-color: #f0f8ff;}#sk-container-id-14 div.sk-toggleable__content pre {margin: 0.2em;color: black;border-radius: 0.25em;background-color: #f0f8ff;}#sk-container-id-14 input.sk-toggleable__control:checked~div.sk-toggleable__content {max-height: 200px;max-width: 100%;overflow: auto;}#sk-container-id-14 input.sk-toggleable__control:checked~label.sk-toggleable__label-arrow:before {content: \\\"▾\\\";}#sk-container-id-14 div.sk-estimator input.sk-toggleable__control:checked~label.sk-toggleable__label {background-color: #d4ebff;}#sk-container-id-14 div.sk-label input.sk-toggleable__control:checked~label.sk-toggleable__label {background-color: #d4ebff;}#sk-container-id-14 input.sk-hidden--visually {border: 0;clip: rect(1px 1px 1px 1px);clip: rect(1px, 1px, 1px, 1px);height: 1px;margin: -1px;overflow: hidden;padding: 0;position: absolute;width: 1px;}#sk-container-id-14 div.sk-estimator {font-family: monospace;background-color: #f0f8ff;border: 1px dotted black;border-radius: 0.25em;box-sizing: border-box;margin-bottom: 0.5em;}#sk-container-id-14 div.sk-estimator:hover {background-color: #d4ebff;}#sk-container-id-14 div.sk-parallel-item::after {content: \\\"\\\";width: 100%;border-bottom: 1px solid gray;flex-grow: 1;}#sk-container-id-14 div.sk-label:hover label.sk-toggleable__label {background-color: #d4ebff;}#sk-container-id-14 div.sk-serial::before {content: \\\"\\\";position: absolute;border-left: 1px solid gray;box-sizing: border-box;top: 0;bottom: 0;left: 50%;z-index: 0;}#sk-container-id-14 div.sk-serial {display: flex;flex-direction: column;align-items: center;background-color: white;padding-right: 0.2em;padding-left: 0.2em;position: relative;}#sk-container-id-14 div.sk-item {position: relative;z-index: 1;}#sk-container-id-14 div.sk-parallel {display: flex;align-items: stretch;justify-content: center;background-color: white;position: relative;}#sk-container-id-14 div.sk-item::before, #sk-container-id-14 div.sk-parallel-item::before {content: \\\"\\\";position: absolute;border-left: 1px solid gray;box-sizing: border-box;top: 0;bottom: 0;left: 50%;z-index: -1;}#sk-container-id-14 div.sk-parallel-item {display: flex;flex-direction: column;z-index: 1;position: relative;background-color: white;}#sk-container-id-14 div.sk-parallel-item:first-child::after {align-self: flex-end;width: 50%;}#sk-container-id-14 div.sk-parallel-item:last-child::after {align-self: flex-start;width: 50%;}#sk-container-id-14 div.sk-parallel-item:only-child::after {width: 0;}#sk-container-id-14 div.sk-dashed-wrapped {border: 1px dashed gray;margin: 0 0.4em 0.5em 0.4em;box-sizing: border-box;padding-bottom: 0.4em;background-color: white;}#sk-container-id-14 div.sk-label label {font-family: monospace;font-weight: bold;display: inline-block;line-height: 1.2em;}#sk-container-id-14 div.sk-label-container {text-align: center;}#sk-container-id-14 div.sk-container {/* jupyter's `normalize.less` sets `[hidden] { display: none; }` but bootstrap.min.css set `[hidden] { display: none !important; }` so we also need the `!important` here to be able to override the default hidden behavior on the sphinx rendered scikit-learn.org. See: https://github.com/scikit-learn/scikit-learn/issues/21755 */display: inline-block !important;position: relative;}#sk-container-id-14 div.sk-text-repr-fallback {display: none;}\u003c/style\u003e\u003cdiv id=\\\"sk-container-id-14\\\" class=\\\"sk-top-container\\\"\u003e\u003cdiv class=\\\"sk-text-repr-fallback\\\"\u003e\u003cpre\u003eLinearRegression()\u003c/pre\u003e\u003cb\u003eIn a Jupyter environment, please rerun this cell to show the HTML representation or trust the notebook. \u003cbr /\u003eOn GitHub, the HTML representation is unable to render, please try loading this page with nbviewer.org.\u003c/b\u003e\u003c/div\u003e\u003cdiv class=\\\"sk-container\\\" hidden\u003e\u003cdiv class=\\\"sk-item\\\"\u003e\u003cdiv class=\\\"sk-estimator sk-toggleable\\\"\u003e\u003cinput class=\\\"sk-toggleable__control sk-hidden--visually\\\" id=\\\"sk-estimator-id-14\\\" type=\\\"checkbox\\\" checked\u003e\u003clabel for=\\\"sk-estimator-id-14\\\" class=\\\"sk-toggleable__label sk-toggleable__label-arrow\\\"\u003eLinearRegression\u003c/label\u003e\u003cdiv class=\\\"sk-toggleable__content\\\"\u003e\u003cpre\u003eLinearRegression()\u003c/pre\u003e\u003c/div\u003e\u003c/div\u003e\u003c/div\u003e\u003c/div\u003e\u003c/div\u003e\"","      ],","      \"text/plain\": [","       \"LinearRegression()\"","      ]","     },","     \"execution_count\": 170,","     \"metadata\": {},","     \"output_type\": \"execute_result\"","    }","   ],","   \"source\": [","    \"# Model D { Least correlated features['km_driven' and 'owner_type'] with train_test_split as 0.2]\\n\",","    \"\\n\",","    \"X_train_D = train2[['km_driven', 'owner_type']]\\n\",","    \"y_train_D = train2['selling_price']\\n\",","    \"X_test_D = test2[['km_driven', 'owner_type']]\\n\",","    \"y_test_D = test2['selling_price']\\n\",","    \"\\n\",","    \"# Building and fitting the linear regression model:\\n\",","    \"reg_D = linear_model.LinearRegression()\\n\",","    \"reg_D.fit(X_train_D, y_train_D)\"","   ]","  },","  {","   \"cell_type\": \"code\",","   \"execution_count\": 213,","   \"id\": \"808bf9ae-da5b-4926-a957-beee84f1cb74\",","   \"metadata\": {},","   \"outputs\": [","    {","     \"data\": {","      \"text/html\": [","       \"\u003cstyle\u003e#sk-container-id-18 {color: black;background-color: white;}#sk-container-id-18 pre{padding: 0;}#sk-container-id-18 div.sk-toggleable {background-color: white;}#sk-container-id-18 label.sk-toggleable__label {cursor: pointer;display: block;width: 100%;margin-bottom: 0;padding: 0.3em;box-sizing: border-box;text-align: center;}#sk-container-id-18 label.sk-toggleable__label-arrow:before {content: \\\"▸\\\";float: left;margin-right: 0.25em;color: #696969;}#sk-container-id-18 label.sk-toggleable__label-arrow:hover:before {color: black;}#sk-container-id-18 div.sk-estimator:hover label.sk-toggleable__label-arrow:before {color: black;}#sk-container-id-18 div.sk-toggleable__content {max-height: 0;max-width: 0;overflow: hidden;text-align: left;background-color: #f0f8ff;}#sk-container-id-18 div.sk-toggleable__content pre {margin: 0.2em;color: black;border-radius: 0.25em;background-color: #f0f8ff;}#sk-container-id-18 input.sk-toggleable__control:checked~div.sk-toggleable__content {max-height: 200px;max-width: 100%;overflow: auto;}#sk-container-id-18 input.sk-toggleable__control:checked~label.sk-toggleable__label-arrow:before {content: \\\"▾\\\";}#sk-container-id-18 div.sk-estimator input.sk-toggleable__control:checked~label.sk-toggleable__label {background-color: #d4ebff;}#sk-container-id-18 div.sk-label input.sk-toggleable__control:checked~label.sk-toggleable__label {background-color: #d4ebff;}#sk-container-id-18 input.sk-hidden--visually {border: 0;clip: rect(1px 1px 1px 1px);clip: rect(1px, 1px, 1px, 1px);height: 1px;margin: -1px;overflow: hidden;padding: 0;position: absolute;width: 1px;}#sk-container-id-18 div.sk-estimator {font-family: monospace;background-color: #f0f8ff;border: 1px dotted black;border-radius: 0.25em;box-sizing: border-box;margin-bottom: 0.5em;}#sk-container-id-18 div.sk-estimator:hover {background-color: #d4ebff;}#sk-container-id-18 div.sk-parallel-item::after {content: \\\"\\\";width: 100%;border-bottom: 1px solid gray;flex-grow: 1;}#sk-container-id-18 div.sk-label:hover label.sk-toggleable__label {background-color: #d4ebff;}#sk-container-id-18 div.sk-serial::before {content: \\\"\\\";position: absolute;border-left: 1px solid gray;box-sizing: border-box;top: 0;bottom: 0;left: 50%;z-index: 0;}#sk-container-id-18 div.sk-serial {display: flex;flex-direction: column;align-items: center;background-color: white;padding-right: 0.2em;padding-left: 0.2em;position: relative;}#sk-container-id-18 div.sk-item {position: relative;z-index: 1;}#sk-container-id-18 div.sk-parallel {display: flex;align-items: stretch;justify-content: center;background-color: white;position: relative;}#sk-container-id-18 div.sk-item::before, #sk-container-id-18 div.sk-parallel-item::before {content: \\\"\\\";position: absolute;border-left: 1px solid gray;box-sizing: border-box;top: 0;bottom: 0;left: 50%;z-index: -1;}#sk-container-id-18 div.sk-parallel-item {display: flex;flex-direction: column;z-index: 1;position: relative;background-color: white;}#sk-container-id-18 div.sk-parallel-item:first-child::after {align-self: flex-end;width: 50%;}#sk-container-id-18 div.sk-parallel-item:last-child::after {align-self: flex-start;width: 50%;}#sk-container-id-18 div.sk-parallel-item:only-child::after {width: 0;}#sk-container-id-18 div.sk-dashed-wrapped {border: 1px dashed gray;margin: 0 0.4em 0.5em 0.4em;box-sizing: border-box;padding-bottom: 0.4em;background-color: white;}#sk-container-id-18 div.sk-label label {font-family: monospace;font-weight: bold;display: inline-block;line-height: 1.2em;}#sk-container-id-18 div.sk-label-container {text-align: center;}#sk-container-id-18 div.sk-container {/* jupyter's `normalize.less` sets `[hidden] { display: none; }` but bootstrap.min.css set `[hidden] { display: none !important; }` so we also need the `!important` here to be able to override the default hidden behavior on the sphinx rendered scikit-learn.org. See: https://github.com/scikit-learn/scikit-learn/issues/21755 */display: inline-block !important;position: relative;}#sk-container-id-18 div.sk-text-repr-fallback {display: none;}\u003c/style\u003e\u003cdiv id=\\\"sk-container-id-18\\\" class=\\\"sk-top-container\\\"\u003e\u003cdiv class=\\\"sk-text-repr-fallback\\\"\u003e\u003cpre\u003eLinearRegression()\u003c/pre\u003e\u003cb\u003eIn a Jupyter environment, please rerun this cell to show the HTML representation or trust the notebook. \u003cbr /\u003eOn GitHub, the HTML representation is unable to render, please try loading this page with nbviewer.org.\u003c/b\u003e\u003c/div\u003e\u003cdiv class=\\\"sk-container\\\" hidden\u003e\u003cdiv class=\\\"sk-item\\\"\u003e\u003cdiv class=\\\"sk-estimator sk-toggleable\\\"\u003e\u003cinput class=\\\"sk-toggleable__control sk-hidden--visually\\\" id=\\\"sk-estimator-id-18\\\" type=\\\"checkbox\\\" checked\u003e\u003clabel for=\\\"sk-estimator-id-18\\\" class=\\\"sk-toggleable__label sk-toggleable__label-arrow\\\"\u003eLinearRegression\u003c/label\u003e\u003cdiv class=\\\"sk-toggleable__content\\\"\u003e\u003cpre\u003eLinearRegression()\u003c/pre\u003e\u003c/div\u003e\u003c/div\u003e\u003c/div\u003e\u003c/div\u003e\u003c/div\u003e\"","      ],","      \"text/plain\": [","       \"LinearRegression()\"","      ]","     },","     \"execution_count\": 213,","     \"metadata\": {},","     \"output_type\": \"execute_result\"","    }","   ],","   \"source\": [","    \"# Building the Linear Regression Model for testing data and fitting the model..\\n\",","    \"reg_D_test = linear_model.LinearRegression()\\n\",","    \"\\n\",","    \"reg_D_test.fit(X_test_D,y_test_D)\"","   ]","  },","  {","   \"cell_type\": \"markdown\",","   \"id\": \"uIHDIRCYklO_\",","   \"metadata\": {","    \"id\": \"uIHDIRCYklO_\"","   },","   \"source\": [","    \"### Q5: Evaluate Models\\n\",","    \"* Evaluate the performance of the four models with two metrics, including MSE and Root MSE\\n\",","    \"* Print the results of the four models regarding the two metrics\"","   ]","  },","  {","   \"cell_type\": \"code\",","   \"execution_count\": 172,","   \"id\": \"61621c39\",","   \"metadata\": {},","   \"outputs\": [","    {","     \"name\": \"stdout\",","     \"output_type\": \"stream\",","     \"text\": [","      \"248722939515.0084 498721.3044527057 0.21741454903941915\\n\"","     ]","    }","   ],","   \"source\": [","    \"# Evaluating the data for ALL MODELS:\\n\",","    \"\\n\",","    \"# MODEL - A (Training Data)\\n\",","    \"\\n\",","    \"predict_A = reg_A.predict(X_train_A)\\n\",","    \"mse_A = ((np.array(y_train_A) - predict_A ) ** 2).sum() / len(y_train_A)\\n\",","    \"rmse_A = np.sqrt(mse_A)\\n\",","    \"r2_A = r2_score(y_train_A, predict_A)\\n\",","    \"print(mse_A, rmse_A, r2_A)\"","   ]","  },","  {","   \"cell_type\": \"code\",","   \"execution_count\": 217,","   \"id\": \"c0fc1f5b-6a84-45f4-a8d7-a5b49e5c5911\",","   \"metadata\": {},","   \"outputs\": [","    {","     \"name\": \"stdout\",","     \"output_type\": \"stream\",","     \"text\": [","      \"180128990705.57034 424416.0584916296 0.28385008195282024\\n\"","     ]","    }","   ],","   \"source\": [","    \"# MODEL - A (Testing Data)\\n\",","    \"\\n\",","    \"predict_A_test = reg_A_test.predict(X_test_A)\\n\",","    \"mse_A_test = ((np.array(y_test_A) - predict_A_test ) ** 2).sum() / len(y_test_A)\\n\",","    \"rmse_A_test = np.sqrt(mse_A_test)\\n\",","    \"r2_A_test = r2_score(y_test_A, predict_A_test)\\n\",","    \"print(mse_A_test, rmse_A_test, r2_A_test)\"","   ]","  },","  {","   \"cell_type\": \"code\",","   \"execution_count\": 173,","   \"id\": \"222ce07c-2613-4b5f-9006-9d2a7067d5da\",","   \"metadata\": {},","   \"outputs\": [","    {","     \"name\": \"stdout\",","     \"output_type\": \"stream\",","     \"text\": [","      \"299365728362.4965 547143.2430017723 0.05807134641648015\\n\"","     ]","    }","   ],","   \"source\": [","    \"# MODEL - B (Training Data)\\n\",","    \"\\n\",","    \"predict_B = reg_B.predict(X_train_B)\\n\",","    \"mse_B = ((np.array(y_train_B) - predict_B ) ** 2).sum() / len(y_train_B)\\n\",","    \"rmse_B = np.sqrt(mse_B)\\n\",","    \"r2_B = r2_score(y_train_B, predict_B)\\n\",","    \"print(mse_B, rmse_B, r2_B)\"","   ]","  },","  {","   \"cell_type\": \"code\",","   \"execution_count\": 219,","   \"id\": \"7c56d2e1-aadb-4c3e-b046-f3e82c1ccd1c\",","   \"metadata\": {},","   \"outputs\": [","    {","     \"name\": \"stdout\",","     \"output_type\": \"stream\",","     \"text\": [","      \"237426977271.1086 487264.79174172704 0.05604694919530295\\n\"","     ]","    }","   ],","   \"source\": [","    \"# MODEL - B (Testing Data)\\n\",","    \"\\n\",","    \"predict_B_test = reg_B_test.predict(X_test_B)\\n\",","    \"mse_B_test = ((np.array(y_test_B) - predict_B_test ) ** 2).sum() / len(y_test_B)\\n\",","    \"rmse_B_test = np.sqrt(mse_B_test)\\n\",","    \"r2_B_test = r2_score(y_test_B, predict_B_test)\\n\",","    \"print(mse_B_test, rmse_B_test, r2_B_test)\"","   ]","  },","  {","   \"cell_type\": \"code\",","   \"execution_count\": 174,","   \"id\": \"67d0c48f-c3bd-45c4-8654-e70fe427a318\",","   \"metadata\": {},","   \"outputs\": [","    {","     \"name\": \"stdout\",","     \"output_type\": \"stream\",","     \"text\": [","      \"250877036724.37503 500876.2688772298 0.21877594516716192\\n\"","     ]","    }","   ],","   \"source\": [","    \"# MODEL - C (Training Data)\\n\",","    \"\\n\",","    \"predict_C = reg_A.predict(X_train_C)\\n\",","    \"mse_C = ((np.array(y_train_C) - predict_C ) ** 2).sum() / len(y_train_C)\\n\",","    \"rmse_C = np.sqrt(mse_C)\\n\",","    \"r2_C = r2_score(y_train_C, predict_C)\\n\",","    \"print(mse_C, rmse_C, r2_C)\"","   ]","  },","  {","   \"cell_type\": \"code\",","   \"execution_count\": 221,","   \"id\": \"7b0dba4b-281b-41e6-926a-f82f0c4d49b0\",","   \"metadata\": {},","   \"outputs\": [","    {","     \"name\": \"stdout\",","     \"output_type\": \"stream\",","     \"text\": [","      \"206689819471.881 454631.52054370474 0.23834623876364114\\n\"","     ]","    }","   ],","   \"source\": [","    \"# MODEL - C (Testing Data)\\n\",","    \"\\n\",","    \"predict_C_test = reg_C_test.predict(X_test_C)\\n\",","    \"mse_C_test = ((np.array(y_test_C) - predict_C_test ) ** 2).sum() / len(y_test_C)\\n\",","    \"rmse_C_test = np.sqrt(mse_C_test)\\n\",","    \"r2_C_test = r2_score(y_test_C, predict_C_test)\\n\",","    \"print(mse_C_test, rmse_C_test, r2_C_test)\"","   ]","  },","  {","   \"cell_type\": \"code\",","   \"execution_count\": 175,","   \"id\": \"5fcd36ca-b061-4130-865c-88a9aac2ecd7\",","   \"metadata\": {},","   \"outputs\": [","    {","     \"name\": \"stdout\",","     \"output_type\": \"stream\",","     \"text\": [","      \"301721408572.2743 549291.733573585 0.06044799750376717\\n\"","     ]","    }","   ],","   \"source\": [","    \"# MODEL - D (Training Data)\\n\",","    \"\\n\",","    \"predict_D = reg_D.predict(X_train_D)\\n\",","    \"mse_D = ((np.array(y_train_D) - predict_D ) ** 2).sum() / len(y_train_D)\\n\",","    \"rmse_D = np.sqrt(mse_D)\\n\",","    \"r2_D = r2_score(y_train_D, predict_D)\\n\",","    \"print(mse_D, rmse_D, r2_D)\"","   ]","  },","  {","   \"cell_type\": \"code\",","   \"execution_count\": 215,","   \"id\": \"22942ce6-16f5-44b2-b7c7-60df2edcc2fb\",","   \"metadata\": {},","   \"outputs\": [","    {","     \"name\": \"stdout\",","     \"output_type\": \"stream\",","     \"text\": [","      \"259360298674.38968 509274.2862882336 0.04425507020383801\\n\"","     ]","    }","   ],","   \"source\": [","    \"# MODEL - D (Testing Data)\\n\",","    \"\\n\",","    \"predict_D_test = reg_D_test.predict(X_test_D)\\n\",","    \"mse_D_test = ((np.array(y_test_D) - predict_D_test ) ** 2).sum() / len(y_test_D)\\n\",","    \"rmse_D_test = np.sqrt(mse_D_test)\\n\",","    \"r2_D_test = r2_score(y_test_D, predict_D_test)\\n\",","    \"print(mse_D_test, rmse_D_test, r2_D_test)\"","   ]","  },","  {","   \"cell_type\": \"markdown\",","   \"id\": \"6wmgPAzpklPA\",","   \"metadata\": {","    \"id\": \"6wmgPAzpklPA\"","   },","   \"source\": [","    \"### Q6: Visualize, Compare and Analyze the Results\\n\",","    \"* Visulize the results, and perform ___insightful analysis___ on the obtained results. For better visualization, you may need to carefully set the scale for the y-axis.\\n\",","    \"* Normally, the model trained with most correlated features and more training data will get better results. Do you obtain the similar observations? If not, please ___explain the possible reasons___.\"","   ]","  },","  {","   \"cell_type\": \"code\",","   \"execution_count\": 229,","   \"id\": \"u0dpqTCmklPA\",","   \"metadata\": {","    \"id\": \"u0dpqTCmklPA\"","   },","   \"outputs\": [","    {","     \"data\": {","      \"image/png\": \"iVBORw0KGgoAAAANSUhEUgAAA90AAAJNCAYAAAAs3xZxAAAAOXRFWHRTb2Z0d2FyZQBNYXRwbG90bGliIHZlcnNpb24zLjguMCwgaHR0cHM6Ly9tYXRwbG90bGliLm9yZy81sbWrAAAACXBIWXMAAA9hAAAPYQGoP6dpAABcJUlEQVR4nO3deVxWdf7//+clyyUgXKIGeCnu5hKYpRNiJZoLmUvLVKMoSho5aTKKppktLomNCzppWdOouGaL2Uw6Q5ia5kcxc2QSNXUmSUtwSQRXQDy/P/pxvl2CJOYR0Mf9drtut65zXtc573PgXT15v6/3sRmGYQgAAAAAAFx3Vcq7AQAAAAAA3KwI3QAAAAAAWITQDQAAAACARQjdAAAAAABYhNANAAAAAIBFCN0AAAAAAFiE0A0AAAAAgEUI3QAAAAAAWITQDQAAAACARQjdAFCJJCUlyWazmS93d3fVrl1bffr00YEDB4rVd+zYUTabTY0aNZJhGMX2b9q0yTxWUlKSy75t27bp0UcfVb169WS32xUYGKjw8HCNGjWqxHOU9GrQoMFVXVdubq6mTJmitm3bys/PT3a7XQ0aNNCgQYP073//+6rvT2X1xRdfyGaz6YsvvijvppSqoKBAQUFBstls+uijj8q7OZYo+lkUvTw9PXXbbbfp3nvv1fjx4/X9998X+0xRv8zIyHDZ/tJLL6levXpyd3dX9erVJUn5+fn64x//qNq1a8vNzU2tW7e2/qKu0ZYtWzRhwgSdOnWqTJ/78ssv9eSTT6pOnTry9PSUw+FQ+/btNW/ePJ09e9aaxgJABeZe3g0AAJTdwoUL1bx5c124cEH/93//pylTpmjDhg369ttv5e/v71Lr6+urgwcPav369ercubPLvgULFsjPz0+5ubku29esWaPevXurY8eOmjZtmmrXrq3MzEx9/fXXWrFihWbOnOlS36hRIy1btqxYO+12+69ey//+9z9169ZNx44d0x//+EdNnDhR1apVU0ZGhj744AO1adNGp06dksPhuNrbU+ncfffd2rp1q1q2bFneTSnV6tWrdfToUUnS/Pnz9fjjj5dzi6yTkJCgTp06qbCwUD/99JO2bdumBQsWaNasWXr33XfVr18/s7ZHjx7aunWrateubW77+9//rilTpmj8+PHq3r272RfmzZund955R3PmzFGbNm1UrVq1G35tV2vLli2aOHGiYmJizD8a/JpXX31VkyZNUvv27TV58mQ1btxY586dMwP8/v37NWvWLGsbDgAVjQEAqDQWLlxoSDK2b9/usn3ixImGJGPBggUu2yMiIow77rjDaNeunREVFeWyLzc31/D29jZiY2MNScbChQvNfR06dDAaN25sFBQUFGtDYWFhiee4FhcvXjRCQ0MNPz8/Y9euXSXW/POf/zTOnj17Tcev6PLz80u8xxVVjx49DE9PT6Nr165GlSpVjMOHD1+3Y1eUn/GGDRsMScaHH35YbN9PP/1k3HXXXYa7u7vxzTfflHqc1157zZBkHD161GX7008/bXh5eV3XNlt176ZPn25IMg4ePHhV9R988IEhyRg8eLBx6dKlYvtzc3ONzz777Dq3EgAqPqaXA8BNoG3btpJkjkJebtCgQfr4449dpomuWLFCktSnT59i9T/99JNq1aold/fiE6KqVLl+/+n45JNPtGvXLo0bN04hISEl1nTv3l3e3t7m+82bN6tz587y9fWVt7e32rdvrzVr1rh8pmi67/r16xUbG6uaNWvKz89PAwYM0NmzZ5WVlaUnn3xS1atXV+3atTV69GgVFBSYn8/IyJDNZtO0adM0ZcoU1atXT1WrVlXbtm21bt06l3P997//1VNPPaWmTZvK29tbderUUa9evbRr1y6XuqJpy0uWLNGoUaNUp04d2e12/fe//y1xevl3332nPn36yOl0mtP7O3furLS0NLPm0qVLmjZtmpo3by673a6AgAANGDBAP/zwg8u5O3bsqJCQEG3fvl3333+/vL291ahRI73++uu6dOnSVf2sjhw5ouTkZPXq1UvPP/+8Ll26VOwrCUWWL1+u8PBwVatWTdWqVVPr1q01f/78Yu3ZtGmT2rdvL29vbw0aNEiSdOjQIfXv318BAQGy2+1q0aKFZs6cWayd8+bN05133qlq1arJ19dXzZs314svvmjuP3funEaPHq2GDRuqatWqqlGjhtq2bav33nvvqq63JDVq1NA777yjixcvuozWXj69vEGDBnrppZckSYGBgbLZbJowYYJsNpv+9re/6fz588W+1mEYht566y21bt1aXl5e8vf31+OPP67vvvvOpQ2l3bvc3Fzzmj09PVWnTh2NGDGi2JRum82m5557TkuWLFGLFi3k7e2tO++8U6tXrzZrJkyYoOeff16S1LBhQ7O9pX0FYtKkSfL399cbb7whm81WbL+vr6+6detmvn/zzTfVoUMHBQQEyMfHR6GhoZo2bZpLX5SknTt3qmfPnubvhNPpVI8ePVx+z6/2/l3NsQDgeiN0A8BN4ODBg5Kk22+/vcT9ffr0kZubm0vgKJoe7OfnV6w+PDxc27ZtU1xcnLZt21bsf4JLcvHixWKvXwt0KSkpkqRHHnnkV48vSRs3btQDDzygnJwczZ8/X++99558fX3Vq1cvvf/++8Xqn376aTkcDq1YsUIvvfSSli9frtjYWPXo0UN33nmnPvroIw0cOFAzZ87UnDlzin1+7ty5Sk5O1uzZs7V06VJVqVJF3bt319atW82aI0eOqGbNmnr99deVnJysN998U+7u7goLC9O+ffuKHXPcuHE6dOiQ3n77bX366acKCAgo8Vofeugh7dixQ9OmTdPatWs1b9483XXXXS5/OHn22Wc1duxYde3aVf/4xz80efJkJScnq3379jpx4oTL8bKystSvXz/1799f//jHP9S9e3eNGzdOS5cuvap7n5SUpMLCQg0aNEhdunRR/fr1tWDBgmJrBbzyyivq16+fnE6nkpKStGrVKg0cOLDYd6EzMzPVv39/RUVF6Z///KeGDh2q48ePq3379kpJSdHkyZP1j3/8Q126dNHo0aP13HPPmZ9dsWKFhg4dqoiICK1atUqffPKJRo4c6RIu4+PjNW/ePMXFxSk5OVlLlizRE088oZ9++umqrvdKfve736l27dratGnTFWtWrVqlwYMHS5KSk5O1detWPf3009q6daseeugheXl5aevWrdq6dat69OghSRoyZIhGjBihLl266JNPPtFbb72l3bt3q3379sX+mFbSvTt37pwiIiK0aNEixcXF6V//+pfGjh2rpKQk9e7du9jPac2aNZo7d64mTZqklStXqkaNGnr00UfNkPr0009r+PDhkqSPP/7YbO/dd99d4jVnZmYqPT1d3bp1c/kjWWn+97//KSoqSkuWLNHq1as1ePBgTZ8+XUOGDDFrzp49q65du+ro0aN68803tXbtWs2ePVv16tXT6dOnzbqruX9XeywAuO7Kd6AdAFAWRdPLU1NTjYKCAuP06dNGcnKyERQUZHTo0KHYVOVfTv0eOHCg0bZtW8MwDGP37t2GJOOLL74wtm/fXmx6+YkTJ4z77rvPkGRIMjw8PIz27dsbU6dONU6fPl3sHEV1l78GDx5c6vU8+OCDhiTjwoULV3X97dq1MwICAlzacPHiRSMkJMSoW7euOaW16D4NHz7c5fOPPPKIIclITEx02d66dWvj7rvvNt8fPHjQkGQ4nU7j/Pnz5vbc3FyjRo0aRpcuXa7YxosXLxr5+flG06ZNjZEjR5rbi6Ytd+jQodhnivZt2LDBMIyf778kY/bs2Vc8z969ew1JxtChQ122b9u2zZBkvPjii+a2op/Rtm3bXGpbtmxpREZGXvEcRS5dumQ0adLEqFOnjnHx4kXDMAzj1VdfNSQZ69atM+u+++47w83NzejXr1+pxytqzy8/axiG8cILL5TYzmeffdaw2WzGvn37DMMwjOeee86oXr16qecICQkxHnnkkV+9tsuVNr28SFhYmMsU8aLft19Owy66P8ePH3f57MCBAw0fHx+XbVu3bjUkGTNnznTZfvjwYcPLy8sYM2aMue1K927q1KlGlSpVin315KOPPjIkGf/85z/NbZKMwMBAIzc319yWlZVlVKlSxZg6daq5rSzTy1NTUw1JxgsvvPCrtSUpLCw0CgoKjMWLFxtubm7GyZMnDcMwjK+//tqQZHzyySdX/OzV3r+rORYAWIGRbgCohNq1aycPDw/5+vrqwQcflL+/v/7+97+XOB28yKBBg/T1119r165dmj9/vho3bqwOHTqUWFuzZk19+eWX2r59u15//XU9/PDD2r9/v8aNG6fQ0NBio6iNGzfW9u3bi71efvnl63bNZ8+e1bZt2/T444+7LD7l5uam6Oho/fDDD8VGlnv27OnyvkWLFpJkji7+cntJq1I/9thjqlq1qvm+aFR906ZNKiwslPTzCH9CQoJatmwpT09Pubu7y9PTUwcOHNDevXuLHfP3v//9r15rjRo11LhxY02fPl2JiYnauXNnsVkDGzZskCTFxMS4bL/nnnvUokWLYtPgg4KCdM8997hsa9WqVYnXfbmNGzfqv//9rwYOHCg3NzdJ0lNPPSWbzaYFCxaYdWvXrlVhYaGGDRv2q8f09/fXAw884LJt/fr1atmyZbF2xsTEyDAMrV+/3rzGU6dOqW/fvvr73/9e7PexqOZf//qXXnjhBX3xxRc6f/78r7bpahklPAngt1i9erVsNpv69+/vMlMkKChId955Z7Ep3SXdu9WrVyskJEStW7d2OUZkZGSJ08I7deokX19f831gYKACAgKu6vfhetm5c6d69+6tmjVrys3NTR4eHhowYIAKCwu1f/9+SVKTJk3k7++vsWPH6u2339aePXuKHedq79/VHAsArEDoBoBKaPHixdq+fbvWr1+vIUOGaO/everbt2+pn+nQoYOaNm2qd955R0uWLNGgQYNK/N7lL7Vt21Zjx47Vhx9+qCNHjmjkyJHKyMjQtGnTXOqKvu98+at+/fqlHr9evXqS/t/0+NJkZ2fLMAyXFaKLOJ1OSSo2dbhGjRou7z09Pa+4/cKFC8WOGxQUVOK2/Px8nTlzRtLP05hffvllPfLII/r000+1bds2bd++XXfeeWeJQa+k9l/OZrNp3bp1ioyM1LRp03T33XfrtttuU1xcnDkNtuhar3Q/Lr8XNWvWLFZnt9uvKowWfR/70Ucf1alTp8zV5O+77z6tXLnSnPJ+/PhxSVLdunV/9Zgltfunn366qp9vdHS0FixYoO+//16///3vFRAQoLCwMK1du9b8zBtvvKGxY8fqk08+UadOnVSjRg098sgjJT5ar6wOHTpktul6OHr0qAzDUGBgoDw8PFxeqampxf6oUNI9Onr0qL755ptin/f19ZVhGMWO8Vt+H0pSlr4s/XwP77//fv3444/6y1/+Yv6R780335Qksx0Oh0MbN25U69at9eKLL+qOO+6Q0+nUq6++an7t5Wrv39UcCwCswCPDAKASatGihbl4WtFjjf72t7/po48+KvUxTk899ZReeukl2Ww2DRw4sEzn9PDw0KuvvqpZs2YpPT39N7W/SGRkpP7617/qk08+0QsvvFBqrb+/v6pUqaLMzMxi+44cOSJJqlWr1nVpV5GsrKwSt3l6epqj7UuXLtWAAQOUkJDgUnfixIkSH7P0a3/oKFK/fn0z7O7fv18ffPCBJkyYoPz8fL399ttmaMrMzCwWco8cOXLd7kVOTo5Wrlwp6efvM5dk+fLlGjp0qG677TZJ0g8//KDg4OBSj1vSfahZs+ZV/3yfeuopPfXUUzp79qw2bdqkV199VT179tT+/ftVv359+fj4aOLEiZo4caKOHj1qjnr36tVL33777dVdfAm++uorZWVlmd/Zvh5q1aolm82mL7/8ssTH7F2+raR7V6tWLXl5ebnMPLh8v5Vq166t0NBQpaSk6Ny5c7/6ve5PPvlEZ8+e1ccff+zyx7lfLhRYJDQ0VCtWrJBhGPrmm2+UlJSkSZMmycvLSy+88EKZ7t+vHQsArMBINwDcBKZNmyZ/f3+98sorpS5eNnDgQHP16Tp16lyxrqTgI8mcLn29RvkefvhhhYaGaurUqVcM8p999pnOnTsnHx8fhYWF6eOPP3YZjbt06ZKWLl2qunXrXnEhuWv18ccfu4yAnz59Wp9++qnuv/9+c5q1zWYr9j/6a9as0Y8//njd2nH77bfrpZdeUmhoqP79739Lkjm9+PKF0LZv3669e/cWeyb7tVq+fLnOnz+vyZMna8OGDcVetWrVMoNet27d5Obmpnnz5l3TuTp37qw9e/aY11hk8eLFstls6tSpU7HP+Pj4qHv37ho/frzy8/O1e/fuYjWBgYGKiYlR3759tW/fPp07d+6a2nfy5En98Y9/lIeHh0aOHHlNxyhJz549ZRiGfvzxxxJnjISGhl7VMf73v/+pZs2aJR6jQYMGZW5X0e/11Y5+v/zyy8rOzlZcXFyJU/DPnDljLp5Y9IeDX/YdwzD07rvvXvH4NptNd955p2bNmqXq1aubvyfXcv+udCwAsAIj3QBwE/D399e4ceM0ZswYLV++XP379y+xzul06pNPPvnV40VGRqpu3brq1auXmjdvrkuXLiktLU0zZ85UtWrV9Kc//cml/vz580pNTS3xWO3atbviedzc3LRq1Sp169ZN4eHhevbZZ9WpUyf5+Pjo+++/10cffaRPP/1U2dnZkqSpU6eqa9eu6tSpk0aPHi1PT0+99dZbSk9P13vvvXfVo8hXy83NTV27dlV8fLwuXbqkP//5z8rNzdXEiRPNmp49eyopKUnNmzdXq1attGPHDk2fPv2qplhfyTfffKPnnntOTzzxhJo2bSpPT0+tX79e33zzjTka16xZMz3zzDOaM2eOuap6RkaGXn75ZQUHB1+3UDh//nz5+/tr9OjRLt9vLzJgwAAlJibqP//5j+688069+OKLmjx5ss6fP6++ffvK4XBoz549OnHihMt9K8nIkSO1ePFi9ejRQ5MmTVL9+vW1Zs0avfXWW3r22WfNP6rExsbKy8tL9957r2rXrq2srCxNnTpVDofDHI0PCwtTz5491apVK/n7+2vv3r1asmSJwsPDr2p17QMHDig1NVWXLl3STz/9pG3btmn+/PnKzc3V4sWLdccdd1zD3SzZvffeq2eeeUZPPfWUvv76a3Xo0EE+Pj7KzMzU5s2bFRoaqmeffbbUY4wYMUIrV65Uhw4dNHLkSLVq1UqXLl3SoUOHlJKSolGjRiksLKxM7SoKq3/5y180cOBAeXh4qFmzZi7fBf+lJ554Qi+//LImT56sb7/9VoMHD1bjxo117tw5bdu2Te+8847+8Ic/qFu3buratas8PT3Vt29fjRkzRhcuXNC8efPMvl5k9erVeuutt/TII4+oUaNGMgzDfPxh165dy3T/ruZYAGCJ8li9DQBwbYpWSb58hWLDMIzz588b9erVM5o2bWquMP3L1cuvpKTVy99//30jKirKaNq0qVGtWjXDw8PDqFevnhEdHW3s2bPH5fOlrV4uqdiK6iU5deqUMXnyZOPuu+92OV///v2N//u//3Op/fLLL40HHnjA8PHxMby8vIx27doZn3766VXdp6tdUbpo9fI///nPxsSJE426desanp6exl133WV89tlnLp/Nzs42Bg8ebAQEBBje3t7GfffdZ3z55ZdGRESEERERYdaVtir25auXHz161IiJiTGaN29u+Pj4GNWqVTNatWplzJo1y/zZGsbPKz7/+c9/Nm6//XbDw8PDqFWrltG/f3/j8OHDLse/0u/BwIEDjfr16xfbXuQ///mPIckYMWLEFWu+/fbbYivFL1682Pjd735nVK1a1ahWrZpx1113ufx+lfZ7+f333xtRUVFGzZo1DQ8PD6NZs2bG9OnTjcLCQrNm0aJFRqdOnYzAwEDD09PTcDqdxpNPPml88803Zs0LL7xgtG3b1vD39zfsdrvRqFEjY+TIkcaJEyeueC2G8f9+FkUvd3d3o2bNmkZ4eLjx4osvGhkZGcU+81tXLy+yYMECIywszPzdbty4sTFgwADj66+/vqp7d+bMGeOll14ymjVrZnh6ehoOh8MIDQ01Ro4caWRlZZl1koxhw4YV+3z9+vWNgQMHumwbN26c4XQ6jSpVqrj8jpZm48aNxuOPP27Url3b8PDwMPz8/Izw8HBj+vTpLiumf/rpp8add95pVK1a1ahTp47x/PPPG//6179czvPtt98affv2NRo3bmx4eXkZDofDuOeee4ykpKQy37+yHAsAriebYVznJTgBAKjkMjIy1LBhQ02fPl2jR48u7+YAAIBKjO90AwAAAABgEUI3AAAAAAAWYXo5AAAAAAAWYaQbAAAAAACLELoBAAAAALAIz+m+wS5duqQjR47I19f3uj9PFgAAAABwYxiGodOnT8vpdKpKlSuPZxO6b7AjR44oODi4vJsBAAAAALgODh8+rLp1615xP6H7BvP19ZX08w/Gz8+vnFsDAAAAALgWubm5Cg4ONjPelRC6b7CiKeV+fn6EbgAAAACo5H7ta8MspAYAAAAAgEUI3QAAAAAAWITQDQAAAACARfhOdwVUWFiogoKC8m4GbhAPDw+5ubmVdzMAAAAAWIDQXYEYhqGsrCydOnWqvJuCG6x69eoKCgri2e0AAADATYbQXYEUBe6AgAB5e3sTwG4BhmHo3LlzOnbsmCSpdu3a5dwiAAAAANcTobuCKCwsNAN3zZo1y7s5uIG8vLwkSceOHVNAQABTzQEAAICbCAupVRBF3+H29vYu55agPBT93PkuPwAAAHBzIXRXMEwpvzXxcwcAAABuToRuAAAAAAAsQugGAAAAAMAiLKRWCTR4Yc0NPV/G6z1u6PlK0rFjR7Vu3VqzZ88u76YAAAAAwDVjpBu/ic1mK/UVExNzTcf9+OOPNXny5N/UtpiYGLMd7u7uqlevnp599lllZ2e71DVo0EA2m00rVqwodow77rhDNptNSUlJ5radO3eqZ8+eCggIUNWqVdWgQQP94Q9/0IkTJyRJGRkZV7wfqampv+maAAAAAFQujHTjN8nMzDT/+f3339crr7yiffv2mduKHodVpKCgQB4eHr963Bo1alyX9j344INauHChLl68qD179mjQoEE6deqU3nvvPZe64OBgLVy4UH369DG3paamKisrSz4+Pua2Y8eOqUuXLurVq5c+++wzVa9eXQcPHtQ//vEPnTt3zuWYn3/+ue644w6XbTwODgAAALi1MNKN3yQoKMh8ORwO2Ww28/2FCxdUvXp1ffDBB+rYsaOqVq2qpUuX6qefflLfvn1Vt25deXt7KzQ0tFgI7tixo0aMGGG+b9CggRISEjRo0CD5+vqqXr16+utf//qr7bPb7QoKClLdunXVrVs3/eEPf1BKSkqxun79+mnjxo06fPiwuW3BggXq16+f3N3/39+mtmzZotzcXP3tb3/TXXfdpYYNG+qBBx7Q7NmzVa9ePZdj1qxZ0+X+BAUFXdUfHAAAAADcPAjdsNzYsWMVFxenvXv3KjIyUhcuXFCbNm20evVqpaen65lnnlF0dLS2bdtW6nFmzpyptm3baufOnRo6dKieffZZffvtt1fdju+++07JycklBt/AwEBFRkZq0aJFkqRz587p/fff16BBg1zqgoKCdPHiRa1atUqGYVz1uQEAAADcmgjdsNyIESP02GOPqWHDhnI6napTp45Gjx6t1q1bq1GjRho+fLgiIyP14Ycflnqchx56SEOHDlWTJk00duxY1apVS1988UWpn1m9erWqVasmLy8vNW7cWHv27NHYsWNLrB00aJCSkpJkGIY++ugjNW7cWK1bt3apadeunV588UVFRUWpVq1a6t69u6ZPn66jR48WO1779u1VrVo1l1dhYWGp7QUAAABwcyF0w3Jt27Z1eV9YWKgpU6aoVatWqlmzpqpVq6aUlBQdOnSo1OO0atXK/OeiaezHjh0r9TOdOnVSWlqatm3bZob74cOHl1jbo0cPnTlzRps2bdKCBQuKjXIXmTJlirKysvT222+rZcuWevvtt9W8eXPt2rXLpe79999XWlqay8vNza3U9gIAAAC4uRC6YblfLkQm/TxNfNasWRozZozWr1+vtLQ0RUZGKj8/v9TjXD4t3Gaz6dKlS7967iZNmqhVq1Z64403lJeXp4kTJ5ZY6+7urujoaL366qvatm2b+vXrd8Xj1qxZU0888YRmzpypvXv3yul0asaMGS41wcHBatKkicsLAAAAwK2F0I0b7ssvv9TDDz+s/v37684771SjRo104MCBG3LuV199VTNmzNCRI0dK3D9o0CBt3LhRDz/8sPz9/a/qmJ6enmrcuLHOnj17PZsKAAAA4CbAI8NwwzVp0kQrV67Uli1b5O/vr8TERGVlZalFixaWn7tjx4664447lJCQoLlz5xbb36JFC504cULe3t4lfn716tVasWKF+vTpo9tvv12GYejTTz/VP//5Ty1cuNCl9qefflJWVpbLturVq6tq1arX74IAAAAAVGiE7kog4/Ue5d2E6+rll1/WwYMHFRkZKW9vbz3zzDN65JFHlJOTc0POHx8fr6eeekpjx45VcHBwsf2lPUu7ZcuW8vb21qhRo3T48GHZ7XY1bdpUf/vb3xQdHe1S26VLl2Kff++991yeBQ4AAADg5mYzeO7RDZWbmyuHw6GcnBz5+fmZ2y9cuKCDBw+qYcOGjITegvj5AwCAyqjBC2vKuwmVys02mHaru1K2uxzf6QYAAAAAwCJMLweAcsDIQNkwMgAAACorRroBAAAAALAIoRsAAAAAAIsQugEAAAAAsAihGwAAAAAAixC6AQAAAACwCKEbAAAAAACLELoBAAAAALAIz+muDCY4bvD5cm7s+QAAAADgJsVIN34Tm81W6ismJuaaj92gQQPNnj37quqKzufl5aXmzZtr+vTpMgzDrMnIyJDNZpO7u7t+/PFHl89nZmbK3d1dNptNGRkZ5vaVK1cqLCxMDodDvr6+uuOOOzRq1Chzf1JSUonXXLVq1Wu+ZgAAAAA3F0a68ZtkZmaa//z+++/rlVde0b59+8xtXl5eN6QdkyZNUmxsrC5cuKDPP/9czz77rPz8/DRkyBCXOqfTqcWLF2vcuHHmtkWLFqlOnTo6dOiQue3zzz9Xnz59lJCQoN69e8tms2nPnj1at26dy/H8/Pxcrlf6+Q8RAAAAACAx0o3fKCgoyHw5HA7ZbDaXbZs2bVKbNm1UtWpVNWrUSBMnTtTFixfNz0+YMEH16tWT3W6X0+lUXFycJKljx476/vvvNXLkSHMEuTS+vr4KCgpSgwYN9PTTT6tVq1ZKSUkpVjdw4EAtXLjQZVtSUpIGDhzosm316tW677779Pzzz6tZs2a6/fbb9cgjj2jOnDkudZdfb1BQkAIDA8t0DwEAAADcvAjdsMxnn32m/v37Ky4uTnv27NE777yjpKQkTZkyRZL00UcfadasWXrnnXd04MABffLJJwoNDZUkffzxx6pbt64mTZqkzMxMlxH10hiGoS+++EJ79+6Vh4dHsf29e/dWdna2Nm/eLEnavHmzTp48qV69ernUBQUFaffu3UpPT/8ttwAAAADALY7QDctMmTJFL7zwggYOHKhGjRqpa9eumjx5st555x1J0qFDhxQUFKQuXbqoXr16uueeexQbGytJqlGjhtzc3MwR7KCgoFLPNXbsWFWrVk12u12dOnWSYRjmqPkveXh4qH///lqwYIEkacGCBerfv3+xgD58+HD97ne/U2hoqBo0aKA+ffpowYIFysvLc6nLyclRtWrVXF7dunW75nsGAAAA4ObCd7phmR07dmj79u3myLYkFRYW6sKFCzp37pyeeOIJzZ49W40aNdKDDz6ohx56SL169ZK7e9l/LZ9//nnFxMTo+PHjGj9+vB544AG1b9++xNrBgwcrPDxcCQkJ+vDDD7V161aXKe+S5OPjozVr1uh///ufNmzYoNTUVI0aNUp/+ctftHXrVnl7e0v6eVr7v//9b5fP3qjvsQMAAACo+AjdsMylS5c0ceJEPfbYY8X2Va1aVcHBwdq3b5/Wrl2rzz//XEOHDtX06dO1cePGEqeGl6ZWrVpq0qSJmjRpopUrV6pJkyZq166dunTpUqw2JCREzZs3V9++fdWiRQuFhIQoLS2txOM2btxYjRs31tNPP63x48fr9ttv1/vvv6+nnnpKklSlShU1adKkTG0FAAAAcOsgdMMyd999t/bt21dqKPXy8lLv3r3Vu3dvDRs2TM2bN9euXbt09913y9PTU4WFhWU+r7+/v4YPH67Ro0dr586dJS7CNmjQIA0dOlTz5s276uM2aNBA3t7eOnv2bJnbBAAAAODWROiGZV555RX17NlTwcHBeuKJJ1SlShV988032rVrl1577TUlJSWpsLBQYWFh8vb21pIlS+Tl5aX69etL+jnkbtq0SX369JHdbletWrWu+tzDhg3Tn//8Z61cuVKPP/54sf2xsbF64oknVL169RI/P2HCBJ07d04PPfSQ6tevr1OnTumNN95QQUGBunbtatYZhqGsrKxinw8ICFCVKiyZAAAAANzqCN2VwYSc8m7BNYmMjNTq1as1adIkTZs2TR4eHmrevLmefvppSVL16tX1+uuvKz4+XoWFhQoNDdWnn36qmjVrSvr52dtDhgxR48aNlZeXJ8Mwrvrct912m6KjozVhwoQSp7e7u7uXGuIjIiL05ptvasCAATp69Kj8/f111113KSUlRc2aNTPrcnNzVbt27WKfz8zM/NXF3wAAAADc/GxGWZIMfrPc3Fw5HA7l5OTIz8/P3H7hwgUdPHhQDRs2VNWqVcuxhSgP/PxvPQ1eWFPeTahUMl7vUd5NAACUgP+elQ3/Pbu5XCnbXY75rwAAAAAAWITQDQAAAACARQjdAAAAAABYhNANAAAAAIBFCN0VzKVLl8q7CSgH/NwBAACAmxOPDKsgPD09VaVKFR05ckS33XabPD09ZbPZyrtZsJhhGMrPz9fx48dVpUoVeXp6lneTAAAAAFxHhO4KokqVKmrYsKEyMzN15MiR8m4ObjBvb2/Vq1dPVaow+QQAAAC4mRC6KxBPT0/Vq1dPFy9eVGFhYXk3BzeIm5ub3N3dmdkAAAAA3IQI3RWMzWaTh4eHPDw8yrspAAAAAIDfiLmsAAAAAABYhNANAAAAAIBFCN0AAAAAAFiE0A0AAAAAgEUI3QAAAAAAWITQDQAAAACARXhkGAAAAADcCBMc5d2CymdCTnm34DdjpBsAAAAAAIsQugEAAAAAsAihGwAAAAAAixC6AQAAAACwSLmG7gkTJshms7m8goKCzP2GYWjChAlyOp3y8vJSx44dtXv3bpdj5OXlafjw4apVq5Z8fHzUu3dv/fDDDy412dnZio6OlsPhkMPhUHR0tE6dOuVSc+jQIfXq1Us+Pj6qVauW4uLilJ+f71Kza9cuRUREyMvLS3Xq1NGkSZNkGMb1vSkAAAAAgJtGuY9033HHHcrMzDRfu3btMvdNmzZNiYmJmjt3rrZv366goCB17dpVp0+fNmtGjBihVatWacWKFdq8ebPOnDmjnj17qrCw0KyJiopSWlqakpOTlZycrLS0NEVHR5v7CwsL1aNHD509e1abN2/WihUrtHLlSo0aNcqsyc3NVdeuXeV0OrV9+3bNmTNHM2bMUGJiosV3CAAAAABQWZX7I8Pc3d1dRreLGIah2bNna/z48XrsscckSYsWLVJgYKCWL1+uIUOGKCcnR/Pnz9eSJUvUpUsXSdLSpUsVHByszz//XJGRkdq7d6+Sk5OVmpqqsLAwSdK7776r8PBw7du3T82aNVNKSor27Nmjw4cPy+l0SpJmzpypmJgYTZkyRX5+flq2bJkuXLigpKQk2e12hYSEaP/+/UpMTFR8fLxsNluJ15eXl6e8vDzzfW5u7nW9fwAAAACAiqvcQ/eBAwfkdDplt9sVFhamhIQENWrUSAcPHlRWVpa6detm1trtdkVERGjLli0aMmSIduzYoYKCApcap9OpkJAQbdmyRZGRkdq6dascDocZuCWpXbt2cjgc2rJli5o1a6atW7cqJCTEDNySFBkZqby8PO3YsUOdOnXS1q1bFRERIbvd7lIzbtw4ZWRkqGHDhiVe39SpUzVx4sTrecsAAMBVaPDCmvJuQqWS8XqP8m4CANyUyjV0h4WFafHixbr99tt19OhRvfbaa2rfvr12796trKwsSVJgYKDLZwIDA/X9999LkrKysuTp6Sl/f/9iNUWfz8rKUkBAQLFzBwQEuNRcfh5/f395enq61DRo0KDYeYr2XSl0jxs3TvHx8eb73NxcBQcHX/mmVAD8T0rZ8D8pAAAAAK6kXEN39+7dzX8ODQ1VeHi4GjdurEWLFqldu3aSVGzatmEYV5zKfaWakuqvR03RImqltcdut7uMjgMAAAAAbh3lvpDaL/n4+Cg0NFQHDhwwv+ddNNJc5NixY+YIc1BQkPLz85WdnV1qzdGjR4ud6/jx4y41l58nOztbBQUFpdYcO3ZMUvHReAAAAAAApAoWuvPy8rR3717Vrl1bDRs2VFBQkNauXWvuz8/P18aNG9W+fXtJUps2beTh4eFSk5mZqfT0dLMmPDxcOTk5+uqrr8yabdu2KScnx6UmPT1dmZmZZk1KSorsdrvatGlj1mzatMnlMWIpKSlyOp3Fpp0DAAAAACCVc+gePXq0Nm7cqIMHD2rbtm16/PHHlZubq4EDB8pms2nEiBFKSEjQqlWrlJ6erpiYGHl7eysqKkqS5HA4NHjwYI0aNUrr1q3Tzp071b9/f4WGhpqrmbdo0UIPPvigYmNjlZqaqtTUVMXGxqpnz55q1qyZJKlbt25q2bKloqOjtXPnTq1bt06jR49WbGys/Pz8JP382DG73a6YmBilp6dr1apVSkhIKHXlcgAAAADAra1cv9P9ww8/qG/fvjpx4oRuu+02tWvXTqmpqapfv74kacyYMTp//ryGDh2q7OxshYWFKSUlRb6+vuYxZs2aJXd3dz355JM6f/68OnfurKSkJLm5uZk1y5YtU1xcnLnKee/evTV37lxzv5ubm9asWaOhQ4fq3nvvlZeXl6KiojRjxgyzxuFwaO3atRo2bJjatm0rf39/xcfHuyySBgAAAADAL9mMotXAcEPk5ubK4XAoJyfHHEWvaFi9vGxYvRzXgn5WNvQzXAv6WdnQz3At6Gdlk1E1qrybUPlMyCnvFlzR1Wa7CvWdbgAAAAAAbiaEbgAAAAAALELoBgAAAADAIoRuAAAAAAAsUq6rlwMAcFUmOMq7BZVPBV54BgCAWwkj3QAAAAAAWITQDQAAAACARQjdAAAAAABYhNANAAAAAIBFCN0AAAAAAFiE0A0AAAAAgEUI3QAAAAAAWITQDQAAAACARQjdAAAAAABYhNANAAAAAIBFCN0AAAAAAFiE0A0AAAAAgEUI3QAAAAAAWITQDQAAAACARQjdAAAAAABYhNANAAAAAIBFCN0AAAAAAFiE0A0AAAAAgEUI3QAAAAAAWITQDQAAAACARQjdAAAAAABYhNANAAAAAIBFCN0AAAAAAFiE0A0AAAAAgEUI3QAAAAAAWITQDQAAAACARQjdAAAAAABYhNANAAAAAIBFCN0AAAAAAFjEvbwbAAAAgApggqO8W1D5TMgp7xYAqAQY6QYAAAAAwCKEbgAAAAAALELoBgAAAADAIoRuAAAAAAAsQugGAAAAAMAihG4AAAAAACxC6AYAAAAAwCKEbgAAAAAALELoBgAAAADAIoRuAAAAAAAsQugGAAAAAMAihG4AAAAAACxC6AYAAAAAwCKEbgAAAAAALELoBgAAAADAIoRuAAAAAAAsQugGAAAAAMAihG4AAAAAACxC6AYAAAAAwCKEbgAAAAAALELoBgAAAADAIoRuAAAAAAAsQugGAAAAAMAihG4AAAAAACxC6AYAAAAAwCKEbgAAAAAALOJe3g0AKr0JjvJuQeUzIae8WwAAAADcEIx0AwAAAABgEUI3AAAAAAAWIXQDAAAAAGARQjcAAAAAABYhdAMAAAAAYBFCNwAAAAAAFiF0AwAAAABgEUI3AAAAAAAWIXQDAAAAAGARQjcAAAAAABYhdAMAAAAAYBFCNwAAAAAAFiF0AwAAAABgEUI3AAAAAAAWIXQDAAAAAGARQjcAAAAAABYhdAMAAAAAYBFCNwAAAAAAFqkwoXvq1Kmy2WwaMWKEuc0wDE2YMEFOp1NeXl7q2LGjdu/e7fK5vLw8DR8+XLVq1ZKPj4969+6tH374waUmOztb0dHRcjgccjgcio6O1qlTp1xqDh06pF69esnHx0e1atVSXFyc8vPzXWp27dqliIgIeXl5qU6dOpo0aZIMw7iu9wEAAAAAcPOoEKF7+/bt+utf/6pWrVq5bJ82bZoSExM1d+5cbd++XUFBQeratatOnz5t1owYMUKrVq3SihUrtHnzZp05c0Y9e/ZUYWGhWRMVFaW0tDQlJycrOTlZaWlpio6ONvcXFhaqR48eOnv2rDZv3qwVK1Zo5cqVGjVqlFmTm5urrl27yul0avv27ZozZ45mzJihxMREC+8MAAAAAKAycy/vBpw5c0b9+vXTu+++q9dee83cbhiGZs+erfHjx+uxxx6TJC1atEiBgYFavny5hgwZopycHM2fP19LlixRly5dJElLly5VcHCwPv/8c0VGRmrv3r1KTk5WamqqwsLCJEnvvvuuwsPDtW/fPjVr1kwpKSnas2ePDh8+LKfTKUmaOXOmYmJiNGXKFPn5+WnZsmW6cOGCkpKSZLfbFRISov379ysxMVHx8fGy2Ww3+M4BAAAAACq6ch/pHjZsmHr06GGG5iIHDx5UVlaWunXrZm6z2+2KiIjQli1bJEk7duxQQUGBS43T6VRISIhZs3XrVjkcDjNwS1K7du3kcDhcakJCQszALUmRkZHKy8vTjh07zJqIiAjZ7XaXmiNHjigjI+OK15eXl6fc3FyXFwAAAADg1lCuoXvFihX697//ralTpxbbl5WVJUkKDAx02R4YGGjuy8rKkqenp/z9/UutCQgIKHb8gIAAl5rLz+Pv7y9PT89Sa4reF9WUZOrUqeZ3yR0Oh4KDg69YCwAAAAC4uZRb6D58+LD+9Kc/aenSpapateoV6y6ftm0Yxq9O5b68pqT661FTtIhaae0ZN26ccnJyzNfhw4dLbTsAAAAA4OZRbqF7x44dOnbsmNq0aSN3d3e5u7tr48aNeuONN+Tu7n7FUeRjx46Z+4KCgpSfn6/s7OxSa44ePVrs/MePH3epufw82dnZKigoKLXm2LFjkoqPxv+S3W6Xn5+fywsAAAAAcGsot9DduXNn7dq1S2lpaearbdu26tevn9LS0tSoUSMFBQVp7dq15mfy8/O1ceNGtW/fXpLUpk0beXh4uNRkZmYqPT3drAkPD1dOTo6++uors2bbtm3KyclxqUlPT1dmZqZZk5KSIrvdrjZt2pg1mzZtcnmMWEpKipxOpxo0aHD9bxAAAAAAoNIrt9XLfX19FRIS4rLNx8dHNWvWNLePGDFCCQkJatq0qZo2baqEhAR5e3srKipKkuRwODR48GCNGjVKNWvWVI0aNTR69GiFhoaaC7O1aNFCDz74oGJjY/XOO+9Ikp555hn17NlTzZo1kyR169ZNLVu2VHR0tKZPn66TJ09q9OjRio2NNUemo6KiNHHiRMXExOjFF1/UgQMHlJCQoFdeeYWVywEAAAAAJSr3R4aVZsyYMTp//ryGDh2q7OxshYWFKSUlRb6+vmbNrFmz5O7urieffFLnz59X586dlZSUJDc3N7Nm2bJliouLM1c57927t+bOnWvud3Nz05o1azR06FDde++98vLyUlRUlGbMmGHWOBwOrV27VsOGDVPbtm3l7++v+Ph4xcfH34A7AQAAAACojGxG0WpguCFyc3PlcDiUk5NTYb/f3eCFNeXdhEolo2pUeTeh8pmQU94tKHf0s7Khn10D+hn9rIzoZ9eAfkY/KyP62TWowP3sarNduT+nGwAAAACAmxWhGwAAAAAAixC6AQAAAACwCKEbAAAAAACLELoBAAAAALAIoRsAAAAAAIsQugEAAAAAsAihGwAAAAAAixC6AQAAAACwCKEbAAAAAACLELoBAAAAALAIoRsAAAAAAIsQugEAAAAAsAihGwAAAAAAixC6AQAAAACwCKEbAAAAAACLELoBAAAAALAIoRsAAAAAAIsQugEAAAAAsAihGwAAAAAAixC6AQAAAACwCKEbAAAAAACLELoBAAAAALAIoRsAAAAAAIsQugEAAAAAsAihGwAAAAAAixC6AQAAAACwCKEbAAAAAACLELoBAAAAALAIoRsAAAAAAIsQugEAAAAAsAihGwAAAAAAixC6AQAAAACwCKEbAAAAAACLELoBAAAAALAIoRsAAAAAAIsQugEAAAAAsAihGwAAAAAAixC6AQAAAACwCKEbAAAAAACLELoBAAAAALAIoRsAAAAAAIsQugEAAAAAsAihGwAAAAAAixC6AQAAAACwCKEbAAAAAACLELoBAAAAALAIoRsAAAAAAIsQugEAAAAAsAihGwAAAAAAixC6AQAAAACwCKEbAAAAAACLELoBAAAAALAIoRsAAAAAAIsQugEAAAAAsAihGwAAAAAAixC6AQAAAACwCKEbAAAAAACLELoBAAAAALAIoRsAAAAAAIsQugEAAAAAsAihGwAAAAAAixC6AQAAAACwCKEbAAAAAACLELoBAAAAALAIoRsAAAAAAIsQugEAAAAAsAihGwAAAAAAixC6AQAAAACwCKEbAAAAAACLELoBAAAAALAIoRsAAAAAAIsQugEAAAAAsAihGwAAAAAAixC6AQAAAACwCKEbAAAAAACLELoBAAAAALAIoRsAAAAAAIsQugEAAAAAsEiZQvdXX32lwsJC871hGC778/Ly9MEHH1yflgEAAAAAUMmVKXSHh4frp59+Mt87HA5999135vtTp06pb9++V328efPmqVWrVvLz85Ofn5/Cw8P1r3/9y9xvGIYmTJggp9MpLy8vdezYUbt373Y5Rl5enoYPH65atWrJx8dHvXv31g8//OBSk52drejoaDkcDjkcDkVHR+vUqVMuNYcOHVKvXr3k4+OjWrVqKS4uTvn5+S41u3btUkREhLy8vFSnTh1NmjSp2B8eAAAAAAAoUqbQfXnALClwliWE1q1bV6+//rq+/vprff3113rggQf08MMPm8F62rRpSkxM1Ny5c7V9+3YFBQWpa9euOn36tHmMESNGaNWqVVqxYoU2b96sM2fOqGfPni4j8lFRUUpLS1NycrKSk5OVlpam6Ohoc39hYaF69Oihs2fPavPmzVqxYoVWrlypUaNGmTW5ubnq2rWrnE6ntm/frjlz5mjGjBlKTEy86usFAAAAANxa3K/3AW0221XX9urVy+X9lClTNG/ePKWmpqply5aaPXu2xo8fr8cee0yStGjRIgUGBmr58uUaMmSIcnJyNH/+fC1ZskRdunSRJC1dulTBwcH6/PPPFRkZqb179yo5OVmpqakKCwuTJL377rsKDw/Xvn371KxZM6WkpGjPnj06fPiwnE6nJGnmzJmKiYnRlClT5Ofnp2XLlunChQtKSkqS3W5XSEiI9u/fr8TERMXHx5fpugEAAAAAt4YKs5BaYWGhVqxYobNnzyo8PFwHDx5UVlaWunXrZtbY7XZFRERoy5YtkqQdO3aooKDApcbpdCokJMSs2bp1qxwOhxm4Jaldu3ZyOBwuNSEhIWbglqTIyEjl5eVpx44dZk1ERITsdrtLzZEjR5SRkXHF68rLy1Nubq7LCwAAAABwayjzSPeePXuUlZUl6eep5N9++63OnDkjSTpx4kSZG7Br1y6Fh4frwoULqlatmlatWqWWLVuagTgwMNClPjAwUN9//70kKSsrS56envL39y9WU9TGrKwsBQQEFDtvQECAS83l5/H395enp6dLTYMGDYqdp2hfw4YNS7y+qVOnauLEib96HwAAAAAAN58yh+7OnTu7fG+7Z8+ekn6eVm4YRpmnWTdr1kxpaWk6deqUVq5cqYEDB2rjxo3m/suPdzXnuLympPrrUVN0H0prz7hx4xQfH2++z83NVXBwcKntBwAAAADcHMoUug8ePHjdG+Dp6akmTZpIktq2bavt27frL3/5i8aOHSvp51Hk2rVrm/XHjh0zR5iDgoKUn5+v7Oxsl9HuY8eOqX379mbN0aNHi533+PHjLsfZtm2by/7s7GwVFBS41BSNev/yPFLx0fhfstvtLlPSAQAAAAC3jjJ9p7t+/fpX9fotDMNQXl6eGjZsqKCgIK1du9bcl5+fr40bN5qBuk2bNvLw8HCpyczMVHp6ulkTHh6unJwcffXVV2bNtm3blJOT41KTnp6uzMxMsyYlJUV2u11t2rQxazZt2uTyGLGUlBQ5nc5i084BAAAAAJDKGLpPnjxZ7BnYu3fv1lNPPaUnn3xSy5cvL9PJX3zxRX355ZfKyMjQrl27NH78eH3xxRfq16+fbDabRowYoYSEBK1atUrp6emKiYmRt7e3oqKiJP38nPDBgwdr1KhRWrdunXbu3Kn+/fsrNDTUXM28RYsWevDBBxUbG6vU1FSlpqYqNjZWPXv2VLNmzSRJ3bp1U8uWLRUdHa2dO3dq3bp1Gj16tGJjY+Xn5yfp58eO2e12xcTEKD09XatWrVJCQgIrlwMAAAAArqhM08uHDRum2rVrm8+mPnbsmO6//345nU41btxYMTExKiwsdHkGdmmOHj2q6OhoZWZmyuFwqFWrVkpOTlbXrl0lSWPGjNH58+c1dOhQZWdnKywsTCkpKfL19TWPMWvWLLm7u+vJJ5/U+fPn1blzZyUlJcnNzc2sWbZsmeLi4sxVznv37q25c+ea+93c3LRmzRoNHTpU9957r7y8vBQVFaUZM2aYNQ6HQ2vXrtWwYcPUtm1b+fv7Kz4+3uX72gAAAAAA/JLN+OWqaL+iYcOGWrhwoTp27ChJmjFjht5++219++23cnd314wZM/TRRx8pNTXVqvZWerm5uXI4HMrJyTFH0SuaBi+sKe8mVCoZVaPKuwmVz4Sc8m5BuaOflQ397BrQz+hnZUQ/uwb0M/pZGdHPrkEF7mdXm+3KNL388kdjrV+/Xo8++qjc3X8eMO/du7cOHDhwjU0GAAAAAODmUqbQ7efnp1OnTpnvv/rqK7Vr1858b7PZlJeXd90aBwAAAABAZVam0H3PPffojTfe0KVLl/TRRx/p9OnTeuCBB8z9+/fv5xnUAAAAAAD8/8q0kNrkyZPVpUsXLV26VBcvXtSLL77o8nzsFStWKCIi4ro3EgAAAACAyqhMobt169bau3evtmzZoqCgIIWFhbns79Onj1q2bHldGwgAAAAAQGVVptAtSbfddpsefvjhEvf16NHjNzcIAAAAAICbRZlC9+LFi6+qbsCAAdfUGAAAAAAAbiZlCt0xMTGqVq2a3N3ddaXHe9tsNkI3AAAAAAAqY+hu0aKFjh49qv79+2vQoEFq1aqVVe0CAAAAAKDSK9Mjw3bv3q01a9bo/Pnz6tChg9q2bat58+YpNzfXqvYBAAAAAFBplSl0S1JYWJjeeecdZWZmKi4uTh988IFq166tfv36KS8vz4o2AgAAAABQKZU5dBfx8vLSgAEDNHHiRN1zzz1asWKFzp07dz3bBgAAAABApXZNofvHH39UQkKCmjZtqj59+uh3v/uddu/eLX9//+vdPgAAAAAAKq0yLaT2wQcfaOHChdq4caMiIyM1c+ZM9ejRQ25ubla1DwAAAACASqtMobtPnz6qV6+eRo4cqcDAQGVkZOjNN98sVhcXF3fdGggAAAAAQGVVptBdr1492Ww2LV++/Io1NpuN0A0AAAAAgMoYujMyMn615scff7zWtgAAAAAAcFO55tXLL5eVlaW4uDg1adLkeh0SAAAAAIBKrUyh+9SpU+rXr59uu+02OZ1OvfHGG7p06ZJeeeUVNWrUSFu3btWCBQusaisAAAAAAJVKmaaXv/jii9q0aZMGDhyo5ORkjRw5UsnJybpw4YL+9a9/KSIiwqp2AgAAAABQ6ZQpdK9Zs0YLFy5Uly5dNHToUDVp0kS33367Zs+ebVHzAAAAAACovMo0vfzIkSNq2bKlJKlRo0aqWrWqnn76aUsaBgAAAABAZVem0H3p0iV5eHiY793c3OTj43PdGwUAAAAAwM2gTNPLDcNQTEyM7Ha7JOnChQv64x//WCx4f/zxx9evhQAAAAAAVFJlCt0DBw50ed+/f//r2hgAAAAAAG4mZQrdCxcutKodAAAAAADcdMr0nW4AAAAAAHD1CN0AAAAAAFiE0A0AAAAAgEUI3QAAAAAAWITQDQAAAACARQjdAAAAAABYhNANAAAAAIBFCN0AAAAAAFiE0A0AAAAAgEUI3QAAAAAAWITQDQAAAACARQjdAAAAAABYhNANAAAAAIBFCN0AAAAAAFiE0A0AAAAAgEUI3QAAAAAAWITQDQAAAACARQjdAAAAAABYhNANAAAAAIBFCN0AAAAAAFiE0A0AAAAAgEUI3QAAAAAAWITQDQAAAACARQjdAAAAAABYhNANAAAAAIBFCN0AAAAAAFiE0A0AAAAAgEUI3QAAAAAAWITQDQAAAACARQjdAAAAAABYhNANAAAAAIBFCN0AAAAAAFiE0A0AAAAAgEUI3QAAAAAAWITQDQAAAACARQjdAAAAAABYhNANAAAAAIBFCN0AAAAAAFiE0A0AAAAAgEUI3QAAAAAAWITQDQAAAACARQjdAAAAAABYhNANAAAAAIBFCN0AAAAAAFiE0A0AAAAAgEUI3QAAAAAAWITQDQAAAACARQjdAAAAAABYhNANAAAAAIBFCN0AAAAAAFiE0A0AAAAAgEUI3QAAAAAAWITQDQAAAACARQjdAAAAAABYpFxD99SpU/W73/1Ovr6+CggI0COPPKJ9+/a51BiGoQkTJsjpdMrLy0sdO3bU7t27XWry8vI0fPhw1apVSz4+Purdu7d++OEHl5rs7GxFR0fL4XDI4XAoOjpap06dcqk5dOiQevXqJR8fH9WqVUtxcXHKz893qdm1a5ciIiLk5eWlOnXqaNKkSTIM4/rdFAAAAADATaNcQ/fGjRs1bNgwpaamau3atbp48aK6deums2fPmjXTpk1TYmKi5s6dq+3btysoKEhdu3bV6dOnzZoRI0Zo1apVWrFihTZv3qwzZ86oZ8+eKiwsNGuioqKUlpam5ORkJScnKy0tTdHR0eb+wsJC9ejRQ2fPntXmzZu1YsUKrVy5UqNGjTJrcnNz1bVrVzmdTm3fvl1z5szRjBkzlJiYaPGdAgAAAABURu7lefLk5GSX9wsXLlRAQIB27NihDh06yDAMzZ49W+PHj9djjz0mSVq0aJECAwO1fPlyDRkyRDk5OZo/f76WLFmiLl26SJKWLl2q4OBgff7554qMjNTevXuVnJys1NRUhYWFSZLeffddhYeHa9++fWrWrJlSUlK0Z88eHT58WE6nU5I0c+ZMxcTEaMqUKfLz89OyZct04cIFJSUlyW63KyQkRPv371diYqLi4+Nls9lu4N0DAAAAAFR0Feo73Tk5OZKkGjVqSJIOHjyorKwsdevWzayx2+2KiIjQli1bJEk7duxQQUGBS43T6VRISIhZs3XrVjkcDjNwS1K7du3kcDhcakJCQszALUmRkZHKy8vTjh07zJqIiAjZ7XaXmiNHjigjI6PEa8rLy1Nubq7LCwAAAABwa6gwodswDMXHx+u+++5TSEiIJCkrK0uSFBgY6FIbGBho7svKypKnp6f8/f1LrQkICCh2zoCAAJeay8/j7+8vT0/PUmuK3hfVXG7q1Knm98gdDoeCg4N/5U4AAAAAAG4WFSZ0P/fcc/rmm2/03nvvFdt3+bRtwzB+dSr35TUl1V+PmqJF1K7UnnHjxiknJ8d8HT58uNR2AwAAAABuHhUidA8fPlz/+Mc/tGHDBtWtW9fcHhQUJKn4KPKxY8fMEeagoCDl5+crOzu71JqjR48WO+/x48ddai4/T3Z2tgoKCkqtOXbsmKTio/FF7Ha7/Pz8XF4AAAAAgFtDuYZuwzD03HPP6eOPP9b69evVsGFDl/0NGzZUUFCQ1q5da27Lz8/Xxo0b1b59e0lSmzZt5OHh4VKTmZmp9PR0syY8PFw5OTn66quvzJpt27YpJyfHpSY9PV2ZmZlmTUpKiux2u9q0aWPWbNq0yeUxYikpKXI6nWrQoMF1uisAAAAAgJtFuYbuYcOGaenSpVq+fLl8fX2VlZWlrKwsnT9/XtLPU7ZHjBihhIQErVq1Sunp6YqJiZG3t7eioqIkSQ6HQ4MHD9aoUaO0bt067dy5U/3791doaKi5mnmLFi304IMPKjY2VqmpqUpNTVVsbKx69uypZs2aSZK6deumli1bKjo6Wjt37tS6des0evRoxcbGmqPTUVFRstvtiomJUXp6ulatWqWEhARWLgcAAAAAlKhcHxk2b948SVLHjh1dti9cuFAxMTGSpDFjxuj8+fMaOnSosrOzFRYWppSUFPn6+pr1s2bNkru7u5588kmdP39enTt3VlJSktzc3MyaZcuWKS4uzlzlvHfv3po7d665383NTWvWrNHQoUN17733ysvLS1FRUZoxY4ZZ43A4tHbtWg0bNkxt27aVv7+/4uPjFR8ff71vDQAAAADgJmAzilYCww2Rm5srh8OhnJycCvv97gYvrCnvJlQqGVWjyrsJlc+EnPJuQbmjn5UN/ewa0M/oZ2VEP7sG9DP6WRnRz65BBe5nV5vtKsRCagAAAAAA3IwI3QAAAAAAWITQDQAAAACARQjdAAAAAABYhNANAAAAAIBFCN0AAAAAAFiE0A0AAAAAgEUI3QAAAAAAWITQDQAAAACARQjdAAAAAABYhNANAAAAAIBFCN0AAAAAAFiE0A0AAAAAgEUI3QAAAAAAWITQDQAAAACARQjdAAAAAABYhNANAAAAAIBFCN0AAAAAAFiE0A0AAAAAgEUI3QAAAAAAWITQDQAAAACARQjdAAAAAABYhNANAAAAAIBFCN0AAAAAAFiE0A0AAAAAgEUI3QAAAAAAWITQDQAAAACARQjdAAAAAABYhNANAAAAAIBFCN0AAAAAAFiE0A0AAAAAgEUI3QAAAAAAWITQDQAAAACARQjdAAAAAABYhNANAAAAAIBFCN0AAAAAAFiE0A0AAAAAgEUI3QAAAAAAWITQDQAAAACARQjdAAAAAABYhNANAAAAAIBFCN0AAAAAAFiE0A0AAAAAgEUI3QAAAAAAWITQDQAAAACARQjdAAAAAABYhNANAAAAAIBFCN0AAAAAAFiE0A0AAAAAgEUI3QAAAAAAWITQDQAAAACARQjdAAAAAABYhNANAAAAAIBFCN0AAAAAAFiE0A0AAAAAgEUI3QAAAAAAWITQDQAAAACARQjdAAAAAABYhNANAAAAAIBFCN0AAAAAAFiE0A0AAAAAgEUI3QAAAAAAWITQDQAAAACARQjdAAAAAABYhNANAAAAAIBFCN0AAAAAAFiE0A0AAAAAgEUI3QAAAAAAWITQDQAAAACARQjdAAAAAABYhNANAAAAAIBFCN0AAAAAAFiE0A0AAAAAgEUI3QAAAAAAWITQDQAAAACARQjdAAAAAABYhNANAAAAAIBFCN0AAAAAAFiE0A0AAAAAgEUI3QAAAAAAWITQDQAAAACARco1dG/atEm9evWS0+mUzWbTJ5984rLfMAxNmDBBTqdTXl5e6tixo3bv3u1Sk5eXp+HDh6tWrVry8fFR79699cMPP7jUZGdnKzo6Wg6HQw6HQ9HR0Tp16pRLzaFDh9SrVy/5+PioVq1aiouLU35+vkvNrl27FBERIS8vL9WpU0eTJk2SYRjX7X4AAAAAAG4u5Rq6z549qzvvvFNz584tcf+0adOUmJiouXPnavv27QoKClLXrl11+vRps2bEiBFatWqVVqxYoc2bN+vMmTPq2bOnCgsLzZqoqCilpaUpOTlZycnJSktLU3R0tLm/sLBQPXr00NmzZ7V582atWLFCK1eu1KhRo8ya3Nxcde3aVU6nU9u3b9ecOXM0Y8YMJSYmWnBnAAAAAAA3A/fyPHn37t3VvXv3EvcZhqHZs2dr/PjxeuyxxyRJixYtUmBgoJYvX64hQ4YoJydH8+fP15IlS9SlSxdJ0tKlSxUcHKzPP/9ckZGR2rt3r5KTk5WamqqwsDBJ0rvvvqvw8HDt27dPzZo1U0pKivbs2aPDhw/L6XRKkmbOnKmYmBhNmTJFfn5+WrZsmS5cuKCkpCTZ7XaFhIRo//79SkxMVHx8vGw2W4nXkZeXp7y8PPN9bm7udbt/AAAAAICKrcJ+p/vgwYPKyspSt27dzG12u10RERHasmWLJGnHjh0qKChwqXE6nQoJCTFrtm7dKofDYQZuSWrXrp0cDodLTUhIiBm4JSkyMlJ5eXnasWOHWRMRESG73e5Sc+TIEWVkZFzxOqZOnWpOa3c4HAoODv4NdwUAAAAAUJlU2NCdlZUlSQoMDHTZHhgYaO7LysqSp6en/P39S60JCAgodvyAgACXmsvP4+/vL09Pz1Jrit4X1ZRk3LhxysnJMV+HDx8u/cIBAAAAADeNcp1efjUun7ZtGMYVp3Jfqaak+utRU7SIWmntsdvtLqPjAAAAAIBbR4Ud6Q4KCpJUfBT52LFj5ghzUFCQ8vPzlZ2dXWrN0aNHix3/+PHjLjWXnyc7O1sFBQWl1hw7dkxS8dF4AAAAAACkChy6GzZsqKCgIK1du9bclp+fr40bN6p9+/aSpDZt2sjDw8OlJjMzU+np6WZNeHi4cnJy9NVXX5k127ZtU05OjktNenq6MjMzzZqUlBTZ7Xa1adPGrNm0aZPLY8RSUlLkdDrVoEGD638DAAAAAACVXrmG7jNnzigtLU1paWmSfl48LS0tTYcOHZLNZtOIESOUkJCgVatWKT09XTExMfL29lZUVJQkyeFwaPDgwRo1apTWrVunnTt3qn///goNDTVXM2/RooUefPBBxcbGKjU1VampqYqNjVXPnj3VrFkzSVK3bt3UsmVLRUdHa+fOnVq3bp1Gjx6t2NhY+fn5Sfr5sWN2u10xMTFKT0/XqlWrlJCQUOrK5QAAAACAW1u5fqf766+/VqdOncz38fHxkqSBAwcqKSlJY8aM0fnz5zV06FBlZ2crLCxMKSkp8vX1NT8za9Ysubu768knn9T58+fVuXNnJSUlyc3NzaxZtmyZ4uLizFXOe/fu7fJscDc3N61Zs0ZDhw7VvffeKy8vL0VFRWnGjBlmjcPh0Nq1azVs2DC1bdtW/v7+io+PN9sMAAAAAMDlbEbRamC4IXJzc+VwOJSTk2OOolc0DV5YU95NqFQyqkaVdxMqnwk55d2Cckc/Kxv62TWgn9HPyoh+dg3oZ/SzMqKfXYMK3M+uNttV2O90AwAAAABQ2RG6AQAAAACwCKEbAAAAAACLELoBAAAAALAIoRsAAAAAAIsQugEAAAAAsAihGwAAAAAAixC6AQAAAACwCKEbAAAAAACLELoBAAAAALAIoRsAAAAAAIsQugEAAAAAsAihGwAAAAAAixC6AQAAAACwCKEbAAAAAACLELoBAAAAALAIoRsAAAAAAIsQugEAAAAAsAihGwAAAAAAixC6AQAAAACwCKEbAAAAAACLELoBAAAAALAIoRsAAAAAAIsQugEAAAAAsAihGwAAAAAAixC6AQAAAACwCKEbAAAAAACLELoBAAAAALAIoRsAAAAAAIsQugEAAAAAsAihGwAAAAAAixC6AQAAAACwCKEbAAAAAACLELoBAAAAALAIoRsAAAAAAIsQugEAAAAAsAihGwAAAAAAixC6AQAAAACwCKEbAAAAAACLELoBAAAAALAIoRsAAAAAAIsQugEAAAAAsAihGwAAAAAAixC6AQAAAACwCKEbAAAAAACLELoBAAAAALAIoRsAAAAAAIsQugEAAAAAsAihGwAAAAAAixC6AQAAAACwCKEbAAAAAACLELoBAAAAALAIoRsAAAAAAIsQugEAAAAAsAihGwAAAAAAixC6AQAAAACwCKEbAAAAAACLELoBAAAAALAIoRsAAAAAAIsQugEAAAAAsAihGwAAAAAAixC6AQAAAACwCKEbAAAAAACLELoBAAAAALAIoRsAAAAAAIsQugEAAAAAsAihGwAAAAAAixC6AQAAAACwCKEbAAAAAACLELoBAAAAALAIoRsAAAAAAIsQugEAAAAAsAihGwAAAAAAixC6AQAAAACwCKEbAAAAAACLELoBAAAAALAIoRsAAAAAAIsQugEAAAAAsAihGwAAAAAAixC6AQAAAACwCKH7Grz11ltq2LChqlatqjZt2ujLL78s7yYBAAAAACogQncZvf/++xoxYoTGjx+vnTt36v7771f37t116NCh8m4aAAAAAKCCcS/vBlQ2iYmJGjx4sJ5++mlJ0uzZs/XZZ59p3rx5mjp1arH6vLw85eXlme9zcnIkSbm5uTemwdfgUt658m5CpZJrM8q7CZVPBf79v1HoZ2VDP7sG9DP6WRnRz64B/Yx+Vkb0s2tQgftZUaYzjNJ/rjbj1ypgys/Pl7e3tz788EM9+uij5vY//elPSktL08aNG4t9ZsKECZo4ceKNbCYAAAAA4AY5fPiw6tate8X9jHSXwYkTJ1RYWKjAwECX7YGBgcrKyirxM+PGjVN8fLz5/tKlSzp58qRq1qwpm81maXthvdzcXAUHB+vw4cPy8/Mr7+YANyX6GWA9+hlgPfrZzccwDJ0+fVpOp7PUOkL3Nbg8LBuGccUAbbfbZbfbXbZVr17dqqahnPj5+fEvT8Bi9DPAevQzwHr0s5uLw+H41RoWUiuDWrVqyc3Nrdio9rFjx4qNfgMAAAAAQOguA09PT7Vp00Zr16512b527Vq1b9++nFoFAAAAAKiomF5eRvHx8YqOjlbbtm0VHh6uv/71rzp06JD++Mc/lnfTUA7sdrteffXVYl8hAHD90M8A69HPAOvRz25drF5+Dd566y1NmzZNmZmZCgkJ0axZs9ShQ4fybhYAAAAAoIIhdAMAAAAAYBG+0w0AAAAAgEUI3QAAAAAAWITQDQAAAACARQjdAAAAAABYhNCNW0pWVpaGDx+uRo0ayW63Kzg4WL169dK6devKrU0XLlxQTEyMQkND5e7urkceeaTc2gJcDxWxn33xxRd6+OGHVbt2bfn4+Kh169ZatmxZubUH+K0qYj/bt2+fOnXqpMDAQFWtWlWNGjXSSy+9pIKCgnJrE/BbVMR+9kv//e9/5evrq+rVq5d3U/AreE43bhkZGRm69957Vb16dU2bNk2tWrVSQUGBPvvsMw0bNkzffvttubSrsLBQXl5eiouL08qVK8ulDcD1UlH72ZYtW9SqVSuNHTtWgYGBWrNmjQYMGCA/Pz/16tWrXNoEXKuK2s88PDw0YMAA3X333apevbr+85//KDY2VpcuXVJCQkK5tAm4VhW1nxUpKChQ3759df/992vLli3l2hZcBQO4RXTv3t2oU6eOcebMmWL7srOzzX+eOXOmERISYnh7ext169Y1nn32WeP06dPm/oyMDKNnz55G9erVDW9vb6Nly5bGmjVrzP27d+82unfvbvj4+BgBAQFG//79jePHj19VGwcOHGg8/PDD13yNQHmrDP2syEMPPWQ89dRTZb9IoJxVpn42cuRI47777iv7RQLlrKL3szFjxhj9+/c3Fi5caDgcjt90rbAe08txSzh58qSSk5M1bNgw+fj4FNv/y2k5VapU0RtvvKH09HQtWrRI69ev15gxY8z9w4YNU15enjZt2qRdu3bpz3/+s6pVqyZJyszMVEREhFq3bq2vv/5aycnJOnr0qJ588knLrxEob5Wtn+Xk5KhGjRrXdrFAOalM/ey///2vkpOTFRERce0XDJSDit7P1q9frw8//FBvvvnm9blgWK+8Uz9wI2zbts2QZHz88cdl/uwHH3xg1KxZ03wfGhpqTJgwocTal19+2ejWrZvLtsOHDxuSjH379v3quRjpRmVWWfqZYRjGhx9+aHh6ehrp6ellbitQnipDPwsPDzfsdrshyXjmmWeMwsLCMrcVKE8VuZ+dOHHCCA4ONjZu3GgYhsFIdyXBd7pxSzAMQ5Jks9l+tXbDhg1KSEjQnj17lJubq4sXL+rChQs6e/asfHx8FBcXp2effVYpKSnq0qWLfv/736tVq1aSpB07dmjDhg3mXzB/6X//+59uv/3263thQAVSWfrZF198oZiYGL377ru64447ruFKgfJTGfrZ+++/r9OnT+s///mPnn/+ec2YMcNl5A+o6CpyP4uNjVVUVJQ6dOjwG68SNxLTy3FLaNq0qWw2m/bu3Vtq3ffff6+HHnpIISEhWrlypXbs2GFO3SlaffXpp5/Wd999p+joaO3atUtt27bVnDlzJEmXLl1Sr169lJaW5vI6cOAA/3LETa8y9LONGzeqV69eSkxM1IABA67DVQM3VmXoZ8HBwWrZsqX69u2r119/XRMmTFBhYeF1uHrgxqjI/Wz9+vWaMWOG3N3d5e7ursGDBysnJ0fu7u5asGDBdbwLuK7Kd6AduHEefPDBX10Q46OPPjLc3d1dpsJNnjzZkOSyaMYvvfDCC0ZoaKhhGIbx4osvGs2aNTMKCgquqY1ML0dlV5H72YYNGwwfHx9j7ty5ZfocUNFU5H52ucWLFxvu7u6/+TjAjVZR+9mePXuMXbt2ma/XXnvN8PX1NXbt2mWcPHny6i8QNxQj3bhlvPXWWyosLNQ999yjlStX6sCBA9q7d6/eeOMNhYeHS5IaN26sixcvas6cOfruu++0ZMkSvf322y7HGTFihD777DMdPHhQ//73v7V+/Xq1aNFC0s+LZZw8eVJ9+/bVV199pe+++04pKSkaNGhQqX/l37Nnj9LS0nTy5Enl5OSYf+kEKpuK2s+++OIL9ejRQ3Fxcfr973+vrKwsZWVl6eTJk9beEMACFbWfLVu2TB988IH27t2r7777Th9++KHGjRunP/zhD3J35xuNqFwqaj9r0aKFQkJCzFedOnVUpUoVhYSEyN/f39qbgmtX3qkfuJGOHDliDBs2zKhfv77h6elp1KlTx+jdu7exYcMGsyYxMdGoXbu24eXlZURGRhqLFy92+Yvlc889ZzRu3Niw2+3GbbfdZkRHRxsnTpwwP79//37j0UcfNapXr254eXkZzZs3N0aMGGFcunTpiu2qX7++IanYC6iMKmI/GzhwYIl9LCIiwsI7AVinIvazFStWGHfffbdRrVo1w8fHx2jZsqWRkJBgnD9/3spbAVimIvazy7GQWuVgM4z/f6UAAAAAAABwXTG9HAAAAAAAixC6AQAAAACwCKEbAAAAAACLELoBAAAAALAIoRsAAAAAAIsQugEAAAAAsAihGwAAAAAAixC6AQAAAACwCKEbAAAAAACLELoBAAAAALAIoRsAAAAAAIv8f/PvrySvFzvPAAAAAElFTkSuQmCC\",","      \"text/plain\": [","       \"\u003cFigure size 1000x600 with 1 Axes\u003e\"","      ]","     },","     \"metadata\": {},","     \"output_type\": \"display_data\"","    }","   ],","   \"source\": [","    \"# Input the values to be shown on the axis, with cases\\n\",","    \"cases = ['Case 1', 'Case 2', 'Case 3', 'Case 4']\\n\",","    \"train_rmse = [498721.3044527057,547143.2430017723, 500876.2688772298, 549291.733573585]\\n\",","    \"test_rmse = [424416.0584916296, 487264.79174172704, 454631.52054370474, 509274.2862882336]\\n\",","    \"\\n\",","    \"x = np.arange(len(cases))\\n\",","    \"width = 0.35\\n\",","    \"\\n\",","    \"# Optimizing the plot based on the features we want..\\n\",","    \"fig, ax = plt.subplots(figsize=(10, 6))\\n\",","    \"ax.bar(x - width/2, train_rmse, width, label='Train RMSE')\\n\",","    \"ax.bar(x + width/2, test_rmse, width, label='Test RMSE')\\n\",","    \"\\n\",","    \"ax.set_ylabel('RMSE')\\n\",","    \"ax.set_title('RMSE Comparison Across Different Cases')\\n\",","    \"ax.set_xticks(x)\\n\",","    \"ax.set_xticklabels(cases)\\n\",","    \"ax.legend()\\n\",","    \"\\n\",","    \"plt.tight_layout()\\n\",","    \"plt.show()\"","   ]","  },","  {","   \"cell_type\": \"code\",","   \"execution_count\": 238,","   \"id\": \"b2bba022-4f40-4b01-8e61-770455df7021\",","   \"metadata\": {},","   \"outputs\": [","    {","     \"data\": {","      \"image/png\": \"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\",","      \"text/plain\": [","       \"\u003cFigure size 800x600 with 1 Axes\u003e\"","      ]","     },","     \"metadata\": {},","     \"output_type\": \"display_data\"","    }","   ],","   \"source\": [","    \"#Input the values of x axis and y axis\\n\",","    \"test_ratios = [0.1,0.1,0.2, 0.2] \\n\",","    \"test_rmse = [424416.0584916296, 487264.79174172704, 454631.52054370474, 509274.2862882336]\\n\",","    \"\\n\",","    \"# Drawing the scatter plot based on the above data by applying following featuers..\\n\",","    \"plt.figure(figsize=(8, 6))\\n\",","    \"plt.scatter(test_ratios, test_rmse)\\n\",","    \"plt.xlabel('Test Ratio')\\n\",","    \"plt.ylabel('Test RMSE')\\n\",","    \"plt.title('Test Ratio vs. Test RMSE')\\n\",","    \"plt.show()\"","   ]","  },","  {","   \"cell_type\": \"markdown\",","   \"id\": \"821e44df-ccdd-4175-aa53-f60833124188\",","   \"metadata\": {},","   \"source\": [","    \"### Conclusion from the above data\\n\",","    \"* From the above diagrams, we can conclude that the mean square error was higher in all of the training data as compared to the test data, which is normally not experienced in the real time datasets. This may be due to some pecularities in the data, as the correlation was very low even with the best feature (year), it was just 0.41.\\n\",","    \"* On overall, the model performed better, when we choose the highest correlated features (i.e. 'year' and 'fuel_type') with the test train split ratio of 10/90, which is the case A in this model.\\n\",","    \"* The comparison of four models reveals that Model 1, which only accounts for noise, performs best with the lowest RMSE (11.55) and highest R-squared value (0.9939). This suggests that for this particular dataset, a simple model considering only noise is most effective in predicting the actual values. The addition of bias (Model 2), gain (Model 3), or both (Model 4) leads to increased RMSE values and decreased R-squared values, indicating that these additional components do not improve model performance.\\n\",","    \"* Despite the differences in performance, all models demonstrate high R-squared values (above 0.95), indicating they explain a large proportion of the variance in the actual values. The RMSE of the best-performing model (Model 1) is relatively small compared to the data's overall variability, being only 4.53% of the total range and 15.60% of the standard deviation of actual values. This suggests that even though simpler, Model 1 provides accurate predictions, and the additional complexity introduced in other models may not be necessary for this specific dataset.\\n\"","   ]","  },","  {","   \"cell_type\": \"markdown\",","   \"id\": \"f97796c2\",","   \"metadata\": {},","   \"source\": [","    \"### Q7: Data Science Ethics\\n\",","    \"*Please read the following examples [Click here to read the example_1.](https://www.vox.com/covid-19-coronavirus-us-response-trump/2020/5/18/21262265/georgia-covid-19-cases-declining-reopening) [Click here to read the example_2.](https://viborc.com/ethics-and-ethical-data-visualization-a-complete-guide/)\\n\",","    \"\\n\",","    \"*Then view the picture ![My Image](figure_portfolio2.png \\\"This is my image\\\")\\n\",","    \"Please compose an analysis of 100-200 words that evaluates potential ethical concerns associated with the infographic, detailing the reasons behind these issues.\\n\"","   ]","  },","  {","   \"cell_type\": \"markdown\",","   \"id\": \"70afd7cc-f685-4f64-8ee5-044af502348b\",","   \"metadata\": {},","   \"source\": [","    \"### An analysis from the given data\\n\",","    \"* The infographic comparing the 2008 Olympic medal counts raises important ethical concerns about how data is presented. One major issue is selective data representation. By showing two tables, one focused on total medals and the other on gold medals, it creates different narratives. For example, the U.S. appears as the leader when looking at total medals, but China shines when we focus on gold. This can mislead viewers and foster biased interpretations.\\n\",","    \"\\n\",","    \"* Another concern is data omission; the infographic highlights only a few countries, ignoring others that may have notable achievements. This selective visibility can diminish the accomplishments of other nations and skew the perception of success.\\n\",","    \"\\n\",","    \"* Finally, the infographic lacks context. It doesn't explain why certain metrics were chosen, which can lead viewers to draw misleading conclusions about a country's Olympic performance. Ethical data visualizations should prioritize transparency and fairness to ensure accurate audience understanding.\"","   ]","  }"," ],"," \"metadata\": {","  \"colab\": {","   \"provenance\": []","  },","  \"kernelspec\": {","   \"display_name\": \"Python 3 (ipykernel)\",","   \"language\": \"python\",","   \"name\": \"python3\"","  },","  \"language_info\": {","   \"codemirror_mode\": {","    \"name\": \"ipython\",","    \"version\": 3","   },","   \"file_extension\": \".py\",","   \"mimetype\": \"text/x-python\",","   \"name\": \"python\",","   \"nbconvert_exporter\": \"python\",","   \"pygments_lexer\": \"ipython3\",","   \"version\": \"3.11.7\"","  }"," },"," \"nbformat\": 4,"," \"nbformat_minor\": 5","}"],"stylingDirectives":null,"colorizedLines":null,"csv":null,"csvError":null,"dependabotInfo":{"showConfigurationBanner":false,"configFilePath":null,"networkDependabotPath":"/MQ-COMP2200-COMP6200/portfolio-part-2-sunilbastola/network/updates","dismissConfigurationNoticePath":"/settings/dismiss-notice/dependabot_configuration_notice","configurationNoticeDismissed":false},"displayName":"Portfolio-2-questions.ipynb","displayUrl":"https://notebooks.githubusercontent.com/view/ipynb?browser=chrome\u0026bypass_fastly=true\u0026color_mode=auto\u0026commit=4133fa1e2aed537ed20b3fe2867d1834ac6d9d34\u0026device=unknown_device\u0026docs_host=https%3A%2F%2Fdocs.github.com\u0026enc_url=68747470733a2f2f7261772e67697468756275736572636f6e74656e742e636f6d2f4d512d434f4d50323230302d434f4d50363230302f706f7274666f6c696f2d706172742d322d73756e696c626173746f6c612f343133336661316532616564353337656432306233666532383637643138333461633664396433342f506f7274666f6c696f2d322d7175657374696f6e732e6970796e623f746f6b656e3d424b42545647475435504847573347444e344e51594f33473354324355\u0026logged_in=true\u0026nwo=MQ-COMP2200-COMP6200%2Fportfolio-part-2-sunilbastola\u0026path=Portfolio-2-questions.ipynb\u0026platform=mac\u0026repository_id=847957091\u0026repository_type=Repository\u0026version=128","headerInfo":{"blobSize":"158 KB","deleteTooltip":"Delete this file","editTooltip":"Edit this file","ghDesktopPath":"x-github-client://openRepo/https://github.com/MQ-COMP2200-COMP6200/portfolio-part-2-sunilbastola?branch=main\u0026filepath=Portfolio-2-questions.ipynb","isGitLfs":false,"onBranch":true,"shortPath":"18271cb","siteNavLoginPath":"/login?return_to=https%3A%2F%2Fgithub.com%2FMQ-COMP2200-COMP6200%2Fportfolio-part-2-sunilbastola%2Fblob%2Fmain%2FPortfolio-2-questions.ipynb","isCSV":false,"isRichtext":false,"toc":null,"lineInfo":{"truncatedLoc":"2027","truncatedSloc":"2027"},"mode":"file"},"image":false,"isCodeownersFile":null,"isPlain":false,"isValidLegacyIssueTemplate":false,"issueTemplate":null,"discussionTemplate":null,"language":"Jupyter Notebook","languageID":185,"large":false,"planSupportInfo":{"repoIsFork":null,"repoOwnedByCurrentUser":null,"requestFullPath":"/MQ-COMP2200-COMP6200/portfolio-part-2-sunilbastola/blob/main/Portfolio-2-questions.ipynb","showFreeOrgGatedFeatureMessage":null,"showPlanSupportBanner":null,"upgradeDataAttributes":null,"upgradePath":null},"publishBannersInfo":{"dismissActionNoticePath":"/settings/dismiss-notice/publish_action_from_dockerfile","releasePath":"/MQ-COMP2200-COMP6200/portfolio-part-2-sunilbastola/releases/new?marketplace=true","showPublishActionBanner":false},"rawBlobUrl":"https://github.com/MQ-COMP2200-COMP6200/portfolio-part-2-sunilbastola/raw/main/Portfolio-2-questions.ipynb","renderImageOrRaw":false,"richText":null,"renderedFileInfo":{"identityUUID":"d94fd938-0c64-4c5e-a5aa-834135d1e43d","renderFileType":"ipynb","size":162173},"shortPath":null,"symbolsEnabled":true,"tabSize":8,"topBannersInfo":{"overridingGlobalFundingFile":false,"globalPreferredFundingPath":null,"showInvalidCitationWarning":false,"citationHelpUrl":"https://docs.github.com/github/creating-cloning-and-archiving-repositories/creating-a-repository-on-github/about-citation-files","actionsOnboardingTip":null},"truncated":false,"viewable":true,"workflowRedirectUrl":null,"symbols":{"timed_out":false,"not_analyzed":true,"symbols":[]}},"copilotInfo":{"documentationUrl":"https://docs.github.com/copilot/overview-of-github-copilot/about-github-copilot-for-individuals","notices":{"codeViewPopover":{"dismissed":false,"dismissPath":"/settings/dismiss-notice/code_view_copilot_popover"}},"userAccess":{"hasSubscriptionEnded":false,"orgHasCFBAccess":false,"userHasCFIAccess":false,"userHasOrgs":false,"userIsOrgAdmin":false,"userIsOrgMember":false,"business":null,"featureRequestInfo":{"showFeatureRequest":true,"alreadyRequested":false,"dismissed":false,"featureName":"copilot_for_business","requestPath":"/orgs/MQ-COMP2200-COMP6200/member_feature_request","isEnterpriseRequest":false,"dismissedAt":null,"billingEntityId":"","latestUsernameRequests":["alexanderc9"],"amountOfUserRequests":55}}},"copilotAccessAllowed":false,"csrf_tokens":{"/MQ-COMP2200-COMP6200/portfolio-part-2-sunilbastola/branches":{"post":"Lbb48OGFLwE7T1gDBx9vwjCDO5uPr405wGPiZ1qKZP0LAcKPaty8trfua-EhhvOJG1cu6WTtqVc47uO_qCDtbQ"},"/repos/preferences":{"post":"fjJLESF7ibs_2Klr1hZ3qAfGQUArMG8sPHPJGnKFBSNZtstIUEe7jYBAjpOccngh6MNi_phfnitqVwQwPRYQ9w"}}},"title":"portfolio-part-2-sunilbastola/Portfolio-2-questions.ipynb at main · MQ-COMP2200-COMP6200/portfolio-part-2-sunilbastola","appPayload":{"helpUrl":"https://docs.github.com","findFileWorkerPath":"/assets-cdn/worker/find-file-worker-1583894afd38.js","findInFileWorkerPath":"/assets-cdn/worker/find-in-file-worker-03b87d52cf57.js","githubDevUrl":"https://github.dev/","enabled_features":{"code_nav_ui_events":false,"overview_shared_code_dropdown_button":false,"react_blob_overlay":true,"copilot_conversational_ux_embedding_update":false,"copilot_smell_icebreaker_ux":true,"copilot_workspace":false}}}</script>
  <div data-target="react-app.reactRoot"><style data-styled="true" data-styled-version="5.3.6">.fSWWem{padding:0;}/*!sc*/
.kPPmzM{max-width:100%;margin-left:auto;margin-right:auto;display:-webkit-box;display:-webkit-flex;display:-ms-flexbox;display:flex;-webkit-flex-wrap:wrap;-ms-flex-wrap:wrap;flex-wrap:wrap;}/*!sc*/
.cIAPDV{display:-webkit-box;display:-webkit-flex;display:-ms-flexbox;display:flex;-webkit-flex:1 1 100%;-ms-flex:1 1 100%;flex:1 1 100%;-webkit-flex-wrap:wrap;-ms-flex-wrap:wrap;flex-wrap:wrap;max-width:100%;}/*!sc*/
.gvCnwW{width:100%;}/*!sc*/
@media screen and (min-width:544px){.gvCnwW{width:100%;}}/*!sc*/
@media screen and (min-width:768px){.gvCnwW{width:auto;}}/*!sc*/
.igfzmm{display:-webkit-box;display:-webkit-flex;display:-ms-flexbox;display:flex;-webkit-order:1;-ms-flex-order:1;order:1;width:100%;margin-left:0;margin-right:0;-webkit-flex-direction:column;-ms-flex-direction:column;flex-direction:column;margin-bottom:0;min-width:0;}/*!sc*/
@media screen and (min-width:544px){.igfzmm{-webkit-flex-direction:column;-ms-flex-direction:column;flex-direction:column;}}/*!sc*/
@media screen and (min-width:768px){.igfzmm{width:auto;margin-top:0 !important;margin-bottom:0 !important;position:-webkit-sticky;position:sticky;top:0px;max-height:100vh !important;-webkit-flex-direction:row;-ms-flex-direction:row;flex-direction:row;margin-right:0;height:100vh;}}/*!sc*/
@media print,screen and (max-width:1349px) and (min-width:768px){.igfzmm{display:none;}}/*!sc*/
.eUyHuk{margin-left:0;margin-right:0;display:none;margin-top:0;}/*!sc*/
@media screen and (min-width:768px){.eUyHuk{margin-left:0 !important;margin-right:0 !important;}}/*!sc*/
.gNdDUH{--pane-min-width:256px;--pane-max-width-diff:511px;--pane-max-width:calc(100vw - var(--pane-max-width-diff));width:100%;padding:0;}/*!sc*/
@media screen and (min-width:544px){}/*!sc*/
@media screen and (min-width:768px){.gNdDUH{width:clamp(var(--pane-min-width),var(--pane-width),var(--pane-max-width));overflow:auto;}}/*!sc*/
@media screen and (min-width:1280px){.gNdDUH{--pane-max-width-diff:959px;}}/*!sc*/
.jywUSN{max-height:100%;height:100%;display:-webkit-box;display:-webkit-flex;display:-ms-flexbox;display:flex;-webkit-flex-direction:column;-ms-flex-direction:column;flex-direction:column;}/*!sc*/
@media screen and (max-width:768px){.jywUSN{display:none;}}/*!sc*/
@media screen and (min-width:768px){.jywUSN{max-height:100vh;height:100vh;}}/*!sc*/
.hBSSUC{display:-webkit-box;display:-webkit-flex;display:-ms-flexbox;display:flex;-webkit-flex-direction:column;-ms-flex-direction:column;flex-direction:column;-webkit-align-items:center;-webkit-box-align:center;-ms-flex-align:center;align-items:center;padding-left:16px;padding-right:16px;padding-bottom:8px;padding-top:16px;}/*!sc*/
.iPurHz{display:-webkit-box;display:-webkit-flex;display:-ms-flexbox;display:flex;width:100%;margin-bottom:16px;-webkit-align-items:center;-webkit-box-align:center;-ms-flex-align:center;align-items:center;}/*!sc*/
.kkrdEu{-webkit-box-pack:center;-webkit-justify-content:center;-ms-flex-pack:center;justify-content:center;}/*!sc*/
.trpoQ{display:-webkit-box;display:-webkit-flex;display:-ms-flexbox;display:flex;pointer-events:none;}/*!sc*/
.hVHHYa{margin-left:24px;margin-right:24px;display:-webkit-box;display:-webkit-flex;display:-ms-flexbox;display:flex;width:100%;}/*!sc*/
.idZfsJ{-webkit-box-flex:1;-webkit-flex-grow:1;-ms-flex-positive:1;flex-grow:1;}/*!sc*/
.bKgizp{display:-webkit-box;display:-webkit-flex;display:-ms-flexbox;display:flex;width:100%;}/*!sc*/
.iPGYsi{margin-right:4px;color:var(--fgColor-muted,var(--color-fg-muted,#656d76));}/*!sc*/
.caeYDk{font-size:14px;min-width:0;overflow:hidden;text-overflow:ellipsis;white-space:nowrap;}/*!sc*/
.jahcnb{margin-left:8px;white-space:nowrap;}/*!sc*/
.jahcnb:hover button:not(:hover){border-left-color:var(--button-default-borderColor-hover,var(--color-btn-hover-border));}/*!sc*/
.ccToMy{margin-left:16px;margin-right:16px;margin-bottom:12px;}/*!sc*/
@media screen and (max-width:768px){.ccToMy{display:none;}}/*!sc*/
.cNvKlH{margin-right:-6px;}/*!sc*/
.cLfAnm{-webkit-box-flex:1;-webkit-flex-grow:1;-ms-flex-positive:1;flex-grow:1;max-height:100% !important;overflow-y:auto;-webkit-scrollbar-gutter:stable;-moz-scrollbar-gutter:stable;-ms-scrollbar-gutter:stable;scrollbar-gutter:stable;}/*!sc*/
@media screen and (max-width:768px){.cLfAnm{display:none;}}/*!sc*/
.erWCJP{padding-left:16px;padding-right:16px;padding-bottom:8px;}/*!sc*/
.hAeDYA{height:100%;position:relative;display:none;margin-left:0;}/*!sc*/
.fjdBNx{position:absolute;inset:0 -2px;cursor:col-resize;background-color:transparent;-webkit-transition-delay:0.1s;transition-delay:0.1s;}/*!sc*/
.fjdBNx:hover{background-color:var(--bgColor-neutral-muted,var(--color-neutral-muted,rgba(175,184,193,0.2)));}/*!sc*/
.emFMJu{display:-webkit-box;display:-webkit-flex;display:-ms-flexbox;display:flex;-webkit-flex-direction:column;-ms-flex-direction:column;flex-direction:column;-webkit-order:2;-ms-flex-order:2;order:2;-webkit-flex-basis:0;-ms-flex-preferred-size:0;flex-basis:0;-webkit-box-flex:1;-webkit-flex-grow:1;-ms-flex-positive:1;flex-grow:1;-webkit-flex-shrink:1;-ms-flex-negative:1;flex-shrink:1;min-width:1px;margin-right:auto;}/*!sc*/
@media print{.emFMJu{display:-webkit-box !important;display:-webkit-flex !important;display:-ms-flexbox !important;display:flex !important;}}/*!sc*/
.hlUAHL{width:100%;max-width:100%;margin-left:auto;margin-right:auto;-webkit-box-flex:1;-webkit-flex-grow:1;-ms-flex-positive:1;flex-grow:1;padding:0;}/*!sc*/
.iStsmI{margin-left:auto;margin-right:auto;-webkit-flex-direction:column;-ms-flex-direction:column;flex-direction:column;padding-bottom:40px;max-width:100%;margin-top:0;}/*!sc*/
.eIgvIk{display:inherit;}/*!sc*/
.eVFfWF{width:100%;}/*!sc*/
.fywjmm{display:-webkit-box;display:-webkit-flex;display:-ms-flexbox;display:flex;gap:8px;-webkit-flex-direction:column;-ms-flex-direction:column;flex-direction:column;width:100%;}/*!sc*/
.dyczTK{display:-webkit-box;display:-webkit-flex;display:-ms-flexbox;display:flex;-webkit-align-items:start;-webkit-box-align:start;-ms-flex-align:start;align-items:start;-webkit-box-pack:justify;-webkit-justify-content:space-between;-ms-flex-pack:justify;justify-content:space-between;gap:8px;}/*!sc*/
.kszRgZ{-webkit-align-self:center;-ms-flex-item-align:center;align-self:center;display:-webkit-box;display:-webkit-flex;display:-ms-flexbox;display:flex;padding-right:8px;min-width:0;}/*!sc*/
.eTvGbF{display:-webkit-box;display:-webkit-flex;display:-ms-flexbox;display:flex;-webkit-flex-direction:row;-ms-flex-direction:row;flex-direction:row;font-size:16px;min-width:0;-webkit-flex-shrink:1;-ms-flex-negative:1;flex-shrink:1;-webkit-flex-wrap:wrap;-ms-flex-wrap:wrap;flex-wrap:wrap;max-width:100%;-webkit-align-items:center;-webkit-box-align:center;-ms-flex-align:center;align-items:center;}/*!sc*/
.kzRgrI{max-width:100%;}/*!sc*/
.cmAPIB{max-width:100%;list-style:none;display:inline-block;}/*!sc*/
.jwXCBK{display:inline-block;max-width:100%;}/*!sc*/
.gtBUEp{min-height:32px;display:-webkit-box;display:-webkit-flex;display:-ms-flexbox;display:flex;-webkit-align-items:start;-webkit-box-align:start;-ms-flex-align:start;align-items:start;}/*!sc*/
.hVZtwF{margin-left:16px;margin-right:16px;}/*!sc*/
.cMYnca{display:-webkit-box;display:-webkit-flex;display:-ms-flexbox;display:flex;-webkit-flex-direction:column;-ms-flex-direction:column;flex-direction:column;}/*!sc*/
.brJRqk{display:-webkit-box;display:-webkit-flex;display:-ms-flexbox;display:flex;-webkit-flex-direction:row;-ms-flex-direction:row;flex-direction:row;-webkit-flex-wrap:wrap;-ms-flex-wrap:wrap;flex-wrap:wrap;-webkit-box-pack:justify;-webkit-justify-content:space-between;-ms-flex-pack:justify;justify-content:space-between;-webkit-align-items:center;-webkit-box-align:center;-ms-flex-align:center;align-items:center;gap:8px;min-width:273px;padding:8px;}/*!sc*/
@media screen and (min-width:544px){.brJRqk{-webkit-flex-wrap:nowrap;-ms-flex-wrap:nowrap;flex-wrap:nowrap;}}/*!sc*/
.iJmJly{display:-webkit-box;display:-webkit-flex;display:-ms-flexbox;display:flex;-webkit-flex-direction:row;-ms-flex-direction:row;flex-direction:row;}/*!sc*/
.jACbi{width:100%;height:-webkit-fit-content;height:-moz-fit-content;height:fit-content;min-width:0;margin-right:0;}/*!sc*/
.gIJuDf{height:40px;padding-left:4px;padding-bottom:16px;}/*!sc*/
.fleZSW{-webkit-align-items:center;-webkit-box-align:center;-ms-flex-align:center;align-items:center;}/*!sc*/
.BnySK{font-size:12px;-webkit-flex:auto;-ms-flex:auto;flex:auto;padding-right:16px;color:var(--fgColor-muted,var(--color-fg-muted,#656d76));min-width:0;}/*!sc*/
.VHzRk{top:0px;z-index:4;background:var(--bgColor-default,var(--color-canvas-default));position:-webkit-sticky;position:sticky;}/*!sc*/
.ePiodO{display:-webkit-box;display:-webkit-flex;display:-ms-flexbox;display:flex;-webkit-flex-direction:column;-ms-flex-direction:column;flex-direction:column;width:100%;position:absolute;}/*!sc*/
.kQJlnf{display:none;min-width:0;padding-top:8px;padding-bottom:8px;}/*!sc*/
.gJICKO{margin-right:8px;margin-left:16px;text-overflow:ellipsis;overflow:hidden;display:-webkit-box;display:-webkit-flex;display:-ms-flexbox;display:flex;-webkit-flex-direction:row;-ms-flex-direction:row;flex-direction:row;-webkit-align-items:center;-webkit-box-align:center;-ms-flex-align:center;align-items:center;-webkit-box-pack:justify;-webkit-justify-content:space-between;-ms-flex-pack:justify;justify-content:space-between;width:100%;}/*!sc*/
.iZJewz{display:-webkit-box;display:-webkit-flex;display:-ms-flexbox;display:flex;-webkit-flex-direction:row;-ms-flex-direction:row;flex-direction:row;font-size:14px;min-width:0;-webkit-flex-shrink:1;-ms-flex-negative:1;flex-shrink:1;-webkit-flex-wrap:wrap;-ms-flex-wrap:wrap;flex-wrap:wrap;max-width:100%;-webkit-align-items:center;-webkit-box-align:center;-ms-flex-align:center;align-items:center;}/*!sc*/
.jfjHXm{padding-left:8px;padding-top:8px;padding-bottom:8px;display:-webkit-box;display:-webkit-flex;display:-ms-flexbox;display:flex;-webkit-flex:1;-ms-flex:1;flex:1;-webkit-align-items:center;-webkit-box-align:center;-ms-flex-align:center;align-items:center;-webkit-box-pack:justify;-webkit-justify-content:space-between;-ms-flex-pack:justify;justify-content:space-between;background-color:var(--bgColor-muted,var(--color-canvas-subtle,#f6f8fa));border:1px solid var(--borderColor-default,var(--color-border-default));border-radius:6px 6px 0px 0px;}/*!sc*/
.bfkNRF{display:-webkit-box;display:-webkit-flex;display:-ms-flexbox;display:flex;-webkit-align-items:center;-webkit-box-align:center;-ms-flex-align:center;align-items:center;gap:8px;min-width:0;}/*!sc*/
.fXBLEV{display:block;position:relative;-webkit-box-flex:1;-webkit-flex-grow:1;-ms-flex-positive:1;flex-grow:1;margin-top:-1px;margin-bottom:-1px;--separator-color:transparent;}/*!sc*/
.fXBLEV:not(:last-child){margin-right:1px;}/*!sc*/
.fXBLEV:not(:last-child):after{background-color:var(--separator-color);content:"";position:absolute;right:-2px;top:8px;bottom:8px;width:1px;}/*!sc*/
.fXBLEV:focus-within:has(:focus-visible){--separator-color:transparent;}/*!sc*/
.fXBLEV:first-child{margin-left:-1px;}/*!sc*/
.fXBLEV:last-child{margin-right:-1px;}/*!sc*/
.gMPsNT{display:block;position:relative;-webkit-box-flex:1;-webkit-flex-grow:1;-ms-flex-positive:1;flex-grow:1;margin-top:-1px;margin-bottom:-1px;--separator-color:var(--borderColor-default,var(--color-border-default,#d0d7de));}/*!sc*/
.gMPsNT:not(:last-child){margin-right:1px;}/*!sc*/
.gMPsNT:not(:last-child):after{background-color:var(--separator-color);content:"";position:absolute;right:-2px;top:8px;bottom:8px;width:1px;}/*!sc*/
.gMPsNT:focus-within:has(:focus-visible){--separator-color:transparent;}/*!sc*/
.gMPsNT:first-child{margin-left:-1px;}/*!sc*/
.gMPsNT:last-child{margin-right:-1px;}/*!sc*/
.iBylDf{display:-webkit-box;display:-webkit-flex;display:-ms-flexbox;display:flex;-webkit-align-items:center;-webkit-box-align:center;-ms-flex-align:center;align-items:center;gap:8px;margin-right:8px;}/*!sc*/
.kSGBPx{gap:8px;}/*!sc*/
.ytOJl{border:1px solid;border-top:none;border-color:var(--borderColor-default,var(--color-border-default,#d0d7de));border-radius:0px 0px 6px 6px;min-width:273px;}/*!sc*/
.eJsjkT{background-color:var(--bgColor-default,var(--color-canvas-default));border:0px;border-width:0;border-radius:0px 0px 6px 6px;padding:0;min-width:0;margin-top:46px;overflow:auto;}/*!sc*/
.aZrVR{position:fixed;top:0;right:0;height:100%;width:15px;-webkit-transition:-webkit-transform 0.3s;-webkit-transition:transform 0.3s;transition:transform 0.3s;z-index:1;}/*!sc*/
.aZrVR:hover{-webkit-transform:scaleX(1.5);-ms-transform:scaleX(1.5);transform:scaleX(1.5);}/*!sc*/
.bAzdCq{display:-webkit-box;display:-webkit-flex;display:-ms-flexbox;display:flex;-webkit-flex-direction:column;-ms-flex-direction:column;flex-direction:column;-webkit-align-items:center;-webkit-box-align:center;-ms-flex-align:center;align-items:center;padding-top:16px;padding-bottom:16px;}/*!sc*/
.ioTNdO{display:-webkit-inline-box;display:-webkit-inline-flex;display:-ms-inline-flexbox;display:inline-flex;}/*!sc*/
data-styled.g1[id="Box-sc-g0xbh4-0"]{content:"fSWWem,kPPmzM,cIAPDV,gvCnwW,igfzmm,eUyHuk,gNdDUH,jywUSN,hBSSUC,iPurHz,kkrdEu,trpoQ,hVHHYa,idZfsJ,bKgizp,iPGYsi,caeYDk,jahcnb,ccToMy,cNvKlH,cLfAnm,erWCJP,hAeDYA,fjdBNx,emFMJu,hlUAHL,iStsmI,eIgvIk,eVFfWF,fywjmm,dyczTK,kszRgZ,eTvGbF,kzRgrI,cmAPIB,jwXCBK,gtBUEp,hVZtwF,cMYnca,brJRqk,iJmJly,jACbi,gIJuDf,fleZSW,BnySK,VHzRk,ePiodO,kQJlnf,gJICKO,iZJewz,jfjHXm,bfkNRF,fXBLEV,gMPsNT,iBylDf,kSGBPx,ytOJl,eJsjkT,aZrVR,bAzdCq,ioTNdO,"}/*!sc*/
.jUaXMC{font-weight:600;font-size:32px;margin:0;display:-webkit-box;display:-webkit-flex;display:-ms-flexbox;display:flex;font-size:14px;}/*!sc*/
.jUaXMC:where([data-variant='large']){font:var(--text-title-shorthand-large,600 32px / 1.5 -apple-system,BlinkMacSystemFont,"Segoe UI","Noto Sans",Helvetica,Arial,sans-serif,"Apple Color Emoji","Segoe UI Emoji");}/*!sc*/
.jUaXMC:where([data-variant='medium']){font:var(--text-title-shorthand-medium,600 20px / 1.6 -apple-system,BlinkMacSystemFont,"Segoe UI","Noto Sans",Helvetica,Arial,sans-serif,"Apple Color Emoji","Segoe UI Emoji");}/*!sc*/
.jUaXMC:where([data-variant='small']){font:var(--text-title-shorthand-small,600 16px / 1.5 -apple-system,BlinkMacSystemFont,"Segoe UI","Noto Sans",Helvetica,Arial,sans-serif,"Apple Color Emoji","Segoe UI Emoji");}/*!sc*/
.fReAGt{font-weight:600;font-size:32px;margin:0;font-size:16px;margin-left:8px;}/*!sc*/
.fReAGt:where([data-variant='large']){font:var(--text-title-shorthand-large,600 32px / 1.5 -apple-system,BlinkMacSystemFont,"Segoe UI","Noto Sans",Helvetica,Arial,sans-serif,"Apple Color Emoji","Segoe UI Emoji");}/*!sc*/
.fReAGt:where([data-variant='medium']){font:var(--text-title-shorthand-medium,600 20px / 1.6 -apple-system,BlinkMacSystemFont,"Segoe UI","Noto Sans",Helvetica,Arial,sans-serif,"Apple Color Emoji","Segoe UI Emoji");}/*!sc*/
.fReAGt:where([data-variant='small']){font:var(--text-title-shorthand-small,600 16px / 1.5 -apple-system,BlinkMacSystemFont,"Segoe UI","Noto Sans",Helvetica,Arial,sans-serif,"Apple Color Emoji","Segoe UI Emoji");}/*!sc*/
.fpGZrB{font-weight:600;font-size:32px;margin:0;}/*!sc*/
.fpGZrB:where([data-variant='large']){font:var(--text-title-shorthand-large,600 32px / 1.5 -apple-system,BlinkMacSystemFont,"Segoe UI","Noto Sans",Helvetica,Arial,sans-serif,"Apple Color Emoji","Segoe UI Emoji");}/*!sc*/
.fpGZrB:where([data-variant='medium']){font:var(--text-title-shorthand-medium,600 20px / 1.6 -apple-system,BlinkMacSystemFont,"Segoe UI","Noto Sans",Helvetica,Arial,sans-serif,"Apple Color Emoji","Segoe UI Emoji");}/*!sc*/
.fpGZrB:where([data-variant='small']){font:var(--text-title-shorthand-small,600 16px / 1.5 -apple-system,BlinkMacSystemFont,"Segoe UI","Noto Sans",Helvetica,Arial,sans-serif,"Apple Color Emoji","Segoe UI Emoji");}/*!sc*/
.eqidDl{font-weight:600;font-size:32px;margin:0;font-weight:600;display:inline-block;max-width:100%;font-size:16px;}/*!sc*/
.eqidDl:where([data-variant='large']){font:var(--text-title-shorthand-large,600 32px / 1.5 -apple-system,BlinkMacSystemFont,"Segoe UI","Noto Sans",Helvetica,Arial,sans-serif,"Apple Color Emoji","Segoe UI Emoji");}/*!sc*/
.eqidDl:where([data-variant='medium']){font:var(--text-title-shorthand-medium,600 20px / 1.6 -apple-system,BlinkMacSystemFont,"Segoe UI","Noto Sans",Helvetica,Arial,sans-serif,"Apple Color Emoji","Segoe UI Emoji");}/*!sc*/
.eqidDl:where([data-variant='small']){font:var(--text-title-shorthand-small,600 16px / 1.5 -apple-system,BlinkMacSystemFont,"Segoe UI","Noto Sans",Helvetica,Arial,sans-serif,"Apple Color Emoji","Segoe UI Emoji");}/*!sc*/
.eDVSKn{font-weight:600;font-size:32px;margin:0;font-weight:600;display:inline-block;max-width:100%;font-size:14px;}/*!sc*/
.eDVSKn:where([data-variant='large']){font:var(--text-title-shorthand-large,600 32px / 1.5 -apple-system,BlinkMacSystemFont,"Segoe UI","Noto Sans",Helvetica,Arial,sans-serif,"Apple Color Emoji","Segoe UI Emoji");}/*!sc*/
.eDVSKn:where([data-variant='medium']){font:var(--text-title-shorthand-medium,600 20px / 1.6 -apple-system,BlinkMacSystemFont,"Segoe UI","Noto Sans",Helvetica,Arial,sans-serif,"Apple Color Emoji","Segoe UI Emoji");}/*!sc*/
.eDVSKn:where([data-variant='small']){font:var(--text-title-shorthand-small,600 16px / 1.5 -apple-system,BlinkMacSystemFont,"Segoe UI","Noto Sans",Helvetica,Arial,sans-serif,"Apple Color Emoji","Segoe UI Emoji");}/*!sc*/
data-styled.g2[id="Heading__StyledHeading-sc-1c1dgg0-0"]{content:"jUaXMC,fReAGt,fpGZrB,eqidDl,eDVSKn,"}/*!sc*/
.jGoVeP{border-radius:6px;border:1px solid;border-color:transparent;font-family:inherit;font-weight:500;font-size:14px;cursor:pointer;-webkit-appearance:none;-moz-appearance:none;appearance:none;-webkit-user-select:none;-moz-user-select:none;-ms-user-select:none;user-select:none;-webkit-text-decoration:none;text-decoration:none;text-align:center;display:-webkit-box;display:-webkit-flex;display:-ms-flexbox;display:flex;-webkit-align-items:center;-webkit-box-align:center;-ms-flex-align:center;align-items:center;-webkit-box-pack:justify;-webkit-justify-content:space-between;-ms-flex-pack:justify;justify-content:space-between;height:32px;padding:0 12px;gap:8px;min-width:-webkit-max-content;min-width:-moz-max-content;min-width:max-content;-webkit-transition:80ms cubic-bezier(0.65,0,0.35,1);transition:80ms cubic-bezier(0.65,0,0.35,1);-webkit-transition-property:color,fill,background-color,border-color;transition-property:color,fill,background-color,border-color;color:var(--button-default-fgColor-rest,var(--color-btn-text,#24292f));background-color:transparent;box-shadow:none;}/*!sc*/
.jGoVeP:focus:not(:disabled){box-shadow:none;outline:2px solid var(--fgColor-accent,var(--color-accent-fg,#0969da));outline-offset:-2px;}/*!sc*/
.jGoVeP:focus:not(:disabled):not(:focus-visible){outline:solid 1px transparent;}/*!sc*/
.jGoVeP:focus-visible:not(:disabled){box-shadow:none;outline:2px solid var(--fgColor-accent,var(--color-accent-fg,#0969da));outline-offset:-2px;}/*!sc*/
.jGoVeP[href]{display:-webkit-inline-box;display:-webkit-inline-flex;display:-ms-inline-flexbox;display:inline-flex;}/*!sc*/
.jGoVeP[href]:hover{-webkit-text-decoration:none;text-decoration:none;}/*!sc*/
.jGoVeP:hover{-webkit-transition-duration:80ms;transition-duration:80ms;}/*!sc*/
.jGoVeP:active{-webkit-transition:none;transition:none;}/*!sc*/
.jGoVeP[data-inactive]{cursor:auto;}/*!sc*/
.jGoVeP:disabled{cursor:not-allowed;box-shadow:none;color:var(--fgColor-disabled,var(--color-primer-fg-disabled,#8c959f));}/*!sc*/
.jGoVeP:disabled [data-component=ButtonCounter],.jGoVeP:disabled [data-component="leadingVisual"],.jGoVeP:disabled [data-component="trailingAction"]{color:inherit;}/*!sc*/
@media (forced-colors:active){.jGoVeP:focus{outline:solid 1px transparent;}}/*!sc*/
.jGoVeP [data-component=ButtonCounter]{font-size:12px;}/*!sc*/
.jGoVeP[data-component=IconButton]{display:inline-grid;padding:unset;place-content:center;width:32px;min-width:unset;}/*!sc*/
.jGoVeP[data-size="small"]{padding:0 8px;height:28px;gap:4px;font-size:12px;}/*!sc*/
.jGoVeP[data-size="small"] [data-component="text"]{line-height:calc(20 / 12);}/*!sc*/
.jGoVeP[data-size="small"] [data-component=ButtonCounter]{font-size:12px;}/*!sc*/
.jGoVeP[data-size="small"] [data-component="buttonContent"] > :not(:last-child){margin-right:4px;}/*!sc*/
.jGoVeP[data-size="small"][data-component=IconButton]{width:28px;padding:unset;}/*!sc*/
.jGoVeP[data-size="large"]{padding:0 16px;height:40px;gap:8px;}/*!sc*/
.jGoVeP[data-size="large"] [data-component="buttonContent"] > :not(:last-child){margin-right:8px;}/*!sc*/
.jGoVeP[data-size="large"][data-component=IconButton]{width:40px;padding:unset;}/*!sc*/
.jGoVeP[data-block="block"]{width:100%;}/*!sc*/
.jGoVeP[data-label-wrap="true"]{min-width:-webkit-fit-content;min-width:-moz-fit-content;min-width:fit-content;height:unset;min-height:var(--control-medium-size,2rem);}/*!sc*/
.jGoVeP[data-label-wrap="true"] [data-component="buttonContent"]{-webkit-flex:1 1 auto;-ms-flex:1 1 auto;flex:1 1 auto;-webkit-align-self:stretch;-ms-flex-item-align:stretch;align-self:stretch;padding-block:calc(var(--control-medium-paddingBlock,0.375rem) - 2px);}/*!sc*/
.jGoVeP[data-label-wrap="true"] [data-component="text"]{white-space:unset;word-break:break-word;}/*!sc*/
.jGoVeP[data-label-wrap="true"][data-size="small"]{height:unset;min-height:var(--control-small-size,1.75rem);}/*!sc*/
.jGoVeP[data-label-wrap="true"][data-size="small"] [data-component="buttonContent"]{padding-block:calc(var(--control-small-paddingBlock,0.25rem) - 2px);}/*!sc*/
.jGoVeP[data-label-wrap="true"][data-size="large"]{height:unset;min-height:var(--control-large-size,2.5rem);padding-inline:var(--control-large-paddingInline-spacious,1rem);}/*!sc*/
.jGoVeP[data-label-wrap="true"][data-size="large"] [data-component="buttonContent"]{padding-block:calc(var(--control-large-paddingBlock,0.625rem) - 2px);}/*!sc*/
.jGoVeP[data-inactive]:not([disabled]){background-color:var(--button-inactive-bgColor,var(--button-inactive-bgColor-rest,var(--color-btn-inactive-bg,#eaeef2)));border-color:var(--button-inactive-bgColor,var(--button-inactive-bgColor-rest,var(--color-btn-inactive-bg,#eaeef2)));color:var(--button-inactive-fgColor,var(--button-inactive-fgColor-rest,var(--color-btn-inactive-text,#57606a)));}/*!sc*/
.jGoVeP[data-inactive]:not([disabled]):focus-visible{box-shadow:none;}/*!sc*/
.jGoVeP [data-component="leadingVisual"]{grid-area:leadingVisual;color:var(--fgColor-muted,var(--color-fg-muted,#656d76));}/*!sc*/
.jGoVeP [data-component="text"]{grid-area:text;line-height:calc(20/14);white-space:nowrap;}/*!sc*/
.jGoVeP [data-component="trailingVisual"]{grid-area:trailingVisual;}/*!sc*/
.jGoVeP [data-component="trailingAction"]{margin-right:-4px;color:var(--fgColor-muted,var(--color-fg-muted,#656d76));}/*!sc*/
.jGoVeP [data-component="buttonContent"]{-webkit-flex:1 0 auto;-ms-flex:1 0 auto;flex:1 0 auto;display:grid;grid-template-areas:"leadingVisual text trailingVisual";grid-template-columns:min-content minmax(0,auto) min-content;-webkit-align-items:center;-webkit-box-align:center;-ms-flex-align:center;align-items:center;-webkit-align-content:center;-ms-flex-line-pack:center;align-content:center;}/*!sc*/
.jGoVeP [data-component="buttonContent"] > :not(:last-child){margin-right:8px;}/*!sc*/
.jGoVeP [data-component="loadingSpinner"]{grid-area:text;margin-right:0px !important;place-self:center;}/*!sc*/
.jGoVeP [data-component="loadingSpinner"] + [data-component="text"]{visibility:hidden;}/*!sc*/
.jGoVeP:hover:not([disabled]){background-color:var(--control-transparent-bgColor-hover,var(--color-action-list-item-default-hover-bg,rgba(208,215,222,0.32)));}/*!sc*/
.jGoVeP:active:not([disabled]){background-color:var(--control-transparent-bgColor-active,var(--color-action-list-item-default-active-bg,rgba(208,215,222,0.48)));}/*!sc*/
.jGoVeP[aria-expanded=true]{background-color:var(--control-transparent-bgColor-selected,var(--color-action-list-item-default-selected-bg,rgba(208,215,222,0.24)));}/*!sc*/
.jGoVeP[data-component="IconButton"][data-no-visuals]{color:var(--fgColor-muted,var(--color-fg-muted,#656d76));}/*!sc*/
.jGoVeP[data-no-visuals]{color:var(--fgColor-accent,var(--color-accent-fg,#0969da));}/*!sc*/
.jGoVeP:has([data-component="ButtonCounter"]){color:var(--button-default-fgColor-rest,var(--color-btn-text,#24292f));}/*!sc*/
.jGoVeP:disabled[data-no-visuals]{color:var(--fgColor-disabled,var(--color-primer-fg-disabled,#8c959f));}/*!sc*/
.jGoVeP:disabled[data-no-visuals] [data-component=ButtonCounter]{color:inherit;}/*!sc*/
.jGoVeP{color:var(--fgColor-muted,var(--color-fg-muted,#656d76));padding-left:8px;padding-right:8px;display:none;}/*!sc*/
@media screen and (max-width:768px){.jGoVeP{display:block;}}/*!sc*/
.cRDVgI{border-radius:6px;border:1px solid;border-color:transparent;font-family:inherit;font-weight:500;font-size:14px;cursor:pointer;-webkit-appearance:none;-moz-appearance:none;appearance:none;-webkit-user-select:none;-moz-user-select:none;-ms-user-select:none;user-select:none;-webkit-text-decoration:none;text-decoration:none;text-align:center;display:-webkit-box;display:-webkit-flex;display:-ms-flexbox;display:flex;-webkit-align-items:center;-webkit-box-align:center;-ms-flex-align:center;align-items:center;-webkit-box-pack:justify;-webkit-justify-content:space-between;-ms-flex-pack:justify;justify-content:space-between;height:32px;padding:0 12px;gap:8px;min-width:-webkit-max-content;min-width:-moz-max-content;min-width:max-content;-webkit-transition:80ms cubic-bezier(0.65,0,0.35,1);transition:80ms cubic-bezier(0.65,0,0.35,1);-webkit-transition-property:color,fill,background-color,border-color;transition-property:color,fill,background-color,border-color;color:var(--button-default-fgColor-rest,var(--color-btn-text,#24292f));background-color:transparent;box-shadow:none;}/*!sc*/
.cRDVgI:focus:not(:disabled){box-shadow:none;outline:2px solid var(--fgColor-accent,var(--color-accent-fg,#0969da));outline-offset:-2px;}/*!sc*/
.cRDVgI:focus:not(:disabled):not(:focus-visible){outline:solid 1px transparent;}/*!sc*/
.cRDVgI:focus-visible:not(:disabled){box-shadow:none;outline:2px solid var(--fgColor-accent,var(--color-accent-fg,#0969da));outline-offset:-2px;}/*!sc*/
.cRDVgI[href]{display:-webkit-inline-box;display:-webkit-inline-flex;display:-ms-inline-flexbox;display:inline-flex;}/*!sc*/
.cRDVgI[href]:hover{-webkit-text-decoration:none;text-decoration:none;}/*!sc*/
.cRDVgI:hover{-webkit-transition-duration:80ms;transition-duration:80ms;}/*!sc*/
.cRDVgI:active{-webkit-transition:none;transition:none;}/*!sc*/
.cRDVgI[data-inactive]{cursor:auto;}/*!sc*/
.cRDVgI:disabled{cursor:not-allowed;box-shadow:none;color:var(--fgColor-disabled,var(--color-primer-fg-disabled,#8c959f));}/*!sc*/
.cRDVgI:disabled [data-component=ButtonCounter],.cRDVgI:disabled [data-component="leadingVisual"],.cRDVgI:disabled [data-component="trailingAction"]{color:inherit;}/*!sc*/
@media (forced-colors:active){.cRDVgI:focus{outline:solid 1px transparent;}}/*!sc*/
.cRDVgI [data-component=ButtonCounter]{font-size:12px;}/*!sc*/
.cRDVgI[data-component=IconButton]{display:inline-grid;padding:unset;place-content:center;width:32px;min-width:unset;}/*!sc*/
.cRDVgI[data-size="small"]{padding:0 8px;height:28px;gap:4px;font-size:12px;}/*!sc*/
.cRDVgI[data-size="small"] [data-component="text"]{line-height:calc(20 / 12);}/*!sc*/
.cRDVgI[data-size="small"] [data-component=ButtonCounter]{font-size:12px;}/*!sc*/
.cRDVgI[data-size="small"] [data-component="buttonContent"] > :not(:last-child){margin-right:4px;}/*!sc*/
.cRDVgI[data-size="small"][data-component=IconButton]{width:28px;padding:unset;}/*!sc*/
.cRDVgI[data-size="large"]{padding:0 16px;height:40px;gap:8px;}/*!sc*/
.cRDVgI[data-size="large"] [data-component="buttonContent"] > :not(:last-child){margin-right:8px;}/*!sc*/
.cRDVgI[data-size="large"][data-component=IconButton]{width:40px;padding:unset;}/*!sc*/
.cRDVgI[data-block="block"]{width:100%;}/*!sc*/
.cRDVgI[data-label-wrap="true"]{min-width:-webkit-fit-content;min-width:-moz-fit-content;min-width:fit-content;height:unset;min-height:var(--control-medium-size,2rem);}/*!sc*/
.cRDVgI[data-label-wrap="true"] [data-component="buttonContent"]{-webkit-flex:1 1 auto;-ms-flex:1 1 auto;flex:1 1 auto;-webkit-align-self:stretch;-ms-flex-item-align:stretch;align-self:stretch;padding-block:calc(var(--control-medium-paddingBlock,0.375rem) - 2px);}/*!sc*/
.cRDVgI[data-label-wrap="true"] [data-component="text"]{white-space:unset;word-break:break-word;}/*!sc*/
.cRDVgI[data-label-wrap="true"][data-size="small"]{height:unset;min-height:var(--control-small-size,1.75rem);}/*!sc*/
.cRDVgI[data-label-wrap="true"][data-size="small"] [data-component="buttonContent"]{padding-block:calc(var(--control-small-paddingBlock,0.25rem) - 2px);}/*!sc*/
.cRDVgI[data-label-wrap="true"][data-size="large"]{height:unset;min-height:var(--control-large-size,2.5rem);padding-inline:var(--control-large-paddingInline-spacious,1rem);}/*!sc*/
.cRDVgI[data-label-wrap="true"][data-size="large"] [data-component="buttonContent"]{padding-block:calc(var(--control-large-paddingBlock,0.625rem) - 2px);}/*!sc*/
.cRDVgI[data-inactive]:not([disabled]){background-color:var(--button-inactive-bgColor,var(--button-inactive-bgColor-rest,var(--color-btn-inactive-bg,#eaeef2)));border-color:var(--button-inactive-bgColor,var(--button-inactive-bgColor-rest,var(--color-btn-inactive-bg,#eaeef2)));color:var(--button-inactive-fgColor,var(--button-inactive-fgColor-rest,var(--color-btn-inactive-text,#57606a)));}/*!sc*/
.cRDVgI[data-inactive]:not([disabled]):focus-visible{box-shadow:none;}/*!sc*/
.cRDVgI [data-component="leadingVisual"]{grid-area:leadingVisual;color:var(--fgColor-muted,var(--color-fg-muted,#656d76));}/*!sc*/
.cRDVgI [data-component="text"]{grid-area:text;line-height:calc(20/14);white-space:nowrap;}/*!sc*/
.cRDVgI [data-component="trailingVisual"]{grid-area:trailingVisual;}/*!sc*/
.cRDVgI [data-component="trailingAction"]{margin-right:-4px;color:var(--fgColor-muted,var(--color-fg-muted,#656d76));}/*!sc*/
.cRDVgI [data-component="buttonContent"]{-webkit-flex:1 0 auto;-ms-flex:1 0 auto;flex:1 0 auto;display:grid;grid-template-areas:"leadingVisual text trailingVisual";grid-template-columns:min-content minmax(0,auto) min-content;-webkit-align-items:center;-webkit-box-align:center;-ms-flex-align:center;align-items:center;-webkit-align-content:center;-ms-flex-line-pack:center;align-content:center;}/*!sc*/
.cRDVgI [data-component="buttonContent"] > :not(:last-child){margin-right:8px;}/*!sc*/
.cRDVgI [data-component="loadingSpinner"]{grid-area:text;margin-right:0px !important;place-self:center;}/*!sc*/
.cRDVgI [data-component="loadingSpinner"] + [data-component="text"]{visibility:hidden;}/*!sc*/
.cRDVgI:hover:not([disabled]){background-color:var(--control-transparent-bgColor-hover,var(--color-action-list-item-default-hover-bg,rgba(208,215,222,0.32)));}/*!sc*/
.cRDVgI:active:not([disabled]){background-color:var(--control-transparent-bgColor-active,var(--color-action-list-item-default-active-bg,rgba(208,215,222,0.48)));}/*!sc*/
.cRDVgI[aria-expanded=true]{background-color:var(--control-transparent-bgColor-selected,var(--color-action-list-item-default-selected-bg,rgba(208,215,222,0.24)));}/*!sc*/
.cRDVgI[data-component="IconButton"][data-no-visuals]{color:var(--fgColor-muted,var(--color-fg-muted,#656d76));}/*!sc*/
.cRDVgI[data-no-visuals]{color:var(--fgColor-muted,var(--color-fg-muted,#656d76));height:32px;position:relative;}/*!sc*/
@media screen and (max-width:768px){.cRDVgI[data-no-visuals]{display:none;}}/*!sc*/
.cRDVgI:has([data-component="ButtonCounter"]){color:var(--button-default-fgColor-rest,var(--color-btn-text,#24292f));}/*!sc*/
.cRDVgI:disabled[data-no-visuals]{color:var(--fgColor-disabled,var(--color-primer-fg-disabled,#8c959f));}/*!sc*/
.cRDVgI:disabled[data-no-visuals] [data-component=ButtonCounter]{color:inherit;}/*!sc*/
.jwBfae{border-radius:6px;border:1px solid;border-color:var(--button-default-borderColor-rest,var(--button-default-borderColor-rest,var(--color-btn-border,rgba(31,35,40,0.15))));font-family:inherit;font-weight:500;font-size:14px;cursor:pointer;-webkit-appearance:none;-moz-appearance:none;appearance:none;-webkit-user-select:none;-moz-user-select:none;-ms-user-select:none;user-select:none;-webkit-text-decoration:none;text-decoration:none;text-align:center;display:-webkit-box;display:-webkit-flex;display:-ms-flexbox;display:flex;-webkit-align-items:center;-webkit-box-align:center;-ms-flex-align:center;align-items:center;-webkit-box-pack:justify;-webkit-justify-content:space-between;-ms-flex-pack:justify;justify-content:space-between;height:32px;padding:0 12px;gap:8px;min-width:-webkit-max-content;min-width:-moz-max-content;min-width:max-content;-webkit-transition:80ms cubic-bezier(0.65,0,0.35,1);transition:80ms cubic-bezier(0.65,0,0.35,1);-webkit-transition-property:color,fill,background-color,border-color;transition-property:color,fill,background-color,border-color;color:var(--button-default-fgColor-rest,var(--color-btn-text,#24292f));background-color:var(--button-default-bgColor-rest,var(--color-btn-bg,#f6f8fa));box-shadow:var(--button-default-shadow-resting,var(--color-btn-shadow,0 1px 0 rgba(31,35,40,0.04))),var(--button-default-shadow-inset,var(--color-btn-inset-shadow,inset 0 1px 0 rgba(255,255,255,0.25)));}/*!sc*/
.jwBfae:focus:not(:disabled){box-shadow:none;outline:2px solid var(--fgColor-accent,var(--color-accent-fg,#0969da));outline-offset:-2px;}/*!sc*/
.jwBfae:focus:not(:disabled):not(:focus-visible){outline:solid 1px transparent;}/*!sc*/
.jwBfae:focus-visible:not(:disabled){box-shadow:none;outline:2px solid var(--fgColor-accent,var(--color-accent-fg,#0969da));outline-offset:-2px;}/*!sc*/
.jwBfae[href]{display:-webkit-inline-box;display:-webkit-inline-flex;display:-ms-inline-flexbox;display:inline-flex;}/*!sc*/
.jwBfae[href]:hover{-webkit-text-decoration:none;text-decoration:none;}/*!sc*/
.jwBfae:hover{-webkit-transition-duration:80ms;transition-duration:80ms;}/*!sc*/
.jwBfae:active{-webkit-transition:none;transition:none;}/*!sc*/
.jwBfae[data-inactive]{cursor:auto;}/*!sc*/
.jwBfae:disabled{cursor:not-allowed;box-shadow:none;color:var(--fgColor-disabled,var(--color-primer-fg-disabled,#8c959f));border-color:var(--button-default-borderColor-disabled,var(--button-default-borderColor-rest,var(--color-btn-border,rgba(31,35,40,0.15))));background-color:var(--button-default-bgColor-disabled,var(--control-bgColor-disabled,var(--color-input-disabled-bg,rgba(175,184,193,0.2))));}/*!sc*/
.jwBfae:disabled [data-component=ButtonCounter]{color:inherit;}/*!sc*/
@media (forced-colors:active){.jwBfae:focus{outline:solid 1px transparent;}}/*!sc*/
.jwBfae [data-component=ButtonCounter]{font-size:12px;background-color:var(--buttonCounter-default-bgColor-rest,var(--color-btn-counter-bg,rgba(31,35,40,0.08)));}/*!sc*/
.jwBfae[data-component=IconButton]{display:inline-grid;padding:unset;place-content:center;width:32px;min-width:unset;}/*!sc*/
.jwBfae[data-size="small"]{padding:0 8px;height:28px;gap:4px;font-size:12px;}/*!sc*/
.jwBfae[data-size="small"] [data-component="text"]{line-height:calc(20 / 12);}/*!sc*/
.jwBfae[data-size="small"] [data-component=ButtonCounter]{font-size:12px;}/*!sc*/
.jwBfae[data-size="small"] [data-component="buttonContent"] > :not(:last-child){margin-right:4px;}/*!sc*/
.jwBfae[data-size="small"][data-component=IconButton]{width:28px;padding:unset;}/*!sc*/
.jwBfae[data-size="large"]{padding:0 16px;height:40px;gap:8px;}/*!sc*/
.jwBfae[data-size="large"] [data-component="buttonContent"] > :not(:last-child){margin-right:8px;}/*!sc*/
.jwBfae[data-size="large"][data-component=IconButton]{width:40px;padding:unset;}/*!sc*/
.jwBfae[data-block="block"]{width:100%;}/*!sc*/
.jwBfae[data-label-wrap="true"]{min-width:-webkit-fit-content;min-width:-moz-fit-content;min-width:fit-content;height:unset;min-height:var(--control-medium-size,2rem);}/*!sc*/
.jwBfae[data-label-wrap="true"] [data-component="buttonContent"]{-webkit-flex:1 1 auto;-ms-flex:1 1 auto;flex:1 1 auto;-webkit-align-self:stretch;-ms-flex-item-align:stretch;align-self:stretch;padding-block:calc(var(--control-medium-paddingBlock,0.375rem) - 2px);}/*!sc*/
.jwBfae[data-label-wrap="true"] [data-component="text"]{white-space:unset;word-break:break-word;}/*!sc*/
.jwBfae[data-label-wrap="true"][data-size="small"]{height:unset;min-height:var(--control-small-size,1.75rem);}/*!sc*/
.jwBfae[data-label-wrap="true"][data-size="small"] [data-component="buttonContent"]{padding-block:calc(var(--control-small-paddingBlock,0.25rem) - 2px);}/*!sc*/
.jwBfae[data-label-wrap="true"][data-size="large"]{height:unset;min-height:var(--control-large-size,2.5rem);padding-inline:var(--control-large-paddingInline-spacious,1rem);}/*!sc*/
.jwBfae[data-label-wrap="true"][data-size="large"] [data-component="buttonContent"]{padding-block:calc(var(--control-large-paddingBlock,0.625rem) - 2px);}/*!sc*/
.jwBfae[data-inactive]:not([disabled]){background-color:var(--button-inactive-bgColor,var(--button-inactive-bgColor-rest,var(--color-btn-inactive-bg,#eaeef2)));border-color:var(--button-inactive-bgColor,var(--button-inactive-bgColor-rest,var(--color-btn-inactive-bg,#eaeef2)));color:var(--button-inactive-fgColor,var(--button-inactive-fgColor-rest,var(--color-btn-inactive-text,#57606a)));}/*!sc*/
.jwBfae[data-inactive]:not([disabled]):focus-visible{box-shadow:none;}/*!sc*/
.jwBfae [data-component="leadingVisual"]{grid-area:leadingVisual;}/*!sc*/
.jwBfae [data-component="text"]{grid-area:text;line-height:calc(20/14);white-space:nowrap;}/*!sc*/
.jwBfae [data-component="trailingVisual"]{grid-area:trailingVisual;}/*!sc*/
.jwBfae [data-component="trailingAction"]{margin-right:-4px;}/*!sc*/
.jwBfae [data-component="buttonContent"]{-webkit-flex:1 0 auto;-ms-flex:1 0 auto;flex:1 0 auto;display:grid;grid-template-areas:"leadingVisual text trailingVisual";grid-template-columns:min-content minmax(0,auto) min-content;-webkit-align-items:center;-webkit-box-align:center;-ms-flex-align:center;align-items:center;-webkit-align-content:center;-ms-flex-line-pack:center;align-content:center;}/*!sc*/
.jwBfae [data-component="buttonContent"] > :not(:last-child){margin-right:8px;}/*!sc*/
.jwBfae [data-component="loadingSpinner"]{grid-area:text;margin-right:0px !important;place-self:center;}/*!sc*/
.jwBfae [data-component="loadingSpinner"] + [data-component="text"]{visibility:hidden;}/*!sc*/
.jwBfae:hover:not([disabled]):not([data-inactive]){background-color:var(--button-default-bgColor-hover,var(--color-btn-hover-bg,#f3f4f6));border-color:var(--button-default-borderColor-hover,var(--button-default-borderColor-hover,var(--color-btn-hover-border,rgba(31,35,40,0.15))));}/*!sc*/
.jwBfae:active:not([disabled]):not([data-inactive]){background-color:var(--button-default-bgColor-active,var(--color-btn-active-bg,hsla(220,14%,93%,1)));border-color:var(--button-default-borderColor-active,var(--button-default-borderColor-active,var(--color-btn-active-border,rgba(31,35,40,0.15))));}/*!sc*/
.jwBfae[aria-expanded=true]{background-color:var(--button-default-bgColor-active,var(--color-btn-active-bg,hsla(220,14%,93%,1)));border-color:var(--button-default-borderColor-active,var(--button-default-borderColor-active,var(--color-btn-active-border,rgba(31,35,40,0.15))));}/*!sc*/
.jwBfae [data-component="leadingVisual"],.jwBfae [data-component="trailingVisual"],.jwBfae [data-component="trailingAction"]{color:var(--button-color,var(--fgColor-muted,var(--color-fg-muted,#656d76)));}/*!sc*/
.jwBfae[data-component="IconButton"][data-no-visuals]{color:var(--fgColor-muted,var(--color-fg-muted,#656d76));}/*!sc*/
.jwBfae{display:-webkit-box;display:-webkit-flex;display:-ms-flexbox;display:flex;min-width:0;}/*!sc*/
.jwBfae svg{color:var(--fgColor-muted,var(--color-fg-muted,#656d76));}/*!sc*/
.jwBfae > span{width:inherit;}/*!sc*/
.YkvTm{border-radius:6px;border:1px solid;border-color:var(--button-default-borderColor-rest,var(--button-default-borderColor-rest,var(--color-btn-border,rgba(31,35,40,0.15))));font-family:inherit;font-weight:500;font-size:14px;cursor:pointer;-webkit-appearance:none;-moz-appearance:none;appearance:none;-webkit-user-select:none;-moz-user-select:none;-ms-user-select:none;user-select:none;-webkit-text-decoration:none;text-decoration:none;text-align:center;display:-webkit-box;display:-webkit-flex;display:-ms-flexbox;display:flex;-webkit-align-items:center;-webkit-box-align:center;-ms-flex-align:center;align-items:center;-webkit-box-pack:justify;-webkit-justify-content:space-between;-ms-flex-pack:justify;justify-content:space-between;height:32px;padding:0 12px;gap:8px;min-width:-webkit-max-content;min-width:-moz-max-content;min-width:max-content;-webkit-transition:80ms cubic-bezier(0.65,0,0.35,1);transition:80ms cubic-bezier(0.65,0,0.35,1);-webkit-transition-property:color,fill,background-color,border-color;transition-property:color,fill,background-color,border-color;color:var(--button-default-fgColor-rest,var(--color-btn-text,#24292f));background-color:var(--button-default-bgColor-rest,var(--color-btn-bg,#f6f8fa));box-shadow:var(--button-default-shadow-resting,var(--color-btn-shadow,0 1px 0 rgba(31,35,40,0.04))),var(--button-default-shadow-inset,var(--color-btn-inset-shadow,inset 0 1px 0 rgba(255,255,255,0.25)));}/*!sc*/
.YkvTm:focus:not(:disabled){box-shadow:none;outline:2px solid var(--fgColor-accent,var(--color-accent-fg,#0969da));outline-offset:-2px;}/*!sc*/
.YkvTm:focus:not(:disabled):not(:focus-visible){outline:solid 1px transparent;}/*!sc*/
.YkvTm:focus-visible:not(:disabled){box-shadow:none;outline:2px solid var(--fgColor-accent,var(--color-accent-fg,#0969da));outline-offset:-2px;}/*!sc*/
.YkvTm[href]{display:-webkit-inline-box;display:-webkit-inline-flex;display:-ms-inline-flexbox;display:inline-flex;}/*!sc*/
.YkvTm[href]:hover{-webkit-text-decoration:none;text-decoration:none;}/*!sc*/
.YkvTm:hover{-webkit-transition-duration:80ms;transition-duration:80ms;}/*!sc*/
.YkvTm:active{-webkit-transition:none;transition:none;}/*!sc*/
.YkvTm[data-inactive]{cursor:auto;}/*!sc*/
.YkvTm:disabled{cursor:not-allowed;box-shadow:none;color:var(--fgColor-disabled,var(--color-primer-fg-disabled,#8c959f));border-color:var(--button-default-borderColor-disabled,var(--button-default-borderColor-rest,var(--color-btn-border,rgba(31,35,40,0.15))));background-color:var(--button-default-bgColor-disabled,var(--control-bgColor-disabled,var(--color-input-disabled-bg,rgba(175,184,193,0.2))));}/*!sc*/
.YkvTm:disabled [data-component=ButtonCounter]{color:inherit;}/*!sc*/
@media (forced-colors:active){.YkvTm:focus{outline:solid 1px transparent;}}/*!sc*/
.YkvTm [data-component=ButtonCounter]{font-size:12px;background-color:var(--buttonCounter-default-bgColor-rest,var(--color-btn-counter-bg,rgba(31,35,40,0.08)));}/*!sc*/
.YkvTm[data-component=IconButton]{display:inline-grid;padding:unset;place-content:center;width:32px;min-width:unset;}/*!sc*/
.YkvTm[data-size="small"]{padding:0 8px;height:28px;gap:4px;font-size:12px;}/*!sc*/
.YkvTm[data-size="small"] [data-component="text"]{line-height:calc(20 / 12);}/*!sc*/
.YkvTm[data-size="small"] [data-component=ButtonCounter]{font-size:12px;}/*!sc*/
.YkvTm[data-size="small"] [data-component="buttonContent"] > :not(:last-child){margin-right:4px;}/*!sc*/
.YkvTm[data-size="small"][data-component=IconButton]{width:28px;padding:unset;}/*!sc*/
.YkvTm[data-size="large"]{padding:0 16px;height:40px;gap:8px;}/*!sc*/
.YkvTm[data-size="large"] [data-component="buttonContent"] > :not(:last-child){margin-right:8px;}/*!sc*/
.YkvTm[data-size="large"][data-component=IconButton]{width:40px;padding:unset;}/*!sc*/
.YkvTm[data-block="block"]{width:100%;}/*!sc*/
.YkvTm[data-label-wrap="true"]{min-width:-webkit-fit-content;min-width:-moz-fit-content;min-width:fit-content;height:unset;min-height:var(--control-medium-size,2rem);}/*!sc*/
.YkvTm[data-label-wrap="true"] [data-component="buttonContent"]{-webkit-flex:1 1 auto;-ms-flex:1 1 auto;flex:1 1 auto;-webkit-align-self:stretch;-ms-flex-item-align:stretch;align-self:stretch;padding-block:calc(var(--control-medium-paddingBlock,0.375rem) - 2px);}/*!sc*/
.YkvTm[data-label-wrap="true"] [data-component="text"]{white-space:unset;word-break:break-word;}/*!sc*/
.YkvTm[data-label-wrap="true"][data-size="small"]{height:unset;min-height:var(--control-small-size,1.75rem);}/*!sc*/
.YkvTm[data-label-wrap="true"][data-size="small"] [data-component="buttonContent"]{padding-block:calc(var(--control-small-paddingBlock,0.25rem) - 2px);}/*!sc*/
.YkvTm[data-label-wrap="true"][data-size="large"]{height:unset;min-height:var(--control-large-size,2.5rem);padding-inline:var(--control-large-paddingInline-spacious,1rem);}/*!sc*/
.YkvTm[data-label-wrap="true"][data-size="large"] [data-component="buttonContent"]{padding-block:calc(var(--control-large-paddingBlock,0.625rem) - 2px);}/*!sc*/
.YkvTm[data-inactive]:not([disabled]){background-color:var(--button-inactive-bgColor,var(--button-inactive-bgColor-rest,var(--color-btn-inactive-bg,#eaeef2)));border-color:var(--button-inactive-bgColor,var(--button-inactive-bgColor-rest,var(--color-btn-inactive-bg,#eaeef2)));color:var(--button-inactive-fgColor,var(--button-inactive-fgColor-rest,var(--color-btn-inactive-text,#57606a)));}/*!sc*/
.YkvTm[data-inactive]:not([disabled]):focus-visible{box-shadow:none;}/*!sc*/
.YkvTm [data-component="leadingVisual"]{grid-area:leadingVisual;}/*!sc*/
.YkvTm [data-component="text"]{grid-area:text;line-height:calc(20/14);white-space:nowrap;}/*!sc*/
.YkvTm [data-component="trailingVisual"]{grid-area:trailingVisual;}/*!sc*/
.YkvTm [data-component="trailingAction"]{margin-right:-4px;}/*!sc*/
.YkvTm [data-component="buttonContent"]{-webkit-flex:1 0 auto;-ms-flex:1 0 auto;flex:1 0 auto;display:grid;grid-template-areas:"leadingVisual text trailingVisual";grid-template-columns:min-content minmax(0,auto) min-content;-webkit-align-items:center;-webkit-box-align:center;-ms-flex-align:center;align-items:center;-webkit-align-content:center;-ms-flex-line-pack:center;align-content:center;}/*!sc*/
.YkvTm [data-component="buttonContent"] > :not(:last-child){margin-right:8px;}/*!sc*/
.YkvTm [data-component="loadingSpinner"]{grid-area:text;margin-right:0px !important;place-self:center;}/*!sc*/
.YkvTm [data-component="loadingSpinner"] + [data-component="text"]{visibility:hidden;}/*!sc*/
.YkvTm:hover:not([disabled]):not([data-inactive]){background-color:var(--button-default-bgColor-hover,var(--color-btn-hover-bg,#f3f4f6));border-color:var(--button-default-borderColor-hover,var(--button-default-borderColor-hover,var(--color-btn-hover-border,rgba(31,35,40,0.15))));}/*!sc*/
.YkvTm:active:not([disabled]):not([data-inactive]){background-color:var(--button-default-bgColor-active,var(--color-btn-active-bg,hsla(220,14%,93%,1)));border-color:var(--button-default-borderColor-active,var(--button-default-borderColor-active,var(--color-btn-active-border,rgba(31,35,40,0.15))));}/*!sc*/
.YkvTm[aria-expanded=true]{background-color:var(--button-default-bgColor-active,var(--color-btn-active-bg,hsla(220,14%,93%,1)));border-color:var(--button-default-borderColor-active,var(--button-default-borderColor-active,var(--color-btn-active-border,rgba(31,35,40,0.15))));}/*!sc*/
.YkvTm [data-component="leadingVisual"],.YkvTm [data-component="trailingVisual"],.YkvTm [data-component="trailingAction"]{color:var(--button-color,var(--fgColor-muted,var(--color-fg-muted,#656d76)));}/*!sc*/
.YkvTm[data-component="IconButton"][data-no-visuals]{color:var(--fgColor-muted,var(--color-fg-muted,#656d76));}/*!sc*/
.YkvTm[data-no-visuals]{color:var(--fgColor-muted,var(--color-fg-subtle,#6e7781));border-top-right-radius:0;border-bottom-right-radius:0;border-right:0;}/*!sc*/
.klDWQA{border-radius:6px;border:1px solid;border-color:var(--button-default-borderColor-rest,var(--button-default-borderColor-rest,var(--color-btn-border,rgba(31,35,40,0.15))));font-family:inherit;font-weight:500;font-size:14px;cursor:pointer;-webkit-appearance:none;-moz-appearance:none;appearance:none;-webkit-user-select:none;-moz-user-select:none;-ms-user-select:none;user-select:none;-webkit-text-decoration:none;text-decoration:none;text-align:center;display:-webkit-box;display:-webkit-flex;display:-ms-flexbox;display:flex;-webkit-align-items:center;-webkit-box-align:center;-ms-flex-align:center;align-items:center;-webkit-box-pack:justify;-webkit-justify-content:space-between;-ms-flex-pack:justify;justify-content:space-between;height:32px;padding:0 12px;gap:8px;min-width:-webkit-max-content;min-width:-moz-max-content;min-width:max-content;-webkit-transition:80ms cubic-bezier(0.65,0,0.35,1);transition:80ms cubic-bezier(0.65,0,0.35,1);-webkit-transition-property:color,fill,background-color,border-color;transition-property:color,fill,background-color,border-color;color:var(--button-default-fgColor-rest,var(--color-btn-text,#24292f));background-color:var(--button-default-bgColor-rest,var(--color-btn-bg,#f6f8fa));box-shadow:var(--button-default-shadow-resting,var(--color-btn-shadow,0 1px 0 rgba(31,35,40,0.04))),var(--button-default-shadow-inset,var(--color-btn-inset-shadow,inset 0 1px 0 rgba(255,255,255,0.25)));}/*!sc*/
.klDWQA:focus:not(:disabled){box-shadow:none;outline:2px solid var(--fgColor-accent,var(--color-accent-fg,#0969da));outline-offset:-2px;}/*!sc*/
.klDWQA:focus:not(:disabled):not(:focus-visible){outline:solid 1px transparent;}/*!sc*/
.klDWQA:focus-visible:not(:disabled){box-shadow:none;outline:2px solid var(--fgColor-accent,var(--color-accent-fg,#0969da));outline-offset:-2px;}/*!sc*/
.klDWQA[href]{display:-webkit-inline-box;display:-webkit-inline-flex;display:-ms-inline-flexbox;display:inline-flex;}/*!sc*/
.klDWQA[href]:hover{-webkit-text-decoration:none;text-decoration:none;}/*!sc*/
.klDWQA:hover{-webkit-transition-duration:80ms;transition-duration:80ms;}/*!sc*/
.klDWQA:active{-webkit-transition:none;transition:none;}/*!sc*/
.klDWQA[data-inactive]{cursor:auto;}/*!sc*/
.klDWQA:disabled{cursor:not-allowed;box-shadow:none;color:var(--fgColor-disabled,var(--color-primer-fg-disabled,#8c959f));border-color:var(--button-default-borderColor-disabled,var(--button-default-borderColor-rest,var(--color-btn-border,rgba(31,35,40,0.15))));background-color:var(--button-default-bgColor-disabled,var(--control-bgColor-disabled,var(--color-input-disabled-bg,rgba(175,184,193,0.2))));}/*!sc*/
.klDWQA:disabled [data-component=ButtonCounter]{color:inherit;}/*!sc*/
@media (forced-colors:active){.klDWQA:focus{outline:solid 1px transparent;}}/*!sc*/
.klDWQA [data-component=ButtonCounter]{font-size:12px;background-color:var(--buttonCounter-default-bgColor-rest,var(--color-btn-counter-bg,rgba(31,35,40,0.08)));}/*!sc*/
.klDWQA[data-component=IconButton]{display:inline-grid;padding:unset;place-content:center;width:32px;min-width:unset;}/*!sc*/
.klDWQA[data-size="small"]{padding:0 8px;height:28px;gap:4px;font-size:12px;}/*!sc*/
.klDWQA[data-size="small"] [data-component="text"]{line-height:calc(20 / 12);}/*!sc*/
.klDWQA[data-size="small"] [data-component=ButtonCounter]{font-size:12px;}/*!sc*/
.klDWQA[data-size="small"] [data-component="buttonContent"] > :not(:last-child){margin-right:4px;}/*!sc*/
.klDWQA[data-size="small"][data-component=IconButton]{width:28px;padding:unset;}/*!sc*/
.klDWQA[data-size="large"]{padding:0 16px;height:40px;gap:8px;}/*!sc*/
.klDWQA[data-size="large"] [data-component="buttonContent"] > :not(:last-child){margin-right:8px;}/*!sc*/
.klDWQA[data-size="large"][data-component=IconButton]{width:40px;padding:unset;}/*!sc*/
.klDWQA[data-block="block"]{width:100%;}/*!sc*/
.klDWQA[data-label-wrap="true"]{min-width:-webkit-fit-content;min-width:-moz-fit-content;min-width:fit-content;height:unset;min-height:var(--control-medium-size,2rem);}/*!sc*/
.klDWQA[data-label-wrap="true"] [data-component="buttonContent"]{-webkit-flex:1 1 auto;-ms-flex:1 1 auto;flex:1 1 auto;-webkit-align-self:stretch;-ms-flex-item-align:stretch;align-self:stretch;padding-block:calc(var(--control-medium-paddingBlock,0.375rem) - 2px);}/*!sc*/
.klDWQA[data-label-wrap="true"] [data-component="text"]{white-space:unset;word-break:break-word;}/*!sc*/
.klDWQA[data-label-wrap="true"][data-size="small"]{height:unset;min-height:var(--control-small-size,1.75rem);}/*!sc*/
.klDWQA[data-label-wrap="true"][data-size="small"] [data-component="buttonContent"]{padding-block:calc(var(--control-small-paddingBlock,0.25rem) - 2px);}/*!sc*/
.klDWQA[data-label-wrap="true"][data-size="large"]{height:unset;min-height:var(--control-large-size,2.5rem);padding-inline:var(--control-large-paddingInline-spacious,1rem);}/*!sc*/
.klDWQA[data-label-wrap="true"][data-size="large"] [data-component="buttonContent"]{padding-block:calc(var(--control-large-paddingBlock,0.625rem) - 2px);}/*!sc*/
.klDWQA[data-inactive]:not([disabled]){background-color:var(--button-inactive-bgColor,var(--button-inactive-bgColor-rest,var(--color-btn-inactive-bg,#eaeef2)));border-color:var(--button-inactive-bgColor,var(--button-inactive-bgColor-rest,var(--color-btn-inactive-bg,#eaeef2)));color:var(--button-inactive-fgColor,var(--button-inactive-fgColor-rest,var(--color-btn-inactive-text,#57606a)));}/*!sc*/
.klDWQA[data-inactive]:not([disabled]):focus-visible{box-shadow:none;}/*!sc*/
.klDWQA [data-component="leadingVisual"]{grid-area:leadingVisual;}/*!sc*/
.klDWQA [data-component="text"]{grid-area:text;line-height:calc(20/14);white-space:nowrap;}/*!sc*/
.klDWQA [data-component="trailingVisual"]{grid-area:trailingVisual;}/*!sc*/
.klDWQA [data-component="trailingAction"]{margin-right:-4px;}/*!sc*/
.klDWQA [data-component="buttonContent"]{-webkit-flex:1 0 auto;-ms-flex:1 0 auto;flex:1 0 auto;display:grid;grid-template-areas:"leadingVisual text trailingVisual";grid-template-columns:min-content minmax(0,auto) min-content;-webkit-align-items:center;-webkit-box-align:center;-ms-flex-align:center;align-items:center;-webkit-align-content:center;-ms-flex-line-pack:center;align-content:center;}/*!sc*/
.klDWQA [data-component="buttonContent"] > :not(:last-child){margin-right:8px;}/*!sc*/
.klDWQA [data-component="loadingSpinner"]{grid-area:text;margin-right:0px !important;place-self:center;}/*!sc*/
.klDWQA [data-component="loadingSpinner"] + [data-component="text"]{visibility:hidden;}/*!sc*/
.klDWQA:hover:not([disabled]):not([data-inactive]){background-color:var(--button-default-bgColor-hover,var(--color-btn-hover-bg,#f3f4f6));border-color:var(--button-default-borderColor-hover,var(--button-default-borderColor-hover,var(--color-btn-hover-border,rgba(31,35,40,0.15))));}/*!sc*/
.klDWQA:active:not([disabled]):not([data-inactive]){background-color:var(--button-default-bgColor-active,var(--color-btn-active-bg,hsla(220,14%,93%,1)));border-color:var(--button-default-borderColor-active,var(--button-default-borderColor-active,var(--color-btn-active-border,rgba(31,35,40,0.15))));}/*!sc*/
.klDWQA[aria-expanded=true]{background-color:var(--button-default-bgColor-active,var(--color-btn-active-bg,hsla(220,14%,93%,1)));border-color:var(--button-default-borderColor-active,var(--button-default-borderColor-active,var(--color-btn-active-border,rgba(31,35,40,0.15))));}/*!sc*/
.klDWQA [data-component="leadingVisual"],.klDWQA [data-component="trailingVisual"],.klDWQA [data-component="trailingAction"]{color:var(--button-color,var(--fgColor-muted,var(--color-fg-muted,#656d76)));}/*!sc*/
.klDWQA[data-component="IconButton"][data-no-visuals]{color:var(--fgColor-muted,var(--color-fg-muted,#656d76));}/*!sc*/
.klDWQA[data-no-visuals]{color:var(--fgColor-muted,var(--color-fg-subtle,#6e7781));font-size:14px;font-weight:400;-webkit-flex-shrink:0;-ms-flex-negative:0;flex-shrink:0;border-top-left-radius:0;border-bottom-left-radius:0;}/*!sc*/
.emYRmJ{border-radius:6px;border:1px solid;border-color:transparent;font-family:inherit;font-weight:500;font-size:14px;cursor:pointer;-webkit-appearance:none;-moz-appearance:none;appearance:none;-webkit-user-select:none;-moz-user-select:none;-ms-user-select:none;user-select:none;-webkit-text-decoration:none;text-decoration:none;text-align:center;display:-webkit-box;display:-webkit-flex;display:-ms-flexbox;display:flex;-webkit-align-items:center;-webkit-box-align:center;-ms-flex-align:center;align-items:center;-webkit-box-pack:justify;-webkit-justify-content:space-between;-ms-flex-pack:justify;justify-content:space-between;height:32px;padding:0 12px;gap:8px;min-width:-webkit-max-content;min-width:-moz-max-content;min-width:max-content;-webkit-transition:80ms cubic-bezier(0.65,0,0.35,1);transition:80ms cubic-bezier(0.65,0,0.35,1);-webkit-transition-property:color,fill,background-color,border-color;transition-property:color,fill,background-color,border-color;color:var(--button-default-fgColor-rest,var(--color-btn-text,#24292f));background-color:transparent;box-shadow:none;}/*!sc*/
.emYRmJ:focus:not(:disabled){box-shadow:none;outline:2px solid var(--fgColor-accent,var(--color-accent-fg,#0969da));outline-offset:-2px;}/*!sc*/
.emYRmJ:focus:not(:disabled):not(:focus-visible){outline:solid 1px transparent;}/*!sc*/
.emYRmJ:focus-visible:not(:disabled){box-shadow:none;outline:2px solid var(--fgColor-accent,var(--color-accent-fg,#0969da));outline-offset:-2px;}/*!sc*/
.emYRmJ[href]{display:-webkit-inline-box;display:-webkit-inline-flex;display:-ms-inline-flexbox;display:inline-flex;}/*!sc*/
.emYRmJ[href]:hover{-webkit-text-decoration:none;text-decoration:none;}/*!sc*/
.emYRmJ:hover{-webkit-transition-duration:80ms;transition-duration:80ms;}/*!sc*/
.emYRmJ:active{-webkit-transition:none;transition:none;}/*!sc*/
.emYRmJ[data-inactive]{cursor:auto;}/*!sc*/
.emYRmJ:disabled{cursor:not-allowed;box-shadow:none;color:var(--fgColor-disabled,var(--color-primer-fg-disabled,#8c959f));}/*!sc*/
.emYRmJ:disabled [data-component=ButtonCounter],.emYRmJ:disabled [data-component="leadingVisual"],.emYRmJ:disabled [data-component="trailingAction"]{color:inherit;}/*!sc*/
@media (forced-colors:active){.emYRmJ:focus{outline:solid 1px transparent;}}/*!sc*/
.emYRmJ [data-component=ButtonCounter]{font-size:12px;}/*!sc*/
.emYRmJ[data-component=IconButton]{display:inline-grid;padding:unset;place-content:center;width:32px;min-width:unset;}/*!sc*/
.emYRmJ[data-size="small"]{padding:0 8px;height:28px;gap:4px;font-size:12px;}/*!sc*/
.emYRmJ[data-size="small"] [data-component="text"]{line-height:calc(20 / 12);}/*!sc*/
.emYRmJ[data-size="small"] [data-component=ButtonCounter]{font-size:12px;}/*!sc*/
.emYRmJ[data-size="small"] [data-component="buttonContent"] > :not(:last-child){margin-right:4px;}/*!sc*/
.emYRmJ[data-size="small"][data-component=IconButton]{width:28px;padding:unset;}/*!sc*/
.emYRmJ[data-size="large"]{padding:0 16px;height:40px;gap:8px;}/*!sc*/
.emYRmJ[data-size="large"] [data-component="buttonContent"] > :not(:last-child){margin-right:8px;}/*!sc*/
.emYRmJ[data-size="large"][data-component=IconButton]{width:40px;padding:unset;}/*!sc*/
.emYRmJ[data-block="block"]{width:100%;}/*!sc*/
.emYRmJ[data-label-wrap="true"]{min-width:-webkit-fit-content;min-width:-moz-fit-content;min-width:fit-content;height:unset;min-height:var(--control-medium-size,2rem);}/*!sc*/
.emYRmJ[data-label-wrap="true"] [data-component="buttonContent"]{-webkit-flex:1 1 auto;-ms-flex:1 1 auto;flex:1 1 auto;-webkit-align-self:stretch;-ms-flex-item-align:stretch;align-self:stretch;padding-block:calc(var(--control-medium-paddingBlock,0.375rem) - 2px);}/*!sc*/
.emYRmJ[data-label-wrap="true"] [data-component="text"]{white-space:unset;word-break:break-word;}/*!sc*/
.emYRmJ[data-label-wrap="true"][data-size="small"]{height:unset;min-height:var(--control-small-size,1.75rem);}/*!sc*/
.emYRmJ[data-label-wrap="true"][data-size="small"] [data-component="buttonContent"]{padding-block:calc(var(--control-small-paddingBlock,0.25rem) - 2px);}/*!sc*/
.emYRmJ[data-label-wrap="true"][data-size="large"]{height:unset;min-height:var(--control-large-size,2.5rem);padding-inline:var(--control-large-paddingInline-spacious,1rem);}/*!sc*/
.emYRmJ[data-label-wrap="true"][data-size="large"] [data-component="buttonContent"]{padding-block:calc(var(--control-large-paddingBlock,0.625rem) - 2px);}/*!sc*/
.emYRmJ[data-inactive]:not([disabled]){background-color:var(--button-inactive-bgColor,var(--button-inactive-bgColor-rest,var(--color-btn-inactive-bg,#eaeef2)));border-color:var(--button-inactive-bgColor,var(--button-inactive-bgColor-rest,var(--color-btn-inactive-bg,#eaeef2)));color:var(--button-inactive-fgColor,var(--button-inactive-fgColor-rest,var(--color-btn-inactive-text,#57606a)));}/*!sc*/
.emYRmJ[data-inactive]:not([disabled]):focus-visible{box-shadow:none;}/*!sc*/
.emYRmJ [data-component="leadingVisual"]{grid-area:leadingVisual;color:var(--fgColor-muted,var(--color-fg-muted,#656d76));}/*!sc*/
.emYRmJ [data-component="text"]{grid-area:text;line-height:calc(20/14);white-space:nowrap;}/*!sc*/
.emYRmJ [data-component="trailingVisual"]{grid-area:trailingVisual;}/*!sc*/
.emYRmJ [data-component="trailingAction"]{margin-right:-4px;color:var(--fgColor-muted,var(--color-fg-muted,#656d76));}/*!sc*/
.emYRmJ [data-component="buttonContent"]{-webkit-flex:1 0 auto;-ms-flex:1 0 auto;flex:1 0 auto;display:grid;grid-template-areas:"leadingVisual text trailingVisual";grid-template-columns:min-content minmax(0,auto) min-content;-webkit-align-items:center;-webkit-box-align:center;-ms-flex-align:center;align-items:center;-webkit-align-content:center;-ms-flex-line-pack:center;align-content:center;}/*!sc*/
.emYRmJ [data-component="buttonContent"] > :not(:last-child){margin-right:8px;}/*!sc*/
.emYRmJ [data-component="loadingSpinner"]{grid-area:text;margin-right:0px !important;place-self:center;}/*!sc*/
.emYRmJ [data-component="loadingSpinner"] + [data-component="text"]{visibility:hidden;}/*!sc*/
.emYRmJ:hover:not([disabled]){background-color:var(--control-transparent-bgColor-hover,var(--color-action-list-item-default-hover-bg,rgba(208,215,222,0.32)));}/*!sc*/
.emYRmJ:active:not([disabled]){background-color:var(--control-transparent-bgColor-active,var(--color-action-list-item-default-active-bg,rgba(208,215,222,0.48)));}/*!sc*/
.emYRmJ[aria-expanded=true]{background-color:var(--control-transparent-bgColor-selected,var(--color-action-list-item-default-selected-bg,rgba(208,215,222,0.24)));}/*!sc*/
.emYRmJ[data-component="IconButton"][data-no-visuals]{color:var(--fgColor-muted,var(--color-fg-muted,#656d76));}/*!sc*/
.emYRmJ[data-no-visuals]{color:var(--fgColor-accent,var(--color-accent-fg,#0969da));}/*!sc*/
.emYRmJ:has([data-component="ButtonCounter"]){color:var(--button-default-fgColor-rest,var(--color-btn-text,#24292f));}/*!sc*/
.emYRmJ:disabled[data-no-visuals]{color:var(--fgColor-disabled,var(--color-primer-fg-disabled,#8c959f));}/*!sc*/
.emYRmJ:disabled[data-no-visuals] [data-component=ButtonCounter]{color:inherit;}/*!sc*/
.jFcVkf{border-radius:6px;border:1px solid;border-color:var(--button-default-borderColor-rest,var(--button-default-borderColor-rest,var(--color-btn-border,rgba(31,35,40,0.15))));font-family:inherit;font-weight:500;font-size:14px;cursor:pointer;-webkit-appearance:none;-moz-appearance:none;appearance:none;-webkit-user-select:none;-moz-user-select:none;-ms-user-select:none;user-select:none;-webkit-text-decoration:none;text-decoration:none;text-align:center;display:-webkit-box;display:-webkit-flex;display:-ms-flexbox;display:flex;-webkit-align-items:center;-webkit-box-align:center;-ms-flex-align:center;align-items:center;-webkit-box-pack:justify;-webkit-justify-content:space-between;-ms-flex-pack:justify;justify-content:space-between;height:32px;padding:0 12px;gap:8px;min-width:-webkit-max-content;min-width:-moz-max-content;min-width:max-content;-webkit-transition:80ms cubic-bezier(0.65,0,0.35,1);transition:80ms cubic-bezier(0.65,0,0.35,1);-webkit-transition-property:color,fill,background-color,border-color;transition-property:color,fill,background-color,border-color;color:var(--button-default-fgColor-rest,var(--color-btn-text,#24292f));background-color:var(--button-default-bgColor-rest,var(--color-btn-bg,#f6f8fa));box-shadow:var(--button-default-shadow-resting,var(--color-btn-shadow,0 1px 0 rgba(31,35,40,0.04))),var(--button-default-shadow-inset,var(--color-btn-inset-shadow,inset 0 1px 0 rgba(255,255,255,0.25)));}/*!sc*/
.jFcVkf:focus:not(:disabled){box-shadow:none;outline:2px solid var(--fgColor-accent,var(--color-accent-fg,#0969da));outline-offset:-2px;}/*!sc*/
.jFcVkf:focus:not(:disabled):not(:focus-visible){outline:solid 1px transparent;}/*!sc*/
.jFcVkf:focus-visible:not(:disabled){box-shadow:none;outline:2px solid var(--fgColor-accent,var(--color-accent-fg,#0969da));outline-offset:-2px;}/*!sc*/
.jFcVkf[href]{display:-webkit-inline-box;display:-webkit-inline-flex;display:-ms-inline-flexbox;display:inline-flex;}/*!sc*/
.jFcVkf[href]:hover{-webkit-text-decoration:none;text-decoration:none;}/*!sc*/
.jFcVkf:hover{-webkit-transition-duration:80ms;transition-duration:80ms;}/*!sc*/
.jFcVkf:active{-webkit-transition:none;transition:none;}/*!sc*/
.jFcVkf[data-inactive]{cursor:auto;}/*!sc*/
.jFcVkf:disabled{cursor:not-allowed;box-shadow:none;color:var(--fgColor-disabled,var(--color-primer-fg-disabled,#8c959f));border-color:var(--button-default-borderColor-disabled,var(--button-default-borderColor-rest,var(--color-btn-border,rgba(31,35,40,0.15))));background-color:var(--button-default-bgColor-disabled,var(--control-bgColor-disabled,var(--color-input-disabled-bg,rgba(175,184,193,0.2))));}/*!sc*/
.jFcVkf:disabled [data-component=ButtonCounter]{color:inherit;}/*!sc*/
@media (forced-colors:active){.jFcVkf:focus{outline:solid 1px transparent;}}/*!sc*/
.jFcVkf [data-component=ButtonCounter]{font-size:12px;background-color:var(--buttonCounter-default-bgColor-rest,var(--color-btn-counter-bg,rgba(31,35,40,0.08)));}/*!sc*/
.jFcVkf[data-component=IconButton]{display:inline-grid;padding:unset;place-content:center;width:32px;min-width:unset;}/*!sc*/
.jFcVkf[data-size="small"]{padding:0 8px;height:28px;gap:4px;font-size:12px;}/*!sc*/
.jFcVkf[data-size="small"] [data-component="text"]{line-height:calc(20 / 12);}/*!sc*/
.jFcVkf[data-size="small"] [data-component=ButtonCounter]{font-size:12px;}/*!sc*/
.jFcVkf[data-size="small"] [data-component="buttonContent"] > :not(:last-child){margin-right:4px;}/*!sc*/
.jFcVkf[data-size="small"][data-component=IconButton]{width:28px;padding:unset;}/*!sc*/
.jFcVkf[data-size="large"]{padding:0 16px;height:40px;gap:8px;}/*!sc*/
.jFcVkf[data-size="large"] [data-component="buttonContent"] > :not(:last-child){margin-right:8px;}/*!sc*/
.jFcVkf[data-size="large"][data-component=IconButton]{width:40px;padding:unset;}/*!sc*/
.jFcVkf[data-block="block"]{width:100%;}/*!sc*/
.jFcVkf[data-label-wrap="true"]{min-width:-webkit-fit-content;min-width:-moz-fit-content;min-width:fit-content;height:unset;min-height:var(--control-medium-size,2rem);}/*!sc*/
.jFcVkf[data-label-wrap="true"] [data-component="buttonContent"]{-webkit-flex:1 1 auto;-ms-flex:1 1 auto;flex:1 1 auto;-webkit-align-self:stretch;-ms-flex-item-align:stretch;align-self:stretch;padding-block:calc(var(--control-medium-paddingBlock,0.375rem) - 2px);}/*!sc*/
.jFcVkf[data-label-wrap="true"] [data-component="text"]{white-space:unset;word-break:break-word;}/*!sc*/
.jFcVkf[data-label-wrap="true"][data-size="small"]{height:unset;min-height:var(--control-small-size,1.75rem);}/*!sc*/
.jFcVkf[data-label-wrap="true"][data-size="small"] [data-component="buttonContent"]{padding-block:calc(var(--control-small-paddingBlock,0.25rem) - 2px);}/*!sc*/
.jFcVkf[data-label-wrap="true"][data-size="large"]{height:unset;min-height:var(--control-large-size,2.5rem);padding-inline:var(--control-large-paddingInline-spacious,1rem);}/*!sc*/
.jFcVkf[data-label-wrap="true"][data-size="large"] [data-component="buttonContent"]{padding-block:calc(var(--control-large-paddingBlock,0.625rem) - 2px);}/*!sc*/
.jFcVkf[data-inactive]:not([disabled]){background-color:var(--button-inactive-bgColor,var(--button-inactive-bgColor-rest,var(--color-btn-inactive-bg,#eaeef2)));border-color:var(--button-inactive-bgColor,var(--button-inactive-bgColor-rest,var(--color-btn-inactive-bg,#eaeef2)));color:var(--button-inactive-fgColor,var(--button-inactive-fgColor-rest,var(--color-btn-inactive-text,#57606a)));}/*!sc*/
.jFcVkf[data-inactive]:not([disabled]):focus-visible{box-shadow:none;}/*!sc*/
.jFcVkf [data-component="leadingVisual"]{grid-area:leadingVisual;}/*!sc*/
.jFcVkf [data-component="text"]{grid-area:text;line-height:calc(20/14);white-space:nowrap;}/*!sc*/
.jFcVkf [data-component="trailingVisual"]{grid-area:trailingVisual;}/*!sc*/
.jFcVkf [data-component="trailingAction"]{margin-right:-4px;}/*!sc*/
.jFcVkf [data-component="buttonContent"]{-webkit-flex:1 0 auto;-ms-flex:1 0 auto;flex:1 0 auto;display:grid;grid-template-areas:"leadingVisual text trailingVisual";grid-template-columns:min-content minmax(0,auto) min-content;-webkit-align-items:center;-webkit-box-align:center;-ms-flex-align:center;align-items:center;-webkit-align-content:center;-ms-flex-line-pack:center;align-content:center;}/*!sc*/
.jFcVkf [data-component="buttonContent"] > :not(:last-child){margin-right:8px;}/*!sc*/
.jFcVkf [data-component="loadingSpinner"]{grid-area:text;margin-right:0px !important;place-self:center;}/*!sc*/
.jFcVkf [data-component="loadingSpinner"] + [data-component="text"]{visibility:hidden;}/*!sc*/
.jFcVkf:hover:not([disabled]):not([data-inactive]){background-color:var(--button-default-bgColor-hover,var(--color-btn-hover-bg,#f3f4f6));border-color:var(--button-default-borderColor-hover,var(--button-default-borderColor-hover,var(--color-btn-hover-border,rgba(31,35,40,0.15))));}/*!sc*/
.jFcVkf:active:not([disabled]):not([data-inactive]){background-color:var(--button-default-bgColor-active,var(--color-btn-active-bg,hsla(220,14%,93%,1)));border-color:var(--button-default-borderColor-active,var(--button-default-borderColor-active,var(--color-btn-active-border,rgba(31,35,40,0.15))));}/*!sc*/
.jFcVkf[aria-expanded=true]{background-color:var(--button-default-bgColor-active,var(--color-btn-active-bg,hsla(220,14%,93%,1)));border-color:var(--button-default-borderColor-active,var(--button-default-borderColor-active,var(--color-btn-active-border,rgba(31,35,40,0.15))));}/*!sc*/
.jFcVkf [data-component="leadingVisual"],.jFcVkf [data-component="trailingVisual"],.jFcVkf [data-component="trailingAction"]{color:var(--button-color,var(--fgColor-muted,var(--color-fg-muted,#656d76)));}/*!sc*/
.jFcVkf[data-component="IconButton"][data-no-visuals]{color:var(--fgColor-muted,var(--color-fg-muted,#656d76));}/*!sc*/
.jFcVkf[data-no-visuals]{border-top-left-radius:0;border-bottom-left-radius:0;display:none;}/*!sc*/
.kuXPuQ{border-radius:6px;border:1px solid;border-color:var(--button-default-borderColor-rest,var(--button-default-borderColor-rest,var(--color-btn-border,rgba(31,35,40,0.15))));font-family:inherit;font-weight:500;font-size:14px;cursor:pointer;-webkit-appearance:none;-moz-appearance:none;appearance:none;-webkit-user-select:none;-moz-user-select:none;-ms-user-select:none;user-select:none;-webkit-text-decoration:none;text-decoration:none;text-align:center;display:-webkit-box;display:-webkit-flex;display:-ms-flexbox;display:flex;-webkit-align-items:center;-webkit-box-align:center;-ms-flex-align:center;align-items:center;-webkit-box-pack:justify;-webkit-justify-content:space-between;-ms-flex-pack:justify;justify-content:space-between;height:32px;padding:0 12px;gap:8px;min-width:-webkit-max-content;min-width:-moz-max-content;min-width:max-content;-webkit-transition:80ms cubic-bezier(0.65,0,0.35,1);transition:80ms cubic-bezier(0.65,0,0.35,1);-webkit-transition-property:color,fill,background-color,border-color;transition-property:color,fill,background-color,border-color;color:var(--button-default-fgColor-rest,var(--color-btn-text,#24292f));background-color:var(--button-default-bgColor-rest,var(--color-btn-bg,#f6f8fa));box-shadow:var(--button-default-shadow-resting,var(--color-btn-shadow,0 1px 0 rgba(31,35,40,0.04))),var(--button-default-shadow-inset,var(--color-btn-inset-shadow,inset 0 1px 0 rgba(255,255,255,0.25)));}/*!sc*/
.kuXPuQ:focus:not(:disabled){box-shadow:none;outline:2px solid var(--fgColor-accent,var(--color-accent-fg,#0969da));outline-offset:-2px;}/*!sc*/
.kuXPuQ:focus:not(:disabled):not(:focus-visible){outline:solid 1px transparent;}/*!sc*/
.kuXPuQ:focus-visible:not(:disabled){box-shadow:none;outline:2px solid var(--fgColor-accent,var(--color-accent-fg,#0969da));outline-offset:-2px;}/*!sc*/
.kuXPuQ[href]{display:-webkit-inline-box;display:-webkit-inline-flex;display:-ms-inline-flexbox;display:inline-flex;}/*!sc*/
.kuXPuQ[href]:hover{-webkit-text-decoration:none;text-decoration:none;}/*!sc*/
.kuXPuQ:hover{-webkit-transition-duration:80ms;transition-duration:80ms;}/*!sc*/
.kuXPuQ:active{-webkit-transition:none;transition:none;}/*!sc*/
.kuXPuQ[data-inactive]{cursor:auto;}/*!sc*/
.kuXPuQ:disabled{cursor:not-allowed;box-shadow:none;color:var(--fgColor-disabled,var(--color-primer-fg-disabled,#8c959f));border-color:var(--button-default-borderColor-disabled,var(--button-default-borderColor-rest,var(--color-btn-border,rgba(31,35,40,0.15))));background-color:var(--button-default-bgColor-disabled,var(--control-bgColor-disabled,var(--color-input-disabled-bg,rgba(175,184,193,0.2))));}/*!sc*/
.kuXPuQ:disabled [data-component=ButtonCounter]{color:inherit;}/*!sc*/
@media (forced-colors:active){.kuXPuQ:focus{outline:solid 1px transparent;}}/*!sc*/
.kuXPuQ [data-component=ButtonCounter]{font-size:12px;background-color:var(--buttonCounter-default-bgColor-rest,var(--color-btn-counter-bg,rgba(31,35,40,0.08)));}/*!sc*/
.kuXPuQ[data-component=IconButton]{display:inline-grid;padding:unset;place-content:center;width:32px;min-width:unset;}/*!sc*/
.kuXPuQ[data-size="small"]{padding:0 8px;height:28px;gap:4px;font-size:12px;}/*!sc*/
.kuXPuQ[data-size="small"] [data-component="text"]{line-height:calc(20 / 12);}/*!sc*/
.kuXPuQ[data-size="small"] [data-component=ButtonCounter]{font-size:12px;}/*!sc*/
.kuXPuQ[data-size="small"] [data-component="buttonContent"] > :not(:last-child){margin-right:4px;}/*!sc*/
.kuXPuQ[data-size="small"][data-component=IconButton]{width:28px;padding:unset;}/*!sc*/
.kuXPuQ[data-size="large"]{padding:0 16px;height:40px;gap:8px;}/*!sc*/
.kuXPuQ[data-size="large"] [data-component="buttonContent"] > :not(:last-child){margin-right:8px;}/*!sc*/
.kuXPuQ[data-size="large"][data-component=IconButton]{width:40px;padding:unset;}/*!sc*/
.kuXPuQ[data-block="block"]{width:100%;}/*!sc*/
.kuXPuQ[data-label-wrap="true"]{min-width:-webkit-fit-content;min-width:-moz-fit-content;min-width:fit-content;height:unset;min-height:var(--control-medium-size,2rem);}/*!sc*/
.kuXPuQ[data-label-wrap="true"] [data-component="buttonContent"]{-webkit-flex:1 1 auto;-ms-flex:1 1 auto;flex:1 1 auto;-webkit-align-self:stretch;-ms-flex-item-align:stretch;align-self:stretch;padding-block:calc(var(--control-medium-paddingBlock,0.375rem) - 2px);}/*!sc*/
.kuXPuQ[data-label-wrap="true"] [data-component="text"]{white-space:unset;word-break:break-word;}/*!sc*/
.kuXPuQ[data-label-wrap="true"][data-size="small"]{height:unset;min-height:var(--control-small-size,1.75rem);}/*!sc*/
.kuXPuQ[data-label-wrap="true"][data-size="small"] [data-component="buttonContent"]{padding-block:calc(var(--control-small-paddingBlock,0.25rem) - 2px);}/*!sc*/
.kuXPuQ[data-label-wrap="true"][data-size="large"]{height:unset;min-height:var(--control-large-size,2.5rem);padding-inline:var(--control-large-paddingInline-spacious,1rem);}/*!sc*/
.kuXPuQ[data-label-wrap="true"][data-size="large"] [data-component="buttonContent"]{padding-block:calc(var(--control-large-paddingBlock,0.625rem) - 2px);}/*!sc*/
.kuXPuQ[data-inactive]:not([disabled]){background-color:var(--button-inactive-bgColor,var(--button-inactive-bgColor-rest,var(--color-btn-inactive-bg,#eaeef2)));border-color:var(--button-inactive-bgColor,var(--button-inactive-bgColor-rest,var(--color-btn-inactive-bg,#eaeef2)));color:var(--button-inactive-fgColor,var(--button-inactive-fgColor-rest,var(--color-btn-inactive-text,#57606a)));}/*!sc*/
.kuXPuQ[data-inactive]:not([disabled]):focus-visible{box-shadow:none;}/*!sc*/
.kuXPuQ [data-component="leadingVisual"]{grid-area:leadingVisual;}/*!sc*/
.kuXPuQ [data-component="text"]{grid-area:text;line-height:calc(20/14);white-space:nowrap;}/*!sc*/
.kuXPuQ [data-component="trailingVisual"]{grid-area:trailingVisual;}/*!sc*/
.kuXPuQ [data-component="trailingAction"]{margin-right:-4px;}/*!sc*/
.kuXPuQ [data-component="buttonContent"]{-webkit-flex:1 0 auto;-ms-flex:1 0 auto;flex:1 0 auto;display:grid;grid-template-areas:"leadingVisual text trailingVisual";grid-template-columns:min-content minmax(0,auto) min-content;-webkit-align-items:center;-webkit-box-align:center;-ms-flex-align:center;align-items:center;-webkit-align-content:center;-ms-flex-line-pack:center;align-content:center;}/*!sc*/
.kuXPuQ [data-component="buttonContent"] > :not(:last-child){margin-right:8px;}/*!sc*/
.kuXPuQ [data-component="loadingSpinner"]{grid-area:text;margin-right:0px !important;place-self:center;}/*!sc*/
.kuXPuQ [data-component="loadingSpinner"] + [data-component="text"]{visibility:hidden;}/*!sc*/
.kuXPuQ:hover:not([disabled]):not([data-inactive]){background-color:var(--button-default-bgColor-hover,var(--color-btn-hover-bg,#f3f4f6));border-color:var(--button-default-borderColor-hover,var(--button-default-borderColor-hover,var(--color-btn-hover-border,rgba(31,35,40,0.15))));}/*!sc*/
.kuXPuQ:active:not([disabled]):not([data-inactive]){background-color:var(--button-default-bgColor-active,var(--color-btn-active-bg,hsla(220,14%,93%,1)));border-color:var(--button-default-borderColor-active,var(--button-default-borderColor-active,var(--color-btn-active-border,rgba(31,35,40,0.15))));}/*!sc*/
.kuXPuQ[aria-expanded=true]{background-color:var(--button-default-bgColor-active,var(--color-btn-active-bg,hsla(220,14%,93%,1)));border-color:var(--button-default-borderColor-active,var(--button-default-borderColor-active,var(--color-btn-active-border,rgba(31,35,40,0.15))));}/*!sc*/
.kuXPuQ [data-component="leadingVisual"],.kuXPuQ [data-component="trailingVisual"],.kuXPuQ [data-component="trailingAction"]{color:var(--button-color,var(--fgColor-muted,var(--color-fg-muted,#656d76)));}/*!sc*/
.kuXPuQ[data-component="IconButton"][data-no-visuals]{color:var(--fgColor-muted,var(--color-fg-muted,#656d76));}/*!sc*/
.kuXPuQ[data-no-visuals]{color:var(--fgColor-muted,var(--color-fg-muted,#656d76));}/*!sc*/
.jKgwhU{border-radius:6px;border:1px solid;border-color:transparent;font-family:inherit;font-weight:500;font-size:14px;cursor:pointer;-webkit-appearance:none;-moz-appearance:none;appearance:none;-webkit-user-select:none;-moz-user-select:none;-ms-user-select:none;user-select:none;-webkit-text-decoration:none;text-decoration:none;text-align:center;display:-webkit-box;display:-webkit-flex;display:-ms-flexbox;display:flex;-webkit-align-items:center;-webkit-box-align:center;-ms-flex-align:center;align-items:center;-webkit-box-pack:justify;-webkit-justify-content:space-between;-ms-flex-pack:justify;justify-content:space-between;height:32px;padding:0 12px;gap:8px;min-width:-webkit-max-content;min-width:-moz-max-content;min-width:max-content;-webkit-transition:80ms cubic-bezier(0.65,0,0.35,1);transition:80ms cubic-bezier(0.65,0,0.35,1);-webkit-transition-property:color,fill,background-color,border-color;transition-property:color,fill,background-color,border-color;color:var(--button-default-fgColor-rest,var(--color-btn-text,#24292f));background-color:transparent;box-shadow:none;}/*!sc*/
.jKgwhU:focus:not(:disabled){box-shadow:none;outline:2px solid var(--fgColor-accent,var(--color-accent-fg,#0969da));outline-offset:-2px;}/*!sc*/
.jKgwhU:focus:not(:disabled):not(:focus-visible){outline:solid 1px transparent;}/*!sc*/
.jKgwhU:focus-visible:not(:disabled){box-shadow:none;outline:2px solid var(--fgColor-accent,var(--color-accent-fg,#0969da));outline-offset:-2px;}/*!sc*/
.jKgwhU[href]{display:-webkit-inline-box;display:-webkit-inline-flex;display:-ms-inline-flexbox;display:inline-flex;}/*!sc*/
.jKgwhU[href]:hover{-webkit-text-decoration:none;text-decoration:none;}/*!sc*/
.jKgwhU:hover{-webkit-transition-duration:80ms;transition-duration:80ms;}/*!sc*/
.jKgwhU:active{-webkit-transition:none;transition:none;}/*!sc*/
.jKgwhU[data-inactive]{cursor:auto;}/*!sc*/
.jKgwhU:disabled{cursor:not-allowed;box-shadow:none;color:var(--fgColor-disabled,var(--color-primer-fg-disabled,#8c959f));}/*!sc*/
.jKgwhU:disabled [data-component=ButtonCounter],.jKgwhU:disabled [data-component="leadingVisual"],.jKgwhU:disabled [data-component="trailingAction"]{color:inherit;}/*!sc*/
@media (forced-colors:active){.jKgwhU:focus{outline:solid 1px transparent;}}/*!sc*/
.jKgwhU [data-component=ButtonCounter]{font-size:12px;}/*!sc*/
.jKgwhU[data-component=IconButton]{display:inline-grid;padding:unset;place-content:center;width:32px;min-width:unset;}/*!sc*/
.jKgwhU[data-size="small"]{padding:0 8px;height:28px;gap:4px;font-size:12px;color:var(--fgColor-default,var(--color-fg-default,#1F2328));display:none;}/*!sc*/
.jKgwhU[data-size="small"] [data-component="text"]{line-height:calc(20 / 12);}/*!sc*/
.jKgwhU[data-size="small"] [data-component=ButtonCounter]{font-size:12px;}/*!sc*/
.jKgwhU[data-size="small"] [data-component="buttonContent"] > :not(:last-child){margin-right:4px;}/*!sc*/
.jKgwhU[data-size="small"][data-component=IconButton]{width:28px;padding:unset;}/*!sc*/
@media screen and (min-width:544px){.jKgwhU[data-size="small"]{display:none;}}/*!sc*/
@media screen and (min-width:768px){.jKgwhU[data-size="small"]{display:none;}}/*!sc*/
@media screen and (min-width:1012px){.jKgwhU[data-size="small"]{display:none;}}/*!sc*/
@media screen and (min-width:1280px){.jKgwhU[data-size="small"]{display:block;}}/*!sc*/
.jKgwhU[data-size="large"]{padding:0 16px;height:40px;gap:8px;}/*!sc*/
.jKgwhU[data-size="large"] [data-component="buttonContent"] > :not(:last-child){margin-right:8px;}/*!sc*/
.jKgwhU[data-size="large"][data-component=IconButton]{width:40px;padding:unset;}/*!sc*/
.jKgwhU[data-block="block"]{width:100%;}/*!sc*/
.jKgwhU[data-label-wrap="true"]{min-width:-webkit-fit-content;min-width:-moz-fit-content;min-width:fit-content;height:unset;min-height:var(--control-medium-size,2rem);}/*!sc*/
.jKgwhU[data-label-wrap="true"] [data-component="buttonContent"]{-webkit-flex:1 1 auto;-ms-flex:1 1 auto;flex:1 1 auto;-webkit-align-self:stretch;-ms-flex-item-align:stretch;align-self:stretch;padding-block:calc(var(--control-medium-paddingBlock,0.375rem) - 2px);}/*!sc*/
.jKgwhU[data-label-wrap="true"] [data-component="text"]{white-space:unset;word-break:break-word;}/*!sc*/
.jKgwhU[data-label-wrap="true"][data-size="small"]{height:unset;min-height:var(--control-small-size,1.75rem);}/*!sc*/
.jKgwhU[data-label-wrap="true"][data-size="small"] [data-component="buttonContent"]{padding-block:calc(var(--control-small-paddingBlock,0.25rem) - 2px);}/*!sc*/
.jKgwhU[data-label-wrap="true"][data-size="large"]{height:unset;min-height:var(--control-large-size,2.5rem);padding-inline:var(--control-large-paddingInline-spacious,1rem);}/*!sc*/
.jKgwhU[data-label-wrap="true"][data-size="large"] [data-component="buttonContent"]{padding-block:calc(var(--control-large-paddingBlock,0.625rem) - 2px);}/*!sc*/
.jKgwhU[data-inactive]:not([disabled]){background-color:var(--button-inactive-bgColor,var(--button-inactive-bgColor-rest,var(--color-btn-inactive-bg,#eaeef2)));border-color:var(--button-inactive-bgColor,var(--button-inactive-bgColor-rest,var(--color-btn-inactive-bg,#eaeef2)));color:var(--button-inactive-fgColor,var(--button-inactive-fgColor-rest,var(--color-btn-inactive-text,#57606a)));}/*!sc*/
.jKgwhU[data-inactive]:not([disabled]):focus-visible{box-shadow:none;}/*!sc*/
.jKgwhU [data-component="leadingVisual"]{grid-area:leadingVisual;color:var(--fgColor-muted,var(--color-fg-muted,#656d76));}/*!sc*/
.jKgwhU [data-component="text"]{grid-area:text;line-height:calc(20/14);white-space:nowrap;}/*!sc*/
.jKgwhU [data-component="trailingVisual"]{grid-area:trailingVisual;}/*!sc*/
.jKgwhU [data-component="trailingAction"]{margin-right:-4px;color:var(--fgColor-muted,var(--color-fg-muted,#656d76));}/*!sc*/
.jKgwhU [data-component="buttonContent"]{-webkit-flex:1 0 auto;-ms-flex:1 0 auto;flex:1 0 auto;display:grid;grid-template-areas:"leadingVisual text trailingVisual";grid-template-columns:min-content minmax(0,auto) min-content;-webkit-align-items:center;-webkit-box-align:center;-ms-flex-align:center;align-items:center;-webkit-align-content:center;-ms-flex-line-pack:center;align-content:center;}/*!sc*/
.jKgwhU [data-component="buttonContent"] > :not(:last-child){margin-right:8px;}/*!sc*/
.jKgwhU [data-component="loadingSpinner"]{grid-area:text;margin-right:0px !important;place-self:center;}/*!sc*/
.jKgwhU [data-component="loadingSpinner"] + [data-component="text"]{visibility:hidden;}/*!sc*/
.jKgwhU:hover:not([disabled]){background-color:var(--control-transparent-bgColor-hover,var(--color-action-list-item-default-hover-bg,rgba(208,215,222,0.32)));}/*!sc*/
.jKgwhU:active:not([disabled]){background-color:var(--control-transparent-bgColor-active,var(--color-action-list-item-default-active-bg,rgba(208,215,222,0.48)));}/*!sc*/
.jKgwhU[aria-expanded=true]{background-color:var(--control-transparent-bgColor-selected,var(--color-action-list-item-default-selected-bg,rgba(208,215,222,0.24)));}/*!sc*/
.jKgwhU[data-component="IconButton"][data-no-visuals]{color:var(--fgColor-muted,var(--color-fg-muted,#656d76));}/*!sc*/
.jKgwhU[data-no-visuals]{color:var(--fgColor-accent,var(--color-accent-fg,#0969da));}/*!sc*/
.jKgwhU:has([data-component="ButtonCounter"]){color:var(--button-default-fgColor-rest,var(--color-btn-text,#24292f));}/*!sc*/
.jKgwhU:disabled[data-no-visuals]{color:var(--fgColor-disabled,var(--color-primer-fg-disabled,#8c959f));}/*!sc*/
.jKgwhU:disabled[data-no-visuals] [data-component=ButtonCounter]{color:inherit;}/*!sc*/
.bDTxaK{border-radius:6px;border:1px solid;border-color:transparent;font-family:inherit;font-weight:500;font-size:14px;cursor:pointer;-webkit-appearance:none;-moz-appearance:none;appearance:none;-webkit-user-select:none;-moz-user-select:none;-ms-user-select:none;user-select:none;-webkit-text-decoration:none;text-decoration:none;text-align:center;display:-webkit-box;display:-webkit-flex;display:-ms-flexbox;display:flex;-webkit-align-items:center;-webkit-box-align:center;-ms-flex-align:center;align-items:center;-webkit-box-pack:justify;-webkit-justify-content:space-between;-ms-flex-pack:justify;justify-content:space-between;height:32px;padding:0 12px;gap:8px;min-width:-webkit-max-content;min-width:-moz-max-content;min-width:max-content;-webkit-transition:80ms cubic-bezier(0.65,0,0.35,1);transition:80ms cubic-bezier(0.65,0,0.35,1);-webkit-transition-property:color,fill,background-color,border-color;transition-property:color,fill,background-color,border-color;color:var(--button-default-fgColor-rest,var(--color-btn-text,#24292f));background-color:transparent;box-shadow:none;}/*!sc*/
.bDTxaK:focus:not(:disabled){box-shadow:none;outline:2px solid var(--fgColor-accent,var(--color-accent-fg,#0969da));outline-offset:-2px;}/*!sc*/
.bDTxaK:focus:not(:disabled):not(:focus-visible){outline:solid 1px transparent;}/*!sc*/
.bDTxaK:focus-visible:not(:disabled){box-shadow:none;outline:2px solid var(--fgColor-accent,var(--color-accent-fg,#0969da));outline-offset:-2px;}/*!sc*/
.bDTxaK[href]{display:-webkit-inline-box;display:-webkit-inline-flex;display:-ms-inline-flexbox;display:inline-flex;}/*!sc*/
.bDTxaK[href]:hover{-webkit-text-decoration:none;text-decoration:none;}/*!sc*/
.bDTxaK:hover{-webkit-transition-duration:80ms;transition-duration:80ms;}/*!sc*/
.bDTxaK:active{-webkit-transition:none;transition:none;}/*!sc*/
.bDTxaK[data-inactive]{cursor:auto;}/*!sc*/
.bDTxaK:disabled{cursor:not-allowed;box-shadow:none;color:var(--fgColor-disabled,var(--color-primer-fg-disabled,#8c959f));}/*!sc*/
.bDTxaK:disabled [data-component=ButtonCounter],.bDTxaK:disabled [data-component="leadingVisual"],.bDTxaK:disabled [data-component="trailingAction"]{color:inherit;}/*!sc*/
@media (forced-colors:active){.bDTxaK:focus{outline:solid 1px transparent;}}/*!sc*/
.bDTxaK [data-component=ButtonCounter]{font-size:12px;}/*!sc*/
.bDTxaK[data-component=IconButton]{display:inline-grid;padding:unset;place-content:center;width:32px;min-width:unset;}/*!sc*/
.bDTxaK[data-size="small"]{padding:0 8px;height:28px;gap:4px;font-size:12px;color:var(--fgColor-default,var(--color-fg-default,#1F2328));margin-left:8px;}/*!sc*/
.bDTxaK[data-size="small"] [data-component="text"]{line-height:calc(20 / 12);}/*!sc*/
.bDTxaK[data-size="small"] [data-component=ButtonCounter]{font-size:12px;}/*!sc*/
.bDTxaK[data-size="small"] [data-component="buttonContent"] > :not(:last-child){margin-right:4px;}/*!sc*/
.bDTxaK[data-size="small"][data-component=IconButton]{width:28px;padding:unset;}/*!sc*/
.bDTxaK[data-size="large"]{padding:0 16px;height:40px;gap:8px;}/*!sc*/
.bDTxaK[data-size="large"] [data-component="buttonContent"] > :not(:last-child){margin-right:8px;}/*!sc*/
.bDTxaK[data-size="large"][data-component=IconButton]{width:40px;padding:unset;}/*!sc*/
.bDTxaK[data-block="block"]{width:100%;}/*!sc*/
.bDTxaK[data-label-wrap="true"]{min-width:-webkit-fit-content;min-width:-moz-fit-content;min-width:fit-content;height:unset;min-height:var(--control-medium-size,2rem);}/*!sc*/
.bDTxaK[data-label-wrap="true"] [data-component="buttonContent"]{-webkit-flex:1 1 auto;-ms-flex:1 1 auto;flex:1 1 auto;-webkit-align-self:stretch;-ms-flex-item-align:stretch;align-self:stretch;padding-block:calc(var(--control-medium-paddingBlock,0.375rem) - 2px);}/*!sc*/
.bDTxaK[data-label-wrap="true"] [data-component="text"]{white-space:unset;word-break:break-word;}/*!sc*/
.bDTxaK[data-label-wrap="true"][data-size="small"]{height:unset;min-height:var(--control-small-size,1.75rem);}/*!sc*/
.bDTxaK[data-label-wrap="true"][data-size="small"] [data-component="buttonContent"]{padding-block:calc(var(--control-small-paddingBlock,0.25rem) - 2px);}/*!sc*/
.bDTxaK[data-label-wrap="true"][data-size="large"]{height:unset;min-height:var(--control-large-size,2.5rem);padding-inline:var(--control-large-paddingInline-spacious,1rem);}/*!sc*/
.bDTxaK[data-label-wrap="true"][data-size="large"] [data-component="buttonContent"]{padding-block:calc(var(--control-large-paddingBlock,0.625rem) - 2px);}/*!sc*/
.bDTxaK[data-inactive]:not([disabled]){background-color:var(--button-inactive-bgColor,var(--button-inactive-bgColor-rest,var(--color-btn-inactive-bg,#eaeef2)));border-color:var(--button-inactive-bgColor,var(--button-inactive-bgColor-rest,var(--color-btn-inactive-bg,#eaeef2)));color:var(--button-inactive-fgColor,var(--button-inactive-fgColor-rest,var(--color-btn-inactive-text,#57606a)));}/*!sc*/
.bDTxaK[data-inactive]:not([disabled]):focus-visible{box-shadow:none;}/*!sc*/
.bDTxaK [data-component="leadingVisual"]{grid-area:leadingVisual;color:var(--fgColor-muted,var(--color-fg-muted,#656d76));}/*!sc*/
.bDTxaK [data-component="text"]{grid-area:text;line-height:calc(20/14);white-space:nowrap;}/*!sc*/
.bDTxaK [data-component="trailingVisual"]{grid-area:trailingVisual;}/*!sc*/
.bDTxaK [data-component="trailingAction"]{margin-right:-4px;color:var(--fgColor-muted,var(--color-fg-muted,#656d76));}/*!sc*/
.bDTxaK [data-component="buttonContent"]{-webkit-flex:1 0 auto;-ms-flex:1 0 auto;flex:1 0 auto;display:grid;grid-template-areas:"leadingVisual text trailingVisual";grid-template-columns:min-content minmax(0,auto) min-content;-webkit-align-items:center;-webkit-box-align:center;-ms-flex-align:center;align-items:center;-webkit-align-content:center;-ms-flex-line-pack:center;align-content:center;}/*!sc*/
.bDTxaK [data-component="buttonContent"] > :not(:last-child){margin-right:8px;}/*!sc*/
.bDTxaK [data-component="loadingSpinner"]{grid-area:text;margin-right:0px !important;place-self:center;}/*!sc*/
.bDTxaK [data-component="loadingSpinner"] + [data-component="text"]{visibility:hidden;}/*!sc*/
.bDTxaK:hover:not([disabled]){background-color:var(--control-transparent-bgColor-hover,var(--color-action-list-item-default-hover-bg,rgba(208,215,222,0.32)));}/*!sc*/
.bDTxaK:active:not([disabled]){background-color:var(--control-transparent-bgColor-active,var(--color-action-list-item-default-active-bg,rgba(208,215,222,0.48)));}/*!sc*/
.bDTxaK[aria-expanded=true]{background-color:var(--control-transparent-bgColor-selected,var(--color-action-list-item-default-selected-bg,rgba(208,215,222,0.24)));}/*!sc*/
.bDTxaK[data-component="IconButton"][data-no-visuals]{color:var(--fgColor-muted,var(--color-fg-muted,#656d76));}/*!sc*/
.bDTxaK[data-no-visuals]{color:var(--fgColor-accent,var(--color-accent-fg,#0969da));}/*!sc*/
.bDTxaK:has([data-component="ButtonCounter"]){color:var(--button-default-fgColor-rest,var(--color-btn-text,#24292f));}/*!sc*/
.bDTxaK:disabled[data-no-visuals]{color:var(--fgColor-disabled,var(--color-primer-fg-disabled,#8c959f));}/*!sc*/
.bDTxaK:disabled[data-no-visuals] [data-component=ButtonCounter]{color:inherit;}/*!sc*/
.jUNlHb{border-radius:6px;border:1px solid;border-color:var(--button-default-borderColor-rest,var(--button-default-borderColor-rest,var(--color-btn-border,rgba(31,35,40,0.15))));font-family:inherit;font-weight:500;font-size:14px;cursor:pointer;-webkit-appearance:none;-moz-appearance:none;appearance:none;-webkit-user-select:none;-moz-user-select:none;-ms-user-select:none;user-select:none;-webkit-text-decoration:none;text-decoration:none;text-align:center;display:-webkit-box;display:-webkit-flex;display:-ms-flexbox;display:flex;-webkit-align-items:center;-webkit-box-align:center;-ms-flex-align:center;align-items:center;-webkit-box-pack:justify;-webkit-justify-content:space-between;-ms-flex-pack:justify;justify-content:space-between;height:32px;padding:0 12px;gap:8px;min-width:-webkit-max-content;min-width:-moz-max-content;min-width:max-content;-webkit-transition:80ms cubic-bezier(0.65,0,0.35,1);transition:80ms cubic-bezier(0.65,0,0.35,1);-webkit-transition-property:color,fill,background-color,border-color;transition-property:color,fill,background-color,border-color;color:var(--button-default-fgColor-rest,var(--color-btn-text,#24292f));background-color:var(--button-default-bgColor-rest,var(--color-btn-bg,#f6f8fa));box-shadow:var(--button-default-shadow-resting,var(--color-btn-shadow,0 1px 0 rgba(31,35,40,0.04))),var(--button-default-shadow-inset,var(--color-btn-inset-shadow,inset 0 1px 0 rgba(255,255,255,0.25)));padding-left:8px;padding-right:8px;}/*!sc*/
.jUNlHb:focus:not(:disabled){box-shadow:none;outline:2px solid var(--fgColor-accent,var(--color-accent-fg,#0969da));outline-offset:-2px;}/*!sc*/
.jUNlHb:focus:not(:disabled):not(:focus-visible){outline:solid 1px transparent;}/*!sc*/
.jUNlHb:focus-visible:not(:disabled){box-shadow:none;outline:2px solid var(--fgColor-accent,var(--color-accent-fg,#0969da));outline-offset:-2px;}/*!sc*/
.jUNlHb[href]{display:-webkit-inline-box;display:-webkit-inline-flex;display:-ms-inline-flexbox;display:inline-flex;}/*!sc*/
.jUNlHb[href]:hover{-webkit-text-decoration:none;text-decoration:none;}/*!sc*/
.jUNlHb:hover{-webkit-transition-duration:80ms;transition-duration:80ms;}/*!sc*/
.jUNlHb:active{-webkit-transition:none;transition:none;}/*!sc*/
.jUNlHb[data-inactive]{cursor:auto;}/*!sc*/
.jUNlHb:disabled{cursor:not-allowed;box-shadow:none;color:var(--fgColor-disabled,var(--color-primer-fg-disabled,#8c959f));border-color:var(--button-default-borderColor-disabled,var(--button-default-borderColor-rest,var(--color-btn-border,rgba(31,35,40,0.15))));background-color:var(--button-default-bgColor-disabled,var(--control-bgColor-disabled,var(--color-input-disabled-bg,rgba(175,184,193,0.2))));}/*!sc*/
.jUNlHb:disabled [data-component=ButtonCounter]{color:inherit;}/*!sc*/
@media (forced-colors:active){.jUNlHb:focus{outline:solid 1px transparent;}}/*!sc*/
.jUNlHb [data-component=ButtonCounter]{font-size:12px;background-color:var(--buttonCounter-default-bgColor-rest,var(--color-btn-counter-bg,rgba(31,35,40,0.08)));}/*!sc*/
.jUNlHb[data-component=IconButton]{display:inline-grid;padding:unset;place-content:center;width:32px;min-width:unset;}/*!sc*/
.jUNlHb[data-size="small"]{padding:0 8px;height:28px;gap:4px;font-size:12px;}/*!sc*/
.jUNlHb[data-size="small"] [data-component="text"]{line-height:calc(20 / 12);}/*!sc*/
.jUNlHb[data-size="small"] [data-component=ButtonCounter]{font-size:12px;}/*!sc*/
.jUNlHb[data-size="small"] [data-component="buttonContent"] > :not(:last-child){margin-right:4px;}/*!sc*/
.jUNlHb[data-size="small"][data-component=IconButton]{width:28px;padding:unset;}/*!sc*/
.jUNlHb[data-size="large"]{padding:0 16px;height:40px;gap:8px;}/*!sc*/
.jUNlHb[data-size="large"] [data-component="buttonContent"] > :not(:last-child){margin-right:8px;}/*!sc*/
.jUNlHb[data-size="large"][data-component=IconButton]{width:40px;padding:unset;}/*!sc*/
.jUNlHb[data-block="block"]{width:100%;}/*!sc*/
.jUNlHb[data-label-wrap="true"]{min-width:-webkit-fit-content;min-width:-moz-fit-content;min-width:fit-content;height:unset;min-height:var(--control-medium-size,2rem);}/*!sc*/
.jUNlHb[data-label-wrap="true"] [data-component="buttonContent"]{-webkit-flex:1 1 auto;-ms-flex:1 1 auto;flex:1 1 auto;-webkit-align-self:stretch;-ms-flex-item-align:stretch;align-self:stretch;padding-block:calc(var(--control-medium-paddingBlock,0.375rem) - 2px);}/*!sc*/
.jUNlHb[data-label-wrap="true"] [data-component="text"]{white-space:unset;word-break:break-word;}/*!sc*/
.jUNlHb[data-label-wrap="true"][data-size="small"]{height:unset;min-height:var(--control-small-size,1.75rem);}/*!sc*/
.jUNlHb[data-label-wrap="true"][data-size="small"] [data-component="buttonContent"]{padding-block:calc(var(--control-small-paddingBlock,0.25rem) - 2px);}/*!sc*/
.jUNlHb[data-label-wrap="true"][data-size="large"]{height:unset;min-height:var(--control-large-size,2.5rem);padding-inline:var(--control-large-paddingInline-spacious,1rem);}/*!sc*/
.jUNlHb[data-label-wrap="true"][data-size="large"] [data-component="buttonContent"]{padding-block:calc(var(--control-large-paddingBlock,0.625rem) - 2px);}/*!sc*/
.jUNlHb[data-inactive]:not([disabled]){background-color:var(--button-inactive-bgColor,var(--button-inactive-bgColor-rest,var(--color-btn-inactive-bg,#eaeef2)));border-color:var(--button-inactive-bgColor,var(--button-inactive-bgColor-rest,var(--color-btn-inactive-bg,#eaeef2)));color:var(--button-inactive-fgColor,var(--button-inactive-fgColor-rest,var(--color-btn-inactive-text,#57606a)));}/*!sc*/
.jUNlHb[data-inactive]:not([disabled]):focus-visible{box-shadow:none;}/*!sc*/
.jUNlHb [data-component="leadingVisual"]{grid-area:leadingVisual;}/*!sc*/
.jUNlHb [data-component="text"]{grid-area:text;line-height:calc(20/14);white-space:nowrap;}/*!sc*/
.jUNlHb [data-component="trailingVisual"]{grid-area:trailingVisual;}/*!sc*/
.jUNlHb [data-component="trailingAction"]{margin-right:-4px;}/*!sc*/
.jUNlHb [data-component="buttonContent"]{-webkit-flex:1 0 auto;-ms-flex:1 0 auto;flex:1 0 auto;display:grid;grid-template-areas:"leadingVisual text trailingVisual";grid-template-columns:min-content minmax(0,auto) min-content;-webkit-align-items:center;-webkit-box-align:center;-ms-flex-align:center;align-items:center;-webkit-align-content:center;-ms-flex-line-pack:center;align-content:center;}/*!sc*/
.jUNlHb [data-component="buttonContent"] > :not(:last-child){margin-right:8px;}/*!sc*/
.jUNlHb [data-component="loadingSpinner"]{grid-area:text;margin-right:0px !important;place-self:center;}/*!sc*/
.jUNlHb [data-component="loadingSpinner"] + [data-component="text"]{visibility:hidden;}/*!sc*/
.jUNlHb:hover:not([disabled]):not([data-inactive]){background-color:var(--button-default-bgColor-hover,var(--color-btn-hover-bg,#f3f4f6));border-color:var(--button-default-borderColor-hover,var(--button-default-borderColor-hover,var(--color-btn-hover-border,rgba(31,35,40,0.15))));}/*!sc*/
.jUNlHb:active:not([disabled]):not([data-inactive]){background-color:var(--button-default-bgColor-active,var(--color-btn-active-bg,hsla(220,14%,93%,1)));border-color:var(--button-default-borderColor-active,var(--button-default-borderColor-active,var(--color-btn-active-border,rgba(31,35,40,0.15))));}/*!sc*/
.jUNlHb[aria-expanded=true]{background-color:var(--button-default-bgColor-active,var(--color-btn-active-bg,hsla(220,14%,93%,1)));border-color:var(--button-default-borderColor-active,var(--button-default-borderColor-active,var(--color-btn-active-border,rgba(31,35,40,0.15))));}/*!sc*/
.jUNlHb [data-component="leadingVisual"],.jUNlHb [data-component="trailingVisual"],.jUNlHb [data-component="trailingAction"]{color:var(--button-color,var(--fgColor-muted,var(--color-fg-muted,#656d76)));}/*!sc*/
.jUNlHb[data-component="IconButton"][data-no-visuals]{color:var(--fgColor-muted,var(--color-fg-muted,#656d76));}/*!sc*/
.jUNlHb linkButtonSx:hover:not([disabled]){-webkit-text-decoration:none;text-decoration:none;}/*!sc*/
.jUNlHb linkButtonSx:focus:not([disabled]){-webkit-text-decoration:none;text-decoration:none;}/*!sc*/
.jUNlHb linkButtonSx:active:not([disabled]){-webkit-text-decoration:none;text-decoration:none;}/*!sc*/
.feqCqy{border-radius:6px;border:1px solid;border-color:var(--button-default-borderColor-rest,var(--button-default-borderColor-rest,var(--color-btn-border,rgba(31,35,40,0.15))));font-family:inherit;font-weight:500;font-size:14px;cursor:pointer;-webkit-appearance:none;-moz-appearance:none;appearance:none;-webkit-user-select:none;-moz-user-select:none;-ms-user-select:none;user-select:none;-webkit-text-decoration:none;text-decoration:none;text-align:center;display:-webkit-box;display:-webkit-flex;display:-ms-flexbox;display:flex;-webkit-align-items:center;-webkit-box-align:center;-ms-flex-align:center;align-items:center;-webkit-box-pack:justify;-webkit-justify-content:space-between;-ms-flex-pack:justify;justify-content:space-between;height:32px;padding:0 12px;gap:8px;min-width:-webkit-max-content;min-width:-moz-max-content;min-width:max-content;-webkit-transition:80ms cubic-bezier(0.65,0,0.35,1);transition:80ms cubic-bezier(0.65,0,0.35,1);-webkit-transition-property:color,fill,background-color,border-color;transition-property:color,fill,background-color,border-color;color:var(--button-default-fgColor-rest,var(--color-btn-text,#24292f));background-color:var(--button-default-bgColor-rest,var(--color-btn-bg,#f6f8fa));box-shadow:var(--button-default-shadow-resting,var(--color-btn-shadow,0 1px 0 rgba(31,35,40,0.04))),var(--button-default-shadow-inset,var(--color-btn-inset-shadow,inset 0 1px 0 rgba(255,255,255,0.25)));}/*!sc*/
.feqCqy:focus:not(:disabled){box-shadow:none;outline:2px solid var(--fgColor-accent,var(--color-accent-fg,#0969da));outline-offset:-2px;}/*!sc*/
.feqCqy:focus:not(:disabled):not(:focus-visible){outline:solid 1px transparent;}/*!sc*/
.feqCqy:focus-visible:not(:disabled){box-shadow:none;outline:2px solid var(--fgColor-accent,var(--color-accent-fg,#0969da));outline-offset:-2px;}/*!sc*/
.feqCqy[href]{display:-webkit-inline-box;display:-webkit-inline-flex;display:-ms-inline-flexbox;display:inline-flex;}/*!sc*/
.feqCqy[href]:hover{-webkit-text-decoration:none;text-decoration:none;}/*!sc*/
.feqCqy:hover{-webkit-transition-duration:80ms;transition-duration:80ms;}/*!sc*/
.feqCqy:active{-webkit-transition:none;transition:none;}/*!sc*/
.feqCqy[data-inactive]{cursor:auto;}/*!sc*/
.feqCqy:disabled{cursor:not-allowed;box-shadow:none;color:var(--fgColor-disabled,var(--color-primer-fg-disabled,#8c959f));border-color:var(--button-default-borderColor-disabled,var(--button-default-borderColor-rest,var(--color-btn-border,rgba(31,35,40,0.15))));background-color:var(--button-default-bgColor-disabled,var(--control-bgColor-disabled,var(--color-input-disabled-bg,rgba(175,184,193,0.2))));}/*!sc*/
.feqCqy:disabled [data-component=ButtonCounter]{color:inherit;}/*!sc*/
@media (forced-colors:active){.feqCqy:focus{outline:solid 1px transparent;}}/*!sc*/
.feqCqy [data-component=ButtonCounter]{font-size:12px;background-color:var(--buttonCounter-default-bgColor-rest,var(--color-btn-counter-bg,rgba(31,35,40,0.08)));}/*!sc*/
.feqCqy[data-component=IconButton]{display:inline-grid;padding:unset;place-content:center;width:32px;min-width:unset;}/*!sc*/
.feqCqy[data-size="small"]{padding:0 8px;height:28px;gap:4px;font-size:12px;}/*!sc*/
.feqCqy[data-size="small"] [data-component="text"]{line-height:calc(20 / 12);}/*!sc*/
.feqCqy[data-size="small"] [data-component=ButtonCounter]{font-size:12px;}/*!sc*/
.feqCqy[data-size="small"] [data-component="buttonContent"] > :not(:last-child){margin-right:4px;}/*!sc*/
.feqCqy[data-size="small"][data-component=IconButton]{width:28px;padding:unset;}/*!sc*/
.feqCqy[data-size="large"]{padding:0 16px;height:40px;gap:8px;}/*!sc*/
.feqCqy[data-size="large"] [data-component="buttonContent"] > :not(:last-child){margin-right:8px;}/*!sc*/
.feqCqy[data-size="large"][data-component=IconButton]{width:40px;padding:unset;}/*!sc*/
.feqCqy[data-block="block"]{width:100%;}/*!sc*/
.feqCqy[data-label-wrap="true"]{min-width:-webkit-fit-content;min-width:-moz-fit-content;min-width:fit-content;height:unset;min-height:var(--control-medium-size,2rem);}/*!sc*/
.feqCqy[data-label-wrap="true"] [data-component="buttonContent"]{-webkit-flex:1 1 auto;-ms-flex:1 1 auto;flex:1 1 auto;-webkit-align-self:stretch;-ms-flex-item-align:stretch;align-self:stretch;padding-block:calc(var(--control-medium-paddingBlock,0.375rem) - 2px);}/*!sc*/
.feqCqy[data-label-wrap="true"] [data-component="text"]{white-space:unset;word-break:break-word;}/*!sc*/
.feqCqy[data-label-wrap="true"][data-size="small"]{height:unset;min-height:var(--control-small-size,1.75rem);}/*!sc*/
.feqCqy[data-label-wrap="true"][data-size="small"] [data-component="buttonContent"]{padding-block:calc(var(--control-small-paddingBlock,0.25rem) - 2px);}/*!sc*/
.feqCqy[data-label-wrap="true"][data-size="large"]{height:unset;min-height:var(--control-large-size,2.5rem);padding-inline:var(--control-large-paddingInline-spacious,1rem);}/*!sc*/
.feqCqy[data-label-wrap="true"][data-size="large"] [data-component="buttonContent"]{padding-block:calc(var(--control-large-paddingBlock,0.625rem) - 2px);}/*!sc*/
.feqCqy[data-inactive]:not([disabled]){background-color:var(--button-inactive-bgColor,var(--button-inactive-bgColor-rest,var(--color-btn-inactive-bg,#eaeef2)));border-color:var(--button-inactive-bgColor,var(--button-inactive-bgColor-rest,var(--color-btn-inactive-bg,#eaeef2)));color:var(--button-inactive-fgColor,var(--button-inactive-fgColor-rest,var(--color-btn-inactive-text,#57606a)));}/*!sc*/
.feqCqy[data-inactive]:not([disabled]):focus-visible{box-shadow:none;}/*!sc*/
.feqCqy [data-component="leadingVisual"]{grid-area:leadingVisual;}/*!sc*/
.feqCqy [data-component="text"]{grid-area:text;line-height:calc(20/14);white-space:nowrap;}/*!sc*/
.feqCqy [data-component="trailingVisual"]{grid-area:trailingVisual;}/*!sc*/
.feqCqy [data-component="trailingAction"]{margin-right:-4px;}/*!sc*/
.feqCqy [data-component="buttonContent"]{-webkit-flex:1 0 auto;-ms-flex:1 0 auto;flex:1 0 auto;display:grid;grid-template-areas:"leadingVisual text trailingVisual";grid-template-columns:min-content minmax(0,auto) min-content;-webkit-align-items:center;-webkit-box-align:center;-ms-flex-align:center;align-items:center;-webkit-align-content:center;-ms-flex-line-pack:center;align-content:center;}/*!sc*/
.feqCqy [data-component="buttonContent"] > :not(:last-child){margin-right:8px;}/*!sc*/
.feqCqy [data-component="loadingSpinner"]{grid-area:text;margin-right:0px !important;place-self:center;}/*!sc*/
.feqCqy [data-component="loadingSpinner"] + [data-component="text"]{visibility:hidden;}/*!sc*/
.feqCqy:hover:not([disabled]):not([data-inactive]){background-color:var(--button-default-bgColor-hover,var(--color-btn-hover-bg,#f3f4f6));border-color:var(--button-default-borderColor-hover,var(--button-default-borderColor-hover,var(--color-btn-hover-border,rgba(31,35,40,0.15))));}/*!sc*/
.feqCqy:active:not([disabled]):not([data-inactive]){background-color:var(--button-default-bgColor-active,var(--color-btn-active-bg,hsla(220,14%,93%,1)));border-color:var(--button-default-borderColor-active,var(--button-default-borderColor-active,var(--color-btn-active-border,rgba(31,35,40,0.15))));}/*!sc*/
.feqCqy[aria-expanded=true]{background-color:var(--button-default-bgColor-active,var(--color-btn-active-bg,hsla(220,14%,93%,1)));border-color:var(--button-default-borderColor-active,var(--button-default-borderColor-active,var(--color-btn-active-border,rgba(31,35,40,0.15))));}/*!sc*/
.feqCqy [data-component="leadingVisual"],.feqCqy [data-component="trailingVisual"],.feqCqy [data-component="trailingAction"]{color:var(--button-color,var(--fgColor-muted,var(--color-fg-muted,#656d76)));}/*!sc*/
.feqCqy[data-component="IconButton"][data-no-visuals]{color:var(--fgColor-muted,var(--color-fg-muted,#656d76));}/*!sc*/
.bfWknm{border-radius:6px;border:1px solid;border-color:var(--button-default-borderColor-rest,var(--button-default-borderColor-rest,var(--color-btn-border,rgba(31,35,40,0.15))));font-family:inherit;font-weight:500;font-size:14px;cursor:pointer;-webkit-appearance:none;-moz-appearance:none;appearance:none;-webkit-user-select:none;-moz-user-select:none;-ms-user-select:none;user-select:none;-webkit-text-decoration:none;text-decoration:none;text-align:center;display:-webkit-box;display:-webkit-flex;display:-ms-flexbox;display:flex;-webkit-align-items:center;-webkit-box-align:center;-ms-flex-align:center;align-items:center;-webkit-box-pack:justify;-webkit-justify-content:space-between;-ms-flex-pack:justify;justify-content:space-between;height:32px;padding:0 12px;gap:8px;min-width:-webkit-max-content;min-width:-moz-max-content;min-width:max-content;-webkit-transition:80ms cubic-bezier(0.65,0,0.35,1);transition:80ms cubic-bezier(0.65,0,0.35,1);-webkit-transition-property:color,fill,background-color,border-color;transition-property:color,fill,background-color,border-color;color:var(--button-default-fgColor-rest,var(--color-btn-text,#24292f));background-color:var(--button-default-bgColor-rest,var(--color-btn-bg,#f6f8fa));box-shadow:var(--button-default-shadow-resting,var(--color-btn-shadow,0 1px 0 rgba(31,35,40,0.04))),var(--button-default-shadow-inset,var(--color-btn-inset-shadow,inset 0 1px 0 rgba(255,255,255,0.25)));}/*!sc*/
.bfWknm:focus:not(:disabled){box-shadow:none;outline:2px solid var(--fgColor-accent,var(--color-accent-fg,#0969da));outline-offset:-2px;}/*!sc*/
.bfWknm:focus:not(:disabled):not(:focus-visible){outline:solid 1px transparent;}/*!sc*/
.bfWknm:focus-visible:not(:disabled){box-shadow:none;outline:2px solid var(--fgColor-accent,var(--color-accent-fg,#0969da));outline-offset:-2px;}/*!sc*/
.bfWknm[href]{display:-webkit-inline-box;display:-webkit-inline-flex;display:-ms-inline-flexbox;display:inline-flex;}/*!sc*/
.bfWknm[href]:hover{-webkit-text-decoration:none;text-decoration:none;}/*!sc*/
.bfWknm:hover{-webkit-transition-duration:80ms;transition-duration:80ms;}/*!sc*/
.bfWknm:active{-webkit-transition:none;transition:none;}/*!sc*/
.bfWknm[data-inactive]{cursor:auto;}/*!sc*/
.bfWknm:disabled{cursor:not-allowed;box-shadow:none;color:var(--fgColor-disabled,var(--color-primer-fg-disabled,#8c959f));border-color:var(--button-default-borderColor-disabled,var(--button-default-borderColor-rest,var(--color-btn-border,rgba(31,35,40,0.15))));background-color:var(--button-default-bgColor-disabled,var(--control-bgColor-disabled,var(--color-input-disabled-bg,rgba(175,184,193,0.2))));}/*!sc*/
.bfWknm:disabled [data-component=ButtonCounter]{color:inherit;}/*!sc*/
@media (forced-colors:active){.bfWknm:focus{outline:solid 1px transparent;}}/*!sc*/
.bfWknm [data-component=ButtonCounter]{font-size:12px;background-color:var(--buttonCounter-default-bgColor-rest,var(--color-btn-counter-bg,rgba(31,35,40,0.08)));}/*!sc*/
.bfWknm[data-component=IconButton]{display:inline-grid;padding:unset;place-content:center;width:32px;min-width:unset;}/*!sc*/
.bfWknm[data-size="small"]{padding:0 8px;height:28px;gap:4px;font-size:12px;}/*!sc*/
.bfWknm[data-size="small"] [data-component="text"]{line-height:calc(20 / 12);}/*!sc*/
.bfWknm[data-size="small"] [data-component=ButtonCounter]{font-size:12px;}/*!sc*/
.bfWknm[data-size="small"] [data-component="buttonContent"] > :not(:last-child){margin-right:4px;}/*!sc*/
.bfWknm[data-size="small"][data-component=IconButton]{width:28px;padding:unset;}/*!sc*/
.bfWknm[data-size="large"]{padding:0 16px;height:40px;gap:8px;}/*!sc*/
.bfWknm[data-size="large"] [data-component="buttonContent"] > :not(:last-child){margin-right:8px;}/*!sc*/
.bfWknm[data-size="large"][data-component=IconButton]{width:40px;padding:unset;}/*!sc*/
.bfWknm[data-block="block"]{width:100%;}/*!sc*/
.bfWknm[data-label-wrap="true"]{min-width:-webkit-fit-content;min-width:-moz-fit-content;min-width:fit-content;height:unset;min-height:var(--control-medium-size,2rem);}/*!sc*/
.bfWknm[data-label-wrap="true"] [data-component="buttonContent"]{-webkit-flex:1 1 auto;-ms-flex:1 1 auto;flex:1 1 auto;-webkit-align-self:stretch;-ms-flex-item-align:stretch;align-self:stretch;padding-block:calc(var(--control-medium-paddingBlock,0.375rem) - 2px);}/*!sc*/
.bfWknm[data-label-wrap="true"] [data-component="text"]{white-space:unset;word-break:break-word;}/*!sc*/
.bfWknm[data-label-wrap="true"][data-size="small"]{height:unset;min-height:var(--control-small-size,1.75rem);}/*!sc*/
.bfWknm[data-label-wrap="true"][data-size="small"] [data-component="buttonContent"]{padding-block:calc(var(--control-small-paddingBlock,0.25rem) - 2px);}/*!sc*/
.bfWknm[data-label-wrap="true"][data-size="large"]{height:unset;min-height:var(--control-large-size,2.5rem);padding-inline:var(--control-large-paddingInline-spacious,1rem);}/*!sc*/
.bfWknm[data-label-wrap="true"][data-size="large"] [data-component="buttonContent"]{padding-block:calc(var(--control-large-paddingBlock,0.625rem) - 2px);}/*!sc*/
.bfWknm[data-inactive]:not([disabled]){background-color:var(--button-inactive-bgColor,var(--button-inactive-bgColor-rest,var(--color-btn-inactive-bg,#eaeef2)));border-color:var(--button-inactive-bgColor,var(--button-inactive-bgColor-rest,var(--color-btn-inactive-bg,#eaeef2)));color:var(--button-inactive-fgColor,var(--button-inactive-fgColor-rest,var(--color-btn-inactive-text,#57606a)));}/*!sc*/
.bfWknm[data-inactive]:not([disabled]):focus-visible{box-shadow:none;}/*!sc*/
.bfWknm [data-component="leadingVisual"]{grid-area:leadingVisual;}/*!sc*/
.bfWknm [data-component="text"]{grid-area:text;line-height:calc(20/14);white-space:nowrap;}/*!sc*/
.bfWknm [data-component="trailingVisual"]{grid-area:trailingVisual;}/*!sc*/
.bfWknm [data-component="trailingAction"]{margin-right:-4px;}/*!sc*/
.bfWknm [data-component="buttonContent"]{-webkit-flex:1 0 auto;-ms-flex:1 0 auto;flex:1 0 auto;display:grid;grid-template-areas:"leadingVisual text trailingVisual";grid-template-columns:min-content minmax(0,auto) min-content;-webkit-align-items:center;-webkit-box-align:center;-ms-flex-align:center;align-items:center;-webkit-align-content:center;-ms-flex-line-pack:center;align-content:center;}/*!sc*/
.bfWknm [data-component="buttonContent"] > :not(:last-child){margin-right:8px;}/*!sc*/
.bfWknm [data-component="loadingSpinner"]{grid-area:text;margin-right:0px !important;place-self:center;}/*!sc*/
.bfWknm [data-component="loadingSpinner"] + [data-component="text"]{visibility:hidden;}/*!sc*/
.bfWknm:hover:not([disabled]):not([data-inactive]){background-color:var(--button-default-bgColor-hover,var(--color-btn-hover-bg,#f3f4f6));border-color:var(--button-default-borderColor-hover,var(--button-default-borderColor-hover,var(--color-btn-hover-border,rgba(31,35,40,0.15))));}/*!sc*/
.bfWknm:active:not([disabled]):not([data-inactive]){background-color:var(--button-default-bgColor-active,var(--color-btn-active-bg,hsla(220,14%,93%,1)));border-color:var(--button-default-borderColor-active,var(--button-default-borderColor-active,var(--color-btn-active-border,rgba(31,35,40,0.15))));}/*!sc*/
.bfWknm[aria-expanded=true]{background-color:var(--button-default-bgColor-active,var(--color-btn-active-bg,hsla(220,14%,93%,1)));border-color:var(--button-default-borderColor-active,var(--button-default-borderColor-active,var(--color-btn-active-border,rgba(31,35,40,0.15))));}/*!sc*/
.bfWknm [data-component="leadingVisual"],.bfWknm [data-component="trailingVisual"],.bfWknm [data-component="trailingAction"]{color:var(--button-color,var(--fgColor-muted,var(--color-fg-muted,#656d76)));}/*!sc*/
.bfWknm[data-component="IconButton"][data-no-visuals]{color:var(--fgColor-muted,var(--color-fg-muted,#656d76));}/*!sc*/
.bfWknm[data-size="small"][data-no-visuals]{border-top-left-radius:0;border-bottom-left-radius:0;}/*!sc*/
.eBqjKw{border-radius:6px;border:1px solid;border-color:var(--button-default-borderColor-rest,var(--button-default-borderColor-rest,var(--color-btn-border,rgba(31,35,40,0.15))));font-family:inherit;font-weight:500;font-size:14px;cursor:pointer;-webkit-appearance:none;-moz-appearance:none;appearance:none;-webkit-user-select:none;-moz-user-select:none;-ms-user-select:none;user-select:none;-webkit-text-decoration:none;text-decoration:none;text-align:center;display:-webkit-box;display:-webkit-flex;display:-ms-flexbox;display:flex;-webkit-align-items:center;-webkit-box-align:center;-ms-flex-align:center;align-items:center;-webkit-box-pack:justify;-webkit-justify-content:space-between;-ms-flex-pack:justify;justify-content:space-between;height:32px;padding:0 12px;gap:8px;min-width:-webkit-max-content;min-width:-moz-max-content;min-width:max-content;-webkit-transition:80ms cubic-bezier(0.65,0,0.35,1);transition:80ms cubic-bezier(0.65,0,0.35,1);-webkit-transition-property:color,fill,background-color,border-color;transition-property:color,fill,background-color,border-color;color:var(--button-default-fgColor-rest,var(--color-btn-text,#24292f));background-color:var(--button-default-bgColor-rest,var(--color-btn-bg,#f6f8fa));box-shadow:var(--button-default-shadow-resting,var(--color-btn-shadow,0 1px 0 rgba(31,35,40,0.04))),var(--button-default-shadow-inset,var(--color-btn-inset-shadow,inset 0 1px 0 rgba(255,255,255,0.25)));}/*!sc*/
.eBqjKw:focus:not(:disabled){box-shadow:none;outline:2px solid var(--fgColor-accent,var(--color-accent-fg,#0969da));outline-offset:-2px;}/*!sc*/
.eBqjKw:focus:not(:disabled):not(:focus-visible){outline:solid 1px transparent;}/*!sc*/
.eBqjKw:focus-visible:not(:disabled){box-shadow:none;outline:2px solid var(--fgColor-accent,var(--color-accent-fg,#0969da));outline-offset:-2px;}/*!sc*/
.eBqjKw[href]{display:-webkit-inline-box;display:-webkit-inline-flex;display:-ms-inline-flexbox;display:inline-flex;}/*!sc*/
.eBqjKw[href]:hover{-webkit-text-decoration:none;text-decoration:none;}/*!sc*/
.eBqjKw:hover{-webkit-transition-duration:80ms;transition-duration:80ms;}/*!sc*/
.eBqjKw:active{-webkit-transition:none;transition:none;}/*!sc*/
.eBqjKw[data-inactive]{cursor:auto;}/*!sc*/
.eBqjKw:disabled{cursor:not-allowed;box-shadow:none;color:var(--fgColor-disabled,var(--color-primer-fg-disabled,#8c959f));border-color:var(--button-default-borderColor-disabled,var(--button-default-borderColor-rest,var(--color-btn-border,rgba(31,35,40,0.15))));background-color:var(--button-default-bgColor-disabled,var(--control-bgColor-disabled,var(--color-input-disabled-bg,rgba(175,184,193,0.2))));}/*!sc*/
.eBqjKw:disabled [data-component=ButtonCounter]{color:inherit;}/*!sc*/
@media (forced-colors:active){.eBqjKw:focus{outline:solid 1px transparent;}}/*!sc*/
.eBqjKw [data-component=ButtonCounter]{font-size:12px;background-color:var(--buttonCounter-default-bgColor-rest,var(--color-btn-counter-bg,rgba(31,35,40,0.08)));}/*!sc*/
.eBqjKw[data-component=IconButton]{display:inline-grid;padding:unset;place-content:center;width:32px;min-width:unset;}/*!sc*/
.eBqjKw[data-size="small"]{padding:0 8px;height:28px;gap:4px;font-size:12px;}/*!sc*/
.eBqjKw[data-size="small"] [data-component="text"]{line-height:calc(20 / 12);}/*!sc*/
.eBqjKw[data-size="small"] [data-component=ButtonCounter]{font-size:12px;}/*!sc*/
.eBqjKw[data-size="small"] [data-component="buttonContent"] > :not(:last-child){margin-right:4px;}/*!sc*/
.eBqjKw[data-size="small"][data-component=IconButton]{width:28px;padding:unset;}/*!sc*/
.eBqjKw[data-size="large"]{padding:0 16px;height:40px;gap:8px;}/*!sc*/
.eBqjKw[data-size="large"] [data-component="buttonContent"] > :not(:last-child){margin-right:8px;}/*!sc*/
.eBqjKw[data-size="large"][data-component=IconButton]{width:40px;padding:unset;}/*!sc*/
.eBqjKw[data-block="block"]{width:100%;}/*!sc*/
.eBqjKw[data-label-wrap="true"]{min-width:-webkit-fit-content;min-width:-moz-fit-content;min-width:fit-content;height:unset;min-height:var(--control-medium-size,2rem);}/*!sc*/
.eBqjKw[data-label-wrap="true"] [data-component="buttonContent"]{-webkit-flex:1 1 auto;-ms-flex:1 1 auto;flex:1 1 auto;-webkit-align-self:stretch;-ms-flex-item-align:stretch;align-self:stretch;padding-block:calc(var(--control-medium-paddingBlock,0.375rem) - 2px);}/*!sc*/
.eBqjKw[data-label-wrap="true"] [data-component="text"]{white-space:unset;word-break:break-word;}/*!sc*/
.eBqjKw[data-label-wrap="true"][data-size="small"]{height:unset;min-height:var(--control-small-size,1.75rem);}/*!sc*/
.eBqjKw[data-label-wrap="true"][data-size="small"] [data-component="buttonContent"]{padding-block:calc(var(--control-small-paddingBlock,0.25rem) - 2px);}/*!sc*/
.eBqjKw[data-label-wrap="true"][data-size="large"]{height:unset;min-height:var(--control-large-size,2.5rem);padding-inline:var(--control-large-paddingInline-spacious,1rem);}/*!sc*/
.eBqjKw[data-label-wrap="true"][data-size="large"] [data-component="buttonContent"]{padding-block:calc(var(--control-large-paddingBlock,0.625rem) - 2px);}/*!sc*/
.eBqjKw[data-inactive]:not([disabled]){background-color:var(--button-inactive-bgColor,var(--button-inactive-bgColor-rest,var(--color-btn-inactive-bg,#eaeef2)));border-color:var(--button-inactive-bgColor,var(--button-inactive-bgColor-rest,var(--color-btn-inactive-bg,#eaeef2)));color:var(--button-inactive-fgColor,var(--button-inactive-fgColor-rest,var(--color-btn-inactive-text,#57606a)));}/*!sc*/
.eBqjKw[data-inactive]:not([disabled]):focus-visible{box-shadow:none;}/*!sc*/
.eBqjKw [data-component="leadingVisual"]{grid-area:leadingVisual;}/*!sc*/
.eBqjKw [data-component="text"]{grid-area:text;line-height:calc(20/14);white-space:nowrap;}/*!sc*/
.eBqjKw [data-component="trailingVisual"]{grid-area:trailingVisual;}/*!sc*/
.eBqjKw [data-component="trailingAction"]{margin-right:-4px;}/*!sc*/
.eBqjKw [data-component="buttonContent"]{-webkit-flex:1 0 auto;-ms-flex:1 0 auto;flex:1 0 auto;display:grid;grid-template-areas:"leadingVisual text trailingVisual";grid-template-columns:min-content minmax(0,auto) min-content;-webkit-align-items:center;-webkit-box-align:center;-ms-flex-align:center;align-items:center;-webkit-align-content:center;-ms-flex-line-pack:center;align-content:center;}/*!sc*/
.eBqjKw [data-component="buttonContent"] > :not(:last-child){margin-right:8px;}/*!sc*/
.eBqjKw [data-component="loadingSpinner"]{grid-area:text;margin-right:0px !important;place-self:center;}/*!sc*/
.eBqjKw [data-component="loadingSpinner"] + [data-component="text"]{visibility:hidden;}/*!sc*/
.eBqjKw:hover:not([disabled]):not([data-inactive]){background-color:var(--button-default-bgColor-hover,var(--color-btn-hover-bg,#f3f4f6));border-color:var(--button-default-borderColor-hover,var(--button-default-borderColor-hover,var(--color-btn-hover-border,rgba(31,35,40,0.15))));}/*!sc*/
.eBqjKw:active:not([disabled]):not([data-inactive]){background-color:var(--button-default-bgColor-active,var(--color-btn-active-bg,hsla(220,14%,93%,1)));border-color:var(--button-default-borderColor-active,var(--button-default-borderColor-active,var(--color-btn-active-border,rgba(31,35,40,0.15))));}/*!sc*/
.eBqjKw[aria-expanded=true]{background-color:var(--button-default-bgColor-active,var(--color-btn-active-bg,hsla(220,14%,93%,1)));border-color:var(--button-default-borderColor-active,var(--button-default-borderColor-active,var(--color-btn-active-border,rgba(31,35,40,0.15))));}/*!sc*/
.eBqjKw [data-component="leadingVisual"],.eBqjKw [data-component="trailingVisual"],.eBqjKw [data-component="trailingAction"]{color:var(--button-color,var(--fgColor-muted,var(--color-fg-muted,#656d76)));}/*!sc*/
.eBqjKw[data-component="IconButton"][data-no-visuals]{color:var(--fgColor-muted,var(--color-fg-muted,#656d76));}/*!sc*/
.eBqjKw[data-size="small"][data-no-visuals]{border-top-right-radius:0;border-bottom-right-radius:0;border-right-width:0;}/*!sc*/
.eBqjKw[data-size="small"][data-no-visuals]:hover:not([disabled]){-webkit-text-decoration:none;text-decoration:none;}/*!sc*/
.eBqjKw[data-size="small"][data-no-visuals]:focus:not([disabled]){-webkit-text-decoration:none;text-decoration:none;}/*!sc*/
.eBqjKw[data-size="small"][data-no-visuals]:active:not([disabled]){-webkit-text-decoration:none;text-decoration:none;}/*!sc*/
.eEspxX{border-radius:6px;border:1px solid;border-color:transparent;font-family:inherit;font-weight:500;font-size:14px;cursor:pointer;-webkit-appearance:none;-moz-appearance:none;appearance:none;-webkit-user-select:none;-moz-user-select:none;-ms-user-select:none;user-select:none;-webkit-text-decoration:none;text-decoration:none;text-align:center;display:-webkit-box;display:-webkit-flex;display:-ms-flexbox;display:flex;-webkit-align-items:center;-webkit-box-align:center;-ms-flex-align:center;align-items:center;-webkit-box-pack:justify;-webkit-justify-content:space-between;-ms-flex-pack:justify;justify-content:space-between;height:32px;padding:0 12px;gap:8px;min-width:-webkit-max-content;min-width:-moz-max-content;min-width:max-content;-webkit-transition:80ms cubic-bezier(0.65,0,0.35,1);transition:80ms cubic-bezier(0.65,0,0.35,1);-webkit-transition-property:color,fill,background-color,border-color;transition-property:color,fill,background-color,border-color;color:var(--button-default-fgColor-rest,var(--color-btn-text,#24292f));background-color:transparent;box-shadow:none;}/*!sc*/
.eEspxX:focus:not(:disabled){box-shadow:none;outline:2px solid var(--fgColor-accent,var(--color-accent-fg,#0969da));outline-offset:-2px;}/*!sc*/
.eEspxX:focus:not(:disabled):not(:focus-visible){outline:solid 1px transparent;}/*!sc*/
.eEspxX:focus-visible:not(:disabled){box-shadow:none;outline:2px solid var(--fgColor-accent,var(--color-accent-fg,#0969da));outline-offset:-2px;}/*!sc*/
.eEspxX[href]{display:-webkit-inline-box;display:-webkit-inline-flex;display:-ms-inline-flexbox;display:inline-flex;}/*!sc*/
.eEspxX[href]:hover{-webkit-text-decoration:none;text-decoration:none;}/*!sc*/
.eEspxX:hover{-webkit-transition-duration:80ms;transition-duration:80ms;}/*!sc*/
.eEspxX:active{-webkit-transition:none;transition:none;}/*!sc*/
.eEspxX[data-inactive]{cursor:auto;}/*!sc*/
.eEspxX:disabled{cursor:not-allowed;box-shadow:none;color:var(--fgColor-disabled,var(--color-primer-fg-disabled,#8c959f));}/*!sc*/
.eEspxX:disabled [data-component=ButtonCounter],.eEspxX:disabled [data-component="leadingVisual"],.eEspxX:disabled [data-component="trailingAction"]{color:inherit;}/*!sc*/
@media (forced-colors:active){.eEspxX:focus{outline:solid 1px transparent;}}/*!sc*/
.eEspxX [data-component=ButtonCounter]{font-size:12px;}/*!sc*/
.eEspxX[data-component=IconButton]{display:inline-grid;padding:unset;place-content:center;width:32px;min-width:unset;}/*!sc*/
.eEspxX[data-size="small"]{padding:0 8px;height:28px;gap:4px;font-size:12px;}/*!sc*/
.eEspxX[data-size="small"] [data-component="text"]{line-height:calc(20 / 12);}/*!sc*/
.eEspxX[data-size="small"] [data-component=ButtonCounter]{font-size:12px;}/*!sc*/
.eEspxX[data-size="small"] [data-component="buttonContent"] > :not(:last-child){margin-right:4px;}/*!sc*/
.eEspxX[data-size="small"][data-component=IconButton]{width:28px;padding:unset;}/*!sc*/
.eEspxX[data-size="large"]{padding:0 16px;height:40px;gap:8px;}/*!sc*/
.eEspxX[data-size="large"] [data-component="buttonContent"] > :not(:last-child){margin-right:8px;}/*!sc*/
.eEspxX[data-size="large"][data-component=IconButton]{width:40px;padding:unset;}/*!sc*/
.eEspxX[data-block="block"]{width:100%;}/*!sc*/
.eEspxX[data-label-wrap="true"]{min-width:-webkit-fit-content;min-width:-moz-fit-content;min-width:fit-content;height:unset;min-height:var(--control-medium-size,2rem);}/*!sc*/
.eEspxX[data-label-wrap="true"] [data-component="buttonContent"]{-webkit-flex:1 1 auto;-ms-flex:1 1 auto;flex:1 1 auto;-webkit-align-self:stretch;-ms-flex-item-align:stretch;align-self:stretch;padding-block:calc(var(--control-medium-paddingBlock,0.375rem) - 2px);}/*!sc*/
.eEspxX[data-label-wrap="true"] [data-component="text"]{white-space:unset;word-break:break-word;}/*!sc*/
.eEspxX[data-label-wrap="true"][data-size="small"]{height:unset;min-height:var(--control-small-size,1.75rem);}/*!sc*/
.eEspxX[data-label-wrap="true"][data-size="small"] [data-component="buttonContent"]{padding-block:calc(var(--control-small-paddingBlock,0.25rem) - 2px);}/*!sc*/
.eEspxX[data-label-wrap="true"][data-size="large"]{height:unset;min-height:var(--control-large-size,2.5rem);padding-inline:var(--control-large-paddingInline-spacious,1rem);}/*!sc*/
.eEspxX[data-label-wrap="true"][data-size="large"] [data-component="buttonContent"]{padding-block:calc(var(--control-large-paddingBlock,0.625rem) - 2px);}/*!sc*/
.eEspxX[data-inactive]:not([disabled]){background-color:var(--button-inactive-bgColor,var(--button-inactive-bgColor-rest,var(--color-btn-inactive-bg,#eaeef2)));border-color:var(--button-inactive-bgColor,var(--button-inactive-bgColor-rest,var(--color-btn-inactive-bg,#eaeef2)));color:var(--button-inactive-fgColor,var(--button-inactive-fgColor-rest,var(--color-btn-inactive-text,#57606a)));}/*!sc*/
.eEspxX[data-inactive]:not([disabled]):focus-visible{box-shadow:none;}/*!sc*/
.eEspxX [data-component="leadingVisual"]{grid-area:leadingVisual;color:var(--fgColor-muted,var(--color-fg-muted,#656d76));}/*!sc*/
.eEspxX [data-component="text"]{grid-area:text;line-height:calc(20/14);white-space:nowrap;}/*!sc*/
.eEspxX [data-component="trailingVisual"]{grid-area:trailingVisual;}/*!sc*/
.eEspxX [data-component="trailingAction"]{margin-right:-4px;color:var(--fgColor-muted,var(--color-fg-muted,#656d76));}/*!sc*/
.eEspxX [data-component="buttonContent"]{-webkit-flex:1 0 auto;-ms-flex:1 0 auto;flex:1 0 auto;display:grid;grid-template-areas:"leadingVisual text trailingVisual";grid-template-columns:min-content minmax(0,auto) min-content;-webkit-align-items:center;-webkit-box-align:center;-ms-flex-align:center;align-items:center;-webkit-align-content:center;-ms-flex-line-pack:center;align-content:center;}/*!sc*/
.eEspxX [data-component="buttonContent"] > :not(:last-child){margin-right:8px;}/*!sc*/
.eEspxX [data-component="loadingSpinner"]{grid-area:text;margin-right:0px !important;place-self:center;}/*!sc*/
.eEspxX [data-component="loadingSpinner"] + [data-component="text"]{visibility:hidden;}/*!sc*/
.eEspxX:hover:not([disabled]){background-color:var(--control-transparent-bgColor-hover,var(--color-action-list-item-default-hover-bg,rgba(208,215,222,0.32)));}/*!sc*/
.eEspxX:active:not([disabled]){background-color:var(--control-transparent-bgColor-active,var(--color-action-list-item-default-active-bg,rgba(208,215,222,0.48)));}/*!sc*/
.eEspxX[aria-expanded=true]{background-color:var(--control-transparent-bgColor-selected,var(--color-action-list-item-default-selected-bg,rgba(208,215,222,0.24)));}/*!sc*/
.eEspxX[data-component="IconButton"][data-no-visuals]{color:var(--fgColor-muted,var(--color-fg-muted,#656d76));}/*!sc*/
.eEspxX[data-no-visuals]{color:var(--fgColor-accent,var(--color-accent-fg,#0969da));}/*!sc*/
.eEspxX:has([data-component="ButtonCounter"]){color:var(--button-default-fgColor-rest,var(--color-btn-text,#24292f));}/*!sc*/
.eEspxX:disabled[data-no-visuals]{color:var(--fgColor-disabled,var(--color-primer-fg-disabled,#8c959f));}/*!sc*/
.eEspxX:disabled[data-no-visuals] [data-component=ButtonCounter]{color:inherit;}/*!sc*/
.eEspxX[data-size="small"][data-no-visuals]{color:var(--fgColor-muted,var(--color-fg-muted,#656d76));}/*!sc*/
data-styled.g4[id="types__StyledButton-sc-ws60qy-0"]{content:"jGoVeP,cRDVgI,jwBfae,YkvTm,klDWQA,emYRmJ,jFcVkf,kuXPuQ,jKgwhU,bDTxaK,jUNlHb,feqCqy,bfWknm,eBqjKw,eEspxX,"}/*!sc*/
.hPEVNM{-webkit-animation:rotate-keyframes 1s linear infinite;animation:rotate-keyframes 1s linear infinite;}/*!sc*/
@-webkit-keyframes rotate-keyframes{100%{-webkit-transform:rotate(360deg);-ms-transform:rotate(360deg);transform:rotate(360deg);}}/*!sc*/
@keyframes rotate-keyframes{100%{-webkit-transform:rotate(360deg);-ms-transform:rotate(360deg);transform:rotate(360deg);}}/*!sc*/
data-styled.g6[id="Spinner__StyledSpinner-sc-1knt686-0"]{content:"hPEVNM,"}/*!sc*/
.rTZSs{position:absolute;width:1px;height:1px;padding:0;margin:-1px;overflow:hidden;-webkit-clip:rect(0,0,0,0);clip:rect(0,0,0,0);white-space:nowrap;border-width:0;}/*!sc*/
data-styled.g7[id="_VisuallyHidden__VisuallyHidden-sc-11jhm7a-0"]{content:"rTZSs,"}/*!sc*/
.ipyMWB{color:var(--fgColor-accent,var(--color-accent-fg,#0969da));-webkit-text-decoration:none;text-decoration:none;font-weight:600;}/*!sc*/
[data-a11y-link-underlines='true'] .Link__StyledLink-sc-14289xe-0[data-inline='true']{-webkit-text-decoration:underline;text-decoration:underline;}/*!sc*/
.ipyMWB:hover{-webkit-text-decoration:underline;text-decoration:underline;}/*!sc*/
.ipyMWB:is(button){display:inline-block;padding:0;font-size:inherit;white-space:nowrap;cursor:pointer;-webkit-user-select:none;-moz-user-select:none;-ms-user-select:none;user-select:none;background-color:transparent;border:0;-webkit-appearance:none;-moz-appearance:none;appearance:none;}/*!sc*/
.dheQRw{color:var(--fgColor-accent,var(--color-accent-fg,#0969da));-webkit-text-decoration:none;text-decoration:none;}/*!sc*/
[data-a11y-link-underlines='true'] .Link__StyledLink-sc-14289xe-0[data-inline='true']{-webkit-text-decoration:underline;text-decoration:underline;}/*!sc*/
.dheQRw:hover{-webkit-text-decoration:underline;text-decoration:underline;}/*!sc*/
.dheQRw:is(button){display:inline-block;padding:0;font-size:inherit;white-space:nowrap;cursor:pointer;-webkit-user-select:none;-moz-user-select:none;-ms-user-select:none;user-select:none;background-color:transparent;border:0;-webkit-appearance:none;-moz-appearance:none;appearance:none;}/*!sc*/
data-styled.g9[id="Link__StyledLink-sc-14289xe-0"]{content:"ipyMWB,dheQRw,"}/*!sc*/
.gNgnVl{position:relative;display:inline-block;}/*!sc*/
.gNgnVl::after{position:absolute;z-index:1000000;display:none;padding:0.5em 0.75em;font:normal normal 11px/1.5 -apple-system,BlinkMacSystemFont,"Segoe UI","Noto Sans",Helvetica,Arial,sans-serif,"Apple Color Emoji","Segoe UI Emoji";-webkit-font-smoothing:subpixel-antialiased;color:var(--tooltip-fgColor,var(--fgColor-onEmphasis,var(--color-fg-on-emphasis,#ffffff)));text-align:center;-webkit-text-decoration:none;text-decoration:none;text-shadow:none;text-transform:none;-webkit-letter-spacing:normal;-moz-letter-spacing:normal;-ms-letter-spacing:normal;letter-spacing:normal;word-wrap:break-word;white-space:pre;pointer-events:none;content:attr(aria-label);background:var(--tooltip-bgColor,var(--bgColor-emphasis,var(--color-neutral-emphasis-plus,#24292f)));border-radius:6px;opacity:0;}/*!sc*/
@-webkit-keyframes tooltip-appear{from{opacity:0;}to{opacity:1;}}/*!sc*/
@keyframes tooltip-appear{from{opacity:0;}to{opacity:1;}}/*!sc*/
.gNgnVl:hover::after,.gNgnVl:active::after,.gNgnVl:focus::after,.gNgnVl:focus-within::after{display:inline-block;-webkit-text-decoration:none;text-decoration:none;-webkit-animation-name:tooltip-appear;animation-name:tooltip-appear;-webkit-animation-duration:0.1s;animation-duration:0.1s;-webkit-animation-fill-mode:forwards;animation-fill-mode:forwards;-webkit-animation-timing-function:ease-in;animation-timing-function:ease-in;-webkit-animation-delay:0s;animation-delay:0s;}/*!sc*/
.gNgnVl.tooltipped-no-delay:hover::after,.gNgnVl.tooltipped-no-delay:active::after,.gNgnVl.tooltipped-no-delay:focus::after,.gNgnVl.tooltipped-no-delay:focus-within::after{-webkit-animation-delay:0s;animation-delay:0s;}/*!sc*/
.gNgnVl.tooltipped-multiline:hover::after,.gNgnVl.tooltipped-multiline:active::after,.gNgnVl.tooltipped-multiline:focus::after,.gNgnVl.tooltipped-multiline:focus-within::after{display:table-cell;}/*!sc*/
.gNgnVl.tooltipped-s::after,.gNgnVl.tooltipped-se::after,.gNgnVl.tooltipped-sw::after{top:100%;right:50%;margin-top:6px;}/*!sc*/
.gNgnVl.tooltipped-se::after{right:auto;left:50%;margin-left:-16px;}/*!sc*/
.gNgnVl.tooltipped-sw::after{margin-right:-16px;}/*!sc*/
.gNgnVl.tooltipped-n::after,.gNgnVl.tooltipped-ne::after,.gNgnVl.tooltipped-nw::after{right:50%;bottom:100%;margin-bottom:6px;}/*!sc*/
.gNgnVl.tooltipped-ne::after{right:auto;left:50%;margin-left:-16px;}/*!sc*/
.gNgnVl.tooltipped-nw::after{margin-right:-16px;}/*!sc*/
.gNgnVl.tooltipped-s::after,.gNgnVl.tooltipped-n::after{-webkit-transform:translateX(50%);-ms-transform:translateX(50%);transform:translateX(50%);}/*!sc*/
.gNgnVl.tooltipped-w::after{right:100%;bottom:50%;margin-right:6px;-webkit-transform:translateY(50%);-ms-transform:translateY(50%);transform:translateY(50%);}/*!sc*/
.gNgnVl.tooltipped-e::after{bottom:50%;left:100%;margin-left:6px;-webkit-transform:translateY(50%);-ms-transform:translateY(50%);transform:translateY(50%);}/*!sc*/
.gNgnVl.tooltipped-multiline::after{width:-webkit-max-content;width:-moz-max-content;width:max-content;max-width:250px;word-wrap:break-word;white-space:pre-line;border-collapse:separate;}/*!sc*/
.gNgnVl.tooltipped-multiline.tooltipped-s::after,.gNgnVl.tooltipped-multiline.tooltipped-n::after{right:auto;left:50%;-webkit-transform:translateX(-50%);-ms-transform:translateX(-50%);transform:translateX(-50%);}/*!sc*/
.gNgnVl.tooltipped-multiline.tooltipped-w::after,.gNgnVl.tooltipped-multiline.tooltipped-e::after{right:100%;}/*!sc*/
.gNgnVl.tooltipped-align-right-2::after{right:0;margin-right:0;}/*!sc*/
.gNgnVl.tooltipped-align-left-2::after{left:0;margin-left:0;}/*!sc*/
data-styled.g10[id="Tooltip__TooltipBase-sc-17tf59c-0"]{content:"gNgnVl,"}/*!sc*/
.fUpWeN{display:inline-block;overflow:hidden;text-overflow:ellipsis;vertical-align:top;white-space:nowrap;max-width:125px;max-width:100%;}/*!sc*/
data-styled.g14[id="Truncate__StyledTruncate-sc-23o1d2-0"]{content:"fUpWeN,"}/*!sc*/
.cXNreu{font-size:14px;line-height:20px;color:var(--fgColor-default,var(--color-fg-default,#1F2328));vertical-align:middle;background-color:var(--bgColor-default,var(--color-canvas-default,#ffffff));border:1px solid var(--control-borderColor-rest,var(--borderColor-default,var(--color-border-default,#d0d7de)));border-radius:6px;outline:none;box-shadow:var(--shadow-inset,var(--color-primer-shadow-inset,inset 0 1px 0 rgba(208,215,222,0.2)));display:-webkit-inline-box;display:-webkit-inline-flex;display:-ms-inline-flexbox;display:inline-flex;-webkit-align-items:stretch;-webkit-box-align:stretch;-ms-flex-align:stretch;align-items:stretch;min-height:32px;overflow:hidden;display:-webkit-box;display:-webkit-flex;display:-ms-flexbox;display:flex;min-width:160px;}/*!sc*/
.cXNreu input,.cXNreu textarea{cursor:text;}/*!sc*/
.cXNreu select{cursor:pointer;}/*!sc*/
.cXNreu input::-webkit-input-placeholder,.cXNreu textarea::-webkit-input-placeholder,.cXNreu select::-webkit-input-placeholder{color:var(---control-fgColor-placeholder,var(--fgColor-muted,var(--color-fg-muted,#656d76)));}/*!sc*/
.cXNreu input::-moz-placeholder,.cXNreu textarea::-moz-placeholder,.cXNreu select::-moz-placeholder{color:var(---control-fgColor-placeholder,var(--fgColor-muted,var(--color-fg-muted,#656d76)));}/*!sc*/
.cXNreu input:-ms-input-placeholder,.cXNreu textarea:-ms-input-placeholder,.cXNreu select:-ms-input-placeholder{color:var(---control-fgColor-placeholder,var(--fgColor-muted,var(--color-fg-muted,#656d76)));}/*!sc*/
.cXNreu input::placeholder,.cXNreu textarea::placeholder,.cXNreu select::placeholder{color:var(---control-fgColor-placeholder,var(--fgColor-muted,var(--color-fg-muted,#656d76)));}/*!sc*/
.cXNreu:focus-within{border-color:var(--fgColor-accent,var(--color-accent-fg,#0969da));outline:2px solid var(--fgColor-accent,var(--color-accent-fg,#0969da));outline-offset:-1px;}/*!sc*/
.cXNreu > textarea{padding:12px;}/*!sc*/
@media (min-width:768px){.cXNreu{font-size:14px;}}/*!sc*/
data-styled.g17[id="TextInputWrapper__TextInputBaseWrapper-sc-1mqhpbi-0"]{content:"cXNreu,"}/*!sc*/
.jbzqwE{background-repeat:no-repeat;background-position:right 8px center;padding-left:12px;padding-right:12px;display:-webkit-box;display:-webkit-flex;display:-ms-flexbox;display:flex;min-width:160px;}/*!sc*/
.jbzqwE > :not(:last-child){margin-right:8px;}/*!sc*/
.jbzqwE .TextInput-icon,.jbzqwE .TextInput-action{-webkit-align-self:center;-ms-flex-item-align:center;align-self:center;color:var(--fgColor-muted,var(--color-fg-muted,#656d76));-webkit-flex-shrink:0;-ms-flex-negative:0;flex-shrink:0;}/*!sc*/
.jbzqwE > input,.jbzqwE > select{padding-left:0;padding-right:0;}/*!sc*/
data-styled.g18[id="TextInputWrapper-sc-1mqhpbi-1"]{content:"jbzqwE,"}/*!sc*/
.cDLBls{border:0;font-size:inherit;font-family:inherit;background-color:transparent;-webkit-appearance:none;color:inherit;width:100%;}/*!sc*/
.cDLBls:focus{outline:0;}/*!sc*/
data-styled.g19[id="UnstyledTextInput-sc-14ypya-0"]{content:"cDLBls,"}/*!sc*/
.bOMzPg{min-width:0;}/*!sc*/
.bOMzPg:where([data-size='small']){font-size:var(--text-body-size-small,0.75rem);line-height:var(--text-body-lineHeight-small,1.6666);}/*!sc*/
.bOMzPg:where([data-size='medium']){font-size:var(--text-body-size-medium,0.875rem);line-height:var(--text-body-lineHeight-medium,1.4285);}/*!sc*/
.bOMzPg:where([data-size='large']){font-size:var(--text-body-size-large,1rem);line-height:var(--text-body-lineHeight-large,1.5);}/*!sc*/
.bOMzPg:where([data-weight='light']){font-weight:var(--base-text-weight-light,300);}/*!sc*/
.bOMzPg:where([data-weight='normal']){font-weight:var(--base-text-weight-normal,400);}/*!sc*/
.bOMzPg:where([data-weight='medium']){font-weight:var(--base-text-weight-medium,500);}/*!sc*/
.bOMzPg:where([data-weight='semibold']){font-weight:var(--base-text-weight-semibold,600);}/*!sc*/
.fIsVJr{padding-left:4px;padding-right:4px;font-weight:400;color:var(--fgColor-muted,var(--color-fg-muted,#656d76));font-size:16px;}/*!sc*/
.fIsVJr:where([data-size='small']){font-size:var(--text-body-size-small,0.75rem);line-height:var(--text-body-lineHeight-small,1.6666);}/*!sc*/
.fIsVJr:where([data-size='medium']){font-size:var(--text-body-size-medium,0.875rem);line-height:var(--text-body-lineHeight-medium,1.4285);}/*!sc*/
.fIsVJr:where([data-size='large']){font-size:var(--text-body-size-large,1rem);line-height:var(--text-body-lineHeight-large,1.5);}/*!sc*/
.fIsVJr:where([data-weight='light']){font-weight:var(--base-text-weight-light,300);}/*!sc*/
.fIsVJr:where([data-weight='normal']){font-weight:var(--base-text-weight-normal,400);}/*!sc*/
.fIsVJr:where([data-weight='medium']){font-weight:var(--base-text-weight-medium,500);}/*!sc*/
.fIsVJr:where([data-weight='semibold']){font-weight:var(--base-text-weight-semibold,600);}/*!sc*/
.cYjMDB{padding-left:4px;padding-right:4px;font-weight:400;color:var(--fgColor-muted,var(--color-fg-muted,#656d76));font-size:14px;}/*!sc*/
.cYjMDB:where([data-size='small']){font-size:var(--text-body-size-small,0.75rem);line-height:var(--text-body-lineHeight-small,1.6666);}/*!sc*/
.cYjMDB:where([data-size='medium']){font-size:var(--text-body-size-medium,0.875rem);line-height:var(--text-body-lineHeight-medium,1.4285);}/*!sc*/
.cYjMDB:where([data-size='large']){font-size:var(--text-body-size-large,1rem);line-height:var(--text-body-lineHeight-large,1.5);}/*!sc*/
.cYjMDB:where([data-weight='light']){font-weight:var(--base-text-weight-light,300);}/*!sc*/
.cYjMDB:where([data-weight='normal']){font-weight:var(--base-text-weight-normal,400);}/*!sc*/
.cYjMDB:where([data-weight='medium']){font-weight:var(--base-text-weight-medium,500);}/*!sc*/
.cYjMDB:where([data-weight='semibold']){font-weight:var(--base-text-weight-semibold,600);}/*!sc*/
data-styled.g24[id="Text-sc-17v1xeu-0"]{content:"bOMzPg,fIsVJr,cYjMDB,"}/*!sc*/
body[data-page-layout-dragging="true"]{cursor:col-resize;}/*!sc*/
body[data-page-layout-dragging="true"] *{-webkit-user-select:none;-moz-user-select:none;-ms-user-select:none;user-select:none;}/*!sc*/
data-styled.g29[id="sc-global-gbKrvU1"]{content:"sc-global-gbKrvU1,"}/*!sc*/
.dgvcvm{list-style:none;padding:0;margin:0;}/*!sc*/
.dgvcvm .PRIVATE_TreeView-item{outline:none;}/*!sc*/
.dgvcvm .PRIVATE_TreeView-item:focus-visible > div,.dgvcvm .PRIVATE_TreeView-item.focus-visible > div{box-shadow:inset 0 0 0 2px var(--fgColor-accent,var(--color-accent-fg,#0969da));}/*!sc*/
@media (forced-colors:active){.dgvcvm .PRIVATE_TreeView-item:focus-visible > div,.dgvcvm .PRIVATE_TreeView-item.focus-visible > div{outline:2px solid HighlightText;outline-offset:-2;}}/*!sc*/
.dgvcvm .PRIVATE_TreeView-item[data-has-leading-action]{--has-leading-action:1;}/*!sc*/
.dgvcvm .PRIVATE_TreeView-item-container{--level:1;--toggle-width:1rem;--min-item-height:2rem;position:relative;display:grid;--leading-action-width:calc(var(--has-leading-action,0) * 1.5rem);--spacer-width:calc(calc(var(--level) - 1) * (var(--toggle-width) / 2));grid-template-columns:var(--spacer-width) var(--leading-action-width) var(--toggle-width) 1fr;grid-template-areas:'spacer leadingAction toggle content';width:100%;font-size:14px;color:var(--fgColor-default,var(--color-fg-default,#1F2328));border-radius:6px;cursor:pointer;}/*!sc*/
.dgvcvm .PRIVATE_TreeView-item-container:hover{background-color:var(--control-transparent-bgColor-hover,var(--color-action-list-item-default-hover-bg,rgba(208,215,222,0.32)));}/*!sc*/
@media (forced-colors:active){.dgvcvm .PRIVATE_TreeView-item-container:hover{outline:2px solid transparent;outline-offset:-2px;}}/*!sc*/
@media (pointer:coarse){.dgvcvm .PRIVATE_TreeView-item-container{--toggle-width:1.5rem;--min-item-height:2.75rem;}}/*!sc*/
.dgvcvm .PRIVATE_TreeView-item-container:has(.PRIVATE_TreeView-item-skeleton):hover{background-color:transparent;cursor:default;}/*!sc*/
@media (forced-colors:active){.dgvcvm .PRIVATE_TreeView-item-container:has(.PRIVATE_TreeView-item-skeleton):hover{outline:none;}}/*!sc*/
.dgvcvm[data-omit-spacer='true'] .PRIVATE_TreeView-item-container{grid-template-columns:0 0 0 1fr;}/*!sc*/
.dgvcvm .PRIVATE_TreeView-item[aria-current='true'] > .PRIVATE_TreeView-item-container{background-color:var(--control-transparent-bgColor-selected,var(--color-action-list-item-default-selected-bg,rgba(208,215,222,0.24)));}/*!sc*/
.dgvcvm .PRIVATE_TreeView-item[aria-current='true'] > .PRIVATE_TreeView-item-container::after{content:'';position:absolute;top:calc(50% - 0.75rem);left:-8px;width:0.25rem;height:1.5rem;background-color:var(--fgColor-accent,var(--color-accent-fg,#0969da));border-radius:6px;}/*!sc*/
@media (forced-colors:active){.dgvcvm .PRIVATE_TreeView-item[aria-current='true'] > .PRIVATE_TreeView-item-container::after{background-color:HighlightText;}}/*!sc*/
.dgvcvm .PRIVATE_TreeView-item-toggle{grid-area:toggle;display:-webkit-box;display:-webkit-flex;display:-ms-flexbox;display:flex;-webkit-box-pack:center;-webkit-justify-content:center;-ms-flex-pack:center;justify-content:center;-webkit-align-items:flex-start;-webkit-box-align:flex-start;-ms-flex-align:flex-start;align-items:flex-start;padding-top:calc(var(--min-item-height) / 2 - 12px / 2);height:100%;color:var(--fgColor-muted,var(--color-fg-muted,#656d76));}/*!sc*/
.dgvcvm .PRIVATE_TreeView-item-toggle--hover:hover{background-color:var(--control-transparent-bgColor-hover,var(--color-tree-view-item-chevron-hover-bg,rgba(208,215,222,0.32)));}/*!sc*/
.dgvcvm .PRIVATE_TreeView-item-toggle--end{border-top-left-radius:6px;border-bottom-left-radius:6px;}/*!sc*/
.dgvcvm .PRIVATE_TreeView-item-content{grid-area:content;display:-webkit-box;display:-webkit-flex;display:-ms-flexbox;display:flex;height:100%;padding:0 8px;gap:8px;line-height:var(--custom-line-height,var(--text-body-lineHeight-medium,1.4285));padding-top:calc((var(--min-item-height) - var(--custom-line-height,1.3rem)) / 2);padding-bottom:calc((var(--min-item-height) - var(--custom-line-height,1.3rem)) / 2);}/*!sc*/
.dgvcvm .PRIVATE_TreeView-item-content-text{-webkit-flex:1 1 auto;-ms-flex:1 1 auto;flex:1 1 auto;width:0;overflow:hidden;white-space:nowrap;text-overflow:ellipsis;}/*!sc*/
.dgvcvm .PRIVATE_TreeView-item-visual{display:-webkit-box;display:-webkit-flex;display:-ms-flexbox;display:flex;-webkit-align-items:center;-webkit-box-align:center;-ms-flex-align:center;align-items:center;color:var(--fgColor-muted,var(--color-fg-muted,#656d76));height:var(--custom-line-height,1.3rem);}/*!sc*/
.dgvcvm .PRIVATE_TreeView-item-leading-action{display:-webkit-box;display:-webkit-flex;display:-ms-flexbox;display:flex;color:var(--fgColor-muted,var(--color-fg-muted,#656d76));grid-area:leadingAction;}/*!sc*/
.dgvcvm .PRIVATE_TreeView-item-level-line{width:100%;height:100%;border-right:1px solid;border-color:var(--borderColor-muted,var(--color-border-subtle,rgba(31,35,40,0.15)));}/*!sc*/
@media (hover:hover){.dgvcvm .PRIVATE_TreeView-item-level-line{border-color:transparent;}.dgvcvm:hover .PRIVATE_TreeView-item-level-line,.dgvcvm:focus-within .PRIVATE_TreeView-item-level-line{border-color:var(--borderColor-muted,var(--color-border-subtle,rgba(31,35,40,0.15)));}}/*!sc*/
.dgvcvm .PRIVATE_TreeView-directory-icon{display:grid;color:var(--treeViewItem-leadingVisual-bgColor-rest,var(--color-tree-view-item-chevron-directory-fill,#54aeff));}/*!sc*/
.dgvcvm .PRIVATE_VisuallyHidden{position:absolute;width:1px;height:1px;padding:0;margin:-1px;overflow:hidden;-webkit-clip:rect(0,0,0,0);clip:rect(0,0,0,0);white-space:nowrap;border-width:0;}/*!sc*/
data-styled.g45[id="TreeView__UlBox-sc-4ex6b6-0"]{content:"dgvcvm,"}/*!sc*/
.cpVEZe{display:-webkit-inline-box;display:-webkit-inline-flex;display:-ms-inline-flexbox;display:inline-flex;vertical-align:middle;isolation:isolate;}/*!sc*/
.cpVEZe.cpVEZe > *:not([data-loading-wrapper]){margin-inline-end:-1px;position:relative;border-radius:0;}/*!sc*/
.cpVEZe.cpVEZe > *:not([data-loading-wrapper]):first-child{border-top-left-radius:6px;border-bottom-left-radius:6px;}/*!sc*/
.cpVEZe.cpVEZe > *:not([data-loading-wrapper]):last-child{border-top-right-radius:6px;border-bottom-right-radius:6px;}/*!sc*/
.cpVEZe.cpVEZe > *:not([data-loading-wrapper]):focus,.cpVEZe.cpVEZe > *:not([data-loading-wrapper]):active,.cpVEZe.cpVEZe > *:not([data-loading-wrapper]):hover{z-index:1;}/*!sc*/
.cpVEZe [data-loading-wrapper]:first-child button,.cpVEZe [data-loading-wrapper]:first-child a{border-top-left-radius:6px;border-bottom-left-radius:6px;}/*!sc*/
.cpVEZe [data-loading-wrapper]:last-child button,.cpVEZe [data-loading-wrapper]:last-child a{border-top-right-radius:6px;border-bottom-right-radius:6px;}/*!sc*/
.cpVEZe [data-loading-wrapper] > *{margin-inline-end:-1px;position:relative;border-radius:0;}/*!sc*/
.cpVEZe [data-loading-wrapper] > *:focus,.cpVEZe [data-loading-wrapper] > *:active,.cpVEZe [data-loading-wrapper] > *:hover{z-index:1;}/*!sc*/
data-styled.g50[id="ButtonGroup-sc-1gxhls1-0"]{content:"cpVEZe,"}/*!sc*/
.jEdVkE{--segmented-control-button-inner-padding:12px;--segmented-control-button-bg-inset:4px;--segmented-control-outer-radius:6px;background-color:transparent;border-color:transparent;border-radius:var(--segmented-control-outer-radius);border-width:0;color:currentColor;cursor:pointer;font-family:inherit;font-size:inherit;font-weight:600;padding:0;height:100%;width:100%;}/*!sc*/
.jEdVkE .segmentedControl-content{-webkit-align-items:center;-webkit-box-align:center;-ms-flex-align:center;align-items:center;background-color:var(--controlKnob-bgColor-rest,var(--color-segmented-control-button-bg,#ffffff));border-color:var(--controlKnob-borderColor-rest,var(--color-segmented-control-button-hover-active-selected-border,#8c959f));border-style:solid;border-width:1px;border-radius:var(--segmented-control-outer-radius);display:-webkit-box;display:-webkit-flex;display:-ms-flexbox;display:flex;height:100%;-webkit-box-pack:center;-webkit-justify-content:center;-ms-flex-pack:center;justify-content:center;padding-left:var(--segmented-control-button-inner-padding);padding-right:var(--segmented-control-button-inner-padding);}/*!sc*/
.jEdVkE svg{fill:var(--fgColor-muted,var(--color-fg-muted,#656d76));}/*!sc*/
.jEdVkE:focus:focus-visible:not(:last-child):after{width:0;}/*!sc*/
.jEdVkE .segmentedControl-text:after{content:"Preview";display:block;font-weight:600;height:0;overflow:hidden;pointer-events:none;-webkit-user-select:none;-moz-user-select:none;-ms-user-select:none;user-select:none;visibility:hidden;}/*!sc*/
@media (pointer:coarse){.jEdVkE:before{content:"";position:absolute;left:0;right:0;-webkit-transform:translateY(-50%);-ms-transform:translateY(-50%);transform:translateY(-50%);top:50%;min-height:44px;}}/*!sc*/
.TvbfG{--segmented-control-button-inner-padding:12px;--segmented-control-button-bg-inset:4px;--segmented-control-outer-radius:6px;background-color:transparent;border-color:transparent;border-radius:var(--segmented-control-outer-radius);border-width:0;color:currentColor;cursor:pointer;font-family:inherit;font-size:inherit;font-weight:400;padding:var(--segmented-control-button-bg-inset);height:100%;width:100%;}/*!sc*/
.TvbfG .segmentedControl-content{-webkit-align-items:center;-webkit-box-align:center;-ms-flex-align:center;align-items:center;background-color:transparent;border-color:transparent;border-style:solid;border-width:1px;border-radius:calc(var(--segmented-control-outer-radius) - var(--segmented-control-button-bg-inset) / 2);display:-webkit-box;display:-webkit-flex;display:-ms-flexbox;display:flex;height:100%;-webkit-box-pack:center;-webkit-justify-content:center;-ms-flex-pack:center;justify-content:center;padding-left:calc(var(--segmented-control-button-inner-padding) - var(--segmented-control-button-bg-inset));padding-right:calc(var(--segmented-control-button-inner-padding) - var(--segmented-control-button-bg-inset));}/*!sc*/
.TvbfG svg{fill:var(--fgColor-muted,var(--color-fg-muted,#656d76));}/*!sc*/
.TvbfG:hover .segmentedControl-content{background-color:var(--controlTrack-bgColor-hover,var(--color-segmented-control-button-hover-bg,rgba(175,184,193,0.2)));}/*!sc*/
.TvbfG:active .segmentedControl-content{background-color:var(--controlTrack-bgColor-active,var(--color-segmented-control-button-hover-active-bg,rgba(175,184,193,0.4)));}/*!sc*/
.TvbfG:focus:focus-visible:not(:last-child):after{width:0;}/*!sc*/
.TvbfG .segmentedControl-text:after{content:"Code";display:block;font-weight:600;height:0;overflow:hidden;pointer-events:none;-webkit-user-select:none;-moz-user-select:none;-ms-user-select:none;user-select:none;visibility:hidden;}/*!sc*/
@media (pointer:coarse){.TvbfG:before{content:"";position:absolute;left:0;right:0;-webkit-transform:translateY(-50%);-ms-transform:translateY(-50%);transform:translateY(-50%);top:50%;min-height:44px;}}/*!sc*/
.fIktcg{--segmented-control-button-inner-padding:12px;--segmented-control-button-bg-inset:4px;--segmented-control-outer-radius:6px;background-color:transparent;border-color:transparent;border-radius:var(--segmented-control-outer-radius);border-width:0;color:currentColor;cursor:pointer;font-family:inherit;font-size:inherit;font-weight:400;padding:var(--segmented-control-button-bg-inset);height:100%;width:100%;}/*!sc*/
.fIktcg .segmentedControl-content{-webkit-align-items:center;-webkit-box-align:center;-ms-flex-align:center;align-items:center;background-color:transparent;border-color:transparent;border-style:solid;border-width:1px;border-radius:calc(var(--segmented-control-outer-radius) - var(--segmented-control-button-bg-inset) / 2);display:-webkit-box;display:-webkit-flex;display:-ms-flexbox;display:flex;height:100%;-webkit-box-pack:center;-webkit-justify-content:center;-ms-flex-pack:center;justify-content:center;padding-left:calc(var(--segmented-control-button-inner-padding) - var(--segmented-control-button-bg-inset));padding-right:calc(var(--segmented-control-button-inner-padding) - var(--segmented-control-button-bg-inset));}/*!sc*/
.fIktcg svg{fill:var(--fgColor-muted,var(--color-fg-muted,#656d76));}/*!sc*/
.fIktcg:hover .segmentedControl-content{background-color:var(--controlTrack-bgColor-hover,var(--color-segmented-control-button-hover-bg,rgba(175,184,193,0.2)));}/*!sc*/
.fIktcg:active .segmentedControl-content{background-color:var(--controlTrack-bgColor-active,var(--color-segmented-control-button-hover-active-bg,rgba(175,184,193,0.4)));}/*!sc*/
.fIktcg:focus:focus-visible:not(:last-child):after{width:0;}/*!sc*/
.fIktcg .segmentedControl-text:after{content:"Blame";display:block;font-weight:600;height:0;overflow:hidden;pointer-events:none;-webkit-user-select:none;-moz-user-select:none;-ms-user-select:none;user-select:none;visibility:hidden;}/*!sc*/
@media (pointer:coarse){.fIktcg:before{content:"";position:absolute;left:0;right:0;-webkit-transform:translateY(-50%);-ms-transform:translateY(-50%);transform:translateY(-50%);top:50%;min-height:44px;}}/*!sc*/
data-styled.g61[id="SegmentedControlButton__SegmentedControlButtonStyled-sc-8lkgxl-0"]{content:"jEdVkE,TvbfG,fIktcg,"}/*!sc*/
.ehDMvU{background-color:var(--controlTrack-bgColor-rest,var(--color-segmented-control-bg,#eaeef2));border-radius:6px;border:1px solid;border-color:var(--controlTrack-borderColor-rest,transparent);display:-webkit-inline-box;display:-webkit-inline-flex;display:-ms-inline-flexbox;display:inline-flex;font-size:14px;height:28px;margin:0;padding:0;}/*!sc*/
data-styled.g63[id="SegmentedControl__SegmentedControlList-sc-1rzig82-0"]{content:"ehDMvU,"}/*!sc*/
</style><meta data-hydrostats="publish"/> <!-- --> <!-- --> <button hidden="" data-testid="header-permalink-button" data-hotkey-scope="read-only-cursor-text-area"></button><button hidden=""></button><div><div style="--sticky-pane-height:100vh" class="Box-sc-g0xbh4-0 fSWWem"><div class="Box-sc-g0xbh4-0 kPPmzM"><div class="Box-sc-g0xbh4-0 cIAPDV"><div tabindex="0" class="Box-sc-g0xbh4-0 gvCnwW"><div class="Box-sc-g0xbh4-0 igfzmm"><div class="Box-sc-g0xbh4-0 eUyHuk"></div><div style="--pane-width:320px" class="Box-sc-g0xbh4-0 gNdDUH"><div class="react-tree-pane-contents-3-panel"><div id="repos-file-tree" class="Box-sc-g0xbh4-0 jywUSN"><div class="Box-sc-g0xbh4-0 hBSSUC"><div class="Box-sc-g0xbh4-0 iPurHz"><h2 class="Heading__StyledHeading-sc-1c1dgg0-0 jUaXMC"><button style="--button-color:fg.muted" type="button" aria-label="Expand file tree" data-testid="expand-file-tree-button-mobile" data-loading="false" aria-describedby=":Rl6mplab:-loading-announcement" class="types__StyledButton-sc-ws60qy-0 jGoVeP"><span data-component="buttonContent" class="Box-sc-g0xbh4-0 kkrdEu"><span data-component="leadingVisual" class="Box-sc-g0xbh4-0 trpoQ"><svg aria-hidden="true" focusable="false" role="img" class="octicon octicon-arrow-left" viewBox="0 0 16 16" width="16" height="16" fill="currentColor" style="display:inline-block;user-select:none;vertical-align:text-bottom;overflow:visible"><path d="M7.78 12.53a.75.75 0 0 1-1.06 0L2.47 8.28a.75.75 0 0 1 0-1.06l4.25-4.25a.751.751 0 0 1 1.042.018.751.751 0 0 1 .018 1.042L4.81 7h7.44a.75.75 0 0 1 0 1.5H4.81l2.97 2.97a.75.75 0 0 1 0 1.06Z"></path></svg></span><span data-component="text">Files</span></span></button><span role="tooltip" aria-label="Collapse file tree" id="expand-button-file-tree-button" class="Tooltip__TooltipBase-sc-17tf59c-0 gNgnVl tooltipped-se"><button data-component="IconButton" type="button" data-testid="collapse-file-tree-button" aria-expanded="true" aria-controls="repos-file-tree" class="types__StyledButton-sc-ws60qy-0 cRDVgI" data-loading="false" data-no-visuals="true" aria-describedby=":R356mplab:-loading-announcement" aria-labelledby="expand-button-file-tree-button"><svg aria-hidden="true" focusable="false" role="img" class="octicon octicon-sidebar-expand" viewBox="0 0 16 16" width="16" height="16" fill="currentColor" style="display:inline-block;user-select:none;vertical-align:text-bottom;overflow:visible"><path d="m4.177 7.823 2.396-2.396A.25.25 0 0 1 7 5.604v4.792a.25.25 0 0 1-.427.177L4.177 8.177a.25.25 0 0 1 0-.354Z"></path><path d="M0 1.75C0 .784.784 0 1.75 0h12.5C15.216 0 16 .784 16 1.75v12.5A1.75 1.75 0 0 1 14.25 16H1.75A1.75 1.75 0 0 1 0 14.25Zm1.75-.25a.25.25 0 0 0-.25.25v12.5c0 .138.112.25.25.25H9.5v-13Zm12.5 13a.25.25 0 0 0 .25-.25V1.75a.25.25 0 0 0-.25-.25H11v13Z"></path></svg></button></span><button hidden="" data-testid="" data-hotkey-scope="read-only-cursor-text-area"></button></h2><h2 class="Heading__StyledHeading-sc-1c1dgg0-0 fReAGt">Files</h2></div><div class="Box-sc-g0xbh4-0 hVHHYa"><div class="Box-sc-g0xbh4-0 idZfsJ"><button type="button" aria-haspopup="true" aria-expanded="false" tabindex="0" aria-label="main branch" data-testid="anchor-button" class="types__StyledButton-sc-ws60qy-0 jwBfae react-repos-tree-pane-ref-selector width-full ref-selector-class" data-loading="false" aria-describedby="branch-picker-repos-header-ref-selector-loading-announcement" id="branch-picker-repos-header-ref-selector"><span data-component="buttonContent" class="Box-sc-g0xbh4-0 kkrdEu"><span data-component="text"><div class="Box-sc-g0xbh4-0 bKgizp"><div class="Box-sc-g0xbh4-0 iPGYsi"><svg aria-hidden="true" focusable="false" role="img" class="octicon octicon-git-branch" viewBox="0 0 16 16" width="16" height="16" fill="currentColor" style="display:inline-block;user-select:none;vertical-align:text-bottom;overflow:visible"><path d="M9.5 3.25a2.25 2.25 0 1 1 3 2.122V6A2.5 2.5 0 0 1 10 8.5H6a1 1 0 0 0-1 1v1.128a2.251 2.251 0 1 1-1.5 0V5.372a2.25 2.25 0 1 1 1.5 0v1.836A2.493 2.493 0 0 1 6 7h4a1 1 0 0 0 1-1v-.628A2.25 2.25 0 0 1 9.5 3.25Zm-6 0a.75.75 0 1 0 1.5 0 .75.75 0 0 0-1.5 0Zm8.25-.75a.75.75 0 1 0 0 1.5.75.75 0 0 0 0-1.5ZM4.25 12a.75.75 0 1 0 0 1.5.75.75 0 0 0 0-1.5Z"></path></svg></div><div class="Box-sc-g0xbh4-0 caeYDk ref-selector-button-text-container"><span class="Text-sc-17v1xeu-0 bOMzPg"> <!-- -->main</span></div></div></span><span data-component="trailingVisual" class="Box-sc-g0xbh4-0 trpoQ"><svg aria-hidden="true" focusable="false" role="img" class="octicon octicon-triangle-down" viewBox="0 0 16 16" width="16" height="16" fill="currentColor" style="display:inline-block;user-select:none;vertical-align:text-bottom;overflow:visible"><path d="m4.427 7.427 3.396 3.396a.25.25 0 0 0 .354 0l3.396-3.396A.25.25 0 0 0 11.396 7H4.604a.25.25 0 0 0-.177.427Z"></path></svg></span></span></button><button hidden="" data-hotkey-scope="read-only-cursor-text-area"></button></div><div class="Box-sc-g0xbh4-0 jahcnb"><span role="tooltip" aria-label="Add file" id=":Rq6mplab:" class="Tooltip__TooltipBase-sc-17tf59c-0 gNgnVl tooltipped-s"><a sx="[object Object]" data-component="IconButton" type="button" aria-label="Add file" data-loading="false" data-no-visuals="true" aria-describedby=":R2q6mplab:-loading-announcement" class="types__StyledButton-sc-ws60qy-0 YkvTm" href="/MQ-COMP2200-COMP6200/portfolio-part-2-sunilbastola/new/main"><svg aria-hidden="true" focusable="false" role="img" class="octicon octicon-plus" viewBox="0 0 16 16" width="16" height="16" fill="currentColor" style="display:inline-block;user-select:none;vertical-align:text-bottom;overflow:visible"><path d="M7.75 2a.75.75 0 0 1 .75.75V7h4.25a.75.75 0 0 1 0 1.5H8.5v4.25a.75.75 0 0 1-1.5 0V8.5H2.75a.75.75 0 0 1 0-1.5H7V2.75A.75.75 0 0 1 7.75 2Z"></path></svg></a></span><button data-component="IconButton" type="button" aria-label="Search this repository" data-loading="false" data-no-visuals="true" aria-describedby=":R3a6mplab:-loading-announcement" class="types__StyledButton-sc-ws60qy-0 klDWQA"><svg aria-hidden="true" focusable="false" role="img" class="octicon octicon-search" viewBox="0 0 16 16" width="16" height="16" fill="currentColor" style="display:inline-block;user-select:none;vertical-align:text-bottom;overflow:visible"><path d="M10.68 11.74a6 6 0 0 1-7.922-8.982 6 6 0 0 1 8.982 7.922l3.04 3.04a.749.749 0 0 1-.326 1.275.749.749 0 0 1-.734-.215ZM11.5 7a4.499 4.499 0 1 0-8.997 0A4.499 4.499 0 0 0 11.5 7Z"></path></svg></button><button hidden="" data-testid="" data-hotkey-scope="read-only-cursor-text-area"></button></div></div></div><div class="Box-sc-g0xbh4-0 ccToMy"><span class="TextInputWrapper__TextInputBaseWrapper-sc-1mqhpbi-0 TextInputWrapper-sc-1mqhpbi-1 cXNreu jbzqwE TextInput-wrapper" aria-busy="false"><span class="TextInput-icon"><svg aria-hidden="true" focusable="false" role="img" class="octicon octicon-search" viewBox="0 0 16 16" width="16" height="16" fill="currentColor" style="display:inline-block;user-select:none;vertical-align:text-bottom;overflow:visible"><path d="M10.68 11.74a6 6 0 0 1-7.922-8.982 6 6 0 0 1 8.982 7.922l3.04 3.04a.749.749 0 0 1-.326 1.275.749.749 0 0 1-.734-.215ZM11.5 7a4.499 4.499 0 1 0-8.997 0A4.499 4.499 0 0 0 11.5 7Z"></path></svg></span><input type="text" aria-label="Go to file" role="combobox" aria-controls="file-results-list" aria-expanded="false" aria-haspopup="dialog" autoCorrect="off" spellcheck="false" placeholder="Go to file" data-component="input" class="UnstyledTextInput-sc-14ypya-0 cDLBls" value=""/><span class="TextInput-icon"><div class="Box-sc-g0xbh4-0 cNvKlH"><kbd>t</kbd></div></span></span></div><button hidden="" data-testid="" data-hotkey-scope="read-only-cursor-text-area"></button><button hidden=""></button><div class="Box-sc-g0xbh4-0 cLfAnm"><div class="react-tree-show-tree-items"><div data-testid="repos-file-tree-container" class="Box-sc-g0xbh4-0 erWCJP"><nav aria-label="File Tree Navigation"><span role="status" aria-live="polite" aria-atomic="true" class="_VisuallyHidden__VisuallyHidden-sc-11jhm7a-0 rTZSs"></span><ul role="tree" aria-label="Files" class="TreeView__UlBox-sc-4ex6b6-0 dgvcvm"><li class="PRIVATE_TreeView-item" tabindex="0" id="Portfolio-2-questions.ipynb-item" role="treeitem" aria-labelledby=":R39implab:" aria-describedby=":R39implabH1: :R39implabH2:" aria-level="1" aria-current="true" aria-selected="false"><div class="PRIVATE_TreeView-item-container" style="--level:1"><div style="grid-area:spacer;display:flex"><div style="width:100%;display:flex"></div></div><div id=":R39implab:" class="PRIVATE_TreeView-item-content"><div class="PRIVATE_VisuallyHidden" aria-hidden="true" id=":R39implabH1:"></div><div class="PRIVATE_TreeView-item-visual" aria-hidden="true"><svg aria-hidden="true" focusable="false" role="img" class="octicon octicon-file" viewBox="0 0 16 16" width="16" height="16" fill="currentColor" style="display:inline-block;user-select:none;vertical-align:text-bottom;overflow:visible"><path d="M2 1.75C2 .784 2.784 0 3.75 0h6.586c.464 0 .909.184 1.237.513l2.914 2.914c.329.328.513.773.513 1.237v9.586A1.75 1.75 0 0 1 13.25 16h-9.5A1.75 1.75 0 0 1 2 14.25Zm1.75-.25a.25.25 0 0 0-.25.25v12.5c0 .138.112.25.25.25h9.5a.25.25 0 0 0 .25-.25V6h-2.75A1.75 1.75 0 0 1 9 4.25V1.5Zm6.75.062V4.25c0 .138.112.25.25.25h2.688l-.011-.013-2.914-2.914-.013-.011Z"></path></svg></div><span class="PRIVATE_TreeView-item-content-text"><span>Portfolio-2-questions.ipynb</span></span></div></div></li></ul></nav></div></div></div></div></div></div><div class="Box-sc-g0xbh4-0 hAeDYA"><div role="slider" aria-label="Draggable pane splitter" aria-valuemin="0" aria-valuemax="0" aria-valuenow="0" aria-valuetext="Pane width 0 pixels" tabindex="0" class="Box-sc-g0xbh4-0 fjdBNx"></div></div></div></div><div class="Box-sc-g0xbh4-0 emFMJu"><div class="Box-sc-g0xbh4-0"></div><div class="Box-sc-g0xbh4-0 hlUAHL"><div data-selector="repos-split-pane-content" tabindex="0" class="Box-sc-g0xbh4-0 iStsmI"><div class="Box-sc-g0xbh4-0 eIgvIk"><div class="Box-sc-g0xbh4-0 eVFfWF container"><div class="px-3 pt-3 pb-0" id="StickyHeader"><div class="Box-sc-g0xbh4-0 fywjmm"><div class="Box-sc-g0xbh4-0 dyczTK"><div class="Box-sc-g0xbh4-0 kszRgZ"><div class="Box-sc-g0xbh4-0 eTvGbF"><nav data-testid="breadcrumbs" aria-labelledby="repos-header-breadcrumb--wide-heading" id="repos-header-breadcrumb--wide" class="Box-sc-g0xbh4-0 kzRgrI"><h2 class="Heading__StyledHeading-sc-1c1dgg0-0 fpGZrB sr-only" data-testid="screen-reader-heading" id="repos-header-breadcrumb--wide-heading">Breadcrumbs</h2><ol class="Box-sc-g0xbh4-0 cmAPIB"><li class="Box-sc-g0xbh4-0 jwXCBK"><a class="Link__StyledLink-sc-14289xe-0 ipyMWB" sx="[object Object]" data-testid="breadcrumbs-repo-link" href="/MQ-COMP2200-COMP6200/portfolio-part-2-sunilbastola/tree/main">portfolio-part-2-sunilbastola</a></li></ol></nav><div data-testid="breadcrumbs-filename" class="Box-sc-g0xbh4-0 jwXCBK"><span aria-hidden="true" class="Text-sc-17v1xeu-0 fIsVJr">/</span><h1 class="Heading__StyledHeading-sc-1c1dgg0-0 eqidDl" tabindex="-1" id="file-name-id-wide">Portfolio-2-questions.ipynb</h1></div><div aria-describedby=":Rdd9lab:"><button data-component="IconButton" type="button" aria-label="Copy path" tabindex="0" class="types__StyledButton-sc-ws60qy-0 emYRmJ" data-loading="false" data-no-visuals="true" data-size="small" aria-describedby=":R1td9lab:-loading-announcement"><svg aria-hidden="true" focusable="false" role="img" class="octicon octicon-copy" viewBox="0 0 16 16" width="16" height="16" fill="currentColor" style="display:inline-block;user-select:none;vertical-align:text-bottom;overflow:visible"><path d="M0 6.75C0 5.784.784 5 1.75 5h1.5a.75.75 0 0 1 0 1.5h-1.5a.25.25 0 0 0-.25.25v7.5c0 .138.112.25.25.25h7.5a.25.25 0 0 0 .25-.25v-1.5a.75.75 0 0 1 1.5 0v1.5A1.75 1.75 0 0 1 9.25 16h-7.5A1.75 1.75 0 0 1 0 14.25Z"></path><path d="M5 1.75C5 .784 5.784 0 6.75 0h7.5C15.216 0 16 .784 16 1.75v7.5A1.75 1.75 0 0 1 14.25 11h-7.5A1.75 1.75 0 0 1 5 9.25Zm1.75-.25a.25.25 0 0 0-.25.25v7.5c0 .138.112.25.25.25h7.5a.25.25 0 0 0 .25-.25v-7.5a.25.25 0 0 0-.25-.25Z"></path></svg></button></div></div></div><div class="react-code-view-header-element--wide"><div class="Box-sc-g0xbh4-0 gtBUEp"><div class="d-flex gap-2"> <button type="button" data-loading="false" data-no-visuals="true" aria-describedby=":R2l6d9lab:-loading-announcement" class="types__StyledButton-sc-ws60qy-0 jFcVkf"><span data-component="buttonContent" class="Box-sc-g0xbh4-0 kkrdEu"><span data-component="text">Blame</span></span></button><button hidden="" data-testid="" data-hotkey-scope="read-only-cursor-text-area"></button><button data-component="IconButton" type="button" aria-label="More file actions" class="types__StyledButton-sc-ws60qy-0 kuXPuQ js-blob-dropdown-click" title="More file actions" data-testid="more-file-actions-button-nav-menu-wide" aria-haspopup="true" aria-expanded="false" tabindex="0" data-loading="false" data-no-visuals="true" aria-describedby=":R156d9lab:-loading-announcement" id=":R156d9lab:"><svg aria-hidden="true" focusable="false" role="img" class="octicon octicon-kebab-horizontal" viewBox="0 0 16 16" width="16" height="16" fill="currentColor" style="display:inline-block;user-select:none;vertical-align:text-bottom;overflow:visible"><path d="M8 9a1.5 1.5 0 1 0 0-3 1.5 1.5 0 0 0 0 3ZM1.5 9a1.5 1.5 0 1 0 0-3 1.5 1.5 0 0 0 0 3Zm13 0a1.5 1.5 0 1 0 0-3 1.5 1.5 0 0 0 0 3Z"></path></svg></button> </div></div></div><div class="react-code-view-header-element--narrow"><div class="Box-sc-g0xbh4-0 gtBUEp"><div class="d-flex gap-2"> <button type="button" data-loading="false" data-no-visuals="true" aria-describedby=":R2l7d9lab:-loading-announcement" class="types__StyledButton-sc-ws60qy-0 jFcVkf"><span data-component="buttonContent" class="Box-sc-g0xbh4-0 kkrdEu"><span data-component="text">Blame</span></span></button><button hidden="" data-testid="" data-hotkey-scope="read-only-cursor-text-area"></button><button data-component="IconButton" type="button" aria-label="More file actions" class="types__StyledButton-sc-ws60qy-0 kuXPuQ js-blob-dropdown-click" title="More file actions" data-testid="more-file-actions-button-nav-menu-narrow" aria-haspopup="true" aria-expanded="false" tabindex="0" data-loading="false" data-no-visuals="true" aria-describedby=":R157d9lab:-loading-announcement" id=":R157d9lab:"><svg aria-hidden="true" focusable="false" role="img" class="octicon octicon-kebab-horizontal" viewBox="0 0 16 16" width="16" height="16" fill="currentColor" style="display:inline-block;user-select:none;vertical-align:text-bottom;overflow:visible"><path d="M8 9a1.5 1.5 0 1 0 0-3 1.5 1.5 0 0 0 0 3ZM1.5 9a1.5 1.5 0 1 0 0-3 1.5 1.5 0 0 0 0 3Zm13 0a1.5 1.5 0 1 0 0-3 1.5 1.5 0 0 0 0 3Z"></path></svg></button> </div></div></div></div></div></div></div></div><div class="Box-sc-g0xbh4-0 hVZtwF react-code-view-bottom-padding"> <div class="Box-sc-g0xbh4-0 cMYnca"></div> <!-- --> <!-- --> </div><div class="Box-sc-g0xbh4-0 hVZtwF"> <!-- --> <!-- --> <div class="d-flex flex-column border rounded-2 mb-3 pl-1"><div class="Box-sc-g0xbh4-0 brJRqk"><h2 class="Heading__StyledHeading-sc-1c1dgg0-0 fpGZrB sr-only" data-testid="screen-reader-heading">Latest commit</h2><div style="width:120px" class="Skeleton Skeleton--text" data-testid="loading"> </div><div class="d-flex flex-shrink-0 gap-2"><div data-testid="latest-commit-details" class="d-none d-sm-flex flex-items-center"></div><div class="d-flex gap-2"><h2 class="Heading__StyledHeading-sc-1c1dgg0-0 fpGZrB sr-only" data-testid="screen-reader-heading">History</h2><a class="types__StyledButton-sc-ws60qy-0 emYRmJ d-none d-lg-flex LinkButton-module__code-view-link-button--xvCGA flex-items-center fgColor-default" href="/MQ-COMP2200-COMP6200/portfolio-part-2-sunilbastola/commits/main/Portfolio-2-questions.ipynb" data-loading="false" data-size="small" aria-describedby=":R5dlal9lab:-loading-announcement"><span data-component="buttonContent" class="Box-sc-g0xbh4-0 kkrdEu"><span data-component="leadingVisual" class="Box-sc-g0xbh4-0 trpoQ"><svg aria-hidden="true" focusable="false" role="img" class="octicon octicon-history" viewBox="0 0 16 16" width="16" height="16" fill="currentColor" style="display:inline-block;user-select:none;vertical-align:text-bottom;overflow:visible"><path d="m.427 1.927 1.215 1.215a8.002 8.002 0 1 1-1.6 5.685.75.75 0 1 1 1.493-.154 6.5 6.5 0 1 0 1.18-4.458l1.358 1.358A.25.25 0 0 1 3.896 6H.25A.25.25 0 0 1 0 5.75V2.104a.25.25 0 0 1 .427-.177ZM7.75 4a.75.75 0 0 1 .75.75v2.992l2.028.812a.75.75 0 0 1-.557 1.392l-2.5-1A.751.751 0 0 1 7 8.25v-3.5A.75.75 0 0 1 7.75 4Z"></path></svg></span><span data-component="text"><span class="fgColor-default">History</span></span></span></a><div class="d-sm-none"></div><div class="d-flex d-lg-none"><span role="tooltip" aria-label="History" id="history-icon-button-tooltip" class="Tooltip__TooltipBase-sc-17tf59c-0 gNgnVl tooltipped-n"><a class="types__StyledButton-sc-ws60qy-0 emYRmJ LinkButton-module__code-view-link-button--xvCGA flex-items-center fgColor-default" href="/MQ-COMP2200-COMP6200/portfolio-part-2-sunilbastola/commits/main/Portfolio-2-questions.ipynb" data-loading="false" data-size="small" aria-describedby=":Rpdlal9lab:-loading-announcement history-icon-button-tooltip"><span data-component="buttonContent" class="Box-sc-g0xbh4-0 kkrdEu"><span data-component="leadingVisual" class="Box-sc-g0xbh4-0 trpoQ"><svg aria-hidden="true" focusable="false" role="img" class="octicon octicon-history" viewBox="0 0 16 16" width="16" height="16" fill="currentColor" style="display:inline-block;user-select:none;vertical-align:text-bottom;overflow:visible"><path d="m.427 1.927 1.215 1.215a8.002 8.002 0 1 1-1.6 5.685.75.75 0 1 1 1.493-.154 6.5 6.5 0 1 0 1.18-4.458l1.358 1.358A.25.25 0 0 1 3.896 6H.25A.25.25 0 0 1 0 5.75V2.104a.25.25 0 0 1 .427-.177ZM7.75 4a.75.75 0 0 1 .75.75v2.992l2.028.812a.75.75 0 0 1-.557 1.392l-2.5-1A.751.751 0 0 1 7 8.25v-3.5A.75.75 0 0 1 7.75 4Z"></path></svg></span></span></a></span></div></div></div></div></div><div class="Box-sc-g0xbh4-0 iJmJly"><div class="Box-sc-g0xbh4-0 jACbi container"><div class="Box-sc-g0xbh4-0 gIJuDf react-code-size-details-banner"><div class="Box-sc-g0xbh4-0 fleZSW react-code-size-details-banner"><div class="Box-sc-g0xbh4-0 BnySK text-mono"><div title="158 KB" data-testid="blob-size" class="Truncate__StyledTruncate-sc-23o1d2-0 fUpWeN"><span>2027 lines (2027 loc) · 158 KB</span></div></div></div><div class="react-code-size-details-banner"><button style="--button-color:fg.default" type="button" aria-haspopup="true" aria-expanded="false" tabindex="0" data-testid="copilot-popover-button" data-loading="false" data-size="small" aria-describedby=":R15tal9lab:-loading-announcement" id=":R15tal9lab:" class="types__StyledButton-sc-ws60qy-0 jKgwhU"><span data-component="buttonContent" class="Box-sc-g0xbh4-0 kkrdEu"><span data-component="leadingVisual" class="Box-sc-g0xbh4-0 trpoQ"><svg aria-hidden="true" focusable="false" role="img" class="octicon octicon-copilot" viewBox="0 0 16 16" width="16" height="16" fill="currentColor" style="display:inline-block;user-select:none;vertical-align:text-bottom;overflow:visible"><path d="M7.998 15.035c-4.562 0-7.873-2.914-7.998-3.749V9.338c.085-.628.677-1.686 1.588-2.065.013-.07.024-.143.036-.218.029-.183.06-.384.126-.612-.201-.508-.254-1.084-.254-1.656 0-.87.128-1.769.693-2.484.579-.733 1.494-1.124 2.724-1.261 1.206-.134 2.262.034 2.944.765.05.053.096.108.139.165.044-.057.094-.112.143-.165.682-.731 1.738-.899 2.944-.765 1.23.137 2.145.528 2.724 1.261.566.715.693 1.614.693 2.484 0 .572-.053 1.148-.254 1.656.066.228.098.429.126.612.012.076.024.148.037.218.924.385 1.522 1.471 1.591 2.095v1.872c0 .766-3.351 3.795-8.002 3.795Zm0-1.485c2.28 0 4.584-1.11 5.002-1.433V7.862l-.023-.116c-.49.21-1.075.291-1.727.291-1.146 0-2.059-.327-2.71-.991A3.222 3.222 0 0 1 8 6.303a3.24 3.24 0 0 1-.544.743c-.65.664-1.563.991-2.71.991-.652 0-1.236-.081-1.727-.291l-.023.116v4.255c.419.323 2.722 1.433 5.002 1.433ZM6.762 2.83c-.193-.206-.637-.413-1.682-.297-1.019.113-1.479.404-1.713.7-.247.312-.369.789-.369 1.554 0 .793.129 1.171.308 1.371.162.181.519.379 1.442.379.853 0 1.339-.235 1.638-.54.315-.322.527-.827.617-1.553.117-.935-.037-1.395-.241-1.614Zm4.155-.297c-1.044-.116-1.488.091-1.681.297-.204.219-.359.679-.242 1.614.091.726.303 1.231.618 1.553.299.305.784.54 1.638.54.922 0 1.28-.198 1.442-.379.179-.2.308-.578.308-1.371 0-.765-.123-1.242-.37-1.554-.233-.296-.693-.587-1.713-.7Z"></path><path d="M6.25 9.037a.75.75 0 0 1 .75.75v1.501a.75.75 0 0 1-1.5 0V9.787a.75.75 0 0 1 .75-.75Zm4.25.75v1.501a.75.75 0 0 1-1.5 0V9.787a.75.75 0 0 1 1.5 0Z"></path></svg></span><span data-component="text">Code 55% faster with GitHub Copilot</span></span></button></div></div><div class="Box-sc-g0xbh4-0 VHzRk react-blob-view-header-sticky" id="repos-sticky-header"><div class="Box-sc-g0xbh4-0 ePiodO"><div class="react-blob-sticky-header"><div class="Box-sc-g0xbh4-0 kQJlnf"><div class="Box-sc-g0xbh4-0 gJICKO"><div class="Box-sc-g0xbh4-0 iZJewz"><nav data-testid="breadcrumbs" aria-labelledby="sticky-breadcrumb-heading" id="sticky-breadcrumb" class="Box-sc-g0xbh4-0 kzRgrI"><h2 class="Heading__StyledHeading-sc-1c1dgg0-0 fpGZrB sr-only" data-testid="screen-reader-heading" id="sticky-breadcrumb-heading">Breadcrumbs</h2><ol class="Box-sc-g0xbh4-0 cmAPIB"><li class="Box-sc-g0xbh4-0 jwXCBK"><a class="Link__StyledLink-sc-14289xe-0 ipyMWB" sx="[object Object]" data-testid="breadcrumbs-repo-link" href="/MQ-COMP2200-COMP6200/portfolio-part-2-sunilbastola/tree/main">portfolio-part-2-sunilbastola</a></li></ol></nav><div data-testid="breadcrumbs-filename" class="Box-sc-g0xbh4-0 jwXCBK"><span aria-hidden="true" class="Text-sc-17v1xeu-0 cYjMDB">/</span><h1 class="Heading__StyledHeading-sc-1c1dgg0-0 eDVSKn" tabindex="-1" id="sticky-file-name-id">Portfolio-2-questions.ipynb</h1></div></div><button style="--button-color:fg.default" type="button" data-loading="false" data-size="small" aria-describedby=":Riptal9lab:-loading-announcement" class="types__StyledButton-sc-ws60qy-0 bDTxaK"><span data-component="buttonContent" class="Box-sc-g0xbh4-0 kkrdEu"><span data-component="leadingVisual" class="Box-sc-g0xbh4-0 trpoQ"><svg aria-hidden="true" focusable="false" role="img" class="octicon octicon-arrow-up" viewBox="0 0 16 16" width="16" height="16" fill="currentColor" style="display:inline-block;user-select:none;vertical-align:text-bottom;overflow:visible"><path d="M3.47 7.78a.75.75 0 0 1 0-1.06l4.25-4.25a.75.75 0 0 1 1.06 0l4.25 4.25a.751.751 0 0 1-.018 1.042.751.751 0 0 1-1.042.018L9 4.81v7.44a.75.75 0 0 1-1.5 0V4.81L4.53 7.78a.75.75 0 0 1-1.06 0Z"></path></svg></span><span data-component="text">Top</span></span></button></div></div></div><div class="Box-sc-g0xbh4-0 jfjHXm"><h2 class="Heading__StyledHeading-sc-1c1dgg0-0 fpGZrB sr-only" data-testid="screen-reader-heading">File metadata and controls</h2><div class="Box-sc-g0xbh4-0 bfkNRF"><ul aria-label="File view" class="SegmentedControl__SegmentedControlList-sc-1rzig82-0 ehDMvU"><li class="Box-sc-g0xbh4-0 fXBLEV"><button aria-current="true" type="button" class="SegmentedControlButton__SegmentedControlButtonStyled-sc-8lkgxl-0 jEdVkE"><span class="segmentedControl-content"><div class="Box-sc-g0xbh4-0 segmentedControl-text">Preview</div></span></button></li><li class="Box-sc-g0xbh4-0 gMPsNT"><button aria-current="false" type="button" class="SegmentedControlButton__SegmentedControlButtonStyled-sc-8lkgxl-0 TvbfG"><span class="segmentedControl-content"><div class="Box-sc-g0xbh4-0 segmentedControl-text">Code</div></span></button></li><li class="Box-sc-g0xbh4-0 gMPsNT"><button aria-current="false" type="button" class="SegmentedControlButton__SegmentedControlButtonStyled-sc-8lkgxl-0 fIktcg"><span class="segmentedControl-content"><div class="Box-sc-g0xbh4-0 segmentedControl-text">Blame</div></span></button></li></ul><button hidden="" data-testid="" data-hotkey-scope="read-only-cursor-text-area"></button><button hidden="" data-testid="" data-hotkey-scope="read-only-cursor-text-area"></button><button hidden="" data-testid="" data-hotkey-scope="read-only-cursor-text-area"></button><div class="Box-sc-g0xbh4-0 fleZSW react-code-size-details-in-header"><div class="Box-sc-g0xbh4-0 BnySK text-mono"><div title="158 KB" data-testid="blob-size" class="Truncate__StyledTruncate-sc-23o1d2-0 fUpWeN"><span>2027 lines (2027 loc) · 158 KB</span></div></div></div><div class="react-code-size-details-in-header"><button style="--button-color:fg.default" type="button" aria-haspopup="true" aria-expanded="false" tabindex="0" data-testid="copilot-popover-button" data-loading="false" data-size="small" aria-describedby=":R3kptal9lab:-loading-announcement" id=":R3kptal9lab:" class="types__StyledButton-sc-ws60qy-0 jKgwhU"><span data-component="buttonContent" class="Box-sc-g0xbh4-0 kkrdEu"><span data-component="leadingVisual" class="Box-sc-g0xbh4-0 trpoQ"><svg aria-hidden="true" focusable="false" role="img" class="octicon octicon-copilot" viewBox="0 0 16 16" width="16" height="16" fill="currentColor" style="display:inline-block;user-select:none;vertical-align:text-bottom;overflow:visible"><path d="M7.998 15.035c-4.562 0-7.873-2.914-7.998-3.749V9.338c.085-.628.677-1.686 1.588-2.065.013-.07.024-.143.036-.218.029-.183.06-.384.126-.612-.201-.508-.254-1.084-.254-1.656 0-.87.128-1.769.693-2.484.579-.733 1.494-1.124 2.724-1.261 1.206-.134 2.262.034 2.944.765.05.053.096.108.139.165.044-.057.094-.112.143-.165.682-.731 1.738-.899 2.944-.765 1.23.137 2.145.528 2.724 1.261.566.715.693 1.614.693 2.484 0 .572-.053 1.148-.254 1.656.066.228.098.429.126.612.012.076.024.148.037.218.924.385 1.522 1.471 1.591 2.095v1.872c0 .766-3.351 3.795-8.002 3.795Zm0-1.485c2.28 0 4.584-1.11 5.002-1.433V7.862l-.023-.116c-.49.21-1.075.291-1.727.291-1.146 0-2.059-.327-2.71-.991A3.222 3.222 0 0 1 8 6.303a3.24 3.24 0 0 1-.544.743c-.65.664-1.563.991-2.71.991-.652 0-1.236-.081-1.727-.291l-.023.116v4.255c.419.323 2.722 1.433 5.002 1.433ZM6.762 2.83c-.193-.206-.637-.413-1.682-.297-1.019.113-1.479.404-1.713.7-.247.312-.369.789-.369 1.554 0 .793.129 1.171.308 1.371.162.181.519.379 1.442.379.853 0 1.339-.235 1.638-.54.315-.322.527-.827.617-1.553.117-.935-.037-1.395-.241-1.614Zm4.155-.297c-1.044-.116-1.488.091-1.681.297-.204.219-.359.679-.242 1.614.091.726.303 1.231.618 1.553.299.305.784.54 1.638.54.922 0 1.28-.198 1.442-.379.179-.2.308-.578.308-1.371 0-.765-.123-1.242-.37-1.554-.233-.296-.693-.587-1.713-.7Z"></path><path d="M6.25 9.037a.75.75 0 0 1 .75.75v1.501a.75.75 0 0 1-1.5 0V9.787a.75.75 0 0 1 .75-.75Zm4.25.75v1.501a.75.75 0 0 1-1.5 0V9.787a.75.75 0 0 1 1.5 0Z"></path></svg></span><span data-component="text">Code 55% faster with GitHub Copilot</span></span></button></div></div><div class="Box-sc-g0xbh4-0 iBylDf"><div class="Box-sc-g0xbh4-0 kSGBPx react-blob-header-edit-and-raw-actions"><div class="ButtonGroup-sc-1gxhls1-0 cpVEZe"><a href="https://github.com/MQ-COMP2200-COMP6200/portfolio-part-2-sunilbastola/raw/main/Portfolio-2-questions.ipynb" data-testid="raw-button" data-loading="false" data-no-visuals="true" data-size="small" aria-describedby=":R5csptal9lab:-loading-announcement" class="types__StyledButton-sc-ws60qy-0 jUNlHb"><span data-component="buttonContent" class="Box-sc-g0xbh4-0 kkrdEu"><span data-component="text">Raw</span></span></a><button data-component="IconButton" type="button" aria-label="Copy raw content" data-testid="copy-raw-button" data-loading="false" data-no-visuals="true" data-size="small" aria-describedby=":Rpcsptal9lab:-loading-announcement" class="types__StyledButton-sc-ws60qy-0 feqCqy"><svg aria-hidden="true" focusable="false" role="img" class="octicon octicon-copy" viewBox="0 0 16 16" width="16" height="16" fill="currentColor" style="display:inline-block;user-select:none;vertical-align:text-bottom;overflow:visible"><path d="M0 6.75C0 5.784.784 5 1.75 5h1.5a.75.75 0 0 1 0 1.5h-1.5a.25.25 0 0 0-.25.25v7.5c0 .138.112.25.25.25h7.5a.25.25 0 0 0 .25-.25v-1.5a.75.75 0 0 1 1.5 0v1.5A1.75 1.75 0 0 1 9.25 16h-7.5A1.75 1.75 0 0 1 0 14.25Z"></path><path d="M5 1.75C5 .784 5.784 0 6.75 0h7.5C15.216 0 16 .784 16 1.75v7.5A1.75 1.75 0 0 1 14.25 11h-7.5A1.75 1.75 0 0 1 5 9.25Zm1.75-.25a.25.25 0 0 0-.25.25v7.5c0 .138.112.25.25.25h7.5a.25.25 0 0 0 .25-.25v-7.5a.25.25 0 0 0-.25-.25Z"></path></svg></button><span role="tooltip" aria-label="Download raw file" id=":Rdcsptal9lab:" class="Tooltip__TooltipBase-sc-17tf59c-0 gNgnVl tooltipped-n"><button data-component="IconButton" type="button" aria-label="Download raw content" data-testid="download-raw-button" data-loading="false" data-no-visuals="true" data-size="small" aria-describedby=":Rtcsptal9lab:-loading-announcement" class="types__StyledButton-sc-ws60qy-0 bfWknm"><svg aria-hidden="true" focusable="false" role="img" class="octicon octicon-download" viewBox="0 0 16 16" width="16" height="16" fill="currentColor" style="display:inline-block;user-select:none;vertical-align:text-bottom;overflow:visible"><path d="M2.75 14A1.75 1.75 0 0 1 1 12.25v-2.5a.75.75 0 0 1 1.5 0v2.5c0 .138.112.25.25.25h10.5a.25.25 0 0 0 .25-.25v-2.5a.75.75 0 0 1 1.5 0v2.5A1.75 1.75 0 0 1 13.25 14Z"></path><path d="M7.25 7.689V2a.75.75 0 0 1 1.5 0v5.689l1.97-1.969a.749.749 0 1 1 1.06 1.06l-3.25 3.25a.749.749 0 0 1-1.06 0L4.22 6.78a.749.749 0 1 1 1.06-1.06l1.97 1.969Z"></path></svg></button></span></div><button hidden="" data-testid="raw-button-shortcut" data-hotkey-scope="read-only-cursor-text-area"></button><button hidden="" data-testid="copy-raw-button-shortcut" data-hotkey-scope="read-only-cursor-text-area"></button><button hidden="" data-testid="download-raw-button-shortcut" data-hotkey-scope="read-only-cursor-text-area"></button><a class="Link__StyledLink-sc-14289xe-0 dheQRw js-github-dev-shortcut d-none" href="https://github.dev/"></a><button hidden="" data-testid="" data-hotkey-scope="read-only-cursor-text-area"></button><a class="Link__StyledLink-sc-14289xe-0 dheQRw js-github-dev-new-tab-shortcut d-none" href="https://github.dev/" target="_blank"></a><button hidden="" data-testid="" data-hotkey-scope="read-only-cursor-text-area"></button><div class="ButtonGroup-sc-1gxhls1-0 cpVEZe"><span role="tooltip" aria-label="Edit this file" id=":R6ksptal9lab:" class="Tooltip__TooltipBase-sc-17tf59c-0 gNgnVl tooltipped-nw"><a sx="[object Object]" data-component="IconButton" type="button" aria-label="Edit file" data-testid="edit-button" data-loading="false" data-no-visuals="true" data-size="small" aria-describedby=":Rmksptal9lab:-loading-announcement" class="types__StyledButton-sc-ws60qy-0 eBqjKw" href="/MQ-COMP2200-COMP6200/portfolio-part-2-sunilbastola/edit/main/Portfolio-2-questions.ipynb"><svg aria-hidden="true" focusable="false" role="img" class="octicon octicon-pencil" viewBox="0 0 16 16" width="16" height="16" fill="currentColor" style="display:inline-block;user-select:none;vertical-align:text-bottom;overflow:visible"><path d="M11.013 1.427a1.75 1.75 0 0 1 2.474 0l1.086 1.086a1.75 1.75 0 0 1 0 2.474l-8.61 8.61c-.21.21-.47.364-.756.445l-3.251.93a.75.75 0 0 1-.927-.928l.929-3.25c.081-.286.235-.547.445-.758l8.61-8.61Zm.176 4.823L9.75 4.81l-6.286 6.287a.253.253 0 0 0-.064.108l-.558 1.953 1.953-.558a.253.253 0 0 0 .108-.064Zm1.238-3.763a.25.25 0 0 0-.354 0L10.811 3.75l1.439 1.44 1.263-1.263a.25.25 0 0 0 0-.354Z"></path></svg></a></span><button data-component="IconButton" type="button" aria-label="More edit options" data-testid="more-edit-button" aria-haspopup="true" aria-expanded="false" tabindex="0" data-loading="false" data-no-visuals="true" data-size="small" aria-describedby=":Raksptal9lab:-loading-announcement" id=":Raksptal9lab:" class="types__StyledButton-sc-ws60qy-0 feqCqy"><svg aria-hidden="true" focusable="false" role="img" class="octicon octicon-triangle-down" viewBox="0 0 16 16" width="16" height="16" fill="currentColor" style="display:inline-block;user-select:none;vertical-align:text-bottom;overflow:visible"><path d="m4.427 7.427 3.396 3.396a.25.25 0 0 0 .354 0l3.396-3.396A.25.25 0 0 0 11.396 7H4.604a.25.25 0 0 0-.177.427Z"></path></svg></button></div><button hidden="" data-testid="" data-hotkey="e,Shift+E" data-hotkey-scope="read-only-cursor-text-area"></button></div><div class="react-blob-header-edit-and-raw-actions-combined"><button data-component="IconButton" type="button" aria-label="Edit and raw actions" class="types__StyledButton-sc-ws60qy-0 eEspxX js-blob-dropdown-click" title="More file actions" data-testid="more-file-actions-button" aria-haspopup="true" aria-expanded="false" tabindex="0" data-loading="false" data-no-visuals="true" data-size="small" aria-describedby=":Rnsptal9lab:-loading-announcement" id=":Rnsptal9lab:"><svg aria-hidden="true" focusable="false" role="img" class="octicon octicon-kebab-horizontal" viewBox="0 0 16 16" width="16" height="16" fill="currentColor" style="display:inline-block;user-select:none;vertical-align:text-bottom;overflow:visible"><path d="M8 9a1.5 1.5 0 1 0 0-3 1.5 1.5 0 0 0 0 3ZM1.5 9a1.5 1.5 0 1 0 0-3 1.5 1.5 0 0 0 0 3Zm13 0a1.5 1.5 0 1 0 0-3 1.5 1.5 0 0 0 0 3Z"></path></svg></button></div></div></div></div><div></div></div><div class="Box-sc-g0xbh4-0 ytOJl"><section aria-labelledby="file-name-id-wide file-name-id-mobile" class="Box-sc-g0xbh4-0 eJsjkT"><!--$!--><template></template><div data-testid="suspense-spinner" class="Box-sc-g0xbh4-0 bAzdCq"><span class="Box-sc-g0xbh4-0 ioTNdO"><svg height="32px" width="32px" viewBox="0 0 16 16" fill="none" aria-hidden="true" aria-label="Loading" class="Spinner__StyledSpinner-sc-1knt686-0 hPEVNM"><circle cx="8" cy="8" r="7" stroke="currentColor" stroke-opacity="0.25" stroke-width="2" vector-effect="non-scaling-stroke"></circle><path d="M15 8a7.002 7.002 0 00-7-7" stroke="currentColor" stroke-width="2" stroke-linecap="round" vector-effect="non-scaling-stroke"></path></svg></span></div><!--/$--></section></div></div></div> <!-- --> <!-- --> </div></div></div><div class="Box-sc-g0xbh4-0"></div></div></div></div></div><div id="find-result-marks-container" class="Box-sc-g0xbh4-0 aZrVR"></div><button hidden="" data-testid="" data-hotkey-scope="read-only-cursor-text-area"></button><button hidden=""></button></div> <!-- --> <!-- --> <script type="application/json" id="__PRIMER_DATA_:R0:__">{"resolvedServerColorMode":"day"}</script></div>
</react-app>
</turbo-frame>



  </div>

</turbo-frame>

    </main>
  </div>

  </div>

          <footer class="footer pt-8 pb-6 f6 color-fg-muted p-responsive" role="contentinfo" >
  <h2 class='sr-only'>Footer</h2>

  


  <div class="d-flex flex-justify-center flex-items-center flex-column-reverse flex-lg-row flex-wrap flex-lg-nowrap">
    <div class="d-flex flex-items-center flex-shrink-0 mx-2">
      <a aria-label="Homepage" title="GitHub" class="footer-octicon mr-2" href="https://github.com">
        <svg aria-hidden="true" height="24" viewBox="0 0 24 24" version="1.1" width="24" data-view-component="true" class="octicon octicon-mark-github">
    <path d="M12.5.75C6.146.75 1 5.896 1 12.25c0 5.089 3.292 9.387 7.863 10.91.575.101.79-.244.79-.546 0-.273-.014-1.178-.014-2.142-2.889.532-3.636-.704-3.866-1.35-.13-.331-.69-1.352-1.18-1.625-.402-.216-.977-.748-.014-.762.906-.014 1.553.834 1.769 1.179 1.035 1.74 2.688 1.25 3.349.948.1-.747.402-1.25.733-1.538-2.559-.287-5.232-1.279-5.232-5.678 0-1.25.445-2.285 1.178-3.09-.115-.288-.517-1.467.115-3.048 0 0 .963-.302 3.163 1.179.92-.259 1.897-.388 2.875-.388.977 0 1.955.13 2.875.388 2.2-1.495 3.162-1.179 3.162-1.179.633 1.581.23 2.76.115 3.048.733.805 1.179 1.825 1.179 3.09 0 4.413-2.688 5.39-5.247 5.678.417.36.776 1.05.776 2.128 0 1.538-.014 2.774-.014 3.162 0 .302.216.662.79.547C20.709 21.637 24 17.324 24 12.25 24 5.896 18.854.75 12.5.75Z"></path>
</svg>
</a>
      <span>
        &copy; 2024 GitHub,&nbsp;Inc.
      </span>
    </div>

    <nav aria-label="Footer">
      <h3 class="sr-only" id="sr-footer-heading">Footer navigation</h3>

      <ul class="list-style-none d-flex flex-justify-center flex-wrap mb-2 mb-lg-0" aria-labelledby="sr-footer-heading">

          <li class="mx-2">
            <a data-analytics-event="{&quot;category&quot;:&quot;Footer&quot;,&quot;action&quot;:&quot;go to Terms&quot;,&quot;label&quot;:&quot;text:terms&quot;}" href="https://docs.github.com/site-policy/github-terms/github-terms-of-service" data-view-component="true" class="Link--secondary Link">Terms</a>
          </li>

          <li class="mx-2">
            <a data-analytics-event="{&quot;category&quot;:&quot;Footer&quot;,&quot;action&quot;:&quot;go to privacy&quot;,&quot;label&quot;:&quot;text:privacy&quot;}" href="https://docs.github.com/site-policy/privacy-policies/github-privacy-statement" data-view-component="true" class="Link--secondary Link">Privacy</a>
          </li>

          <li class="mx-2">
            <a data-analytics-event="{&quot;category&quot;:&quot;Footer&quot;,&quot;action&quot;:&quot;go to security&quot;,&quot;label&quot;:&quot;text:security&quot;}" href="https://github.com/security" data-view-component="true" class="Link--secondary Link">Security</a>
          </li>

          <li class="mx-2">
            <a data-analytics-event="{&quot;category&quot;:&quot;Footer&quot;,&quot;action&quot;:&quot;go to status&quot;,&quot;label&quot;:&quot;text:status&quot;}" href="https://www.githubstatus.com/" data-view-component="true" class="Link--secondary Link">Status</a>
          </li>

          <li class="mx-2">
            <a data-analytics-event="{&quot;category&quot;:&quot;Footer&quot;,&quot;action&quot;:&quot;go to docs&quot;,&quot;label&quot;:&quot;text:docs&quot;}" href="https://docs.github.com/" data-view-component="true" class="Link--secondary Link">Docs</a>
          </li>

          <li class="mx-2">
            <a data-analytics-event="{&quot;category&quot;:&quot;Footer&quot;,&quot;action&quot;:&quot;go to contact&quot;,&quot;label&quot;:&quot;text:contact&quot;}" href="https://support.github.com?tags=dotcom-footer" data-view-component="true" class="Link--secondary Link">Contact</a>
          </li>

          <li class="mr-3" >
  <cookie-consent-link>
    <button
      type="button"
      class="Link--secondary underline-on-hover border-0 p-0 color-bg-transparent"
      data-action="click:cookie-consent-link#showConsentManagement"
      data-analytics-event="{&quot;location&quot;:&quot;footer&quot;,&quot;action&quot;:&quot;cookies&quot;,&quot;context&quot;:&quot;subfooter&quot;,&quot;tag&quot;:&quot;link&quot;,&quot;label&quot;:&quot;cookies_link_subfooter_footer&quot;}"
    >
      Manage cookies
    </button>
  </cookie-consent-link>
</li>

<li class="mr-3">
  <cookie-consent-link>
    <button
      type="button"
      class="Link--secondary underline-on-hover border-0 p-0 color-bg-transparent"
      data-action="click:cookie-consent-link#showConsentManagement"
      data-analytics-event="{&quot;location&quot;:&quot;footer&quot;,&quot;action&quot;:&quot;dont_share_info&quot;,&quot;context&quot;:&quot;subfooter&quot;,&quot;tag&quot;:&quot;link&quot;,&quot;label&quot;:&quot;dont_share_info_link_subfooter_footer&quot;}"
    >
      Do not share my personal information
    </button>
  </cookie-consent-link>
</li>

      </ul>
    </nav>
  </div>
</footer>




    <ghcc-consent id="ghcc" class="position-fixed bottom-0 left-0" style="z-index: 999999" data-initial-cookie-consent-allowed="" data-cookie-consent-required="false"></ghcc-consent>


  <div id="ajax-error-message" class="ajax-error-message flash flash-error" hidden>
    <svg aria-hidden="true" height="16" viewBox="0 0 16 16" version="1.1" width="16" data-view-component="true" class="octicon octicon-alert">
    <path d="M6.457 1.047c.659-1.234 2.427-1.234 3.086 0l6.082 11.378A1.75 1.75 0 0 1 14.082 15H1.918a1.75 1.75 0 0 1-1.543-2.575Zm1.763.707a.25.25 0 0 0-.44 0L1.698 13.132a.25.25 0 0 0 .22.368h12.164a.25.25 0 0 0 .22-.368Zm.53 3.996v2.5a.75.75 0 0 1-1.5 0v-2.5a.75.75 0 0 1 1.5 0ZM9 11a1 1 0 1 1-2 0 1 1 0 0 1 2 0Z"></path>
</svg>
    <button type="button" class="flash-close js-ajax-error-dismiss" aria-label="Dismiss error">
      <svg aria-hidden="true" height="16" viewBox="0 0 16 16" version="1.1" width="16" data-view-component="true" class="octicon octicon-x">
    <path d="M3.72 3.72a.75.75 0 0 1 1.06 0L8 6.94l3.22-3.22a.749.749 0 0 1 1.275.326.749.749 0 0 1-.215.734L9.06 8l3.22 3.22a.749.749 0 0 1-.326 1.275.749.749 0 0 1-.734-.215L8 9.06l-3.22 3.22a.751.751 0 0 1-1.042-.018.751.751 0 0 1-.018-1.042L6.94 8 3.72 4.78a.75.75 0 0 1 0-1.06Z"></path>
</svg>
    </button>
    You can’t perform that action at this time.
  </div>

    <template id="site-details-dialog">
  <details class="details-reset details-overlay details-overlay-dark lh-default color-fg-default hx_rsm" open>
    <summary role="button" aria-label="Close dialog"></summary>
    <details-dialog class="Box Box--overlay d-flex flex-column anim-fade-in fast hx_rsm-dialog hx_rsm-modal">
      <button class="Box-btn-octicon m-0 btn-octicon position-absolute right-0 top-0" type="button" aria-label="Close dialog" data-close-dialog>
        <svg aria-hidden="true" height="16" viewBox="0 0 16 16" version="1.1" width="16" data-view-component="true" class="octicon octicon-x">
    <path d="M3.72 3.72a.75.75 0 0 1 1.06 0L8 6.94l3.22-3.22a.749.749 0 0 1 1.275.326.749.749 0 0 1-.215.734L9.06 8l3.22 3.22a.749.749 0 0 1-.326 1.275.749.749 0 0 1-.734-.215L8 9.06l-3.22 3.22a.751.751 0 0 1-1.042-.018.751.751 0 0 1-.018-1.042L6.94 8 3.72 4.78a.75.75 0 0 1 0-1.06Z"></path>
</svg>
      </button>
      <div class="octocat-spinner my-6 js-details-dialog-spinner"></div>
    </details-dialog>
  </details>
</template>

    <div class="Popover js-hovercard-content position-absolute" style="display: none; outline: none;">
  <div class="Popover-message Popover-message--bottom-left Popover-message--large Box color-shadow-large" style="width:360px;">
  </div>
</div>

    <template id="snippet-clipboard-copy-button">
  <div class="zeroclipboard-container position-absolute right-0 top-0">
    <clipboard-copy aria-label="Copy" class="ClipboardButton btn js-clipboard-copy m-2 p-0" data-copy-feedback="Copied!" data-tooltip-direction="w">
      <svg aria-hidden="true" height="16" viewBox="0 0 16 16" version="1.1" width="16" data-view-component="true" class="octicon octicon-copy js-clipboard-copy-icon m-2">
    <path d="M0 6.75C0 5.784.784 5 1.75 5h1.5a.75.75 0 0 1 0 1.5h-1.5a.25.25 0 0 0-.25.25v7.5c0 .138.112.25.25.25h7.5a.25.25 0 0 0 .25-.25v-1.5a.75.75 0 0 1 1.5 0v1.5A1.75 1.75 0 0 1 9.25 16h-7.5A1.75 1.75 0 0 1 0 14.25Z"></path><path d="M5 1.75C5 .784 5.784 0 6.75 0h7.5C15.216 0 16 .784 16 1.75v7.5A1.75 1.75 0 0 1 14.25 11h-7.5A1.75 1.75 0 0 1 5 9.25Zm1.75-.25a.25.25 0 0 0-.25.25v7.5c0 .138.112.25.25.25h7.5a.25.25 0 0 0 .25-.25v-7.5a.25.25 0 0 0-.25-.25Z"></path>
</svg>
      <svg aria-hidden="true" height="16" viewBox="0 0 16 16" version="1.1" width="16" data-view-component="true" class="octicon octicon-check js-clipboard-check-icon color-fg-success d-none m-2">
    <path d="M13.78 4.22a.75.75 0 0 1 0 1.06l-7.25 7.25a.75.75 0 0 1-1.06 0L2.22 9.28a.751.751 0 0 1 .018-1.042.751.751 0 0 1 1.042-.018L6 10.94l6.72-6.72a.75.75 0 0 1 1.06 0Z"></path>
</svg>
    </clipboard-copy>
  </div>
</template>
<template id="snippet-clipboard-copy-button-unpositioned">
  <div class="zeroclipboard-container">
    <clipboard-copy aria-label="Copy" class="ClipboardButton btn btn-invisible js-clipboard-copy m-2 p-0 d-flex flex-justify-center flex-items-center" data-copy-feedback="Copied!" data-tooltip-direction="w">
      <svg aria-hidden="true" height="16" viewBox="0 0 16 16" version="1.1" width="16" data-view-component="true" class="octicon octicon-copy js-clipboard-copy-icon">
    <path d="M0 6.75C0 5.784.784 5 1.75 5h1.5a.75.75 0 0 1 0 1.5h-1.5a.25.25 0 0 0-.25.25v7.5c0 .138.112.25.25.25h7.5a.25.25 0 0 0 .25-.25v-1.5a.75.75 0 0 1 1.5 0v1.5A1.75 1.75 0 0 1 9.25 16h-7.5A1.75 1.75 0 0 1 0 14.25Z"></path><path d="M5 1.75C5 .784 5.784 0 6.75 0h7.5C15.216 0 16 .784 16 1.75v7.5A1.75 1.75 0 0 1 14.25 11h-7.5A1.75 1.75 0 0 1 5 9.25Zm1.75-.25a.25.25 0 0 0-.25.25v7.5c0 .138.112.25.25.25h7.5a.25.25 0 0 0 .25-.25v-7.5a.25.25 0 0 0-.25-.25Z"></path>
</svg>
      <svg aria-hidden="true" height="16" viewBox="0 0 16 16" version="1.1" width="16" data-view-component="true" class="octicon octicon-check js-clipboard-check-icon color-fg-success d-none">
    <path d="M13.78 4.22a.75.75 0 0 1 0 1.06l-7.25 7.25a.75.75 0 0 1-1.06 0L2.22 9.28a.751.751 0 0 1 .018-1.042.751.751 0 0 1 1.042-.018L6 10.94l6.72-6.72a.75.75 0 0 1 1.06 0Z"></path>
</svg>
    </clipboard-copy>
  </div>
</template>


    <style>
      .user-mention[href$="/sunilbastola"] {
        color: var(--color-user-mention-fg);
        background-color: var(--bgColor-attention-muted, var(--color-attention-subtle));
        border-radius: 2px;
        margin-left: -2px;
        margin-right: -2px;
        padding: 0 2px;
      }
    </style>


    </div>

    <div id="js-global-screen-reader-notice" class="sr-only mt-n1" aria-live="polite" aria-atomic="true" ></div>
    <div id="js-global-screen-reader-notice-assertive" class="sr-only mt-n1" aria-live="assertive" aria-atomic="true"></div>
  </body>
</html>

